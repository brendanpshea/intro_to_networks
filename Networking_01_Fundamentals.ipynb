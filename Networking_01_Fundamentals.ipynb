{
  "nbformat": 4,
  "nbformat_minor": 0,
  "metadata": {
    "colab": {
      "provenance": [],
      "authorship_tag": "ABX9TyOjB4vYjruaXZE5MQ4fc61C",
      "include_colab_link": true
    },
    "kernelspec": {
      "name": "python3",
      "display_name": "Python 3"
    },
    "language_info": {
      "name": "python"
    }
  },
  "cells": [
    {
      "cell_type": "markdown",
      "metadata": {
        "id": "view-in-github",
        "colab_type": "text"
      },
      "source": [
        "<a href=\"https://colab.research.google.com/github/brendanpshea/intro_to_networks/blob/main/Networking_01_Fundamentals.ipynb\" target=\"_parent\"><img src=\"https://colab.research.google.com/assets/colab-badge.svg\" alt=\"Open In Colab\"/></a>"
      ]
    },
    {
      "cell_type": "markdown",
      "source": [
        "# Chapter 1: Understanding the OSI Network Model\n",
        "## Breaking Down Network Communications\n",
        "\n",
        "Have you ever wondered how your message travels from your smartphone to a friend halfway across the world? Or how millions of devices can communicate simultaneously across the internet without descending into chaos? Computer networking may seem like magic, but it's actually a carefully orchestrated symphony of protocols and processes, each playing its part in the grand performance of digital communication.\n",
        "\n",
        "In this chapter, we'll demystify the fundamental framework that makes modern networking possible: the **Open Systems Interconnection (OSI)** model. Think of it as the blueprint that network engineers use to understand, troubleshoot, and build the networks we rely on every day. By breaking down network communications into seven distinct layers, the OSI model helps us manage the complexity of modern networking one piece at a time.\n",
        "\n",
        "## Chapter Case Study: The Scooby-Doo Detective Agency Goes Digital\n",
        "\n",
        "Follow along with the Scooby Gang as they modernize their detective agency with a new networked case management system. When mysterious network issues start affecting their investigations, they'll need to understand each layer of the OSI model to solve these digital mysteries. From Velma troubleshooting physical layer interference to Fred analyzing TCP connection attempts, each member of the team discovers how networking knowledge directly impacts their ability to solve cases efficiently.\n",
        "\n",
        "Throughout the chapter, we'll see how the gang applies networking concepts to real-world challenges:\n",
        "- Setting up secure connections between their main office and new satellite location\n",
        "- Ensuring reliable transmission of sensitive case files\n",
        "- Troubleshooting video conferencing issues with remote witnesses\n",
        "- Protecting their network from potential security threats\n",
        "\n",
        "## Learning Outcomes\n",
        "\n",
        "After completing this chapter, you will be able to:\n",
        "\n",
        "1. Explain the purpose and structure of the OSI model in network communications\n",
        "2. Identify and describe the function of each OSI layer from Physical to Application\n",
        "3. Analyze how data is encapsulated and decapsulated as it moves through the network layers\n",
        "4. Use common networking tools (ip link, tcpdump, traceroute) to examine network behavior\n",
        "5. Troubleshoot common networking issues by identifying which OSI layer is affected\n",
        "6. Compare and contrast the characteristics of TCP and UDP protocols\n",
        "7. Explain how MAC addresses, IP addresses, and ports work together in network communication\n",
        "8. Demonstrate understanding of fundamental networking concepts such as MTU, checksums, and packet structure\n",
        "9. Interpret network packet captures to understand protocol behavior\n",
        "10. Apply OSI model concepts to solve real-world networking challenges\n",
        "\n",
        "## Keywords\n",
        "\n",
        "OSI Model, encapsulation, TCP/IP, MAC address, IP address, ports, packets, frames, protocol, network layer, transport layer, physical layer, data link layer, presentation layer, session layer, application layer, UDP, TCP, MTU, checksum, routing, switching, network interface, traceroute, tcpdump, handshake, payload, headers, flags, SYN, ACK, FIN, RST."
      ],
      "metadata": {
        "id": "uPioPQM1GmnM"
      }
    },
    {
      "cell_type": "markdown",
      "source": [
        "## Layer 1: The Physical Layer\n",
        "\n",
        "At its most fundamental level, all network communication consists of electrical signals, light pulses, or radio waves. The **Physical Layer** serves as the foundation of network communications, dealing with these raw physical elements of data transmission. Think of it as the actual road system in a delivery network - the concrete, asphalt, and physical infrastructure that makes movement possible.\n",
        "\n",
        "Understanding the Physical Layer is crucial because it defines the basic building blocks that make all higher-level network functions possible. When network engineers talk about \"signal degradation,\" \"noise interference,\" or \"bandwidth limitations,\" they're discussing Physical Layer concerns. This layer handles questions like: How do we represent a binary 1 or 0 in an electrical signal? How do we ensure a signal can travel 100 meters without degrading? How do we handle interference from other nearby cables?\n",
        "\n",
        "> **Real-World Example**: The Scooby Team is setting up their new detective agency office network, and they've encountered their first mystery: intermittent network connections.\n",
        ">\n",
        "> \"Zoinks! Like, the internet keeps cutting out whenever someone uses the microwave!\" Shaggy complains, trying to upload evidence photos.\n",
        ">\n",
        "> Velma, already investigating the wiring closet, emerges with a dusty cable. \"Just as I suspected. Look at how this network cable runs right alongside the electrical conduit for the break room. That's a Physical Layer problem - electromagnetic interference.\"\n",
        ">\n",
        "> \"But like, we used the expensive cables you recommended!\" Shaggy protests.\n",
        ">\n",
        "> \"Yes, but even Cat 6 cables have limitations,\" Velma explains, sketching a quick diagram. \"See, at the Physical Layer, we're dealing with actual electrical signals. When we run network cables too close to power lines, the electrical interference can corrupt our data transmission. Think of it like trying to hear someone whisper in a noisy room. We need to either move the cable or install shielded cable instead.\"\n",
        ">\n",
        "> Fred nods thoughtfully. \"So that's why the networking standards specify minimum distances from electrical sources?\"\n",
        ">\n",
        "> \"Exactly! Physical Layer specifications help us avoid these kinds of problems.\"\n",
        "\n",
        "Common Physical Layer technologies include:\n",
        "\n",
        "| Technology | Maximum Speed | Maximum Distance | Common Use Case |\n",
        "|------------|---------------|------------------|-----------------|\n",
        "| Cat 6 UTP | 10 Gbps | 55 meters | Office networks |\n",
        "| Fiber Optic | 100+ Gbps | Several kilometers | Backbone connections |\n",
        "| Wi-Fi 6 | 9.6 Gbps | ~30 meters | Wireless networks |\n",
        "\n",
        "Let's use `ip link show` to see which interfaces are available to our computer (if you have this open in Colab, this is on Google's cloud).\n"
      ],
      "metadata": {
        "id": "1OzSZ_VpIQkw"
      }
    },
    {
      "cell_type": "code",
      "source": [
        "%%bash\n",
        "ip link show"
      ],
      "metadata": {
        "id": "hnslB5BYZ6mi",
        "outputId": "f6cac1c9-2e9f-467d-904b-68609593924e",
        "colab": {
          "base_uri": "https://localhost:8080/"
        }
      },
      "execution_count": 20,
      "outputs": [
        {
          "output_type": "stream",
          "name": "stdout",
          "text": [
            "1: lo: <LOOPBACK,UP,LOWER_UP> mtu 65536 qdisc noqueue state UNKNOWN mode DEFAULT group default qlen 1000\n",
            "    link/loopback 00:00:00:00:00:00 brd 00:00:00:00:00:00\n",
            "9: eth0@if10: <BROADCAST,MULTICAST,UP,LOWER_UP> mtu 1500 qdisc noqueue state UP mode DEFAULT group default \n",
            "    link/ether 02:42:ac:1c:00:0c brd ff:ff:ff:ff:ff:ff link-netnsid 0\n"
          ]
        }
      ]
    },
    {
      "cell_type": "markdown",
      "source": [
        "This shows two interfaces: a **loopback (lo)**, which is a computers way of communicating with itself. We also see an ethernet connection (starting with **eth0**) tha connects the computer to the rest of the network."
      ],
      "metadata": {
        "id": "YsPKo48eZ_lG"
      }
    },
    {
      "cell_type": "code",
      "source": [
        "import base64\n",
        "from IPython.display import Image, display\n",
        "import matplotlib.pyplot as plt\n",
        "\n",
        "def mm(graph, width=800, height=600):  # Add default dimensions\n",
        "    graphbytes = graph.encode(\"utf8\")\n",
        "    base64_bytes = base64.urlsafe_b64encode(graphbytes)\n",
        "    base64_string = base64_bytes.decode(\"ascii\")\n",
        "    # Add width and height parameters to the URL\n",
        "    url = f\"https://mermaid.ink/img/{base64_string}?width={width}&height={height}\"\n",
        "    display(Image(url=url))\n",
        "\n",
        "mm(\"\"\"\n",
        "graph TD\n",
        "    subgraph \"Physical Layer\"\n",
        "        Data[Digital Data<br/>1s and 0s] -->|Convert| Signal[Electrical/Light Signals]\n",
        "        Signal -->|Through| Medium[Transmission Medium]\n",
        "\n",
        "        subgraph Medium\n",
        "            C1[Copper Cable<br/>Electrical]\n",
        "            C2[Fiber Optic<br/>Light]\n",
        "            C3[WiFi<br/>Radio Waves]\n",
        "        end\n",
        "    end\n",
        "\n",
        "    note[\"Like turning your voice<br/>into sound waves that<br/>travel through air!\"]\n",
        "\"\"\"\n",
        ")"
      ],
      "metadata": {
        "id": "rVP9Fi_uM2Ju",
        "outputId": "f163979d-e180-4694-bc9d-4a1122776639",
        "colab": {
          "base_uri": "https://localhost:8080/",
          "height": 621
        }
      },
      "execution_count": 21,
      "outputs": [
        {
          "output_type": "display_data",
          "data": {
            "text/html": [
              "<img src=\"https://mermaid.ink/img/CmdyYXBoIFRECiAgICBzdWJncmFwaCAiUGh5c2ljYWwgTGF5ZXIiCiAgICAgICAgRGF0YVtEaWdpdGFsIERhdGE8YnIvPjFzIGFuZCAwc10gLS0-fENvbnZlcnR8IFNpZ25hbFtFbGVjdHJpY2FsL0xpZ2h0IFNpZ25hbHNdCiAgICAgICAgU2lnbmFsIC0tPnxUaHJvdWdofCBNZWRpdW1bVHJhbnNtaXNzaW9uIE1lZGl1bV0KCiAgICAgICAgc3ViZ3JhcGggTWVkaXVtCiAgICAgICAgICAgIEMxW0NvcHBlciBDYWJsZTxici8-RWxlY3RyaWNhbF0KICAgICAgICAgICAgQzJbRmliZXIgT3B0aWM8YnIvPkxpZ2h0XQogICAgICAgICAgICBDM1tXaUZpPGJyLz5SYWRpbyBXYXZlc10KICAgICAgICBlbmQKICAgIGVuZAoKICAgIG5vdGVbIkxpa2UgdHVybmluZyB5b3VyIHZvaWNlPGJyLz5pbnRvIHNvdW5kIHdhdmVzIHRoYXQ8YnIvPnRyYXZlbCB0aHJvdWdoIGFpciEiXQo=?width=800&height=600\"/>"
            ],
            "text/plain": [
              "<IPython.core.display.Image object>"
            ]
          },
          "metadata": {}
        }
      ]
    },
    {
      "cell_type": "markdown",
      "source": [
        "## Layer 2: The Data Link Layer\n",
        "\n",
        "If the Physical Layer is like a road system, the **Data Link Layer** is like the basic rules of driving - staying in your lane, following traffic signals, and avoiding collisions. This layer transforms the raw bit transmission of the Physical Layer into something more reliable and organized. It's the first layer that actually brings some intelligence to data transmission, organizing raw bits into structured \"frames\" of data and implementing basic protocols for controlling access to the physical medium.\n",
        "\n",
        "The Data Link Layer solves fundamental problems like: How do devices share a single network cable without interfering with each other? How can we detect if data was corrupted during transmission? How do we identify different devices on the same physical network? These capabilities make it possible for multiple devices to share network resources efficiently and reliably.\n",
        "\n",
        "> **Real-World Example**: Back at the detective agency, the gang is setting up a new network switch for their growing team.\n",
        ">\n",
        "> \"Check this out, gang,\" Fred says, pointing to the switch's interface. \"Every device connected to our network has what's called a MAC address. It's like a license plate for network devices.\"\n",
        ">\n",
        "> Daphne peers at her laptop's network settings. \"So that's why my laptop's MAC address is different from Velma's, even though we have the same model?\"\n",
        ">\n",
        "> \"Exactly!\" Velma jumps in. \"Every network interface gets a unique MAC address during manufacturing. When I send case files to our network printer, the Data Link Layer uses these addresses like addresses on an envelope, making sure the data frames get to the right device on our local network.\"\n",
        ">\n",
        "> \"Like, wow,\" Shaggy adds, watching the switch's LED lights blink. \"So it's kind of like each computer has its own mailbox?\"\n",
        ">\n",
        "> \"That's a great analogy, Shaggy! And just like a real mailbox, the Data Link Layer also makes sure our data isn't damaged during delivery. If a frame gets corrupted, it requests retransmission automatically.\"\n",
        "\n",
        "Important concepts at this level include:\n",
        "\n",
        "- **MAC Addresses**: Unique physical addresses assigned to network interfaces\n",
        "- **Frame Structure**: Organizing data into **frames** with **headers** and error-checking\n",
        "- **Error Detection**: Identifying and potentially correcting transmission errors\n",
        "- **Flow Control**: Managing the rate of data transmission between nodes\n",
        "- **Media Access Control**: Determining when devices can transmit on shared media\n",
        "\n",
        "The Data Link Layer is often subdivided into two sublayers:\n",
        "1. **Logical Link Control (LLC)**: Handles flow control and error checking\n",
        "2. **Media Access Control (MAC)**: Manages access to the shared physical medium\n"
      ],
      "metadata": {
        "id": "ibk6CSjPGrhT"
      }
    },
    {
      "cell_type": "code",
      "source": [
        "mm(\"\"\"\n",
        "graph TD\n",
        "    subgraph \"MAC Address System - Like Name Tags for Computers\"\n",
        "        M1[Computer A<br/>MAC: 00:1A:2B:3C]\n",
        "        M2[Computer B<br/>MAC: 00:4D:5E:6F]\n",
        "\n",
        "        M1 -->|Frame 1| SW{Switch}\n",
        "        M2 -->|Frame 2| SW\n",
        "\n",
        "        SW -->|Check MAC| D1[Delivery]\n",
        "        D1 -->|Error Check| D2[Confirm]\n",
        "    end\n",
        "\n",
        "    note[\"Think of it like putting<br/>letters in envelopes with<br/>exact apartment numbers!\"]\n",
        "    \"\"\")"
      ],
      "metadata": {
        "id": "-fKdr55SPNpT",
        "outputId": "1d588546-0a4b-41ee-a34a-8cb6ffddae50",
        "colab": {
          "base_uri": "https://localhost:8080/",
          "height": 621
        }
      },
      "execution_count": 22,
      "outputs": [
        {
          "output_type": "display_data",
          "data": {
            "text/html": [
              "<img src=\"https://mermaid.ink/img/CmdyYXBoIFRECiAgICBzdWJncmFwaCAiTUFDIEFkZHJlc3MgU3lzdGVtIC0gTGlrZSBOYW1lIFRhZ3MgZm9yIENvbXB1dGVycyIKICAgICAgICBNMVtDb21wdXRlciBBPGJyLz5NQUM6IDAwOjFBOjJCOjNDXQogICAgICAgIE0yW0NvbXB1dGVyIEI8YnIvPk1BQzogMDA6NEQ6NUU6NkZdCgogICAgICAgIE0xIC0tPnxGcmFtZSAxfCBTV3tTd2l0Y2h9CiAgICAgICAgTTIgLS0-fEZyYW1lIDJ8IFNXCgogICAgICAgIFNXIC0tPnxDaGVjayBNQUN8IEQxW0RlbGl2ZXJ5XQogICAgICAgIEQxIC0tPnxFcnJvciBDaGVja3wgRDJbQ29uZmlybV0KICAgIGVuZAoKICAgIG5vdGVbIlRoaW5rIG9mIGl0IGxpa2UgcHV0dGluZzxici8-bGV0dGVycyBpbiBlbnZlbG9wZXMgd2l0aDxici8-ZXhhY3QgYXBhcnRtZW50IG51bWJlcnMhIl0KICAgIA==?width=800&height=600\"/>"
            ],
            "text/plain": [
              "<IPython.core.display.Image object>"
            ]
          },
          "metadata": {}
        }
      ]
    },
    {
      "cell_type": "markdown",
      "source": [],
      "metadata": {
        "id": "dF8L3iZPPNQE"
      }
    },
    {
      "cell_type": "markdown",
      "source": [
        "## Layer 3: The Network Layer\n",
        "\n",
        "While the Data Link Layer handles communication between directly connected devices, the **Network Layer** extends this connectivity across different networks, potentially spanning the globe. Think of it as adding the postal system to our previous road analogy - now we need to worry about not just local delivery, but routing packages between cities and countries.\n",
        "\n",
        "The Network Layer introduces the concept of logical addressing (most commonly IP addresses) and routing. Unlike MAC addresses, which are tied to specific hardware, IP addresses can be assigned and changed as needed to create logical network organizations. This flexibility makes it possible to build large, complex networks and handle the dynamic nature of internet routing.\n",
        "\n",
        "This layer's key responsibilities include:\n",
        "\n",
        "- **IP Addressing**: Assigning and managing logical addresses (IPv4/IPv6)\n",
        "- **Routing**: Determining the best path for packets across networks\n",
        "- **Packet Forwarding**: Moving packets between different networks\n",
        "- **Fragmentation**: Breaking large packets into smaller ones when necessary\n",
        "\n",
        "The most well-known Network Layer protocol is the **Internet Protocol (IP)**, which comes in two main versions:\n",
        "- **IPv4**: Uses 32-bit addresses (e.g., 192.168.1.1)\n",
        "- **IPv6**: Uses 128-bit addresses (e.g., 2001:0db8:85a3:0000:0000:8a2e:0370:7334)\n",
        "\n",
        "> **Real-World Example**: The Scooby Team's detective agency is expanding, opening a new satellite office across town.\n",
        ">\n",
        "> \"Like, Velma, I'm confused,\" Shaggy says, staring at the network diagram. \"How will the computers in our new office find our database server here in the main office?\"\n",
        ">\n",
        "> \"Excellent question!\" Velma pulls out her tablet and opens a network visualization tool. \"Remember how we talked about MAC addresses before? Well, those only work for devices on the same local network. For communication between offices, we need Layer 3 addressing - specifically, IP addresses.\"\n",
        ">\n",
        "> She draws a quick sketch showing the two offices. \"See, we'll assign each office its own range of IP addresses. Our main office will use 192.168.1.x, and the new office will use 192.168.2.x. The routers will use these addresses like a map, figuring out the best path for data to travel between offices.\"\n",
        ">\n",
        "> Fred scratches his head. \"But what if we open more offices? Or need to work from home?\"\n",
        ">\n",
        "> \"That's the beauty of the Network Layer!\" Velma enthuses. \"IP addressing is hierarchical and flexible. We can keep adding new networks and the routers will automatically learn how to reach them. It's like having a GPS system for our data!\"\n",
        "\n",
        "To how all this works, let's try running `traceroute`, which shows the \"route\" (from origin to router to router to (eventually) our destination)."
      ],
      "metadata": {
        "id": "lvzS6yr3GvJL"
      }
    },
    {
      "cell_type": "code",
      "source": [
        "%%bash\n",
        "apt install traceroute > /dev/null\n",
        "traceroute -n \"www.google.com\""
      ],
      "metadata": {
        "id": "imwaa3BzatQ8",
        "outputId": "588405dc-10cb-4d6b-8dc9-3c4023d12fc3",
        "colab": {
          "base_uri": "https://localhost:8080/"
        }
      },
      "execution_count": 23,
      "outputs": [
        {
          "output_type": "stream",
          "name": "stdout",
          "text": [
            "traceroute to www.google.com (172.253.115.105), 30 hops max, 60 byte packets\n",
            " 1  172.28.0.1  0.044 ms  0.018 ms  0.010 ms\n",
            " 2  142.250.209.94  2.627 ms * *\n",
            " 3  172.253.67.67  2.081 ms 172.253.67.63  0.818 ms 172.253.66.147  0.656 ms\n",
            " 4  142.250.209.39  1.605 ms 142.251.244.159  0.789 ms 142.250.209.97  0.756 ms\n",
            " 5  142.250.210.0  3.048 ms 172.253.72.198  0.795 ms 142.250.209.244  0.856 ms\n",
            " 6  172.253.66.155  1.692 ms * 172.253.66.201  0.927 ms\n",
            " 7  * * *\n",
            " 8  * * *\n",
            " 9  * * *\n",
            "10  * * *\n",
            "11  * * *\n",
            "12  * * *\n",
            "13  * 172.253.115.105  0.795 ms *\n"
          ]
        },
        {
          "output_type": "stream",
          "name": "stderr",
          "text": [
            "\n",
            "WARNING: apt does not have a stable CLI interface. Use with caution in scripts.\n",
            "\n"
          ]
        }
      ]
    },
    {
      "cell_type": "markdown",
      "source": [
        "Here, we see a number of **hops** through the network. (Note that our initial, \"local\" hop is very fast--this occurs within our local area network.). The * * * means the details of the rouer in question are hidden from."
      ],
      "metadata": {
        "id": "-cLNPvW2a5i3"
      }
    },
    {
      "cell_type": "code",
      "source": [
        "## Network Layer\n",
        "mm(\"\"\"\n",
        "flowchart LR\n",
        "    start[Mystery Van] -->|IP Address| router1{Router 1}\n",
        "    router1 -->|Path A| router2{Router 2}\n",
        "    router1 -->|Path B| router3{Router 3}\n",
        "    router2 -->destination[HQ Computer]\n",
        "    router3 -->destination\n",
        "\n",
        "    note1[Like Scooby following<br/>clues to find the<br/>shortest path home!]\n",
        "\n",
        "    style start fill:#f96\n",
        "    style destination fill:#9f6\n",
        "    style router1 fill:#69f\n",
        "    style router2 fill:#69f\n",
        "    style router3 fill:#69f\"\"\")"
      ],
      "metadata": {
        "id": "HZokqTUPPd8a",
        "outputId": "94342875-7060-43c0-f795-7c2787c7261f",
        "colab": {
          "base_uri": "https://localhost:8080/",
          "height": 621
        }
      },
      "execution_count": 24,
      "outputs": [
        {
          "output_type": "display_data",
          "data": {
            "text/html": [
              "<img src=\"https://mermaid.ink/img/CmZsb3djaGFydCBMUgogICAgc3RhcnRbTXlzdGVyeSBWYW5dIC0tPnxJUCBBZGRyZXNzfCByb3V0ZXIxe1JvdXRlciAxfQogICAgcm91dGVyMSAtLT58UGF0aCBBfCByb3V0ZXIye1JvdXRlciAyfQogICAgcm91dGVyMSAtLT58UGF0aCBCfCByb3V0ZXIze1JvdXRlciAzfQogICAgcm91dGVyMiAtLT5kZXN0aW5hdGlvbltIUSBDb21wdXRlcl0KICAgIHJvdXRlcjMgLS0-ZGVzdGluYXRpb24KCiAgICBub3RlMVtMaWtlIFNjb29ieSBmb2xsb3dpbmc8YnIvPmNsdWVzIHRvIGZpbmQgdGhlPGJyLz5zaG9ydGVzdCBwYXRoIGhvbWUhXQoKICAgIHN0eWxlIHN0YXJ0IGZpbGw6I2Y5NgogICAgc3R5bGUgZGVzdGluYXRpb24gZmlsbDojOWY2CiAgICBzdHlsZSByb3V0ZXIxIGZpbGw6IzY5ZgogICAgc3R5bGUgcm91dGVyMiBmaWxsOiM2OWYKICAgIHN0eWxlIHJvdXRlcjMgZmlsbDojNjlm?width=800&height=600\"/>"
            ],
            "text/plain": [
              "<IPython.core.display.Image object>"
            ]
          },
          "metadata": {}
        }
      ]
    },
    {
      "cell_type": "markdown",
      "source": [
        "## Layer 4: The Transport Layer\n",
        "\n",
        "Imagine you're sending a large package across the country, but it's too big to ship as a single unit. You'd need to break it into smaller boxes, make sure each one arrives safely, and ensure they're reassembled in the correct order at the destination. This is essentially what the Transport Layer does with network communications. The **Transport Layer** serves as the crucial bridge between the basic network services and the higher-level application functions, ensuring that data reaches its destination accurately and efficiently.\n",
        "\n",
        "This layer introduces one of the most fundamental concepts in networking: the distinction between connection-oriented and connectionless communication. Think of it like the difference between a phone call and sending a letter. A phone call (like TCP) establishes a dedicated connection and ensures both parties are ready to communicate, while a letter (like UDP) is simply sent out with hope it reaches its destination. Both methods have their place in modern networking, and understanding when to use each is crucial for building efficient network applications.\n",
        "\n",
        "- **Transmission Control Protocol (TCP)**: Provides reliable, ordered, and error-checked delivery\n",
        "- **User Datagram Protocol (UDP)**: Offers fast, connectionless delivery without guaranteed reliability\n",
        "\n",
        "Key Transport Layer functions include:\n",
        "- **Port Numbers**: Identifying specific applications and services\n",
        "- **Segmentation**: Breaking data into manageable chunks\n",
        "- **Flow Control**: Preventing sender from overwhelming receiver\n",
        "- **Error Recovery**: Detecting and retransmitting lost segments\n",
        "\n",
        "\n",
        "> **Real-World Example**: At the Scooby Detective Agency, Velma is setting up their new case management system. The gang has been struggling with lost case files and mixed-up evidence photos in their database.\n",
        ">\n",
        "> \"Like, Velma, I don't get it,\" Shaggy scratches his head, looking at the network diagram. \"Sometimes our uploads work perfectly, and other times they're all scrambled up!\"\n",
        ">\n",
        "> \"That's because we're using the wrong transport protocol,\" Velma explains, adjusting her glasses. \"Think of it like organizing our evidence boxes. When we ship regular mail to clients, a few delayed or out-of-order letters aren't a huge problem. That's like UDP - fast but not guaranteed. But with case files, we need everything in perfect order, like having a dedicated courier who confirms delivery of each piece of evidence. That's what TCP does for us.\"\n",
        ">\n",
        "> Fred nods in understanding. \"So for our database connections, we'll use TCP to ensure all case details are transmitted reliably and in order. But for our security camera feeds, we can use UDP since it's faster and a few dropped frames won't matter much.\"\n"
      ],
      "metadata": {
        "id": "V-smSFpNJzN7"
      }
    },
    {
      "cell_type": "code",
      "source": [
        "## Transport Layer\n",
        "mm(\"\"\"\n",
        "graph TD\n",
        "    subgraph \"TCP: When Everything Must Arrive\"\n",
        "        T1[Message: 'SCOOBY'] --> |Split| T2[S C O O B Y]\n",
        "        T2 --> |Number| T3[\"1:S 2:C 3:O 4:O 5:B 6:Y\"]\n",
        "        T3 --> |Send| T4[\"Confirm Each Piece ✓\"]\n",
        "        Note1[Like sending a pizza<br/>and making sure<br/>all slices arrive!]\n",
        "    end\n",
        "\n",
        "    subgraph \"UDP: When Speed Matters Most\"\n",
        "        U1[Live Video] --> |Stream| U2[Quick Delivery]\n",
        "        U2 --> |No Waiting| U3[Accept Some Loss]\n",
        "        Note2[Like talking on<br/>phone - some static<br/>is OK!]\n",
        "    end\n",
        "    \"\"\")"
      ],
      "metadata": {
        "id": "KDZolJm2PvqZ",
        "outputId": "d9dbc529-6f85-455b-d08d-cf1101b3baea",
        "colab": {
          "base_uri": "https://localhost:8080/",
          "height": 621
        }
      },
      "execution_count": 25,
      "outputs": [
        {
          "output_type": "display_data",
          "data": {
            "text/html": [
              "<img src=\"https://mermaid.ink/img/CmdyYXBoIFRECiAgICBzdWJncmFwaCAiVENQOiBXaGVuIEV2ZXJ5dGhpbmcgTXVzdCBBcnJpdmUiCiAgICAgICAgVDFbTWVzc2FnZTogJ1NDT09CWSddIC0tPiB8U3BsaXR8IFQyW1MgQyBPIE8gQiBZXQogICAgICAgIFQyIC0tPiB8TnVtYmVyfCBUM1siMTpTIDI6QyAzOk8gNDpPIDU6QiA2OlkiXQogICAgICAgIFQzIC0tPiB8U2VuZHwgVDRbIkNvbmZpcm0gRWFjaCBQaWVjZSDinJMiXQogICAgICAgIE5vdGUxW0xpa2Ugc2VuZGluZyBhIHBpenphPGJyLz5hbmQgbWFraW5nIHN1cmU8YnIvPmFsbCBzbGljZXMgYXJyaXZlIV0KICAgIGVuZAoKICAgIHN1YmdyYXBoICJVRFA6IFdoZW4gU3BlZWQgTWF0dGVycyBNb3N0IgogICAgICAgIFUxW0xpdmUgVmlkZW9dIC0tPiB8U3RyZWFtfCBVMltRdWljayBEZWxpdmVyeV0KICAgICAgICBVMiAtLT4gfE5vIFdhaXRpbmd8IFUzW0FjY2VwdCBTb21lIExvc3NdCiAgICAgICAgTm90ZTJbTGlrZSB0YWxraW5nIG9uPGJyLz5waG9uZSAtIHNvbWUgc3RhdGljPGJyLz5pcyBPSyFdCiAgICBlbmQKICAgIA==?width=800&height=600\"/>"
            ],
            "text/plain": [
              "<IPython.core.display.Image object>"
            ]
          },
          "metadata": {}
        }
      ]
    },
    {
      "cell_type": "markdown",
      "source": [
        "## Layer 5: The Session Layer\n",
        "\n",
        "Communication in modern networks is rarely as simple as sending a single message. Instead, applications often need to maintain ongoing conversations, tracking multiple exchanges of information over time. The **Session Layer** acts like a sophisticated conversation coordinator, managing these complex dialogues between applications.\n",
        "\n",
        "Consider what happens when you're conducting a video call while simultaneously sharing files and using a chat window. Each of these activities represents a different session, and they all need to be managed independently yet cohesively. The Session Layer handles this orchestration, ensuring that if your file transfer is interrupted, it doesn't affect your video call, and you can resume the transfer from where it left off rather than starting over.\n",
        "\n",
        "This layer introduces the concept of **dialog control**, determining which party can transmit at any given time - similar to how a moderator might manage speakers in a debate. This becomes particularly important in situations where both parties shouldn't transmit simultaneously to avoid confusion or data corruption.\n",
        "\n",
        "\n",
        "| Session Layer Function | Purpose | Example |\n",
        "|----------------------|----------|----------|\n",
        "| Authentication | Verify identity | Login sessions |\n",
        "| Authorization | Control access | Permission checks |\n",
        "| Session Restoration | Resume interrupted sessions | Recovery points |\n",
        "\n",
        "> **Real-World Example**: The Scooby gang is implementing a new system for retrieving high quality video interview of suspects from a remote server. Daphne takes the lead on setting up the software.\n",
        ">\n",
        "> \"This is giving me a headache,\" Fred complains after another failed download. \"We lost the connection halfway through, and now we have to start the download over!\"\n",
        ">\n",
        "> \"Not necessarily,\" Daphne responds, pulling up the session settings. \"See, our software uses session layer checkpointing. Think of it like placing bookmarks in a mystery novel - if we get interrupted, we can pick up right where we left off.\"\n",
        ">\n",
        "> She demonstrates by configuring the checkpointing interval. \"Now it'll save our progress every five minutes. If the connection drops, we can resume from the last checkpoint instead of starting over. It's like having a save point in a video game!\"\n",
        ">\n",
        "> Shaggy brightens up. \"Like, wow! That would have saved us so much time with the Miner Forty-Niner case last week!\""
      ],
      "metadata": {
        "id": "YZFw9BEaKHxC"
      }
    },
    {
      "cell_type": "code",
      "source": [
        "## Session Layer Processes\n",
        "mm(\"\"\"\n",
        "stateDiagram-v2\n",
        "\n",
        "    [*] --> StartSession: Begin Investigation\n",
        "    StartSession --> ActiveSession: Connection Established\n",
        "\n",
        "    state ActiveSession {\n",
        "        [*] --> Talking: Data Flowing\n",
        "        Talking --> Checkpointing: Save Progress\n",
        "        Checkpointing --> Talking: Resume\n",
        "        Talking --> Paused: Temporary Stop\n",
        "        Paused --> Talking: Resume\n",
        "    }\n",
        "\n",
        "    ActiveSession --> EndSession: Close Investigation\n",
        "    EndSession --> [*]\n",
        "\n",
        "    note right of ActiveSession\n",
        "        Like keeping track of your place\n",
        "        in a conversation:\n",
        "        - Who's talking\n",
        "        - Taking turns\n",
        "        - Remembering where you left off\n",
        "    end note\"\"\")"
      ],
      "metadata": {
        "id": "JMCUf0SJQCD4",
        "outputId": "a5f1debf-c353-47ee-ac79-1d65a45ea511",
        "colab": {
          "base_uri": "https://localhost:8080/",
          "height": 621
        }
      },
      "execution_count": 26,
      "outputs": [
        {
          "output_type": "display_data",
          "data": {
            "text/html": [
              "<img src=\"https://mermaid.ink/img/CnN0YXRlRGlhZ3JhbS12MgoKICAgIFsqXSAtLT4gU3RhcnRTZXNzaW9uOiBCZWdpbiBJbnZlc3RpZ2F0aW9uCiAgICBTdGFydFNlc3Npb24gLS0-IEFjdGl2ZVNlc3Npb246IENvbm5lY3Rpb24gRXN0YWJsaXNoZWQKCiAgICBzdGF0ZSBBY3RpdmVTZXNzaW9uIHsKICAgICAgICBbKl0gLS0-IFRhbGtpbmc6IERhdGEgRmxvd2luZwogICAgICAgIFRhbGtpbmcgLS0-IENoZWNrcG9pbnRpbmc6IFNhdmUgUHJvZ3Jlc3MKICAgICAgICBDaGVja3BvaW50aW5nIC0tPiBUYWxraW5nOiBSZXN1bWUKICAgICAgICBUYWxraW5nIC0tPiBQYXVzZWQ6IFRlbXBvcmFyeSBTdG9wCiAgICAgICAgUGF1c2VkIC0tPiBUYWxraW5nOiBSZXN1bWUKICAgIH0KCiAgICBBY3RpdmVTZXNzaW9uIC0tPiBFbmRTZXNzaW9uOiBDbG9zZSBJbnZlc3RpZ2F0aW9uCiAgICBFbmRTZXNzaW9uIC0tPiBbKl0KCiAgICBub3RlIHJpZ2h0IG9mIEFjdGl2ZVNlc3Npb24KICAgICAgICBMaWtlIGtlZXBpbmcgdHJhY2sgb2YgeW91ciBwbGFjZQogICAgICAgIGluIGEgY29udmVyc2F0aW9uOgogICAgICAgIC0gV2hvJ3MgdGFsa2luZwogICAgICAgIC0gVGFraW5nIHR1cm5zCiAgICAgICAgLSBSZW1lbWJlcmluZyB3aGVyZSB5b3UgbGVmdCBvZmYKICAgIGVuZCBub3Rl?width=800&height=600\"/>"
            ],
            "text/plain": [
              "<IPython.core.display.Image object>"
            ]
          },
          "metadata": {}
        }
      ]
    },
    {
      "cell_type": "markdown",
      "source": [
        "## Presentation Layer\n",
        "\n",
        "The **Presentation Layer** serves as the network's universal translator, ensuring that information remains meaningful as it moves between different systems. In our increasingly interconnected world, this layer's importance cannot be overstated. Consider trying to read a document written in a different language - not only do you need to understand the individual words, but you also need to know the character encoding, formatting, and cultural context. The Presentation Layer handles similar challenges in the digital realm.\n",
        "\n",
        "Key responsibilities include:\n",
        "\n",
        "- **Data Translation**: Converting between different formats\n",
        "- **Encryption/Decryption**: Protecting data confidentiality\n",
        "- **Compression**: Reducing data size for transmission\n",
        "- **Character Code Translation**: Converting between **character encoding systems**\n",
        "\n",
        "Common Presentation Layer standards include:\n",
        "- **ASCII/Unicode**: Character encoding\n",
        "- **JPEG/GIF/PNG**: Image formats\n",
        "- **SSL/TLS**: Encryption protocols\n",
        "\n",
        "This layer becomes particularly crucial when dealing with international communications or when connecting different types of systems. For example, when your modern web browser connects to a legacy banking system, the Presentation Layer handles the critical task of translating data formats between the two systems, ensuring that your account balance appears as actual numbers rather than raw binary data.\n",
        "\n",
        "> **Real-World Example**: At the Scooby Detective Agency, the team is struggling with a puzzling case involving international clients and evidence files from different systems.\n",
        ">\n",
        "> \"I don't understand,\" Fred frowns at his screen. \"The surveillance photos from our client in Japan are just showing up as gibberish.\"\n",
        ">\n",
        "> \"Like, man, and the measurements in their report are all wrong!\" Shaggy adds. \"It says the suspect is 170 units tall. What does that even mean?\"\n",
        ">\n",
        "> Velma adjusts her glasses with a knowing smile. \"Ah, we're dealing with classic Presentation Layer issues. First, their system is using a different character encoding for the image metadata - probably Shift-JIS instead of UTF-8. And those measurements? Their system is recording in centimeters while ours expects inches.\"\n",
        ">\n",
        "> She begins configuring their case management software. \"The Presentation Layer handles all these conversions automatically when set up correctly. Think of it like having a universal translator. It can handle differences in:\n",
        "> - Character encodings\n",
        "> - Data formats\n",
        "> - Encryption systems\n",
        "> - Image and media formats\n",
        ">\n",
        "> \"Watch this,\" she demonstrates, adjusting the settings. Suddenly, the photos display correctly, complete with readable Japanese metadata, and the measurements automatically convert to inches. \"Now our systems can talk to each other seamlessly!\"\n",
        "\n",
        "The need for the Presentation Layer has become increasingly crucial in our interconnected world. Consider how many different types of devices and systems you interact with daily - Windows PCs, Macs, smartphones, IoT devices - each potentially using different internal data formats. The Presentation Layer's ability to handle these translations transparently is what makes this diverse ecosystem work together seamlessly.\n",
        "\n",
        "Here's a simple example of data encoding:\n"
      ],
      "metadata": {
        "id": "lAu9AcNSKbqh"
      }
    },
    {
      "cell_type": "code",
      "source": [
        "# Example of presentation layer encoding\n",
        "message = \"Scooby Doo\"\n",
        "\n",
        "# Convert to bytes and encode in base64\n",
        "encoded = message.encode('utf-8').hex()\n",
        "print(f\"Original: {message}\")\n",
        "print(f\"Encoded: {encoded}\")"
      ],
      "metadata": {
        "colab": {
          "base_uri": "https://localhost:8080/"
        },
        "id": "xjyNYrX3LeqP",
        "outputId": "77eca1a4-9339-48c3-a69c-e0f6416f0d79"
      },
      "execution_count": 27,
      "outputs": [
        {
          "output_type": "stream",
          "name": "stdout",
          "text": [
            "Original: Scooby Doo\n",
            "Encoded: 53636f6f627920446f6f\n"
          ]
        }
      ]
    },
    {
      "cell_type": "code",
      "source": [
        "mm(\"\"\"\n",
        "flowchart TD\n",
        "    subgraph \"Converting Data So Everyone Understands\"\n",
        "        Input[Raw Data from Different Devices] --> Convert\n",
        "\n",
        "        subgraph Convert[\"Translation Process\"]\n",
        "            E[\"Encryption 🔒<br/>Making data secret\"] -->\n",
        "            C[\"Compression 📦<br/>Making data smaller\"] -->\n",
        "            F[\"Format Conversion 🔄<br/>Making data readable\"]\n",
        "        end\n",
        "\n",
        "        Convert --> Output[Data Everyone Can Read]\n",
        "\n",
        "        note1[\"JPEG Photos<br/>from Crime Scene\"]\n",
        "        note2[\"MP4 Videos<br/>of Evidence\"]\n",
        "        note3[\"PDF Reports\"]\n",
        "\n",
        "        Input --> note1 & note2 & note3\n",
        "    end\"\"\")"
      ],
      "metadata": {
        "id": "9tabRMiTQl_u",
        "outputId": "2d0e4c2f-4e10-46e9-819e-64e7ec192d76",
        "colab": {
          "base_uri": "https://localhost:8080/",
          "height": 621
        }
      },
      "execution_count": 28,
      "outputs": [
        {
          "output_type": "display_data",
          "data": {
            "text/html": [
              "<img src=\"https://mermaid.ink/img/CmZsb3djaGFydCBURAogICAgc3ViZ3JhcGggIkNvbnZlcnRpbmcgRGF0YSBTbyBFdmVyeW9uZSBVbmRlcnN0YW5kcyIKICAgICAgICBJbnB1dFtSYXcgRGF0YSBmcm9tIERpZmZlcmVudCBEZXZpY2VzXSAtLT4gQ29udmVydAoKICAgICAgICBzdWJncmFwaCBDb252ZXJ0WyJUcmFuc2xhdGlvbiBQcm9jZXNzIl0KICAgICAgICAgICAgRVsiRW5jcnlwdGlvbiDwn5SSPGJyLz5NYWtpbmcgZGF0YSBzZWNyZXQiXSAtLT4KICAgICAgICAgICAgQ1siQ29tcHJlc3Npb24g8J-Tpjxici8-TWFraW5nIGRhdGEgc21hbGxlciJdIC0tPgogICAgICAgICAgICBGWyJGb3JtYXQgQ29udmVyc2lvbiDwn5SEPGJyLz5NYWtpbmcgZGF0YSByZWFkYWJsZSJdCiAgICAgICAgZW5kCgogICAgICAgIENvbnZlcnQgLS0-IE91dHB1dFtEYXRhIEV2ZXJ5b25lIENhbiBSZWFkXQoKICAgICAgICBub3RlMVsiSlBFRyBQaG90b3M8YnIvPmZyb20gQ3JpbWUgU2NlbmUiXQogICAgICAgIG5vdGUyWyJNUDQgVmlkZW9zPGJyLz5vZiBFdmlkZW5jZSJdCiAgICAgICAgbm90ZTNbIlBERiBSZXBvcnRzIl0KCiAgICAgICAgSW5wdXQgLS0-IG5vdGUxICYgbm90ZTIgJiBub3RlMwogICAgZW5k?width=800&height=600\"/>"
            ],
            "text/plain": [
              "<IPython.core.display.Image object>"
            ]
          },
          "metadata": {}
        }
      ]
    },
    {
      "cell_type": "markdown",
      "source": [
        "## Layer 7: The Application Layer\n",
        "\n",
        "At last, we reach the layer that users actually interact with - the **Application Layer**. This topmost layer is where all the familiar networking applications and protocols operate: web browsers, email clients, file transfer tools, and messaging apps. While end users never need to think about the lower layers (just as you don't think about the engine when steering a car), everything they do at the Application Layer depends on the services provided by the layers below.\n",
        "\n",
        "The Application Layer provides protocols and services that directly serve end-user applications, including:\n",
        "- **HTTP/HTTPS**: Web browsing\n",
        "- **FTP/SFTP**: File transfer\n",
        "- **SMTP/IMAP/POP3**: Email\n",
        "- **DNS**: Domain name resolution\n",
        "- **SSH**: Secure remote access\n",
        "- **DHCP**: Automatic network configuration\n",
        "\n",
        "> **Real-World Example**: The Scooby Gang is modernizing their detective agency with a new web-based case management system.\n",
        ">\n",
        "> \"Okay, gang,\" Fred announces during a team meeting. \"Our new system will let us access case files from anywhere, but we need to make sure it's secure. Velma, can you explain how this works?\"\n",
        ">\n",
        "> Velma brings up a diagram on the projector. \"Of course! Let's follow what happens when Daphne logs into our case management system from her laptop at a client site.\"\n",
        ">\n",
        "> She draws a series of steps on the whiteboard:\n",
        "> 1. \"First, Daphne's laptop uses DNS (Domain Name System) to find our server's IP address - like looking up our address in a phone book.\"\n",
        "> 2. \"Then her browser establishes a secure HTTPS connection - think of it as a private, encrypted tunnel to our server.\"\n",
        "> 3. \"The server uses SMTP to send her a login verification code via email.\"\n",
        "> 4. \"Once she's in, the system uses HTTPS to serve web pages and FTP to handle file uploads.\"\n",
        ">\n",
        "> \"Like, that's a lot of different protocols!\" Shaggy observes.\n",
        ">\n",
        "> \"Exactly!\" Velma agrees. \"The Application Layer is where all these high-level protocols work together to create the seamless experience users expect. Each protocol is specialized for a specific task, but they all rely on the lower layers to handle the actual data transmission.\"\n",
        "\n",
        "\n"
      ],
      "metadata": {
        "id": "LJWirfbnLFf_"
      }
    },
    {
      "cell_type": "code",
      "source": [
        "## Application Layer\n",
        "mm(\"\"\"\n",
        "sequenceDiagram\n",
        "    title Layer 7 - Application Layer: Like Using Mystery Inc's Software\n",
        "    participant User as Mystery Gang\n",
        "    participant Browser as Web Browser\n",
        "    participant Email as Email Client\n",
        "    participant Files as File Transfer\n",
        "\n",
        "    Note over User,Files: \"Think of this layer as the part we actually use!\"\n",
        "    User->>Browser: Click to view clue database\n",
        "    Browser->>Email: Share evidence with police\n",
        "    User->>Files: Upload crime scene photos\n",
        "    Note over Browser,Files: Common Layer 7 Programs:<br/>- Web Browsers<br/>- Email Clients<br/>- File Transfer Apps<br/>- Chat Programs\n",
        "    \"\"\")"
      ],
      "metadata": {
        "id": "aKAu9TNDRKcz",
        "outputId": "98c48707-e2c4-411b-d981-3b1b1abcfcb9",
        "colab": {
          "base_uri": "https://localhost:8080/",
          "height": 621
        }
      },
      "execution_count": 29,
      "outputs": [
        {
          "output_type": "display_data",
          "data": {
            "text/html": [
              "<img src=\"https://mermaid.ink/img/CnNlcXVlbmNlRGlhZ3JhbQogICAgdGl0bGUgTGF5ZXIgNyAtIEFwcGxpY2F0aW9uIExheWVyOiBMaWtlIFVzaW5nIE15c3RlcnkgSW5jJ3MgU29mdHdhcmUKICAgIHBhcnRpY2lwYW50IFVzZXIgYXMgTXlzdGVyeSBHYW5nCiAgICBwYXJ0aWNpcGFudCBCcm93c2VyIGFzIFdlYiBCcm93c2VyCiAgICBwYXJ0aWNpcGFudCBFbWFpbCBhcyBFbWFpbCBDbGllbnQKICAgIHBhcnRpY2lwYW50IEZpbGVzIGFzIEZpbGUgVHJhbnNmZXIKCiAgICBOb3RlIG92ZXIgVXNlcixGaWxlczogIlRoaW5rIG9mIHRoaXMgbGF5ZXIgYXMgdGhlIHBhcnQgd2UgYWN0dWFsbHkgdXNlISIKICAgIFVzZXItPj5Ccm93c2VyOiBDbGljayB0byB2aWV3IGNsdWUgZGF0YWJhc2UKICAgIEJyb3dzZXItPj5FbWFpbDogU2hhcmUgZXZpZGVuY2Ugd2l0aCBwb2xpY2UKICAgIFVzZXItPj5GaWxlczogVXBsb2FkIGNyaW1lIHNjZW5lIHBob3RvcwogICAgTm90ZSBvdmVyIEJyb3dzZXIsRmlsZXM6IENvbW1vbiBMYXllciA3IFByb2dyYW1zOjxici8-LSBXZWIgQnJvd3NlcnM8YnIvPi0gRW1haWwgQ2xpZW50czxici8-LSBGaWxlIFRyYW5zZmVyIEFwcHM8YnIvPi0gQ2hhdCBQcm9ncmFtcwogICAg?width=800&height=600\"/>"
            ],
            "text/plain": [
              "<IPython.core.display.Image object>"
            ]
          },
          "metadata": {}
        }
      ]
    },
    {
      "cell_type": "markdown",
      "source": [
        "## Pulling It All Together: The OSI Model in Action\n",
        "\n",
        "Now that we've explored all seven layers, let's follow a typical network interaction through the entire stack. Imagine Daphne is uploading evidence photos to the case management system:\n",
        "\n",
        "1. **Application Layer**: The web browser prepares the HTTP upload request\n",
        "2. **Presentation Layer**: The images are compressed and encrypted\n",
        "3. **Session Layer**: Maintains the authenticated session with the server\n",
        "4. **Transport Layer**: TCP ensures reliable delivery of the files\n",
        "5. **Network Layer**: IP routing gets the data to the server\n",
        "6. **Data Link Layer**: Ethernet handles local network transmission\n",
        "7. **Physical Layer**: The actual signals travel across network cables\n",
        "\n",
        "Understanding this layered approach helps tremendously with network troubleshooting. By identifying which layer is causing an issue, we can focus our efforts appropriately:\n",
        "- Can't reach any websites? Check Network Layer (IP configuration)\n",
        "- Files corrupted during transfer? Check Presentation Layer settings\n",
        "- Connection keeps dropping? Might be a Session Layer problem\n",
        "- Can't connect to the network at all? Start with the Physical Layer\n",
        "\n",
        "Remember, while the OSI model may seem abstract, its principles are reflected in every network interaction you make. Whether you're browsing the web, sending an email, or video chatting, all seven layers are working together to make it happen."
      ],
      "metadata": {
        "id": "IqtdkEXlL_Ie"
      }
    },
    {
      "cell_type": "code",
      "source": [
        "mm(\"\"\"\n",
        "sequenceDiagram\n",
        "    title How Your Message Actually Travels: A Complete Journey\n",
        "\n",
        "    participant A as Application<br/>(Write Email)\n",
        "    participant P as Presentation<br/>(Format Data)\n",
        "    participant S as Session<br/>(Start Connection)\n",
        "    participant T as Transport<br/>(Split Message)\n",
        "    participant N as Network<br/>(Find Route)\n",
        "    participant D as Data Link<br/>(Frame Data)\n",
        "    participant Ph as Physical<br/>(Send Signals)\n",
        "\n",
        "    Note over A,Ph: Sending \"Meet at HQ\" to the gang\n",
        "    A->>P: Raw text\n",
        "    P->>S: Formatted data\n",
        "    S->>T: Connection ready\n",
        "    T->>N: Data chunks\n",
        "    N->>D: Routed packets\n",
        "    D->>Ph: Frames\n",
        "    Note over Ph: Electrical signals sent!\"\"\")"
      ],
      "metadata": {
        "id": "gm-z6cgfRXGE",
        "outputId": "691f1f80-46b6-4a82-b438-41df59dd383b",
        "colab": {
          "base_uri": "https://localhost:8080/",
          "height": 621
        }
      },
      "execution_count": 30,
      "outputs": [
        {
          "output_type": "display_data",
          "data": {
            "text/html": [
              "<img src=\"https://mermaid.ink/img/CnNlcXVlbmNlRGlhZ3JhbQogICAgdGl0bGUgSG93IFlvdXIgTWVzc2FnZSBBY3R1YWxseSBUcmF2ZWxzOiBBIENvbXBsZXRlIEpvdXJuZXkKCiAgICBwYXJ0aWNpcGFudCBBIGFzIEFwcGxpY2F0aW9uPGJyLz4oV3JpdGUgRW1haWwpCiAgICBwYXJ0aWNpcGFudCBQIGFzIFByZXNlbnRhdGlvbjxici8-KEZvcm1hdCBEYXRhKQogICAgcGFydGljaXBhbnQgUyBhcyBTZXNzaW9uPGJyLz4oU3RhcnQgQ29ubmVjdGlvbikKICAgIHBhcnRpY2lwYW50IFQgYXMgVHJhbnNwb3J0PGJyLz4oU3BsaXQgTWVzc2FnZSkKICAgIHBhcnRpY2lwYW50IE4gYXMgTmV0d29yazxici8-KEZpbmQgUm91dGUpCiAgICBwYXJ0aWNpcGFudCBEIGFzIERhdGEgTGluazxici8-KEZyYW1lIERhdGEpCiAgICBwYXJ0aWNpcGFudCBQaCBhcyBQaHlzaWNhbDxici8-KFNlbmQgU2lnbmFscykKCiAgICBOb3RlIG92ZXIgQSxQaDogU2VuZGluZyAiTWVldCBhdCBIUSIgdG8gdGhlIGdhbmcKICAgIEEtPj5QOiBSYXcgdGV4dAogICAgUC0-PlM6IEZvcm1hdHRlZCBkYXRhCiAgICBTLT4-VDogQ29ubmVjdGlvbiByZWFkeQogICAgVC0-Pk46IERhdGEgY2h1bmtzCiAgICBOLT4-RDogUm91dGVkIHBhY2tldHMKICAgIEQtPj5QaDogRnJhbWVzCiAgICBOb3RlIG92ZXIgUGg6IEVsZWN0cmljYWwgc2lnbmFscyBzZW50IQ==?width=800&height=600\"/>"
            ],
            "text/plain": [
              "<IPython.core.display.Image object>"
            ]
          },
          "metadata": {}
        }
      ]
    },
    {
      "cell_type": "markdown",
      "source": [
        "## Introduction to tcpdump: A Network Detective's Tool\n",
        "tcpdump is like a detective's magnifying glass for network traffic. Just as detectives examine evidence at a crime scene, tcpdump lets us capture and examine packets (pieces of data) traveling across a network. It's a powerful command-line tool that helps us understand network communication.\n",
        "\n",
        "The basic structure of a tcpdump command is:\n",
        "```bash\n",
        "tcpdump [options] [filters]\n",
        "```\n",
        "\n",
        "When working with a capture file (like our detective agency example):\n",
        "```bash\n",
        "# Read from our captured file instead of live network\n",
        "tcpdump -r detective_agency.pcap\n",
        "\n",
        "# Make it more readable by not converting addresses to names\n",
        "tcpdump -r detective_agency.pcap -n\n",
        "\n",
        "# Limit output to 5 packets to avoid overwhelming output\n",
        "tcpdump -r detective_agency.pcap -n -c 5\n",
        "```\n",
        "\n",
        "Let's explore our detective agency's network traffic layer by layer. Our PCAP file contains traffic from detectives' workstations, their database access, and external connections.\n"
      ],
      "metadata": {
        "id": "-AylnwWKWbKm"
      }
    },
    {
      "cell_type": "code",
      "source": [
        "# You must run this cell to install tcpdump\n",
        "# and to download sample \"packet capture file\"\n",
        "# Get ready for network analysis\n",
        "!apt install tcpdump > /dev/null\n",
        "!wget \"https://github.com/brendanpshea/intro_to_networks/raw/main/pcaps/detective_agency.pcap\" -q -nc"
      ],
      "metadata": {
        "colab": {
          "base_uri": "https://localhost:8080/"
        },
        "id": "85NRs-2nW7mX",
        "outputId": "7ab5dd06-8156-44a9-da90-ddb7f84bfc37"
      },
      "execution_count": 31,
      "outputs": [
        {
          "output_type": "stream",
          "name": "stdout",
          "text": [
            "\n",
            "WARNING: apt does not have a stable CLI interface. Use with caution in scripts.\n",
            "\n"
          ]
        }
      ]
    },
    {
      "cell_type": "code",
      "source": [
        "%%bash\n",
        "# Read from our captured file instead of live network\n",
        "# tcpdump -r detective_agency.pcap\n",
        "\n",
        "# Make it more readable by not converting addresses to names\n",
        "# tcpdump -r detective_agency.pcap -n\n",
        "\n",
        "# Limit output to 5 packets to avoid overwhelming output\n",
        "tcpdump -r detective_agency.pcap  -c 20"
      ],
      "metadata": {
        "colab": {
          "base_uri": "https://localhost:8080/"
        },
        "id": "sT5BlA1y9458",
        "outputId": "457c98b6-e726-4aa3-b994-bf636038f2c7"
      },
      "execution_count": 32,
      "outputs": [
        {
          "output_type": "stream",
          "name": "stdout",
          "text": [
            "17:25:47.560786 ARP, Request who-has 192.168.1.1 tell 192.168.1.10, length 28\n",
            "17:25:47.660786 ARP, Reply 192.168.1.1 is-at 00:1a:2b:3c:4d:5e (oui Unknown), length 28\n",
            "17:25:47.760786 ARP, Request who-has 192.168.1.1 tell 192.168.1.11, length 28\n",
            "17:25:47.860786 ARP, Reply 192.168.1.1 is-at 00:1a:2b:3c:4d:5e (oui Unknown), length 28\n",
            "17:25:47.960786 ARP, Request who-has 192.168.1.1 tell 192.168.1.12, length 28\n",
            "17:25:48.060786 ARP, Reply 192.168.1.1 is-at 00:1a:2b:3c:4d:5e (oui Unknown), length 28\n",
            "17:25:48.160786 ARP, Request who-has 192.168.1.1 tell 192.168.1.13, length 28\n",
            "17:25:48.260786 ARP, Reply 192.168.1.1 is-at 00:1a:2b:3c:4d:5e (oui Unknown), length 28\n",
            "17:25:48.360786 ARP, Request who-has 192.168.1.1 tell 192.168.1.14, length 28\n",
            "17:25:48.460786 ARP, Reply 192.168.1.1 is-at 00:1a:2b:3c:4d:5e (oui Unknown), length 28\n",
            "17:25:48.560786 ARP, Request who-has 192.168.1.1 tell 192.168.1.15, length 28\n",
            "17:25:48.660786 ARP, Reply 192.168.1.1 is-at 00:1a:2b:3c:4d:5e (oui Unknown), length 28\n",
            "17:25:48.760786 IP 0.0.0.0.68 > 255.255.255.255.67: BOOTP/DHCP, Request from 30:30:31:42:32:43 (oui Unknown), length 244\n",
            "17:25:48.860786 IP 0.0.0.0.68 > 255.255.255.255.67: BOOTP/DHCP, Request from 30:30:31:43:32:44 (oui Unknown), length 244\n",
            "17:25:48.960786 IP 0.0.0.0.68 > 255.255.255.255.67: BOOTP/DHCP, Request from 30:30:31:44:32:45 (oui Unknown), length 244\n",
            "17:25:49.060786 IP 0.0.0.0.68 > 255.255.255.255.67: BOOTP/DHCP, Request from 30:30:31:45:32:46 (oui Unknown), length 244\n",
            "17:25:49.160786 IP 0.0.0.0.68 > 255.255.255.255.67: BOOTP/DHCP, Request from 30:30:31:46:32:46 (oui Unknown), length 244\n",
            "17:25:49.260786 IP 0.0.0.0.68 > 255.255.255.255.67: BOOTP/DHCP, Request from 30:30:32:41:33:42 (oui Unknown), length 244\n",
            "17:25:49.360786 IP 192.168.1.10.61163 > dns.google.53: 0+ A? client_portal.detective-agency.com. (52)\n",
            "17:25:49.460786 IP 192.168.1.10.60903 > dns.google.53: 0+ A? email_server.detective-agency.com. (51)\n"
          ]
        },
        {
          "output_type": "stream",
          "name": "stderr",
          "text": [
            "reading from file detective_agency.pcap, link-type EN10MB (Ethernet), snapshot length 65535\n"
          ]
        }
      ]
    },
    {
      "cell_type": "markdown",
      "source": [
        "TCPDump allows us to look at records of different data **packets** that have been sent through our network. In general, we can see things like:\n",
        "\n",
        "| **Parameter** | **Description** | **Example** |\n",
        "| --- | --- | --- |\n",
        "| **Time** | Timestamp showing when the packet was captured. | `17:25:49.860786` |\n",
        "| **Source (MAC/IP)** | Originating address of the packet, either a MAC or IP address, depending on layer. | `192.168.1.11` (IP), `00:1b:2c:3d:4e:5f` (MAC) |\n",
        "| **Destination (MAC/IP)** | Destination address of the packet, again either a MAC or IP, depending on layer. | `203.0.113.10` (IP), `ff:ff:ff:ff:ff:ff` (MAC) |\n",
        "| **Protocol** | Specifies the protocol type (e.g., ARP, IP, BOOTP, TCP, HTTP). | `TCP` or `ARP` |\n",
        "| **Flags** | TCP-specific markers indicating packet behavior, such as SYN (connection initiation) or ACK (acknowledgment). | `[S]` (SYN) or `[S.]` (SYN-ACK) |\n",
        "| **Sequence/ACK Number** | Sequence or acknowledgment number to help track and synchronize packet delivery. | `seq 1000`, `ack 1001` |\n",
        "| **Window Size** | Amount of data (in bytes) that the sender is willing to accept in one window of transmission. | `win 8192` |\n",
        "| **Packet Length** | Total length of the packet, often including headers and content. | `length 42` |\n",
        "| **Message Content** | Occasionally displayed content of application-layer messages (like HTTP requests). | `HTTP: GET / HTTP/1.1` |\n",
        "\n",
        "In the sections that follow, we'll use tcpdump to help decipher what happens at different levles."
      ],
      "metadata": {
        "id": "bePU1JYD-X_p"
      }
    },
    {
      "cell_type": "markdown",
      "source": [
        "## Encapsulation and Decapsulation Through the Network Layers\n",
        "\n",
        "**Data encapsulation** is the process of wrapping data with header information as it moves down the OSI layers, preparing it for transmission across the network. Conversely, **decapsulation** is the process of removing these headers as the data moves up the OSI layers at the receiving end.\n",
        "\n",
        "Think of each header as a specialized envelope containing specific instructions for handling that layer's responsibilities. Each layer adds its own header (and sometimes a trailer) to the data, treating everything it receives from the layer above as pure payload, without concerning itself with the contents.\n",
        "\n",
        "> **Real-World Example**: At the Scooby Detective Agency, Velma is explaining their new secure file transfer system to the team.\n",
        ">\n",
        "> \"Like, I don't get it,\" Shaggy scratches his head, looking at a network packet capture. \"Why does our evidence photo have all this extra stuff around it?\"\n",
        ">\n",
        "> Velma pulls out a set of Russian nesting dolls from her desk. \"Let me demonstrate with these. Imagine our photo is the smallest doll. When we send it across the network, each layer adds its own 'doll' around it, each with specific information.\"\n",
        ">\n",
        "> She begins nesting the dolls: \"The Application Layer wraps the photo with information about its format. The Transport Layer adds port numbers in its doll. The Network Layer adds IP addresses in an even bigger doll. And finally, the Data Link Layer adds MAC addresses in the largest doll.\"\n",
        ">\n",
        "> \"So when it reaches the other end...\" Fred begins.\n",
        ">\n",
        "> \"Exactly!\" Velma finishes. \"The recipient unpacks each doll in reverse order, using the information in each layer to properly handle the data, until they finally get to our original photo.\"\n"
      ],
      "metadata": {
        "id": "RBERgbAiMuM7"
      }
    },
    {
      "cell_type": "markdown",
      "source": [
        "## Ethernet Header: The First Wrapper\n",
        "\n",
        "The **Ethernet header** is added by the Data Link Layer and serves as the outermost wrapper for data traveling across local networks. Think of it as the detailed addressing and handling instructions on a postal package.\n",
        "\n",
        "An Ethernet header contains several crucial pieces of information:\n",
        "- **Destination MAC Address** (6 bytes): The physical address of the intended recipient\n",
        "- **Source MAC Address** (6 bytes): The physical address of the sender\n",
        "- **EtherType** (2 bytes): Indicates what type of data follows (usually IPv4 or IPv6)\n"
      ],
      "metadata": {
        "id": "-zS7wyPhM0r4"
      }
    },
    {
      "cell_type": "markdown",
      "source": [
        "### TCP Dump: (Data Link Layer - The Physical Address Layer)\n",
        "Let's use tcdump to see what's happening at the data link layer (with our ethernet headers):"
      ],
      "metadata": {
        "id": "sZkXe87-XrST"
      }
    },
    {
      "cell_type": "code",
      "source": [
        "%%bash\n",
        "# See conversations at the ethernet (MAC address) level\n",
        "# -r: read from our capture file\n",
        "# -e: show ethernet header info (MAC addresses)\n",
        "# -n: don't convert addresses to names (show raw data)\n",
        "# -c 5: only show 5 packets\n",
        "tcpdump -r detective_agency.pcap -e -n -c 10"
      ],
      "metadata": {
        "colab": {
          "base_uri": "https://localhost:8080/"
        },
        "id": "VTyvv_A1XsUv",
        "outputId": "c90f246e-4811-41b2-c089-11abca0486a0"
      },
      "execution_count": 33,
      "outputs": [
        {
          "output_type": "stream",
          "name": "stdout",
          "text": [
            "17:25:47.560786 00:1b:2c:3d:4e:5f > ff:ff:ff:ff:ff:ff, ethertype ARP (0x0806), length 42: Request who-has 192.168.1.1 tell 192.168.1.10, length 28\n",
            "17:25:47.660786 00:1a:2b:3c:4d:5e > 00:1b:2c:3d:4e:5f, ethertype ARP (0x0806), length 42: Reply 192.168.1.1 is-at 00:1a:2b:3c:4d:5e, length 28\n",
            "17:25:47.760786 00:1c:2d:3e:4f:6a > ff:ff:ff:ff:ff:ff, ethertype ARP (0x0806), length 42: Request who-has 192.168.1.1 tell 192.168.1.11, length 28\n",
            "17:25:47.860786 00:1a:2b:3c:4d:5e > 00:1c:2d:3e:4f:6a, ethertype ARP (0x0806), length 42: Reply 192.168.1.1 is-at 00:1a:2b:3c:4d:5e, length 28\n",
            "17:25:47.960786 00:1d:2e:3f:4f:6b > ff:ff:ff:ff:ff:ff, ethertype ARP (0x0806), length 42: Request who-has 192.168.1.1 tell 192.168.1.12, length 28\n",
            "17:25:48.060786 00:1a:2b:3c:4d:5e > 00:1d:2e:3f:4f:6b, ethertype ARP (0x0806), length 42: Reply 192.168.1.1 is-at 00:1a:2b:3c:4d:5e, length 28\n",
            "17:25:48.160786 00:1e:2f:3f:4f:6c > ff:ff:ff:ff:ff:ff, ethertype ARP (0x0806), length 42: Request who-has 192.168.1.1 tell 192.168.1.13, length 28\n",
            "17:25:48.260786 00:1a:2b:3c:4d:5e > 00:1e:2f:3f:4f:6c, ethertype ARP (0x0806), length 42: Reply 192.168.1.1 is-at 00:1a:2b:3c:4d:5e, length 28\n",
            "17:25:48.360786 00:1f:2f:3f:4f:6d > ff:ff:ff:ff:ff:ff, ethertype ARP (0x0806), length 42: Request who-has 192.168.1.1 tell 192.168.1.14, length 28\n",
            "17:25:48.460786 00:1a:2b:3c:4d:5e > 00:1f:2f:3f:4f:6d, ethertype ARP (0x0806), length 42: Reply 192.168.1.1 is-at 00:1a:2b:3c:4d:5e, length 28\n"
          ]
        },
        {
          "output_type": "stream",
          "name": "stderr",
          "text": [
            "reading from file detective_agency.pcap, link-type EN10MB (Ethernet), snapshot length 65535\n"
          ]
        }
      ]
    },
    {
      "cell_type": "markdown",
      "source": [
        "This sample output shows ARP (Address Resolution Protocol) conversations. We see things like:\n",
        "\n",
        "| **Parameter** | **Description** | **Example** |\n",
        "| --- | --- | --- |\n",
        "| **Time** | Timestamp showing when the packet was captured. | `17:25:47.560786` |\n",
        "| **Source MAC** | Originating MAC address of the device sending the packet. | `00:1b:2c:3d:4e:5f` |\n",
        "| **Destination MAC** | MAC address of the device intended to receive the packet. Broadcast is shown as `ff:ff:ff:ff:ff:ff`. | `ff:ff:ff:ff:ff:ff` |\n",
        "| **Protocol** | The specific protocol in use at this layer (e.g., ARP). | `ARP (0x0806)` |\n",
        "| **Message** | ARP-specific message content, often indicating which device is being queried. | `Request who-has 192.168.1.1 tell 192.168.1.10` |\n",
        "| **Packet Length** | Total length of the packet in bytes. | `42 bytes` |"
      ],
      "metadata": {
        "id": "pWHVHR4UZsrX"
      }
    },
    {
      "cell_type": "markdown",
      "source": [
        "> **Real-World Example**: Back at the detective agency, Daphne notices something odd about their network traffic.\n",
        ">\n",
        "> \"Velma, come look at this,\" she calls. \"Every device on our network is getting flooded with traffic meant for other devices.\"\n",
        ">\n",
        "> Velma examines their network switch configuration. \"Aha! Our switch is operating in 'hub mode' instead of properly using the Ethernet headers to direct traffic. See, normally the switch reads the destination MAC address in the Ethernet header and sends the frame only to that specific port. But right now, it's broadcasting everything everywhere!\"\n",
        ">\n",
        "> \"Like, isn't that bad for performance?\" Shaggy asks.\n",
        ">\n",
        "> \"Exactly right, Shaggy. The Ethernet header is designed to enable efficient delivery using MAC addresses, but only if our network equipment is configured to use them properly.\""
      ],
      "metadata": {
        "id": "9pV3X2LONClu"
      }
    },
    {
      "cell_type": "code",
      "source": [
        "mm(\"\"\"\n",
        "---\n",
        "title: Ethernet Frame (Layer 2)\n",
        "---\n",
        "packet-beta\n",
        "  0-47: \"Destination MAC Address (e.g., 00:1A:2B:3C:4D:5E)\"\n",
        "  48-95: \"Source MAC Address (e.g., 00:2B:3C:4D:5E:6F)\"\n",
        "  96-111: \"EtherType (0x0800=IPv4, 0x86DD=IPv6)\"\n",
        "  112-255: \"Data (Encapsulated IPv4 Packet)\"\n",
        "\"\"\")"
      ],
      "metadata": {
        "colab": {
          "base_uri": "https://localhost:8080/",
          "height": 621
        },
        "id": "hUaGCLx8fsyW",
        "outputId": "edcd2229-ea4c-4224-b9f4-a62125dcbaaa"
      },
      "execution_count": 54,
      "outputs": [
        {
          "output_type": "display_data",
          "data": {
            "text/html": [
              "<img src=\"https://mermaid.ink/img/Ci0tLQp0aXRsZTogRXRoZXJuZXQgRnJhbWUgKExheWVyIDIpCi0tLQpwYWNrZXQtYmV0YQogIDAtNDc6ICJEZXN0aW5hdGlvbiBNQUMgQWRkcmVzcyAoZS5nLiwgMDA6MUE6MkI6M0M6NEQ6NUUpIiAKICA0OC05NTogIlNvdXJjZSBNQUMgQWRkcmVzcyAoZS5nLiwgMDA6MkI6M0M6NEQ6NUU6NkYpIgogIDk2LTExMTogIkV0aGVyVHlwZSAoMHgwODAwPUlQdjQsIDB4ODZERD1JUHY2KSIgCiAgMTEyLTI1NTogIkRhdGEgKEVuY2Fwc3VsYXRlZCBJUHY0IFBhY2tldCkiIAo=?width=800&height=600\"/>"
            ],
            "text/plain": [
              "<IPython.core.display.Image object>"
            ]
          },
          "metadata": {}
        }
      ]
    },
    {
      "cell_type": "markdown",
      "source": [
        "## Internet Protocol (IP) Header: Enabling Internet Routing\n",
        "\n",
        "While the Ethernet header handles local delivery, the **IP header** enables routing across the vast internet. Added by the Network Layer, it contains the information needed to get data from its source to its destination across multiple networks.\n",
        "\n",
        "The IPv4 header (the most common version) includes:\n",
        "- **Version** (4 bits): Indicates IPv4 or IPv6\n",
        "- **Header Length** (4 bits): Size of the IP header\n",
        "- **Type of Service** (8 bits): Specifies delivery priority\n",
        "- **Total Length** (16 bits): Size of the entire packet\n",
        "- **Source IP Address** (32 bits): Sender's IP address\n",
        "- **Destination IP Address** (32 bits): Recipient's IP address\n",
        "- Several other fields for fragmentation, time-to-live, etc.\n"
      ],
      "metadata": {
        "id": "SD_PLHyLNIm1"
      }
    },
    {
      "cell_type": "markdown",
      "source": [
        "> **Real-World Example**: The gang is troubleshooting connectivity to their new branch office.\n",
        ">\n",
        "> \"The network cable test passed,\" Fred reports, \"but we still can't reach the server at the other office.\"\n",
        ">\n",
        "> \"Let's look at the IP headers,\" Velma suggests, running a packet capture. \"See here? The TTL (Time To Live) field in the IP header is reaching zero before our packets get to the destination. That means we have a routing loop somewhere!\"\n",
        ">\n",
        "> She draws a diagram showing how the IP header's TTL field prevents packets from circulating endlessly when routing problems occur. \"Every router decrements the TTL by 1. When it hits zero, the packet is discarded. It's like a game of 'hot potato' with a timer - preventing network gridlock when routing goes wrong.\"\n",
        "\n",
        "The IP header exemplifies the layered nature of network protocols. While the Ethernet header handles local delivery between directly connected devices, the IP header enables global routing. A packet might have its Ethernet header rewritten many times as it travels across the internet, but its IP header remains largely unchanged, ensuring it eventually reaches its final destination."
      ],
      "metadata": {
        "id": "g4jH2kn7Nl0e"
      }
    },
    {
      "cell_type": "markdown",
      "source": [
        "### tcpdump (Network Layer - The IP Address Layer)\n"
      ],
      "metadata": {
        "id": "x9yQOcjWXrlM"
      }
    },
    {
      "cell_type": "code",
      "source": [
        "%%bash\n",
        "# Watch HTTP/HTTPS IP addresses communicate\n",
        "# -n: don't convert addresses to names\n",
        "# 'tcp port 80 or tcp port 443': only show HTTP and HTTPS packets\n",
        "# -c 15: limit to 15 packets\n",
        "tcpdump -r detective_agency.pcap -n 'tcp port 80 or tcp port 443' -c 15\n"
      ],
      "metadata": {
        "colab": {
          "base_uri": "https://localhost:8080/"
        },
        "id": "PYZb5WBPYhI9",
        "outputId": "f482d96f-02eb-4a6e-cc54-59e3070fca76"
      },
      "execution_count": null,
      "outputs": [
        {
          "output_type": "stream",
          "name": "stdout",
          "text": [
            "17:25:49.860786 IP 192.168.1.11.63896 > 203.0.113.10.443: Flags [S], seq 1000, win 8192, length 0\n",
            "17:25:49.960786 IP 203.0.113.10.443 > 192.168.1.11.63896: Flags [S.], seq 2000, ack 1001, win 8192, length 0\n",
            "17:25:50.060786 IP 192.168.1.11.63896 > 203.0.113.10.443: Flags [.], ack 1, win 8192, length 0\n",
            "17:25:50.160786 IP 192.168.1.11.63896 > 203.0.113.10.443: Flags [P.], seq 1:54, ack 1, win 8192, length 53\n",
            "17:25:50.260786 IP 192.168.1.12.51966 > 203.0.113.10.443: Flags [S], seq 1000, win 8192, length 0\n",
            "17:25:50.360786 IP 203.0.113.10.443 > 192.168.1.12.51966: Flags [S.], seq 2000, ack 1001, win 8192, length 0\n",
            "17:25:50.460786 IP 192.168.1.12.51966 > 203.0.113.10.443: Flags [.], ack 1, win 8192, length 0\n",
            "17:25:50.560786 IP 192.168.1.12.51966 > 203.0.113.10.443: Flags [P.], seq 1:54, ack 1, win 8192, length 53\n",
            "17:25:52.460786 IP 192.168.1.11.55538 > 203.0.113.10.80: Flags [S], seq 0:46, win 8192, length 46: HTTP: GET / HTTP/1.1\n",
            "17:25:52.560786 IP 192.168.1.12.50820 > 203.0.113.10.80: Flags [S], seq 0:46, win 8192, length 46: HTTP: GET / HTTP/1.1\n"
          ]
        },
        {
          "output_type": "stream",
          "name": "stderr",
          "text": [
            "reading from file detective_agency.pcap, link-type EN10MB (Ethernet), snapshot length 65535\n"
          ]
        }
      ]
    },
    {
      "cell_type": "markdown",
      "source": [
        "Here we see recordis of various http (web) connections with other sites. Our parameter are:\n",
        "\n",
        "| **Parameter** | **Description** | **Example** |\n",
        "| --- | --- | --- |\n",
        "| **Time** | Timestamp showing when the packet was captured. | `17:25:49.860786` |\n",
        "| **Source IP** | IP address of the device that sent the packet. | `192.168.1.11` |\n",
        "| **Destination IP** | IP address of the device intended to receive the packet. | `203.0.113.10` |\n",
        "| **Protocol** | Network protocol in use, typically IP for this layer. | `IP` |\n",
        "| **Flags** | TCP flags used to indicate control information, like `[S]` (SYN) for starting a connection. | `[S]`, `[S.]`, `[.]` |\n",
        "| **Packet Content** | Content of the packet, often including sequence and acknowledgment numbers for TCP packets. | `seq 1000, ack 1001` |\n",
        "| **Packet Length** | Total length of the packet in bytes. | `length 53` |"
      ],
      "metadata": {
        "id": "PqGfj76d88pr"
      }
    },
    {
      "cell_type": "code",
      "source": [
        "mm(\"\"\"\n",
        "---\n",
        "title: IPv4 Packet (Layer 3)\n",
        "---\n",
        "packet-beta\n",
        "  0-3: \"Version (4)\"\n",
        "  4-7: \"IHL (5-15, typically 5)\"\n",
        "  8-15: \"ToS/DSCP (e.g., 0x00=Best Effort)\"\n",
        "  16-31: \"Total Length (20-65535 bytes)\"\n",
        "  32-47: \"Identification (Unique ID)\"\n",
        "  48-50: \"Flags (Don't Fragment, More Fragments)\"\n",
        "  51-63: \"Fragment Offset (0-8191)\"\n",
        "  64-71: \"TTL (Typically 64 or 128)\"\n",
        "  72-79: \"Protocol (6=TCP, 17=UDP)\"\n",
        "  80-95: \"Header Checksum\"\n",
        "  96-127: \"Source IP (e.g., 192.168.1.1)\"\n",
        "  128-159: \"Destination IP (e.g., 10.0.0.1)\"\n",
        "  160-191: \"Options (if IHL > 5)\"\n",
        "  192-255: \"Data (Encapsulated TCP/UDP)\"\n",
        "  \"\"\")"
      ],
      "metadata": {
        "colab": {
          "base_uri": "https://localhost:8080/",
          "height": 621
        },
        "id": "sGQVvlU-f60s",
        "outputId": "d575706f-6276-48fc-816f-840c9f5cc617"
      },
      "execution_count": 47,
      "outputs": [
        {
          "output_type": "display_data",
          "data": {
            "text/html": [
              "<img src=\"https://mermaid.ink/img/Ci0tLQp0aXRsZTogSVB2NCBQYWNrZXQgKExheWVyIDMpCi0tLQpwYWNrZXQtYmV0YQogIDAtMzogIlZlcnNpb24gKDQpIgogIDQtNzogIklITCAoNS0xNSwgdHlwaWNhbGx5IDUpIgogIDgtMTU6ICJUb1MvRFNDUCAoZS5nLiwgMHgwMD1CZXN0IEVmZm9ydCkiCiAgMTYtMzE6ICJUb3RhbCBMZW5ndGggKDIwLTY1NTM1IGJ5dGVzKSIKICAzMi00NzogIklkZW50aWZpY2F0aW9uIChVbmlxdWUgSUQpIgogIDQ4LTUwOiAiRmxhZ3MgKERvbid0IEZyYWdtZW50LCBNb3JlIEZyYWdtZW50cykiCiAgNTEtNjM6ICJGcmFnbWVudCBPZmZzZXQgKDAtODE5MSkiCiAgNjQtNzE6ICJUVEwgKFR5cGljYWxseSA2NCBvciAxMjgpIgogIDcyLTc5OiAiUHJvdG9jb2wgKDY9VENQLCAxNz1VRFApIgogIDgwLTk1OiAiSGVhZGVyIENoZWNrc3VtIgogIDk2LTEyNzogIlNvdXJjZSBJUCAoZS5nLiwgMTkyLjE2OC4xLjEpIgogIDEyOC0xNTk6ICJEZXN0aW5hdGlvbiBJUCAoZS5nLiwgMTAuMC4wLjEpIgogIDE2MC0xOTE6ICJPcHRpb25zIChpZiBJSEwgPiA1KSIKICAxOTItMjU1OiAiRGF0YSAoRW5jYXBzdWxhdGVkIFRDUC9VRFApIgogIA==?width=800&height=600\"/>"
            ],
            "text/plain": [
              "<IPython.core.display.Image object>"
            ]
          },
          "metadata": {}
        }
      ]
    },
    {
      "cell_type": "markdown",
      "source": [
        "## Transport Layer Headers: TCP and UDP\n",
        "\n",
        "The Transport Layer adds yet another crucial wrapper to our data, using either TCP or UDP headers depending on the needs of the application. Think of TCP as certified mail with delivery confirmation, while UDP is more like regular mail - faster but without guarantees.\n",
        "\n",
        "### TCP Header Structure\n",
        "\n",
        "The **TCP header** is more complex than UDP because it contains all the information needed for reliable, ordered delivery:\n",
        "- **Source Port** (16 bits): Identifies the sending application\n",
        "- **Destination Port** (16 bits): Identifies the receiving application\n",
        "- **Sequence Number** (32 bits): Orders the segments\n",
        "- **Acknowledgment Number** (32 bits): Confirms received segments\n",
        "- **Window Size** (16 bits): Flow control information\n",
        "- **Checksum** (16 bits): Error detection\n",
        "- Various control bits and flags"
      ],
      "metadata": {
        "id": "_4KhIMkoSrKJ"
      }
    },
    {
      "cell_type": "markdown",
      "source": [
        "\n",
        "> **Real-World Example**: The Scooby gang is investigating why their case management system is running slowly.\n",
        ">\n",
        "> \"Like, Velma, why does uploading evidence photos take forever sometimes?\" Shaggy asks, watching a progress bar crawl across his screen.\n",
        ">\n",
        "> Velma opens Wireshark and shows him the TCP headers. \"See these sequence numbers? They help ensure all pieces of your photo arrive in order. And look at the window size - it's telling the sender to slow down because our network is congested.\"\n",
        ">\n",
        "> \"So it's like having a traffic cop managing the flow of data?\" Daphne suggests.\n",
        ">\n",
        "> \"Exactly! And see these acknowledgment numbers? Every time a piece arrives successfully, the receiver sends back a confirmation. If anything gets lost, TCP automatically requests retransmission.\"\n",
        "\n",
        "### Understanding TCP Flags\n",
        "\n",
        "TCP flags are like signal flags on a ship, each conveying specific information about the state of the connection. The main TCP flags are:\n",
        "\n",
        "- **SYN (Synchronize)**: Initiates a connection\n",
        "- **ACK (Acknowledgment)**: Confirms received data\n",
        "- **PSH (Push)**: Pushes buffered data to the application\n",
        "- **RST (Reset)**: Abruptly terminates a connection\n",
        "- **FIN (Finish)**: Gracefully closes a connection\n",
        "- **URG (Urgent)**: Marks urgent data\n",
        "\n",
        "> **Real-World Example**: Fred is analyzing their network security logs.\n",
        ">\n",
        "> \"Jeepers! Look at all these failed connection attempts,\" he points to a stream of logs.\n",
        ">\n",
        "> Velma examines the TCP flags. \"These are SYN flood attacks - someone's sending thousands of connection requests without completing the handshake. See the SYN flags without corresponding ACK flags? It's like someone repeatedly ringing our doorbell and running away!\"\n",
        ">\n",
        "> She draws a diagram of normal TCP connection establishment:\n",
        "> 1. Client sends SYN: \"Can we talk?\"\n",
        "> 2. Server responds SYN-ACK: \"Yes, let's talk\"\n",
        "> 3. Client sends ACK: \"Great, connection established!\"\n"
      ],
      "metadata": {
        "id": "YyBq4VVsSvUI"
      }
    },
    {
      "cell_type": "markdown",
      "source": [
        "### tcdump: Looking at TCP headers and connections\n",
        "Let's use tcpdump to look at some tcp headers and connections."
      ],
      "metadata": {
        "id": "psYGyAhTBLJk"
      }
    },
    {
      "cell_type": "code",
      "source": [
        "%%bash\n",
        "tcpdump -r detective_agency.pcap -n 'tcp'"
      ],
      "metadata": {
        "colab": {
          "base_uri": "https://localhost:8080/"
        },
        "id": "KFAhd1ntBPzb",
        "outputId": "e67b8bac-ca62-4ae4-bf68-aa6fdc686843"
      },
      "execution_count": null,
      "outputs": [
        {
          "output_type": "stream",
          "name": "stdout",
          "text": [
            "17:25:49.860786 IP 192.168.1.11.63896 > 203.0.113.10.443: Flags [S], seq 1000, win 8192, length 0\n",
            "17:25:49.960786 IP 203.0.113.10.443 > 192.168.1.11.63896: Flags [S.], seq 2000, ack 1001, win 8192, length 0\n",
            "17:25:50.060786 IP 192.168.1.11.63896 > 203.0.113.10.443: Flags [.], ack 1, win 8192, length 0\n",
            "17:25:50.160786 IP 192.168.1.11.63896 > 203.0.113.10.443: Flags [P.], seq 1:54, ack 1, win 8192, length 53\n",
            "17:25:50.260786 IP 192.168.1.12.51966 > 203.0.113.10.443: Flags [S], seq 1000, win 8192, length 0\n",
            "17:25:50.360786 IP 203.0.113.10.443 > 192.168.1.12.51966: Flags [S.], seq 2000, ack 1001, win 8192, length 0\n",
            "17:25:50.460786 IP 192.168.1.12.51966 > 203.0.113.10.443: Flags [.], ack 1, win 8192, length 0\n",
            "17:25:50.560786 IP 192.168.1.12.51966 > 203.0.113.10.443: Flags [P.], seq 1:54, ack 1, win 8192, length 53\n",
            "17:25:52.460786 IP 192.168.1.11.55538 > 203.0.113.10.80: Flags [S], seq 0:46, win 8192, length 46: HTTP: GET / HTTP/1.1\n",
            "17:25:52.560786 IP 192.168.1.12.50820 > 203.0.113.10.80: Flags [S], seq 0:46, win 8192, length 46: HTTP: GET / HTTP/1.1\n"
          ]
        },
        {
          "output_type": "stream",
          "name": "stderr",
          "text": [
            "reading from file detective_agency.pcap, link-type EN10MB (Ethernet), snapshot length 65535\n"
          ]
        }
      ]
    },
    {
      "cell_type": "markdown",
      "source": [
        "While we can see many of the same fields we have been talking about earlier, it's worth looking at the following specifically relevant to tcp:\n",
        "\n",
        "| **Field** | **Explanation** | **Example from Output** |\n",
        "| --- | --- | --- |\n",
        "| **Flags** | TCP flags provide control information for connections. Common flags include: `S` (SYN - start connection), `F` (FIN - finish connection), `R` (RST - reset), `P` (PSH - push), and `A` (ACK - acknowledgment). These flags guide connection states, such as the three-way handshake. | `[S]`, `[S.]`, `[P.]`, `[.]` |\n",
        "| **Sequence Number (seq)** | A 32-bit field that orders the segments. The number is assigned to the first byte in the current packet to ensure segments arrive in sequence. | `seq 1000` |\n",
        "| **Acknowledgment Number (ack)** | Confirms receipt of data by acknowledging the next expected sequence number. This is critical for reliable data transfer in TCP. | `ack 1001` |\n",
        "| **Window Size (win)** | A field for flow control, specifying how many bytes the sender is ready to receive. A larger window size can indicate higher bandwidth available for the connection. | `win 8192` |\n",
        "| **Packet Length (length)** | Total size of the packet, including headers and any payload data. For empty packets (e.g., SYN, ACK packets), this will be `0`; packets with data will show non-zero values. | `length 0`, `length 53` |\n",
        "| **Payload** | The actual data being transmitted. For example, in HTTP packets, the payload might contain a request like `GET / HTTP/1.1`. If the packet has no payload, `tcpdump` just shows `length 0`. | `HTTP: GET / HTTP/1.1` or `length 0` |"
      ],
      "metadata": {
        "id": "RbT7a_nbCJeY"
      }
    },
    {
      "cell_type": "code",
      "source": [
        "mm(\"\"\"\n",
        "---\n",
        "title: TCP Segment (Layer 4)\n",
        "---\n",
        "packet-beta\n",
        "  0-15: \"Source Port (e.g., 80=HTTP, 443=HTTPS)\"\n",
        "  16-31: \"Destination Port (e.g., 1024-65535)\"\n",
        "  32-63: \"Sequence Number (Random Initial)\"\n",
        "  64-95: \"Acknowledgment Number (Next Expected)\"\n",
        "  96-99: \"Data Offset (5-15)\"\n",
        "  100-105: \"Reserved (000000)\"\n",
        "  106: \"URG\"\n",
        "  107: \"ACK \"\n",
        "  108: \"PSH\"\n",
        "  109: \"RST\"\n",
        "  110: \"SYN\"\n",
        "  111: \"FIN\"\n",
        "  112-127: \"Window Size (Flow Control)\"\n",
        "  128-143: \"Checksum\"\n",
        "  144-159: \"Urgent Pointer (if URG=1)\"\n",
        "  160-191: \"Options (e.g., MSS, Window Scale)\"\n",
        "  192-255: \"Data (Application Payload)\"\n",
        "  \"\"\")"
      ],
      "metadata": {
        "colab": {
          "base_uri": "https://localhost:8080/",
          "height": 621
        },
        "id": "TBGxWYbKgRwk",
        "outputId": "db8a2b06-22c0-4b1b-f3ac-0ee67cd98f24"
      },
      "execution_count": 49,
      "outputs": [
        {
          "output_type": "display_data",
          "data": {
            "text/html": [
              "<img src=\"https://mermaid.ink/img/Ci0tLQp0aXRsZTogVENQIFNlZ21lbnQgKExheWVyIDQpCi0tLQpwYWNrZXQtYmV0YQogIDAtMTU6ICJTb3VyY2UgUG9ydCAoZS5nLiwgODA9SFRUUCwgNDQzPUhUVFBTKSIKICAxNi0zMTogIkRlc3RpbmF0aW9uIFBvcnQgKGUuZy4sIDEwMjQtNjU1MzUpIgogIDMyLTYzOiAiU2VxdWVuY2UgTnVtYmVyIChSYW5kb20gSW5pdGlhbCkiCiAgNjQtOTU6ICJBY2tub3dsZWRnbWVudCBOdW1iZXIgKE5leHQgRXhwZWN0ZWQpIgogIDk2LTk5OiAiRGF0YSBPZmZzZXQgKDUtMTUpIgogIDEwMC0xMDU6ICJSZXNlcnZlZCAoMDAwMDAwKSIKICAxMDY6ICJVUkciCiAgMTA3OiAiQUNLICIKICAxMDg6ICJQU0giCiAgMTA5OiAiUlNUIgogIDExMDogIlNZTiIKICAxMTE6ICJGSU4iCiAgMTEyLTEyNzogIldpbmRvdyBTaXplIChGbG93IENvbnRyb2wpIgogIDEyOC0xNDM6ICJDaGVja3N1bSIKICAxNDQtMTU5OiAiVXJnZW50IFBvaW50ZXIgKGlmIFVSRz0xKSIKICAxNjAtMTkxOiAiT3B0aW9ucyAoZS5nLiwgTVNTLCBXaW5kb3cgU2NhbGUpIgogIDE5Mi0yNTU6ICJEYXRhIChBcHBsaWNhdGlvbiBQYXlsb2FkKSIKICA=?width=800&height=600\"/>"
            ],
            "text/plain": [
              "<IPython.core.display.Image object>"
            ]
          },
          "metadata": {}
        }
      ]
    },
    {
      "cell_type": "markdown",
      "source": [
        "\n",
        "### UDP Header: The Lightweight Alternative\n",
        "\n",
        "The **UDP header** is much simpler, containing only:\n",
        "- **Source Port** (16 bits)\n",
        "- **Destination Port** (16 bits)\n",
        "- **Length** (16 bits)\n",
        "\n",
        "\n",
        "Let's take a look at some UDP traffic using tcpdump.\n"
      ],
      "metadata": {
        "id": "UUw3Zz__BGAc"
      }
    },
    {
      "cell_type": "code",
      "source": [
        "%%bash\n",
        "tcpdump -r detective_agency.pcap -n 'udp'"
      ],
      "metadata": {
        "colab": {
          "base_uri": "https://localhost:8080/"
        },
        "id": "9Co3DsAMBC5e",
        "outputId": "a9a61a27-2330-49f0-b6b3-1ef9342fb381"
      },
      "execution_count": null,
      "outputs": [
        {
          "output_type": "stream",
          "name": "stdout",
          "text": [
            "17:25:48.760786 IP 0.0.0.0.68 > 255.255.255.255.67: BOOTP/DHCP, Request from 30:30:31:42:32:43, length 244\n",
            "17:25:48.860786 IP 0.0.0.0.68 > 255.255.255.255.67: BOOTP/DHCP, Request from 30:30:31:43:32:44, length 244\n",
            "17:25:48.960786 IP 0.0.0.0.68 > 255.255.255.255.67: BOOTP/DHCP, Request from 30:30:31:44:32:45, length 244\n",
            "17:25:49.060786 IP 0.0.0.0.68 > 255.255.255.255.67: BOOTP/DHCP, Request from 30:30:31:45:32:46, length 244\n",
            "17:25:49.160786 IP 0.0.0.0.68 > 255.255.255.255.67: BOOTP/DHCP, Request from 30:30:31:46:32:46, length 244\n",
            "17:25:49.260786 IP 0.0.0.0.68 > 255.255.255.255.67: BOOTP/DHCP, Request from 30:30:32:41:33:42, length 244\n",
            "17:25:49.360786 IP 192.168.1.10.61163 > 8.8.8.8.53: 0+ A? client_portal.detective-agency.com. (52)\n",
            "17:25:49.460786 IP 192.168.1.10.60903 > 8.8.8.8.53: 0+ A? email_server.detective-agency.com. (51)\n",
            "17:25:49.560786 IP 192.168.1.10.59360 > 8.8.8.8.53: 0+ A? cloud_storage.detective-agency.com. (52)\n",
            "17:25:49.660786 IP 192.168.1.10.54440 > 8.8.8.8.53: 0+ A? case_database.detective-agency.com. (52)\n",
            "17:25:49.760786 IP 192.168.1.10.64982 > 8.8.8.8.53: 0+ A? surveillance_feed.detective-agency.com. (56)\n",
            "17:25:50.660786 IP 192.168.1.10.50858 > 72.30.35.89.123: NTPv3, Client, length 48\n",
            "17:25:50.760786 IP 192.168.1.11.51602 > 192.48.105.15.123: NTPv3, Client, length 48\n",
            "17:25:50.860786 IP 192.168.1.12.54888 > 192.48.105.15.123: NTPv3, Client, length 48\n",
            "17:25:50.960786 IP 192.168.1.13.49163 > 192.48.105.15.123: NTPv3, Client, length 48\n",
            "17:25:51.060786 IP 192.168.1.14.50832 > 192.48.105.15.123: NTPv3, Client, length 48\n",
            "17:25:51.160786 IP 192.168.1.15.56869 > 192.48.105.15.123: NTPv3, Client, length 48\n"
          ]
        },
        {
          "output_type": "stream",
          "name": "stderr",
          "text": [
            "reading from file detective_agency.pcap, link-type EN10MB (Ethernet), snapshot length 65535\n"
          ]
        }
      ]
    },
    {
      "cell_type": "markdown",
      "source": [
        "In the above `tcpdump` output, you're seeing **UDP traffic**, which includes **BOOTP/DHCP requests** (used for assigning IP addresses to devices on the network), **DNS queries** (translating domain names to IP addresses), and **NTP requests** (synchronizing time across devices). These examples show common UDP applications where fast transmission is prioritized over strict reliability.\n",
        "\n",
        "You might note the following fields (along with the usual ones we've seen):\n",
        "\n",
        "| **Field** | **Explanation** | **Example from Output** |\n",
        "| --- | --- | --- |\n",
        "| **Protocol** | High-level protocol, usually specifying BOOTP/DHCP, DNS, or NTP, given their reliance on UDP for fast, connectionless delivery. | `BOOTP/DHCP`, `DNS`, `NTPv3` |\n",
        "| **Additional Info** | Protocol-specific information about the request, such as the type of DNS query or DHCP request. | `Request from 30:30:31:42:32:43`, `0+ A? client_portal.detective-agency.com` |\n",
        "| **Packet Length (length)** | Total size of the packet in bytes, including the UDP header and payload. | `length 244`, `length 52`, `length 48` |\n",
        "\n",
        "UDP does NOT have as many (or as detailed) headers as TCP, as we don't care about things like packet order, missed packets, etc."
      ],
      "metadata": {
        "id": "VeYUZDyYC60F"
      }
    },
    {
      "cell_type": "code",
      "source": [
        "mm(\"\"\"\n",
        "---\n",
        "title: UDP Datagram (Layer 4)\n",
        "---\n",
        "packet-beta\n",
        "  0-15: \"Source Port (e.g., 53=DNS)\"\n",
        "  16-31: \"Destination Port (e.g., 1024-65535)\"\n",
        "  32-47: \"Length (8-65535 bytes)\"\n",
        "  48-63: \"Checksum (Optional in IPv4)\"\n",
        "  64-255: \"Data (Application Payload)\"\n",
        "\"\"\")"
      ],
      "metadata": {
        "colab": {
          "base_uri": "https://localhost:8080/",
          "height": 621
        },
        "id": "vKBxvblYgeIc",
        "outputId": "4127794e-0310-4809-d94b-b9d3ddd400e5"
      },
      "execution_count": 50,
      "outputs": [
        {
          "output_type": "display_data",
          "data": {
            "text/html": [
              "<img src=\"https://mermaid.ink/img/Ci0tLQp0aXRsZTogVURQIERhdGFncmFtIChMYXllciA0KQotLS0KcGFja2V0LWJldGEKICAwLTE1OiAiU291cmNlIFBvcnQgKGUuZy4sIDUzPUROUykiCiAgMTYtMzE6ICJEZXN0aW5hdGlvbiBQb3J0IChlLmcuLCAxMDI0LTY1NTM1KSIKICAzMi00NzogIkxlbmd0aCAoOC02NTUzNSBieXRlcykiCiAgNDgtNjM6ICJDaGVja3N1bSAoT3B0aW9uYWwgaW4gSVB2NCkiCiAgNjQtMjU1OiAiRGF0YSAoQXBwbGljYXRpb24gUGF5bG9hZCkiCg==?width=800&height=600\"/>"
            ],
            "text/plain": [
              "<IPython.core.display.Image object>"
            ]
          },
          "metadata": {}
        }
      ]
    },
    {
      "cell_type": "markdown",
      "source": [
        "\n",
        "## Understanding Payload\n",
        "\n",
        "The **payload** is the actual data being transmitted - the letter inside all those envelopes we've been adding. Everything else we've discussed (headers, flags, etc.) exists solely to ensure the payload reaches its destination correctly.\n",
        "\n",
        "> **Real-World Example**: \"Like, I get all the headers and stuff now,\" Shaggy says, \"but where's our actual evidence photo in all this?\"\n",
        ">\n",
        "> Velma pulls up a packet capture. \"See this part after all the headers? That's our payload - the actual photo data. Everything else is just wrapping paper and delivery instructions to get it where it needs to go.\""
      ],
      "metadata": {
        "id": "Y8YygpyLS1JY"
      }
    },
    {
      "cell_type": "code",
      "source": [
        "%%bash\n",
        "tcpdump -r detective_agency.pcap -n -A 'tcp port 80 or tcp port 443' -c 5"
      ],
      "metadata": {
        "colab": {
          "base_uri": "https://localhost:8080/"
        },
        "id": "P-0v4Q21EFe1",
        "outputId": "eb7b356c-2041-4dff-a531-093f317b5fb0"
      },
      "execution_count": null,
      "outputs": [
        {
          "output_type": "stream",
          "name": "stdout",
          "text": [
            "17:25:49.860786 IP 192.168.1.11.63896 > 203.0.113.10.443: Flags [S], seq 1000, win 8192, length 0\n",
            "E..(....@.}.......q\n",
            "............P. .....\n",
            "17:25:49.960786 IP 203.0.113.10.443 > 192.168.1.11.63896: Flags [S.], seq 2000, ack 1001, win 8192, length 0\n",
            "E..(....@.}...q\n",
            "................P. .....\n",
            "17:25:50.060786 IP 192.168.1.11.63896 > 203.0.113.10.443: Flags [.], ack 1, win 8192, length 0\n",
            "E..(....@.}.......q\n",
            "............P. .....\n",
            "17:25:50.160786 IP 192.168.1.11.63896 > 203.0.113.10.443: Flags [P.], seq 1:54, ack 1, win 8192, length 53\n",
            "E..]....@.|.......q\n",
            "............P. .q........................................................\n",
            "17:25:50.260786 IP 192.168.1.12.51966 > 203.0.113.10.443: Flags [S], seq 1000, win 8192, length 0\n",
            "E..(....@.}.......q\n",
            "............P. .....\n"
          ]
        },
        {
          "output_type": "stream",
          "name": "stderr",
          "text": [
            "reading from file detective_agency.pcap, link-type EN10MB (Ethernet), snapshot length 65535\n"
          ]
        }
      ]
    },
    {
      "cell_type": "markdown",
      "source": [
        "In the above results, we see that most of the packets have lenght 0 (no payload!), since they are just being to establish a connection between devices using TCP. The fourth packet DOES have a payload, but we can't actually see it, either here or in real life (since it will be encrypted using HTTPS)."
      ],
      "metadata": {
        "id": "W-Bsb1VkFDrZ"
      }
    },
    {
      "cell_type": "markdown",
      "source": [
        "## Maximum Transmission Unit (MTU)\n",
        "\n",
        "The **MTU** defines the largest \"package\" that can be sent across a network link. Think of it like weight limits on bridges - exceed them, and you'll need to split your cargo into smaller loads.\n",
        "\n",
        "Common MTU values:\n",
        "- Ethernet: 1500 bytes\n",
        "- PPPoE: 1492 bytes\n",
        "- Wi-Fi: 2304 bytes\n",
        "\n",
        "> **Real-World Example**: The gang is trying to upload a large video file from a crime scene.\n",
        ">\n",
        "> \"Why is the file transfer failing only for this huge video?\" Daphne wonders.\n",
        ">\n",
        "> \"MTU issues,\" Velma explains. \"Our VPN connection has a smaller MTU than our local network. When we try to send packets that are too large, they need to be fragmented. Let me adjust the MTU size...\"\n",
        ">\n",
        "> She demonstrates with a simple test:\n"
      ],
      "metadata": {
        "id": "jZibmc5JS3SO"
      }
    },
    {
      "cell_type": "code",
      "source": [
        "%%bash\n",
        "apt install net-tools > /dev/null\n",
        "# look for \"mtu\" to see the current mtu for eth0\n",
        "ifconfig eth0"
      ],
      "metadata": {
        "colab": {
          "base_uri": "https://localhost:8080/"
        },
        "id": "Yzp8kipg0UT4",
        "outputId": "29f389cf-a766-46ef-e356-51262fd3228c"
      },
      "execution_count": null,
      "outputs": [
        {
          "output_type": "stream",
          "name": "stdout",
          "text": [
            "eth0: flags=4163<UP,BROADCAST,RUNNING,MULTICAST>  mtu 1500\n",
            "        inet 172.28.0.12  netmask 255.255.0.0  broadcast 172.28.255.255\n",
            "        ether 02:42:ac:1c:00:0c  txqueuelen 0  (Ethernet)\n",
            "        RX packets 6189  bytes 1882418 (1.8 MB)\n",
            "        RX errors 0  dropped 0  overruns 0  frame 0\n",
            "        TX packets 5319  bytes 1555395 (1.5 MB)\n",
            "        TX errors 0  dropped 0 overruns 0  carrier 0  collisions 0\n",
            "\n"
          ]
        },
        {
          "output_type": "stream",
          "name": "stderr",
          "text": [
            "\n",
            "WARNING: apt does not have a stable CLI interface. Use with caution in scripts.\n",
            "\n"
          ]
        }
      ]
    },
    {
      "cell_type": "markdown",
      "source": [
        "If you look closely at the above, you'll see that eth0 has an mtu of 1500 (which is standard for ethernet)."
      ],
      "metadata": {
        "id": "s78fh0DeJWHx"
      }
    },
    {
      "cell_type": "markdown",
      "source": [
        "\n",
        "## Putting It All Together\n",
        "\n",
        "When data travels across a network, it gets wrapped in multiple layers of headers:\n",
        "1. Application data becomes the payload\n",
        "2. Transport Layer adds TCP/UDP header\n",
        "3. Network Layer adds IP header\n",
        "4. Data Link Layer adds Ethernet header\n",
        "\n",
        "At each hop along the way:\n",
        "- Ethernet headers may change (like updating a shipping label at each post office)\n",
        "- IP headers guide overall routing\n",
        "- TCP/UDP headers ensure proper delivery\n",
        "- The payload remains unchanged until it reaches its final destination\n",
        "\n",
        "Understanding this encapsulation process is crucial for:\n",
        "- Network troubleshooting\n",
        "- Security analysis\n",
        "- Performance optimization\n",
        "- Protocol development\n",
        "\n",
        "Remember: Each layer adds its own header because it can't make assumptions about the layers above or below it. This modularity is what makes networks so flexible and reliable, allowing different protocols and technologies to work together seamlessly."
      ],
      "metadata": {
        "id": "wVpQFxd5S5J4"
      }
    },
    {
      "cell_type": "markdown",
      "source": [
        "# Daphne's Guide to Debugging Network Problems Using the OSI Model\n",
        "\n",
        "Hey there! Daphne Blake here. After years of solving mysteries with the gang, I've learned that debugging network problems is a lot like solving a good mystery - you need a systematic approach and the right tools for the job. I'm going to share my method for tracking down network issues using the OSI model as our detective's framework.\n",
        "\n",
        "## The Detective's Approach: Start at the Bottom\n",
        "\n",
        "Just like when we investigate a haunted house, we start with the basics and work our way up. With network problems, that means starting at Layer 1 (Physical) and working up to Layer 7 (Application). Here are some real cases we've solved at the detective agency.\n",
        "\n",
        "### Case #1: The Vanishing Connection\n",
        "**Reported Problem:** \"Like, Daphne, help! My computer won't connect to anything!\"\n",
        "\n",
        "**Investigation Process:**\n",
        "1. **Physical Layer (Layer 1)**\n",
        "   - First check: Is everything plugged in?\n",
        "   - Found: Network cable was chewed by Scooby! Classic Layer 1 problem.\n",
        "   - Tool used: Visual inspection\n",
        "   - Solution: Replace the damaged cable\n",
        "\n",
        "**Lesson:** Always start with the physical layer. You'd be surprised how many \"ghosts in the machine\" are actually just unplugged cables!\n",
        "\n",
        "### Case #2: The Mysterious Address Mix-up\n",
        "**Reported Problem:** \"I can see other computers on the network, but can't connect to them!\"\n",
        "\n",
        "**Investigation Process:**\n",
        "1. **Physical Layer:** Cables connected? ✓\n",
        "2. **Data Link Layer (Layer 2)**\n",
        "   - Used `tcpdump -e` to check ethernet frames\n",
        "   - Found: Multiple devices had the same MAC address!\n",
        "   - Tool used: `tcpdump -e -n` to view ethernet headers\n",
        "   - Solution: Found a misconfigured network card clone, fixed the MAC address\n",
        "\n",
        "**Lesson:** When devices can see each other but not communicate properly, check Layer 2 addressing.\n",
        "\n",
        "### Case #3: The Routing Phantom\n",
        "**Reported Problem:** \"We can reach local computers but not the internet!\"\n",
        "\n",
        "**Investigation Process:**\n",
        "1. **Physical Layer:** Connections good ✓\n",
        "2. **Data Link Layer:** MAC addresses unique ✓\n",
        "3. **Network Layer (Layer 3)**\n",
        "   - Used `traceroute 8.8.8.8` to check routing\n",
        "   - Found: Default gateway was set incorrectly\n",
        "   - Tool used: `traceroute`, `ip route show`\n",
        "   - Solution: Fixed the default gateway configuration\n",
        "\n",
        "**Lesson:** Can't reach outside networks? Layer 3 is your likely culprit!\n",
        "\n",
        "### Case #4: The Case of the Slow Evidence Upload\n",
        "**Reported Problem:** \"Evidence photos take forever to upload!\"\n",
        "\n",
        "**Investigation Process:**\n",
        "1. **Physical Layer:** Good connectivity ✓\n",
        "2. **Data Link Layer:** No collisions ✓\n",
        "3. **Network Layer:** Routing correct ✓\n",
        "4. **Transport Layer (Layer 4)**\n",
        "   - Used `tcpdump -n 'tcp'` to analyze connections\n",
        "   - Found: Lots of retransmissions due to wrong TCP window size\n",
        "   - Tool used: `tcpdump` with TCP filters\n",
        "   - Solution: Adjusted TCP window size for better performance\n",
        "\n",
        "**Lesson:** Performance issues often hide in Layer 4. Look for retransmissions and window sizes!\n",
        "\n",
        "### Case #5: The Encrypted Evidence Enigma\n",
        "**Reported Problem:** \"Can't access the secure evidence server!\"\n",
        "\n",
        "**Investigation Process:**\n",
        "1. Layers 1-4: All good ✓\n",
        "2. **Session Layer (Layer 5)**\n",
        "   - Checked session logs\n",
        "   - Found: Expired security certificate\n",
        "   - Tool used: Browser's security information\n",
        "   - Solution: Updated the server's SSL certificate\n",
        "\n",
        "**Lesson:** Security and certificate issues usually appear at Layer 5 or 6.\n",
        "\n",
        "## Daphne's Top Tips\n",
        "\n",
        "1. **Start at the Bottom:** Always begin with Layer 1 and work up. No use checking application settings if the cable is unplugged!\n",
        "\n",
        "2. **Document Everything:** Keep notes of what you've checked. Network problems can have multiple issues, and you don't want to repeat steps.\n",
        "\n",
        "3. **Use the Right Tool:** Each layer has specific tools. Learning to use `tcpdump` is especially important - it's like having a magnifying glass for your network!\n",
        "\n",
        "4. **Look for Patterns:** Is the problem intermittent? Affecting all users or just one? These clues help identify the layer to investigate.\n",
        "\n",
        "5. **Keep It Simple:** Start with simple tests before diving into complex analysis. Sometimes a quick `ping` tells you everything you need to know.\n",
        "\n",
        "Remember, network debugging is just like solving any other mystery - methodical investigation and the right tools will help you crack the case every time!\n",
        "\n",
        "Jinkies! I hope this guide helps you solve your own network mysteries. Remember, every great detective started as a beginner. Keep practicing, and you'll be solving network mysteries in no time!\n",
        "\n",
        "-- Daphne"
      ],
      "metadata": {
        "id": "CtD0uNcBZh6G"
      }
    },
    {
      "cell_type": "markdown",
      "source": [
        "## Glossary\n",
        "### OSI Model Concepts\n",
        "\n",
        "| Term | Definition |\n",
        "|------|------------|\n",
        "| OSI Network Model | A seven-layer abstraction framework defining how data moves through a network, with each layer providing specific services to the layer above while using services from the layer below |\n",
        "| Physical Layer (OSI) | Manages the physical connection and electrical/optical signals between systems, including specifications for voltage levels, timing, physical data rates, physical connectors, and media types |\n",
        "| Data Link Layer (OSI) | Ensures reliable point-to-point data delivery over the physical layer, handling addressing, framing, error detection, and media access control for directly connected nodes |\n",
        "| Network Layer (OSI) | Performs routing between different networks, handles logical addressing and path determination, manages traffic control, and fragments/reassembles data packets as needed |\n",
        "| Transport Layer (OSI) | Provides end-to-end communication control, managing segmentation, flow control, error recovery, and optional connection-oriented services |\n",
        "| Session Layer (OSI) | Controls the dialogues between computers, establishing, managing, and terminating connections between local and remote applications, including synchronization points for long data transfers |\n",
        "| Presentation Layer (OSI) | Handles data format translation, character code conversion, encryption/decryption, and data compression/decompression between different systems |\n",
        "| Application Layer (OSI) | Provides high-level APIs for application access to the network, including protocols for file transfer, email, remote access, and other end-user services |\n",
        "\n",
        "### Data Link Layer Concepts\n",
        "\n",
        "| Term | Definition |\n",
        "|------|------------|\n",
        "| Media Access Control (MAC) | Sublayer protocol determining how devices share the physical medium, including collision detection, avoidance mechanisms, and transmission timing |\n",
        "| MAC Address | Unique 48-bit physical address permanently assigned to network interfaces during manufacturing, expressed as six pairs of hexadecimal digits |\n",
        "| Frame | Data unit at the Data Link layer containing source/destination MAC addresses, payload, error checking information, and control fields for reliable delivery |\n",
        "| Ethernet header | 14-byte structure containing 6-byte destination MAC, 6-byte source MAC, and 2-byte type/length field, followed by payload and frame check sequence |\n",
        "\n",
        "### Network Layer Concepts\n",
        "\n",
        "| Term | Definition |\n",
        "|------|------------|\n",
        "| Routing | Complex process of determining optimal paths for data through multiple networks using metrics like hop count, bandwidth, delay, and load balancing considerations |\n",
        "| Packet | Self-contained unit of data carrying routing information and payload, which can be transmitted independently through networks regardless of content |\n",
        "| Header (Packet) | Metadata structure prepended to packets containing crucial protocol-specific control information for proper delivery and processing |\n",
        "| Payload (Packet) | Actual user data being transported, encapsulated within the packet structure and isolated from the surrounding delivery mechanism |\n",
        "| IP Address | Hierarchical numerical identifier specifying both network and host portions, used for logical addressing and routing between different networks |\n",
        "| IPv4 | 32-bit addressing scheme allowing approximately 4.3 billion unique addresses, written in four octets separated by periods (e.g., 192.168.1.1) |\n",
        "| IPv6 | 128-bit addressing scheme supporting approximately 3.4×10^38 unique addresses, written in eight groups of four hexadecimal digits (e.g., 2001:0db8:85a3:0000:0000:8a2e:0370:7334) |\n",
        "| IP header | Complex structure containing version, header length, service type, total length, identification, flags, fragment offset, TTL, protocol, checksum, and addresses |\n",
        "\n",
        "### Transport Layer Concepts\n",
        "\n",
        "| Term | Definition |\n",
        "|------|------------|\n",
        "| Transmission Control Protocol | Reliable, connection-oriented protocol providing ordered delivery, error checking, flow control, and congestion control through a three-way handshake mechanism |\n",
        "| User Datagram Protocol | Lightweight, connectionless protocol offering basic transport services without guarantees of delivery, ordering, or integrity for applications prioritizing speed over reliability |\n",
        "| Port | 16-bit numerical identifier for specific network services or processes, allowing multiple simultaneous connections to/from the same IP address |\n",
        "| TCP header | 20-byte structure containing source/destination ports, sequence numbers, acknowledgment numbers, flags, window size, checksum, and optional fields |\n",
        "| UDP header | 8-byte minimal structure containing only source/destination ports, length, and checksum fields for basic multiplexing |\n",
        "| Window size | Dynamic value indicating buffer space available at the receiver, used for flow control to prevent overwhelming slower receivers |\n",
        "| SYN | TCP control flag initiating connection establishment, carrying sequence number for synchronization of both ends |\n",
        "| ACK | TCP control flag acknowledging received data, containing the next expected sequence number for reliable delivery |\n",
        "| Maximum Transmission Unit | Largest protocol data unit that can be passed through a specific layer of a communications protocol, typically ranging from 1,500 to 9,000 bytes |\n",
        "\n",
        "### Session & Presentation Concepts\n",
        "\n",
        "| Term | Definition |\n",
        "|------|------------|\n",
        "| Session (network) | Sustained connection between applications with defined beginning and end, maintaining state and allowing for checkpointing and recovery |\n",
        "| Dialog control | Coordination mechanism determining which party can transmit at what time, including turn-taking and synchronization markers |\n",
        "| Character encoding | Standardized system for representing text characters as binary data, including schemes like ASCII, Unicode, UTF-8, and others |\n",
        "| Encryption | Mathematical transformation of data to protect confidentiality, using algorithms and keys to make information unreadable without proper decryption |\n",
        "\n",
        "### Application Layer & Services\n",
        "\n",
        "| Term | Definition |\n",
        "|------|------------|\n",
        "| Domain Name Service | Hierarchical decentralized naming system translating human-readable domain names into IP addresses, with distributed database servers worldwide |\n",
        "| Hypertext Transport Protocol | Application protocol for distributed, collaborative, hypermedia information systems, using request-response patterns between clients and servers |\n",
        "| Hypertext Transport Protocol Secure | Security-enhanced HTTP using TLS encryption to protect against eavesdropping, tampering, and message forgery |\n",
        "| Dynamic Host Configuration Protocol | Network management protocol automating IP address assignment and providing configuration information to network devices |\n",
        "\n",
        "### Networking Operations & Tools\n",
        "\n",
        "| Term | Definition |\n",
        "|------|------------|\n",
        "| Traceroute | Network diagnostic tool displaying the route and measuring transit delays between local host and destination, showing each intermediate router hop |\n",
        "| ip link show | Linux networking command displaying detailed status of all network interfaces, including state, MTU, MAC address, and operational parameters |\n",
        "| tcpdump | Powerful packet analyzer allowing capture and analysis of network traffic in real-time, with extensive filtering and display options |\n",
        "\n",
        "### Data Processing Concepts\n",
        "\n",
        "| Term | Definition |\n",
        "|------|------------|\n",
        "| Data encapsulation | Progressive wrapping of data with protocol headers/trailers as it moves down the OSI stack, with each layer adding its own control information |\n",
        "| Data decapsulation | Systematic removal of protocol headers/trailers as data moves up the OSI stack, with each layer processing and stripping its relevant control information |\n",
        "| Checksum | Mathematical value calculated from packet contents to detect corruption, using various algorithms depending on the protocol level |"
      ],
      "metadata": {
        "id": "mZ4OHzBp7oUa"
      }
    },
    {
      "cell_type": "code",
      "source": [],
      "metadata": {
        "id": "CtpZMQWgZixT"
      },
      "execution_count": null,
      "outputs": []
    }
  ]
}