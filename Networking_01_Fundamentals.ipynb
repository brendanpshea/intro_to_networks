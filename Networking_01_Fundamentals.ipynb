{
  "nbformat": 4,
  "nbformat_minor": 0,
  "metadata": {
    "colab": {
      "provenance": [],
      "authorship_tag": "ABX9TyPs0qGLEXa7ctHSXKdXnHZ0",
      "include_colab_link": true
    },
    "kernelspec": {
      "name": "python3",
      "display_name": "Python 3"
    },
    "language_info": {
      "name": "python"
    }
  },
  "cells": [
    {
      "cell_type": "markdown",
      "metadata": {
        "id": "view-in-github",
        "colab_type": "text"
      },
      "source": [
        "<a href=\"https://colab.research.google.com/github/brendanpshea/intro_to_networks/blob/main/Networking_01_Fundamentals.ipynb\" target=\"_parent\"><img src=\"https://colab.research.google.com/assets/colab-badge.svg\" alt=\"Open In Colab\"/></a>"
      ]
    },
    {
      "cell_type": "markdown",
      "source": [
        "# Chapter 1: Understanding the OSI Network Model\n",
        "## Breaking Down Network Communications\n",
        "\n",
        "Have you ever wondered how your message travels from your smartphone to a friend halfway across the world? Or how millions of devices can communicate simultaneously across the internet without descending into chaos? Computer networking may seem like magic, but it's actually a carefully orchestrated symphony of protocols and processes, each playing its part in the grand performance of digital communication.\n",
        "\n",
        "In this chapter, we'll demystify the fundamental framework that makes modern networking possible: the **Open Systems Interconnection (OSI)** model. Think of it as the blueprint that network engineers use to understand, troubleshoot, and build the networks we rely on every day. By breaking down network communications into seven distinct layers, the OSI model helps us manage the complexity of modern networking one piece at a time.\n",
        "\n",
        "## Chapter Case Study: The Scooby-Doo Detective Agency Goes Digital\n",
        "\n",
        "Follow along with the Scooby Gang as they modernize their detective agency with a new networked case management system. When mysterious network issues start affecting their investigations, they'll need to understand each layer of the OSI model to solve these digital mysteries. From Velma troubleshooting physical layer interference to Fred analyzing TCP connection attempts, each member of the team discovers how networking knowledge directly impacts their ability to solve cases efficiently.\n",
        "\n",
        "Throughout the chapter, we'll see how the gang applies networking concepts to real-world challenges:\n",
        "- Setting up secure connections between their main office and new satellite location\n",
        "- Ensuring reliable transmission of sensitive case files\n",
        "- Troubleshooting video conferencing issues with remote witnesses\n",
        "- Protecting their network from potential security threats\n",
        "\n",
        "## Learning Outcomes\n",
        "\n",
        "After completing this chapter, you will be able to:\n",
        "\n",
        "1. Explain the purpose and structure of the OSI model in network communications\n",
        "2. Identify and describe the function of each OSI layer from Physical to Application\n",
        "3. Analyze how data is encapsulated and decapsulated as it moves through the network layers\n",
        "4. Use common networking tools (ip link, tcpdump, traceroute) to examine network behavior\n",
        "5. Troubleshoot common networking issues by identifying which OSI layer is affected\n",
        "6. Compare and contrast the characteristics of TCP and UDP protocols\n",
        "7. Explain how MAC addresses, IP addresses, and ports work together in network communication\n",
        "8. Demonstrate understanding of fundamental networking concepts such as MTU, checksums, and packet structure\n",
        "9. Interpret network packet captures to understand protocol behavior\n",
        "10. Apply OSI model concepts to solve real-world networking challenges\n",
        "\n",
        "## Keywords\n",
        "\n",
        "OSI Model, encapsulation, TCP/IP, MAC address, IP address, ports, packets, frames, protocol, network layer, transport layer, physical layer, data link layer, presentation layer, session layer, application layer, UDP, TCP, MTU, checksum, routing, switching, network interface, traceroute, tcpdump, handshake, payload, headers, flags, SYN, ACK, FIN, RST."
      ],
      "metadata": {
        "id": "uPioPQM1GmnM"
      }
    },
    {
      "cell_type": "markdown",
      "source": [
        "## Layer 1: The Physical Layer\n",
        "\n",
        "At its most fundamental level, all network communication consists of electrical signals, light pulses, or radio waves. The **Physical Layer** serves as the foundation of network communications, dealing with these raw physical elements of data transmission. Think of it as the actual road system in a delivery network - the concrete, asphalt, and physical infrastructure that makes movement possible.\n",
        "\n",
        "Understanding the Physical Layer is crucial because it defines the basic building blocks that make all higher-level network functions possible. When network engineers talk about \"signal degradation,\" \"noise interference,\" or \"bandwidth limitations,\" they're discussing Physical Layer concerns. This layer handles questions like: How do we represent a binary 1 or 0 in an electrical signal? How do we ensure a signal can travel 100 meters without degrading? How do we handle interference from other nearby cables?\n",
        "\n",
        "> **Real-World Example**: The Scooby Team is setting up their new detective agency office network, and they've encountered their first mystery: intermittent network connections.\n",
        ">\n",
        "> \"Zoinks! Like, the internet keeps cutting out whenever someone uses the microwave!\" Shaggy complains, trying to upload evidence photos.\n",
        ">\n",
        "> Velma, already investigating the wiring closet, emerges with a dusty cable. \"Just as I suspected. Look at how this network cable runs right alongside the electrical conduit for the break room. That's a Physical Layer problem - electromagnetic interference.\"\n",
        ">\n",
        "> \"But like, we used the expensive cables you recommended!\" Shaggy protests.\n",
        ">\n",
        "> \"Yes, but even Cat 6 cables have limitations,\" Velma explains, sketching a quick diagram. \"See, at the Physical Layer, we're dealing with actual electrical signals. When we run network cables too close to power lines, the electrical interference can corrupt our data transmission. Think of it like trying to hear someone whisper in a noisy room. We need to either move the cable or install shielded cable instead.\"\n",
        ">\n",
        "> Fred nods thoughtfully. \"So that's why the networking standards specify minimum distances from electrical sources?\"\n",
        ">\n",
        "> \"Exactly! Physical Layer specifications help us avoid these kinds of problems.\"\n",
        "\n",
        "Common Physical Layer technologies include:\n",
        "\n",
        "| Technology | Maximum Speed | Maximum Distance | Common Use Case |\n",
        "|------------|---------------|------------------|-----------------|\n",
        "| Cat 6 UTP | 10 Gbps | 55 meters | Office networks |\n",
        "| Fiber Optic | 100+ Gbps | Several kilometers | Backbone connections |\n",
        "| Wi-Fi 6 | 9.6 Gbps | ~30 meters | Wireless networks |\n"
      ],
      "metadata": {
        "id": "1OzSZ_VpIQkw"
      }
    },
    {
      "cell_type": "markdown",
      "source": [
        "## Layer 2: The Data Link Layer\n",
        "\n",
        "If the Physical Layer is like a road system, the **Data Link Layer** is like the basic rules of driving - staying in your lane, following traffic signals, and avoiding collisions. This layer transforms the raw bit transmission of the Physical Layer into something more reliable and organized. It's the first layer that actually brings some intelligence to data transmission, organizing raw bits into structured \"frames\" of data and implementing basic protocols for controlling access to the physical medium.\n",
        "\n",
        "The Data Link Layer solves fundamental problems like: How do devices share a single network cable without interfering with each other? How can we detect if data was corrupted during transmission? How do we identify different devices on the same physical network? These capabilities make it possible for multiple devices to share network resources efficiently and reliably.\n",
        "\n",
        "> **Real-World Example**: Back at the detective agency, the gang is setting up a new network switch for their growing team.\n",
        ">\n",
        "> \"Check this out, gang,\" Fred says, pointing to the switch's interface. \"Every device connected to our network has what's called a MAC address. It's like a license plate for network devices.\"\n",
        ">\n",
        "> Daphne peers at her laptop's network settings. \"So that's why my laptop's MAC address is different from Velma's, even though we have the same model?\"\n",
        ">\n",
        "> \"Exactly!\" Velma jumps in. \"Every network interface gets a unique MAC address during manufacturing. When I send case files to our network printer, the Data Link Layer uses these addresses like addresses on an envelope, making sure the data frames get to the right device on our local network.\"\n",
        ">\n",
        "> \"Like, wow,\" Shaggy adds, watching the switch's LED lights blink. \"So it's kind of like each computer has its own mailbox?\"\n",
        ">\n",
        "> \"That's a great analogy, Shaggy! And just like a real mailbox, the Data Link Layer also makes sure our data isn't damaged during delivery. If a frame gets corrupted, it requests retransmission automatically.\"\n",
        "\n",
        "Important concepts at this level include:\n",
        "\n",
        "- **MAC Addresses**: Unique physical addresses assigned to network interfaces\n",
        "- **Frame Structure**: Organizing data into frames with headers and error-checking\n",
        "- **Error Detection**: Identifying and potentially correcting transmission errors\n",
        "- **Flow Control**: Managing the rate of data transmission between nodes\n",
        "- **Media Access Control**: Determining when devices can transmit on shared media\n",
        "\n",
        "The Data Link Layer is often subdivided into two sublayers:\n",
        "1. **Logical Link Control (LLC)**: Handles flow control and error checking\n",
        "2. **Media Access Control (MAC)**: Manages access to the shared physical medium\n"
      ],
      "metadata": {
        "id": "ibk6CSjPGrhT"
      }
    },
    {
      "cell_type": "markdown",
      "source": [
        "## Layer 3: The Network Layer\n",
        "\n",
        "While the Data Link Layer handles communication between directly connected devices, the **Network Layer** extends this connectivity across different networks, potentially spanning the globe. Think of it as adding the postal system to our previous road analogy - now we need to worry about not just local delivery, but routing packages between cities and countries.\n",
        "\n",
        "The Network Layer introduces the concept of logical addressing (most commonly IP addresses) and routing. Unlike MAC addresses, which are tied to specific hardware, IP addresses can be assigned and changed as needed to create logical network organizations. This flexibility makes it possible to build large, complex networks and handle the dynamic nature of internet routing.\n",
        "\n",
        "This layer's key responsibilities include:\n",
        "\n",
        "- **IP Addressing**: Assigning and managing logical addresses (IPv4/IPv6)\n",
        "- **Routing**: Determining the best path for packets across networks\n",
        "- **Packet Forwarding**: Moving packets between different networks\n",
        "- **Fragmentation**: Breaking large packets into smaller ones when necessary\n",
        "\n",
        "The most well-known Network Layer protocol is the **Internet Protocol (IP)**, which comes in two main versions:\n",
        "- **IPv4**: Uses 32-bit addresses (e.g., 192.168.1.1)\n",
        "- **IPv6**: Uses 128-bit addresses (e.g., 2001:0db8:85a3:0000:0000:8a2e:0370:7334)\n",
        "\n",
        "> **Real-World Example**: The Scooby Team's detective agency is expanding, opening a new satellite office across town.\n",
        ">\n",
        "> \"Like, Velma, I'm confused,\" Shaggy says, staring at the network diagram. \"How will the computers in our new office find our database server here in the main office?\"\n",
        ">\n",
        "> \"Excellent question!\" Velma pulls out her tablet and opens a network visualization tool. \"Remember how we talked about MAC addresses before? Well, those only work for devices on the same local network. For communication between offices, we need Layer 3 addressing - specifically, IP addresses.\"\n",
        ">\n",
        "> She draws a quick sketch showing the two offices. \"See, we'll assign each office its own range of IP addresses. Our main office will use 192.168.1.x, and the new office will use 192.168.2.x. The routers will use these addresses like a map, figuring out the best path for data to travel between offices.\"\n",
        ">\n",
        "> Fred scratches his head. \"But what if we open more offices? Or need to work from home?\"\n",
        ">\n",
        "> \"That's the beauty of the Network Layer!\" Velma enthuses. \"IP addressing is hierarchical and flexible. We can keep adding new networks and the routers will automatically learn how to reach them. It's like having a GPS system for our data!\"\n"
      ],
      "metadata": {
        "id": "lvzS6yr3GvJL"
      }
    },
    {
      "cell_type": "markdown",
      "source": [
        "## Layer 4: The Transport Layer\n",
        "\n",
        "Imagine you're sending a large package across the country, but it's too big to ship as a single unit. You'd need to break it into smaller boxes, make sure each one arrives safely, and ensure they're reassembled in the correct order at the destination. This is essentially what the Transport Layer does with network communications. The **Transport Layer** serves as the crucial bridge between the basic network services and the higher-level application functions, ensuring that data reaches its destination accurately and efficiently.\n",
        "\n",
        "This layer introduces one of the most fundamental concepts in networking: the distinction between connection-oriented and connectionless communication. Think of it like the difference between a phone call and sending a letter. A phone call (like TCP) establishes a dedicated connection and ensures both parties are ready to communicate, while a letter (like UDP) is simply sent out with hope it reaches its destination. Both methods have their place in modern networking, and understanding when to use each is crucial for building efficient network applications.\n",
        "\n",
        "- **Transmission Control Protocol (TCP)**: Provides reliable, ordered, and error-checked delivery\n",
        "- **User Datagram Protocol (UDP)**: Offers fast, connectionless delivery without guaranteed reliability\n",
        "\n",
        "Key Transport Layer functions include:\n",
        "- **Port Numbers**: Identifying specific applications and services\n",
        "- **Segmentation**: Breaking data into manageable chunks\n",
        "- **Flow Control**: Preventing sender from overwhelming receiver\n",
        "- **Error Recovery**: Detecting and retransmitting lost segments\n",
        "\n",
        "\n",
        "> **Real-World Example**: At the Scooby Detective Agency, Velma is setting up their new case management system. The gang has been struggling with lost case files and mixed-up evidence photos in their database.\n",
        ">\n",
        "> \"Like, Velma, I don't get it,\" Shaggy scratches his head, looking at the network diagram. \"Sometimes our uploads work perfectly, and other times they're all scrambled up!\"\n",
        ">\n",
        "> \"That's because we're using the wrong transport protocol,\" Velma explains, adjusting her glasses. \"Think of it like organizing our evidence boxes. When we ship regular mail to clients, a few delayed or out-of-order letters aren't a huge problem. That's like UDP - fast but not guaranteed. But with case files, we need everything in perfect order, like having a dedicated courier who confirms delivery of each piece of evidence. That's what TCP does for us.\"\n",
        ">\n",
        "> Fred nods in understanding. \"So for our database connections, we'll use TCP to ensure all case details are transmitted reliably and in order. But for our security camera feeds, we can use UDP since it's faster and a few dropped frames won't matter much.\"\n"
      ],
      "metadata": {
        "id": "V-smSFpNJzN7"
      }
    },
    {
      "cell_type": "markdown",
      "source": [
        "## Layer 5: The Session Layer\n",
        "\n",
        "Communication in modern networks is rarely as simple as sending a single message. Instead, applications often need to maintain ongoing conversations, tracking multiple exchanges of information over time. The **Session Layer** acts like a sophisticated conversation coordinator, managing these complex dialogues between applications.\n",
        "\n",
        "Consider what happens when you're conducting a video call while simultaneously sharing files and using a chat window. Each of these activities represents a different session, and they all need to be managed independently yet cohesively. The Session Layer handles this orchestration, ensuring that if your file transfer is interrupted, it doesn't affect your video call, and you can resume the transfer from where it left off rather than starting over.\n",
        "\n",
        "This layer introduces the concept of dialog control, determining which party can transmit at any given time - similar to how a moderator might manage speakers in a debate. This becomes particularly important in situations where both parties shouldn't transmit simultaneously to avoid confusion or data corruption.\n",
        "\n",
        "\n",
        "| Session Layer Function | Purpose | Example |\n",
        "|----------------------|----------|----------|\n",
        "| Authentication | Verify identity | Login sessions |\n",
        "| Authorization | Control access | Permission checks |\n",
        "| Session Restoration | Resume interrupted sessions | Recovery points |\n",
        "\n",
        "> **Real-World Example**: The Scooby gang is implementing a new system for retrieving high quality video interview of suspects from a remote server. Daphne takes the lead on setting up the software.\n",
        ">\n",
        "> \"This is giving me a headache,\" Fred complains after another failed download. \"We lost the connection halfway through, and now we have to start the download over!\"\n",
        ">\n",
        "> \"Not necessarily,\" Daphne responds, pulling up the session settings. \"See, our software uses session layer checkpointing. Think of it like placing bookmarks in a mystery novel - if we get interrupted, we can pick up right where we left off.\"\n",
        ">\n",
        "> She demonstrates by configuring the checkpointing interval. \"Now it'll save our progress every five minutes. If the connection drops, we can resume from the last checkpoint instead of starting over. It's like having a save point in a video game!\"\n",
        ">\n",
        "> Shaggy brightens up. \"Like, wow! That would have saved us so much time with the Miner Forty-Niner case last week!\""
      ],
      "metadata": {
        "id": "YZFw9BEaKHxC"
      }
    },
    {
      "cell_type": "markdown",
      "source": [
        "## Presentation Layer\n",
        "\n",
        "The **Presentation Layer** serves as the network's universal translator, ensuring that information remains meaningful as it moves between different systems. In our increasingly interconnected world, this layer's importance cannot be overstated. Consider trying to read a document written in a different language - not only do you need to understand the individual words, but you also need to know the character encoding, formatting, and cultural context. The Presentation Layer handles similar challenges in the digital realm.\n",
        "\n",
        "Key responsibilities include:\n",
        "\n",
        "- **Data Translation**: Converting between different formats\n",
        "- **Encryption/Decryption**: Protecting data confidentiality\n",
        "- **Compression**: Reducing data size for transmission\n",
        "- **Character Code Translation**: Converting between character encoding systems\n",
        "\n",
        "Common Presentation Layer standards include:\n",
        "- **ASCII/Unicode**: Character encoding\n",
        "- **JPEG/GIF/PNG**: Image formats\n",
        "- **SSL/TLS**: Encryption protocols\n",
        "\n",
        "This layer becomes particularly crucial when dealing with international communications or when connecting different types of systems. For example, when your modern web browser connects to a legacy banking system, the Presentation Layer handles the critical task of translating data formats between the two systems, ensuring that your account balance appears as actual numbers rather than raw binary data.\n",
        "\n",
        "> **Real-World Example**: At the Scooby Detective Agency, the team is struggling with a puzzling case involving international clients and evidence files from different systems.\n",
        ">\n",
        "> \"I don't understand,\" Fred frowns at his screen. \"The surveillance photos from our client in Japan are just showing up as gibberish.\"\n",
        ">\n",
        "> \"Like, man, and the measurements in their report are all wrong!\" Shaggy adds. \"It says the suspect is 170 units tall. What does that even mean?\"\n",
        ">\n",
        "> Velma adjusts her glasses with a knowing smile. \"Ah, we're dealing with classic Presentation Layer issues. First, their system is using a different character encoding for the image metadata - probably Shift-JIS instead of UTF-8. And those measurements? Their system is recording in centimeters while ours expects inches.\"\n",
        ">\n",
        "> She begins configuring their case management software. \"The Presentation Layer handles all these conversions automatically when set up correctly. Think of it like having a universal translator. It can handle differences in:\n",
        "> - Character encodings\n",
        "> - Data formats\n",
        "> - Encryption systems\n",
        "> - Image and media formats\n",
        ">\n",
        "> \"Watch this,\" she demonstrates, adjusting the settings. Suddenly, the photos display correctly, complete with readable Japanese metadata, and the measurements automatically convert to inches. \"Now our systems can talk to each other seamlessly!\"\n",
        "\n",
        "The need for the Presentation Layer has become increasingly crucial in our interconnected world. Consider how many different types of devices and systems you interact with daily - Windows PCs, Macs, smartphones, IoT devices - each potentially using different internal data formats. The Presentation Layer's ability to handle these translations transparently is what makes this diverse ecosystem work together seamlessly.\n",
        "\n",
        "Here's a simple example of data encoding:\n"
      ],
      "metadata": {
        "id": "lAu9AcNSKbqh"
      }
    },
    {
      "cell_type": "code",
      "source": [
        "# Example of presentation layer encoding\n",
        "message = \"Scooby Doo\"\n",
        "\n",
        "# Convert to bytes and encode in base64\n",
        "encoded = message.encode('utf-8').hex()\n",
        "print(f\"Original: {message}\")\n",
        "print(f\"Encoded: {encoded}\")"
      ],
      "metadata": {
        "colab": {
          "base_uri": "https://localhost:8080/"
        },
        "id": "xjyNYrX3LeqP",
        "outputId": "25e7424e-69cb-44d7-978a-b89294c4d26b"
      },
      "execution_count": null,
      "outputs": [
        {
          "output_type": "stream",
          "name": "stdout",
          "text": [
            "Original: Scooby Doo\n",
            "Encoded: 53636f6f627920446f6f\n"
          ]
        }
      ]
    },
    {
      "cell_type": "markdown",
      "source": [
        "## Layer 7: The Application Layer\n",
        "\n",
        "At last, we reach the layer that users actually interact with - the **Application Layer**. This topmost layer is where all the familiar networking applications and protocols operate: web browsers, email clients, file transfer tools, and messaging apps. While end users never need to think about the lower layers (just as you don't think about the engine when steering a car), everything they do at the Application Layer depends on the services provided by the layers below.\n",
        "\n",
        "The Application Layer provides protocols and services that directly serve end-user applications, including:\n",
        "- **HTTP/HTTPS**: Web browsing\n",
        "- **FTP/SFTP**: File transfer\n",
        "- **SMTP/IMAP/POP3**: Email\n",
        "- **DNS**: Domain name resolution\n",
        "- **SSH**: Secure remote access\n",
        "- **DHCP**: Automatic network configuration\n",
        "\n",
        "> **Real-World Example**: The Scooby Gang is modernizing their detective agency with a new web-based case management system.\n",
        ">\n",
        "> \"Okay, gang,\" Fred announces during a team meeting. \"Our new system will let us access case files from anywhere, but we need to make sure it's secure. Velma, can you explain how this works?\"\n",
        ">\n",
        "> Velma brings up a diagram on the projector. \"Of course! Let's follow what happens when Daphne logs into our case management system from her laptop at a client site.\"\n",
        ">\n",
        "> She draws a series of steps on the whiteboard:\n",
        "> 1. \"First, Daphne's laptop uses DNS (Domain Name System) to find our server's IP address - like looking up our address in a phone book.\"\n",
        "> 2. \"Then her browser establishes a secure HTTPS connection - think of it as a private, encrypted tunnel to our server.\"\n",
        "> 3. \"The server uses SMTP to send her a login verification code via email.\"\n",
        "> 4. \"Once she's in, the system uses HTTPS to serve web pages and FTP to handle file uploads.\"\n",
        ">\n",
        "> \"Like, that's a lot of different protocols!\" Shaggy observes.\n",
        ">\n",
        "> \"Exactly!\" Velma agrees. \"The Application Layer is where all these high-level protocols work together to create the seamless experience users expect. Each protocol is specialized for a specific task, but they all rely on the lower layers to handle the actual data transmission.\"\n",
        "\n",
        "\n"
      ],
      "metadata": {
        "id": "LJWirfbnLFf_"
      }
    },
    {
      "cell_type": "markdown",
      "source": [
        "## Pulling It All Together: The OSI Model in Action\n",
        "\n",
        "Now that we've explored all seven layers, let's follow a typical network interaction through the entire stack. Imagine Daphne is uploading evidence photos to the case management system:\n",
        "\n",
        "1. **Application Layer**: The web browser prepares the HTTP upload request\n",
        "2. **Presentation Layer**: The images are compressed and encrypted\n",
        "3. **Session Layer**: Maintains the authenticated session with the server\n",
        "4. **Transport Layer**: TCP ensures reliable delivery of the files\n",
        "5. **Network Layer**: IP routing gets the data to the server\n",
        "6. **Data Link Layer**: Ethernet handles local network transmission\n",
        "7. **Physical Layer**: The actual signals travel across network cables\n",
        "\n",
        "Understanding this layered approach helps tremendously with network troubleshooting. By identifying which layer is causing an issue, we can focus our efforts appropriately:\n",
        "- Can't reach any websites? Check Network Layer (IP configuration)\n",
        "- Files corrupted during transfer? Check Presentation Layer settings\n",
        "- Connection keeps dropping? Might be a Session Layer problem\n",
        "- Can't connect to the network at all? Start with the Physical Layer\n",
        "\n",
        "Remember, while the OSI model may seem abstract, its principles are reflected in every network interaction you make. Whether you're browsing the web, sending an email, or video chatting, all seven layers are working together to make it happen."
      ],
      "metadata": {
        "id": "IqtdkEXlL_Ie"
      }
    },
    {
      "cell_type": "markdown",
      "source": [
        "## Introduction to tcpdump: A Network Detective's Tool\n",
        "tcpdump is like a detective's magnifying glass for network traffic. Just as detectives examine evidence at a crime scene, tcpdump lets us capture and examine packets (pieces of data) traveling across a network. It's a powerful command-line tool that helps us understand network communication.\n",
        "\n",
        "### Basic Syntax\n",
        "The basic structure of a tcpdump command is:\n",
        "```bash\n",
        "tcpdump [options] [filters]\n",
        "```\n",
        "\n",
        "When working with a capture file (like our detective agency example):\n",
        "```bash\n",
        "# Read from our captured file instead of live network\n",
        "tcpdump -r detective_agency.pcap\n",
        "\n",
        "# Make it more readable by not converting addresses to names\n",
        "tcpdump -r detective_agency.pcap -n\n",
        "\n",
        "# Limit output to 5 packets to avoid overwhelming output\n",
        "tcpdump -r detective_agency.pcap -n -c 5\n",
        "```\n",
        "\n",
        "Let's explore our detective agency's network traffic layer by layer. Our PCAP file contains traffic from detectives' workstations, their database access, and external connections.\n"
      ],
      "metadata": {
        "id": "-AylnwWKWbKm"
      }
    },
    {
      "cell_type": "code",
      "source": [
        "# You must run this cell to install tcpdump\n",
        "# and to download sample \"packet capture file\"\n",
        "# Get ready for network analysis\n",
        "!apt install tcpdump > /dev/null\n",
        "!wget \"https://github.com/brendanpshea/intro_to_networks/raw/main/pcaps/detective_agency.pcap\" -q -nc"
      ],
      "metadata": {
        "colab": {
          "base_uri": "https://localhost:8080/"
        },
        "id": "85NRs-2nW7mX",
        "outputId": "12093659-a2c1-45c1-a533-7d7d9478a818"
      },
      "execution_count": 4,
      "outputs": [
        {
          "output_type": "stream",
          "name": "stdout",
          "text": [
            "\n",
            "WARNING: apt does not have a stable CLI interface. Use with caution in scripts.\n",
            "\n"
          ]
        }
      ]
    },
    {
      "cell_type": "markdown",
      "source": [
        "### Layer 2 (Data Link Layer - The Physical Address Layer)\n"
      ],
      "metadata": {
        "id": "sZkXe87-XrST"
      }
    },
    {
      "cell_type": "code",
      "source": [
        "%%bash\n",
        "# See conversations at the ethernet (MAC address) level\n",
        "# -r: read from our capture file\n",
        "# -e: show ethernet header info (MAC addresses)\n",
        "# -n: don't convert addresses to names (show raw data)\n",
        "# -c 5: only show 5 packets\n",
        "tcpdump -r detective_agency.pcap -e -n -c 10"
      ],
      "metadata": {
        "colab": {
          "base_uri": "https://localhost:8080/"
        },
        "id": "VTyvv_A1XsUv",
        "outputId": "f2ea4906-f1d8-4bd2-ee3a-14f03fb69128"
      },
      "execution_count": 7,
      "outputs": [
        {
          "output_type": "stream",
          "name": "stdout",
          "text": [
            "17:25:47.560786 00:1b:2c:3d:4e:5f > ff:ff:ff:ff:ff:ff, ethertype ARP (0x0806), length 42: Request who-has 192.168.1.1 tell 192.168.1.10, length 28\n",
            "17:25:47.660786 00:1a:2b:3c:4d:5e > 00:1b:2c:3d:4e:5f, ethertype ARP (0x0806), length 42: Reply 192.168.1.1 is-at 00:1a:2b:3c:4d:5e, length 28\n",
            "17:25:47.760786 00:1c:2d:3e:4f:6a > ff:ff:ff:ff:ff:ff, ethertype ARP (0x0806), length 42: Request who-has 192.168.1.1 tell 192.168.1.11, length 28\n",
            "17:25:47.860786 00:1a:2b:3c:4d:5e > 00:1c:2d:3e:4f:6a, ethertype ARP (0x0806), length 42: Reply 192.168.1.1 is-at 00:1a:2b:3c:4d:5e, length 28\n",
            "17:25:47.960786 00:1d:2e:3f:4f:6b > ff:ff:ff:ff:ff:ff, ethertype ARP (0x0806), length 42: Request who-has 192.168.1.1 tell 192.168.1.12, length 28\n",
            "17:25:48.060786 00:1a:2b:3c:4d:5e > 00:1d:2e:3f:4f:6b, ethertype ARP (0x0806), length 42: Reply 192.168.1.1 is-at 00:1a:2b:3c:4d:5e, length 28\n",
            "17:25:48.160786 00:1e:2f:3f:4f:6c > ff:ff:ff:ff:ff:ff, ethertype ARP (0x0806), length 42: Request who-has 192.168.1.1 tell 192.168.1.13, length 28\n",
            "17:25:48.260786 00:1a:2b:3c:4d:5e > 00:1e:2f:3f:4f:6c, ethertype ARP (0x0806), length 42: Reply 192.168.1.1 is-at 00:1a:2b:3c:4d:5e, length 28\n",
            "17:25:48.360786 00:1f:2f:3f:4f:6d > ff:ff:ff:ff:ff:ff, ethertype ARP (0x0806), length 42: Request who-has 192.168.1.1 tell 192.168.1.14, length 28\n",
            "17:25:48.460786 00:1a:2b:3c:4d:5e > 00:1f:2f:3f:4f:6d, ethertype ARP (0x0806), length 42: Reply 192.168.1.1 is-at 00:1a:2b:3c:4d:5e, length 28\n"
          ]
        },
        {
          "output_type": "stream",
          "name": "stderr",
          "text": [
            "reading from file detective_agency.pcap, link-type EN10MB (Ethernet), snapshot length 65535\n"
          ]
        }
      ]
    },
    {
      "cell_type": "markdown",
      "source": [
        "This sample output shows ARP (Address Resolution Protocol) conversations. For example:\n",
        "\n",
        "- Time: 17:25:47.560786\n",
        "- Source MAC: 00:1b:2c:3d:4e:5f (device asking question)\n",
        "- Destination MAC: ff:ff:ff:ff:ff:ff (broadcast to everyone)\n",
        "- Protocol: ARP (0x0806)\n",
        "- Message: Device 192.168.1.10 asking \"who has IP 192.168.1.1?\"\n",
        "- Size: 42 bytes total packet, 28 bytes ARP content"
      ],
      "metadata": {
        "id": "pWHVHR4UZsrX"
      }
    },
    {
      "cell_type": "markdown",
      "source": [
        "### Layer 3 (Network Layer - The IP Address Layer)\n"
      ],
      "metadata": {
        "id": "x9yQOcjWXrlM"
      }
    },
    {
      "cell_type": "code",
      "source": [
        "%%bash\n",
        "# Watch IP addresses communicate\n",
        "# -n: don't convert addresses to names\n",
        "# 'ip': only show IP packets\n",
        "# -c 5: limit to 5 packets\n",
        "tcpdump -r detective_agency.pcap -n 'ip' -c 15"
      ],
      "metadata": {
        "colab": {
          "base_uri": "https://localhost:8080/"
        },
        "id": "PYZb5WBPYhI9",
        "outputId": "2bee6c30-a31f-4f46-9a70-a4b8b59415a6"
      },
      "execution_count": 11,
      "outputs": [
        {
          "output_type": "stream",
          "name": "stdout",
          "text": [
            "17:25:48.760786 IP 0.0.0.0.68 > 255.255.255.255.67: BOOTP/DHCP, Request from 30:30:31:42:32:43, length 244\n",
            "17:25:48.860786 IP 0.0.0.0.68 > 255.255.255.255.67: BOOTP/DHCP, Request from 30:30:31:43:32:44, length 244\n",
            "17:25:48.960786 IP 0.0.0.0.68 > 255.255.255.255.67: BOOTP/DHCP, Request from 30:30:31:44:32:45, length 244\n",
            "17:25:49.060786 IP 0.0.0.0.68 > 255.255.255.255.67: BOOTP/DHCP, Request from 30:30:31:45:32:46, length 244\n",
            "17:25:49.160786 IP 0.0.0.0.68 > 255.255.255.255.67: BOOTP/DHCP, Request from 30:30:31:46:32:46, length 244\n",
            "17:25:49.260786 IP 0.0.0.0.68 > 255.255.255.255.67: BOOTP/DHCP, Request from 30:30:32:41:33:42, length 244\n",
            "17:25:49.360786 IP 192.168.1.10.61163 > 8.8.8.8.53: 0+ A? client_portal.detective-agency.com. (52)\n",
            "17:25:49.460786 IP 192.168.1.10.60903 > 8.8.8.8.53: 0+ A? email_server.detective-agency.com. (51)\n",
            "17:25:49.560786 IP 192.168.1.10.59360 > 8.8.8.8.53: 0+ A? cloud_storage.detective-agency.com. (52)\n",
            "17:25:49.660786 IP 192.168.1.10.54440 > 8.8.8.8.53: 0+ A? case_database.detective-agency.com. (52)\n",
            "17:25:49.760786 IP 192.168.1.10.64982 > 8.8.8.8.53: 0+ A? surveillance_feed.detective-agency.com. (56)\n",
            "17:25:49.860786 IP 192.168.1.11.63896 > 203.0.113.10.443: Flags [S], seq 1000, win 8192, length 0\n",
            "17:25:49.960786 IP 203.0.113.10.443 > 192.168.1.11.63896: Flags [S.], seq 2000, ack 1001, win 8192, length 0\n",
            "17:25:50.060786 IP 192.168.1.11.63896 > 203.0.113.10.443: Flags [.], ack 1, win 8192, length 0\n",
            "17:25:50.160786 IP 192.168.1.11.63896 > 203.0.113.10.443: Flags [P.], seq 1:54, ack 1, win 8192, length 53\n"
          ]
        },
        {
          "output_type": "stream",
          "name": "stderr",
          "text": [
            "reading from file detective_agency.pcap, link-type EN10MB (Ethernet), snapshot length 65535\n"
          ]
        }
      ]
    },
    {
      "cell_type": "markdown",
      "source": [
        "This shows DHCP requests and DNS queries. For example: :\n",
        "- Time: 17:25:48.760786\n",
        "- Source IPs: 0.0.0.0 (device requesting IP address--it doesn't have one yet!). Later lines have full ip addresses.\n",
        "- Destination IPs: 255.255.255.255 (broadcast to all devices), 8.8.8.8 is Google's DNS Server)\n",
        "- Protocol: BOOTP/DHCP (asking for network configuration) in the first few rows. Later rows communicate with other devices.\n",
        "- Size: 244 bytes, 52, etc."
      ],
      "metadata": {
        "id": "pF2Xa5FrZ1_w"
      }
    },
    {
      "cell_type": "markdown",
      "source": [
        "### Layer 4 (Transport Layer - The Connection Layer)"
      ],
      "metadata": {
        "id": "QHn69aVIY8t3"
      }
    },
    {
      "cell_type": "code",
      "source": [
        "%%bash\n",
        "# Watch TCP connections start\n",
        "# -n: don't convert addresses\n",
        "# 'tcp[tcpflags] & (tcp-syn) != 0': only show connection attempts\n",
        "# -c 5: limit to 5 packets\n",
        "tcpdump -r detective_agency.pcap -n 'tcp[tcpflags] & (tcp-syn) != 0' -c 5"
      ],
      "metadata": {
        "colab": {
          "base_uri": "https://localhost:8080/"
        },
        "id": "vkwI9Tx9Y_vO",
        "outputId": "0cc37642-12f2-446a-a3f4-8b78a49760da"
      },
      "execution_count": 9,
      "outputs": [
        {
          "output_type": "stream",
          "name": "stdout",
          "text": [
            "17:25:49.860786 IP 192.168.1.11.63896 > 203.0.113.10.443: Flags [S], seq 1000, win 8192, length 0\n",
            "17:25:49.960786 IP 203.0.113.10.443 > 192.168.1.11.63896: Flags [S.], seq 2000, ack 1001, win 8192, length 0\n",
            "17:25:50.260786 IP 192.168.1.12.51966 > 203.0.113.10.443: Flags [S], seq 1000, win 8192, length 0\n",
            "17:25:50.360786 IP 203.0.113.10.443 > 192.168.1.12.51966: Flags [S.], seq 2000, ack 1001, win 8192, length 0\n",
            "17:25:52.460786 IP 192.168.1.11.55538 > 203.0.113.10.80: Flags [S], seq 0:46, win 8192, length 46: HTTP: GET / HTTP/1.1\n"
          ]
        },
        {
          "output_type": "stream",
          "name": "stderr",
          "text": [
            "reading from file detective_agency.pcap, link-type EN10MB (Ethernet), snapshot length 65535\n"
          ]
        }
      ]
    },
    {
      "cell_type": "markdown",
      "source": [
        "This output shows TCP connection establishment. For example:\n",
        "- Time: 17:25:49.860786\n",
        "- Source: Detective workstation (192.168.1.11) port 63896\n",
        "- Destination: External server (203.0.113.10) port 443 (HTTPS)\n",
        "- Flags [S]: SYN flag (starting connection)\n",
        "- Window size: 8192 (amount of data it can receive)\n",
        "- Sequence: 1000 (initial sequence number)"
      ],
      "metadata": {
        "id": "CiJs-iIqZncg"
      }
    },
    {
      "cell_type": "markdown",
      "source": [
        "## Encapsulation and Decapsulation Throught the Network Layers\n",
        "\n",
        "**Data encapsulation** is the process of wrapping data with header information as it moves down the OSI layers, preparing it for transmission across the network. Conversely, **decapsulation** is the process of removing these headers as the data moves up the OSI layers at the receiving end.\n",
        "\n",
        "Think of each header as a specialized envelope containing specific instructions for handling that layer's responsibilities. Each layer adds its own header (and sometimes a trailer) to the data, treating everything it receives from the layer above as pure payload, without concerning itself with the contents.\n",
        "\n",
        "> **Real-World Example**: At the Scooby Detective Agency, Velma is explaining their new secure file transfer system to the team.\n",
        ">\n",
        "> \"Like, I don't get it,\" Shaggy scratches his head, looking at a network packet capture. \"Why does our evidence photo have all this extra stuff around it?\"\n",
        ">\n",
        "> Velma pulls out a set of Russian nesting dolls from her desk. \"Let me demonstrate with these. Imagine our photo is the smallest doll. When we send it across the network, each layer adds its own 'doll' around it, each with specific information.\"\n",
        ">\n",
        "> She begins nesting the dolls: \"The Application Layer wraps the photo with information about its format. The Transport Layer adds port numbers in its doll. The Network Layer adds IP addresses in an even bigger doll. And finally, the Data Link Layer adds MAC addresses in the largest doll.\"\n",
        ">\n",
        "> \"So when it reaches the other end...\" Fred begins.\n",
        ">\n",
        "> \"Exactly!\" Velma finishes. \"The recipient unpacks each doll in reverse order, using the information in each layer to properly handle the data, until they finally get to our original photo.\"\n"
      ],
      "metadata": {
        "id": "RBERgbAiMuM7"
      }
    },
    {
      "cell_type": "markdown",
      "source": [
        "## Ethernet Header: The First Wrapper\n",
        "\n",
        "The **Ethernet header** is added by the Data Link Layer and serves as the outermost wrapper for data traveling across local networks. Think of it as the detailed addressing and handling instructions on a postal package.\n",
        "\n",
        "An Ethernet header contains several crucial pieces of information:\n",
        "- **Destination MAC Address** (6 bytes): The physical address of the intended recipient\n",
        "- **Source MAC Address** (6 bytes): The physical address of the sender\n",
        "- **EtherType** (2 bytes): Indicates what type of data follows (usually IPv4 or IPv6)\n",
        "\n",
        "\n",
        "### Example: tcpdump\n",
        "\n",
        "**tcpdump** is a powerful command-line tool for capturing and analyzing network traffic. It's often used for troubleshooting network issues, analyzing security threats, and learning how data packets are transmitted. In simple terms, tcpdump lets you \"listen\" to what’s happening on the network interface in real time, revealing how data is wrapped and sent across networks.\n"
      ],
      "metadata": {
        "id": "-zS7wyPhM0r4"
      }
    },
    {
      "cell_type": "code",
      "source": [
        "%%bash\n",
        "#intall tcpdump\n",
        "apt install tcpdump > /dev/null\n",
        "\n",
        "# Watch Ethernet traffic in real-time\n",
        "tcpdump -e -i eth0 -c 5\n",
        "# -e shows Ethernet header\n",
        "# -i eth0 specifies interface\n",
        "# -c 1 captures 1 packets"
      ],
      "metadata": {
        "colab": {
          "base_uri": "https://localhost:8080/"
        },
        "id": "acn6kEX2M3ew",
        "outputId": "18716263-4d44-450d-b84c-39eb691a3453"
      },
      "execution_count": null,
      "outputs": [
        {
          "output_type": "stream",
          "name": "stdout",
          "text": [
            "18:53:51.356073 02:42:36:66:b4:ec (oui Unknown) > 02:42:ac:1c:00:0c (oui Unknown), ethertype IPv4 (0x0800), length 173: 172.28.0.1.57842 > 996470b578c5.6000: Flags [P.], seq 3542891485:3542891592, ack 3416786892, win 249, options [nop,nop,TS val 1506861142 ecr 105483558], length 107\n",
            "18:53:51.356493 02:42:ac:1c:00:0c (oui Unknown) > 02:42:36:66:b4:ec (oui Unknown), ethertype IPv4 (0x0800), length 4162: 996470b578c5.6000 > 172.28.0.1.57842: Flags [P.], seq 1:4097, ack 107, win 249, options [nop,nop,TS val 105513591 ecr 1506861142], length 4096\n",
            "18:53:51.356524 02:42:36:66:b4:ec (oui Unknown) > 02:42:ac:1c:00:0c (oui Unknown), ethertype IPv4 (0x0800), length 66: 172.28.0.1.57842 > 996470b578c5.6000: Flags [.], ack 4097, win 249, options [nop,nop,TS val 1506861142 ecr 105513591], length 0\n",
            "18:53:51.356544 02:42:ac:1c:00:0c (oui Unknown) > 02:42:36:66:b4:ec (oui Unknown), ethertype IPv4 (0x0800), length 1952: 996470b578c5.6000 > 172.28.0.1.57842: Flags [P.], seq 4097:5983, ack 107, win 249, options [nop,nop,TS val 105513591 ecr 1506861142], length 1886\n",
            "18:53:51.356555 02:42:36:66:b4:ec (oui Unknown) > 02:42:ac:1c:00:0c (oui Unknown), ethertype IPv4 (0x0800), length 66: 172.28.0.1.57842 > 996470b578c5.6000: Flags [.], ack 5983, win 249, options [nop,nop,TS val 1506861142 ecr 105513591], length 0\n"
          ]
        },
        {
          "output_type": "stream",
          "name": "stderr",
          "text": [
            "\n",
            "WARNING: apt does not have a stable CLI interface. Use with caution in scripts.\n",
            "\n",
            "tcpdump: verbose output suppressed, use -v[v]... for full protocol decode\n",
            "listening on eth0, link-type EN10MB (Ethernet), snapshot length 262144 bytes\n",
            "5 packets captured\n",
            "17 packets received by filter\n",
            "0 packets dropped by kernel\n"
          ]
        }
      ]
    },
    {
      "cell_type": "markdown",
      "source": [
        "Each line above represents a captured packet, broken down as follows:\n",
        "\n",
        "1. **Timestamp**: `18:53:51.356073` – This marks when the packet was captured.\n",
        "\n",
        "2. **Source and Destination MAC Addresses**:\n",
        "   - `02:42:36:66:b4:ec` (source) > `02:42:ac:1c:00:0c` (destination).\n",
        "   - MAC addresses are unique identifiers for devices on a local network. They ensure that the data is sent to the correct machine on the same network.\n",
        "\n",
        "3. **EtherType**: `ethertype IPv4 (0x0800)`\n",
        "  – Specifies the protocol being used, like IPv4, IPv6, or ARP. Here, it’s **IPv4**, which means the packet uses Internet Protocol version 4.\n",
        "\n",
        "4. **Packet Details**:\n",
        "   - `length 173`: This shows the total **packet length** in bytes.\n",
        "   - `172.28.0.1.57842 > 996470b578c5.6000`: The **source and destination IP addresses** and **port numbers**. This means data is traveling from `172.28.0.1` port `57842` to `996470b578c5` port `6000`.\n",
        "   - **Flags and Sequence Numbers**: Flags like `[P.]` or `[.]` show the packet’s role in the communication, and sequence numbers help track packet order.\n",
        "   - `length 107`: This indicates the **payload size** (data carried by the packet).\n",
        "\n",
        "In summary, `tcpdump` reveals the \"wrappers\" (headers) added by each network layer. Here, the Ethernet header defines local network addresses, while the IP and transport headers manage how data is routed and reliably delivered."
      ],
      "metadata": {
        "id": "IKm8cY91iGTR"
      }
    },
    {
      "cell_type": "markdown",
      "source": [
        "> **Real-World Example**: Back at the detective agency, Daphne notices something odd about their network traffic.\n",
        ">\n",
        "> \"Velma, come look at this,\" she calls. \"Every device on our network is getting flooded with traffic meant for other devices.\"\n",
        ">\n",
        "> Velma examines their network switch configuration. \"Aha! Our switch is operating in 'hub mode' instead of properly using the Ethernet headers to direct traffic. See, normally the switch reads the destination MAC address in the Ethernet header and sends the frame only to that specific port. But right now, it's broadcasting everything everywhere!\"\n",
        ">\n",
        "> \"Like, isn't that bad for performance?\" Shaggy asks.\n",
        ">\n",
        "> \"Exactly right, Shaggy. The Ethernet header is designed to enable efficient delivery using MAC addresses, but only if our network equipment is configured to use them properly.\""
      ],
      "metadata": {
        "id": "9pV3X2LONClu"
      }
    },
    {
      "cell_type": "markdown",
      "source": [
        "## Internet Protocol (IP) Header: Enabling Internet Routing\n",
        "\n",
        "While the Ethernet header handles local delivery, the **IP header** enables routing across the vast internet. Added by the Network Layer, it contains the information needed to get data from its source to its destination across multiple networks.\n",
        "\n",
        "The IPv4 header (the most common version) includes:\n",
        "- **Version** (4 bits): Indicates IPv4 or IPv6\n",
        "- **Header Length** (4 bits): Size of the IP header\n",
        "- **Type of Service** (8 bits): Specifies delivery priority\n",
        "- **Total Length** (16 bits): Size of the entire packet\n",
        "- **Source IP Address** (32 bits): Sender's IP address\n",
        "- **Destination IP Address** (32 bits): Recipient's IP address\n",
        "- Several other fields for fragmentation, time-to-live, etc.\n"
      ],
      "metadata": {
        "id": "SD_PLHyLNIm1"
      }
    },
    {
      "cell_type": "markdown",
      "source": [
        "> **Real-World Example**: The gang is troubleshooting connectivity to their new branch office.\n",
        ">\n",
        "> \"The network cable test passed,\" Fred reports, \"but we still can't reach the server at the other office.\"\n",
        ">\n",
        "> \"Let's look at the IP headers,\" Velma suggests, running a packet capture. \"See here? The TTL (Time To Live) field in the IP header is reaching zero before our packets get to the destination. That means we have a routing loop somewhere!\"\n",
        ">\n",
        "> She draws a diagram showing how the IP header's TTL field prevents packets from circulating endlessly when routing problems occur. \"Every router decrements the TTL by 1. When it hits zero, the packet is discarded. It's like a game of 'hot potato' with a timer - preventing network gridlock when routing goes wrong.\"\n",
        "\n",
        "The IP header exemplifies the layered nature of network protocols. While the Ethernet header handles local delivery between directly connected devices, the IP header enables global routing. A packet might have its Ethernet header rewritten many times as it travels across the internet, but its IP header remains largely unchanged, ensuring it eventually reaches its final destination."
      ],
      "metadata": {
        "id": "g4jH2kn7Nl0e"
      }
    },
    {
      "cell_type": "markdown",
      "source": [
        "### Examining: IP headers in tcpdump"
      ],
      "metadata": {
        "id": "6lYAoibQiz2c"
      }
    },
    {
      "cell_type": "code",
      "source": [
        "%%bash\n",
        "# Watch IP headers in readable format\n",
        "tcpdump -i any -n -vvv ip -c2\n",
        "\n",
        "# -n don't resolve names\n",
        "# -vvv verbose output\n",
        "# -c1 capture 2 packets\n",
        "# ip captures the ip header"
      ],
      "metadata": {
        "colab": {
          "base_uri": "https://localhost:8080/"
        },
        "id": "oAQfcRdnRyqR",
        "outputId": "cdb740a4-de71-4162-bbc3-5e5de57e90e0"
      },
      "execution_count": null,
      "outputs": [
        {
          "output_type": "stream",
          "name": "stdout",
          "text": [
            "20:12:57.685585 eth0  In  IP (tos 0x0, ttl 64, id 24751, offset 0, flags [DF], proto TCP (6), length 923)\n",
            "    172.28.0.1.50396 > 172.28.0.12.8080: Flags [P.], cksum 0x5bd3 (incorrect -> 0x2731), seq 460298603:460299474, ack 3425695197, win 249, options [nop,nop,TS val 1511607471 ecr 110259829], length 871: HTTP, length: 871\n",
            "\tGET /socket.io/?EIO=3&sid=I9T_DlNTTz1swkvJAAAF&t=PBupoFA&transport=polling HTTP/1.1\n",
            "\tHost: colab.research.google.com\n",
            "\tUser-Agent: Mozilla/5.0 (Windows NT 10.0; Win64; x64) AppleWebKit/537.36 (KHTML, like Gecko) Chrome/130.0.0.0 Safari/537.36,gzip(gfe)\n",
            "\tAccept: */*\n",
            "\tAccept-Encoding: gzip, deflate, br, zstd,gzip(gfe)\n",
            "\tAccept-Language: en-US,en;q=0.9\n",
            "\tPriority: u=1, i\n",
            "\tReferer: https://colab.research.google.com/\n",
            "\tSec-Ch-Ua: \"Chromium\";v=\"130\", \"Google Chrome\";v=\"130\", \"Not?A_Brand\";v=\"99\"\n",
            "\tSec-Ch-Ua-Arch: \"x86\"\n",
            "\tSec-Ch-Ua-Bitness: \"64\"\n",
            "\tSec-Ch-Ua-Full-Version-List: \"Chromium\";v=\"130.0.6723.92\", \"Google Chrome\";v=\"130.0.6723.92\", \"Not?A_Brand\";v=\"99.0.0.0\"\n",
            "\tSec-Ch-Ua-Mobile: ?0\n",
            "\tSec-Ch-Ua-Model: \"\"\n",
            "\tSec-Ch-Ua-Platform: \"Windows\"\n",
            "\tSec-Ch-Ua-Platform-Version: \"15.0.0\"\n",
            "\tSec-Ch-Ua-Wow64: ?0\n",
            "\tSec-Fetch-Dest: empty\n",
            "\tSec-Fetch-Mode: cors\n",
            "\tSec-Fetch-Site: same-origin\n",
            "\t\n",
            "20:12:57.685607 eth0  Out IP (tos 0x0, ttl 64, id 45685, offset 0, flags [DF], proto TCP (6), length 52)\n",
            "    172.28.0.12.8080 > 172.28.0.1.50396: Flags [.], cksum 0x586c (incorrect -> 0xa297), seq 1, ack 871, win 249, options [nop,nop,TS val 110259920 ecr 1511607471], length 0\n"
          ]
        },
        {
          "output_type": "stream",
          "name": "stderr",
          "text": [
            "tcpdump: data link type LINUX_SLL2\n",
            "tcpdump: listening on any, link-type LINUX_SLL2 (Linux cooked v2), snapshot length 262144 bytes\n",
            "2 packets captured\n",
            "141 packets received by filter\n",
            "0 packets dropped by kernel\n"
          ]
        }
      ]
    },
    {
      "cell_type": "markdown",
      "source": [
        "If you look above, each packet has a few key fields. (Note: Your specific output can--and probably will--vary from the values shown here).\n",
        "\n",
        "1. **Basic Packet Info**:\n",
        "   - `18:56:50.808204 eth0 In IP`: This indicates the packet arrived at interface `eth0`.\n",
        "   - `ttl 64`: **Time-to-live (TTL)** shows how many hops the packet can travel before being discarded. It’s set by the sender and decreases by 1 with each hop.\n",
        "   - `id 42616`: A unique identifier for this packet.\n",
        "\n",
        "2. **Source and Destination IP Addresses**:\n",
        "   - `172.28.0.1.41250 > 172.28.0.12.8080`: This packet goes from IP `172.28.0.1` (port `41250`) to IP `172.28.0.12` (port `8080`). Port numbers identify the specific service or application on each device.\n",
        "\n",
        "3. **Flags and Checksums**:\n",
        "   - **Flags**: `[DF]` indicates \"Don’t Fragment,\" meaning the packet shouldn’t be split.\n",
        "   - **Checksum**: `cksum 0x5ad9 (incorrect -> 0xb177)`. The **checksum** verifies data integrity. If it’s \"incorrect,\" it means the packet was altered, though often by the sender.\n",
        "\n",
        "4. **Protocol Information**:\n",
        "   - `proto TCP (6), length 673`: **TCP** (protocol 6) is used here, with a total packet length of 673 bytes.\n",
        "   - For an HTTP request, `GET /socket.io/?EIO=3...` shows the web request details being sent.\n",
        "\n",
        "The **IP header** here contains the core routing info (source, destination, TTL), helping guide each packet across various networks toward its destination, even as the Ethernet wrapper is rewritten at each hop."
      ],
      "metadata": {
        "id": "Df9dO0yhilP0"
      }
    },
    {
      "cell_type": "markdown",
      "source": [
        "## Transport Layer Headers: TCP and UDP\n",
        "\n",
        "The Transport Layer adds yet another crucial wrapper to our data, using either TCP or UDP headers depending on the needs of the application. Think of TCP as certified mail with delivery confirmation, while UDP is more like regular mail - faster but without guarantees.\n",
        "\n",
        "### TCP Header Structure\n",
        "\n",
        "The **TCP header** is more complex than UDP because it contains all the information needed for reliable, ordered delivery:\n",
        "- **Source Port** (16 bits): Identifies the sending application\n",
        "- **Destination Port** (16 bits): Identifies the receiving application\n",
        "- **Sequence Number** (32 bits): Orders the segments\n",
        "- **Acknowledgment Number** (32 bits): Confirms received segments\n",
        "- **Window Size** (16 bits): Flow control information\n",
        "- **Checksum** (16 bits): Error detection\n",
        "- Various control bits and flags\n",
        "\n",
        "### Example: Looking at tcpdump to examine tcp packets\n",
        "Let's use again use tcp dump to take a look at a packet header:"
      ],
      "metadata": {
        "id": "_4KhIMkoSrKJ"
      }
    },
    {
      "cell_type": "code",
      "source": [
        "%%bash\n",
        "tcpdump -v -i any -c1"
      ],
      "metadata": {
        "colab": {
          "base_uri": "https://localhost:8080/"
        },
        "id": "_hcWUvl3TDPw",
        "outputId": "044197d2-d8d1-4ec1-dda4-41a5cf82934c"
      },
      "execution_count": null,
      "outputs": [
        {
          "output_type": "stream",
          "name": "stdout",
          "text": [
            "20:13:31.435986 lo    In  IP (tos 0x0, ttl 64, id 10964, offset 0, flags [DF], proto TCP (6), length 52)\n",
            "    996470b578c5.60606 > 996470b578c5.9000: Flags [.], cksum 0x5877 (incorrect -> 0xa84a), ack 2685986893, win 260, options [nop,nop,TS val 2428104941 ecr 2428104900], length 0\n"
          ]
        },
        {
          "output_type": "stream",
          "name": "stderr",
          "text": [
            "tcpdump: data link type LINUX_SLL2\n",
            "tcpdump: listening on any, link-type LINUX_SLL2 (Linux cooked v2), snapshot length 262144 bytes\n",
            "1 packet captured\n",
            "78 packets received by filter\n",
            "0 packets dropped by kernel\n"
          ]
        }
      ]
    },
    {
      "cell_type": "markdown",
      "source": [
        "This `tcpdump` command captures and displays one packet in detail to help analyze what’s going on with network traffic. Let’s break down the output (your specific values will differ!):\n",
        "\n",
        "1. **Basic Information**:\n",
        "   - `19:40:15.167527 eth0  In  IP`: This shows the timestamp (`19:40:15.167527`), the interface (`eth0`), and that this packet is an **incoming** IP packet.\n",
        "\n",
        "2. **IP Header Details**:\n",
        "   - **tos**: `0x0`, referring to the **Type of Service** field (unused here).\n",
        "   - **ttl**: `64`, the **Time-to-Live**, which limits how many hops this packet can take before being discarded.\n",
        "   - **id**: `47473`, a unique identifier for this packet.\n",
        "   - **flags**: `[DF]`, which stands for “Don’t Fragment,” meaning the packet should not be split.\n",
        "   - **proto**: `TCP (6)`, indicating this is a **TCP packet**.\n",
        "   - **length**: `923`, showing the entire packet’s length in bytes.\n",
        "\n",
        "3. **Source and Destination**:\n",
        "   - `172.28.0.1.58784 > 996470b578c5.8080`: The source IP address (`172.28.0.1`) on port `58784` is communicating with the destination IP (`996470b578c5`) on port `8080`.\n",
        "   - **Flags**: `[P.]`, meaning this packet has data (PUSH flag) that the receiver should process right away.\n",
        "\n",
        "4. **Checksum and Sequence Info**:\n",
        "   - **cksum**: `0x5bd3 (incorrect -> 0x3572)`. The checksum verifies data integrity; “incorrect” here is often just a `tcpdump` artifact due to offloading.\n",
        "   - **seq and ack**: The **sequence** and **acknowledgment numbers** track the packet’s position in a series, ensuring it arrives in the correct order.\n",
        "\n",
        "5. **HTTP Data**:\n",
        "   - The data includes an HTTP `GET` request, with details like the destination (`colab.research.google.com`) and browser info (`User-Agent`).\n",
        "   - Other fields like `Sec-Ch-Ua` and `Sec-Fetch` represent metadata and security headers, showing this packet is part of an HTTP request from Google Colab.\n"
      ],
      "metadata": {
        "id": "W0KC-MS_szmf"
      }
    },
    {
      "cell_type": "markdown",
      "source": [
        "\n",
        "> **Real-World Example**: The Scooby gang is investigating why their case management system is running slowly.\n",
        ">\n",
        "> \"Like, Velma, why does uploading evidence photos take forever sometimes?\" Shaggy asks, watching a progress bar crawl across his screen.\n",
        ">\n",
        "> Velma opens Wireshark and shows him the TCP headers. \"See these sequence numbers? They help ensure all pieces of your photo arrive in order. And look at the window size - it's telling the sender to slow down because our network is congested.\"\n",
        ">\n",
        "> \"So it's like having a traffic cop managing the flow of data?\" Daphne suggests.\n",
        ">\n",
        "> \"Exactly! And see these acknowledgment numbers? Every time a piece arrives successfully, the receiver sends back a confirmation. If anything gets lost, TCP automatically requests retransmission.\"\n",
        "\n",
        "### UDP Header: The Lightweight Alternative\n",
        "\n",
        "The **UDP header** is much simpler, containing only:\n",
        "- **Source Port** (16 bits)\n",
        "- **Destination Port** (16 bits)\n",
        "- **Length** (16 bits)\n",
        "- **Checksum** (16 bits)\n",
        "\n",
        "## Example: UDP packet info with tcpdump\n",
        "Because our environment isn't sending/receiving any UDP packets, we'll have to create them. This Python script does that, and then shows the output of tcpdump."
      ],
      "metadata": {
        "id": "YyBq4VVsSvUI"
      }
    },
    {
      "cell_type": "markdown",
      "source": [
        "## Understanding TCP Flags\n",
        "\n",
        "TCP flags are like signal flags on a ship, each conveying specific information about the state of the connection. The main TCP flags are:\n",
        "\n",
        "- **SYN (Synchronize)**: Initiates a connection\n",
        "- **ACK (Acknowledgment)**: Confirms received data\n",
        "- **PSH (Push)**: Pushes buffered data to the application\n",
        "- **RST (Reset)**: Abruptly terminates a connection\n",
        "- **FIN (Finish)**: Gracefully closes a connection\n",
        "- **URG (Urgent)**: Marks urgent data\n",
        "\n",
        "> **Real-World Example**: Fred is analyzing their network security logs.\n",
        ">\n",
        "> \"Jeepers! Look at all these failed connection attempts,\" he points to a stream of logs.\n",
        ">\n",
        "> Velma examines the TCP flags. \"These are SYN flood attacks - someone's sending thousands of connection requests without completing the handshake. See the SYN flags without corresponding ACK flags? It's like someone repeatedly ringing our doorbell and running away!\"\n",
        ">\n",
        "> She draws a diagram of normal TCP connection establishment:\n",
        "> 1. Client sends SYN: \"Can we talk?\"\n",
        "> 2. Server responds SYN-ACK: \"Yes, let's talk\"\n",
        "> 3. Client sends ACK: \"Great, connection established!\"\n",
        "\n",
        "## Understanding Payload\n",
        "\n",
        "The **payload** is the actual data being transmitted - the letter inside all those envelopes we've been adding. Everything else we've discussed (headers, flags, etc.) exists solely to ensure the payload reaches its destination correctly.\n",
        "\n",
        "> **Real-World Example**: \"Like, I get all the headers and stuff now,\" Shaggy says, \"but where's our actual evidence photo in all this?\"\n",
        ">\n",
        "> Velma pulls up a packet capture. \"See this part after all the headers? That's our payload - the actual photo data. Everything else is just wrapping paper and delivery instructions to get it where it needs to go.\""
      ],
      "metadata": {
        "id": "Y8YygpyLS1JY"
      }
    },
    {
      "cell_type": "markdown",
      "source": [
        "## Maximum Transmission Unit (MTU)\n",
        "\n",
        "The **MTU** defines the largest \"package\" that can be sent across a network link. Think of it like weight limits on bridges - exceed them, and you'll need to split your cargo into smaller loads.\n",
        "\n",
        "Common MTU values:\n",
        "- Ethernet: 1500 bytes\n",
        "- PPPoE: 1492 bytes\n",
        "- Wi-Fi: 2304 bytes\n",
        "\n",
        "> **Real-World Example**: The gang is trying to upload a large video file from a crime scene.\n",
        ">\n",
        "> \"Why is the file transfer failing only for this huge video?\" Daphne wonders.\n",
        ">\n",
        "> \"MTU issues,\" Velma explains. \"Our VPN connection has a smaller MTU than our local network. When we try to send packets that are too large, they need to be fragmented. Let me adjust the MTU size...\"\n",
        ">\n",
        "> She demonstrates with a simple test:\n"
      ],
      "metadata": {
        "id": "jZibmc5JS3SO"
      }
    },
    {
      "cell_type": "code",
      "source": [
        "%%bash\n",
        "# look for \"mtu\" to see the current mtu for eth0\n",
        "ifconfig eth0"
      ],
      "metadata": {
        "colab": {
          "base_uri": "https://localhost:8080/"
        },
        "id": "Yzp8kipg0UT4",
        "outputId": "89ebd640-6e06-40fd-ea18-b79103e32f2b"
      },
      "execution_count": null,
      "outputs": [
        {
          "output_type": "stream",
          "name": "stdout",
          "text": [
            "eth0: flags=4163<UP,BROADCAST,RUNNING,MULTICAST>  mtu 1500\n",
            "        inet 172.28.0.12  netmask 255.255.0.0  broadcast 172.28.255.255\n",
            "        ether 02:42:ac:1c:00:0c  txqueuelen 0  (Ethernet)\n",
            "        RX packets 25376  bytes 12688789 (12.6 MB)\n",
            "        RX errors 0  dropped 0  overruns 0  frame 0\n",
            "        TX packets 21733  bytes 7459402 (7.4 MB)\n",
            "        TX errors 0  dropped 0 overruns 0  carrier 0  collisions 0\n",
            "\n"
          ]
        },
        {
          "output_type": "stream",
          "name": "stderr",
          "text": [
            "SIOCSIFMTU: Operation not permitted\n"
          ]
        }
      ]
    },
    {
      "cell_type": "markdown",
      "source": [
        "If you look closely at the above, you'll see that eth0 has an mtu of 1500 (which is standard for ethernet)."
      ],
      "metadata": {
        "id": "s78fh0DeJWHx"
      }
    },
    {
      "cell_type": "markdown",
      "source": [
        "\n",
        "## Putting It All Together\n",
        "\n",
        "When data travels across a network, it gets wrapped in multiple layers of headers:\n",
        "1. Application data becomes the payload\n",
        "2. Transport Layer adds TCP/UDP header\n",
        "3. Network Layer adds IP header\n",
        "4. Data Link Layer adds Ethernet header\n",
        "\n",
        "At each hop along the way:\n",
        "- Ethernet headers may change (like updating a shipping label at each post office)\n",
        "- IP headers guide overall routing\n",
        "- TCP/UDP headers ensure proper delivery\n",
        "- The payload remains unchanged until it reaches its final destination\n",
        "\n",
        "Understanding this encapsulation process is crucial for:\n",
        "- Network troubleshooting\n",
        "- Security analysis\n",
        "- Performance optimization\n",
        "- Protocol development\n",
        "\n",
        "Remember: Each layer adds its own header because it can't make assumptions about the layers above or below it. This modularity is what makes networks so flexible and reliable, allowing different protocols and technologies to work together seamlessly."
      ],
      "metadata": {
        "id": "wVpQFxd5S5J4"
      }
    }
  ]
}