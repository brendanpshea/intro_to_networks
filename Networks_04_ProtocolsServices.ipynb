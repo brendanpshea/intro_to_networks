{
  "nbformat": 4,
  "nbformat_minor": 0,
  "metadata": {
    "colab": {
      "provenance": [],
      "authorship_tag": "ABX9TyOX2r8r++pcj7Dz/KX8P1nl",
      "include_colab_link": true
    },
    "kernelspec": {
      "name": "python3",
      "display_name": "Python 3"
    },
    "language_info": {
      "name": "python"
    }
  },
  "cells": [
    {
      "cell_type": "markdown",
      "metadata": {
        "id": "view-in-github",
        "colab_type": "text"
      },
      "source": [
        "<a href=\"https://colab.research.google.com/github/brendanpshea/intro_to_networks/blob/main/Networks_04_ProtocolsServices.ipynb\" target=\"_parent\"><img src=\"https://colab.research.google.com/assets/colab-badge.svg\" alt=\"Open In Colab\"/></a>"
      ]
    },
    {
      "cell_type": "markdown",
      "source": [
        "## Introduction to Network Protocols and Services\n",
        "\n",
        "Computer networks are the backbone of modern communication, allowing devices to share information across the globe. To ensure all these devices can communicate effectively, they need a common language and set of rules. This is where network protocols and services come into play.\n",
        "\n",
        "**Network protocols** are standardized rules that determine how data is transmitted between devices on a network. They serve as the \"language\" that networked devices use to communicate with each other. These protocols define everything from how connections are established to how data is formatted, transmitted, and received.\n",
        "\n",
        "* Every time you browse the web, send an email, or stream a video, multiple protocols are working together behind the scenes to make it happen.\n",
        "* Protocols operate at different layers of the OSI model, from physical transmission to application-level communication.\n",
        "* Each protocol is designed to solve specific networking challenges and often works in combination with other protocols.\n",
        "\n",
        "**Network services** are applications running on networked devices that use these protocols to perform useful functions for users or other applications. These services typically \"listen\" on specific network ports.\n",
        "\n",
        "* Common network services include web servers, email servers, file transfer services, and domain name services.\n",
        "* Services are identified by their port numbers, which act as communication endpoints.\n",
        "* Understanding network services helps network administrators properly configure networks and troubleshoot connectivity issues.\n",
        "\n",
        "As we explore the world of networking further, we'll examine specific protocols and services, their associated port numbers, and the functions they perform in modern networks."
      ],
      "metadata": {
        "id": "AJrds-pZLlDe"
      }
    },
    {
      "cell_type": "markdown",
      "source": [
        "## Understanding Network Ports: The Gateway to Communication\n",
        "\n",
        "Network ports act as virtual doorways that allow computers to direct different types of network traffic to the appropriate services. Each port is identified by a number, ranging from 0 to 65,535, and serves as an endpoint for communication between devices. When you understand ports, you can better configure network services and troubleshoot connectivity issues.\n",
        "\n",
        "**Port numbers** are 16-bit unsigned integers that identify specific processes or services on a networked device. They work alongside IP addresses to create a complete address for network communication.\n",
        "\n",
        "* Well-known ports (0-1023) are reserved for common services like HTTP (80) and HTTPS (443), and usually require administrative privileges to use.\n",
        "* Registered ports (1024-49151) are assigned by IANA but can be used by regular user processes, such as SQL Server (1433).\n",
        "* Dynamic/private ports (49152-65535) are typically used for temporary connections established by client applications.\n",
        "\n",
        "**Network sockets** combine an IP address with a port number to create a unique endpoint for communication. When a service \"listens\" on a specific port, it's ready to receive connections directed to that port.\n",
        "\n",
        "* When you type a URL into your browser, your computer establishes a connection to the web server's IP address on port 80 (HTTP) or 443 (HTTPS).\n",
        "* Multiple services can run on a single device by listening on different ports, allowing one server to provide web, email, and file services simultaneously.\n",
        "* Firewalls often control network traffic by allowing or blocking communication on specific ports.\n",
        "\n",
        "| Port Range | Category | Privileges | Examples |\n",
        "|------------|----------|------------|----------|\n",
        "| 0-1023 | Well-known | Administrative | 80 (HTTP), 443 (HTTPS) |\n",
        "| 1024-49151 | Registered | User | 1433 (SQL), 3389 (RDP) |\n",
        "| 49152-65535 | Dynamic/Private | User | Client-side temporary connections |"
      ],
      "metadata": {
        "id": "g8UIXKRaLk52"
      }
    },
    {
      "cell_type": "markdown",
      "source": [
        "## TCP vs UDP: Core Transport Protocols Compared\n",
        "\n",
        "Transport protocols are essential components that determine how data travels across networks. The two primary transport protocols are Transmission Control Protocol (TCP) and User Datagram Protocol (UDP), each with unique characteristics that make them suitable for different types of network applications.\n",
        "\n",
        "**Transmission Control Protocol (TCP)** is a connection-oriented protocol that provides reliable, ordered, and error-checked delivery of data between applications running on hosts communicating over an IP network.\n",
        "\n",
        "* TCP establishes a connection through a three-way handshake (SYN, SYN-ACK, ACK) before any data transmission begins, ensuring both sides are ready to communicate.\n",
        "* If packets are lost during transmission, TCP automatically retransmits them, guaranteeing that all data arrives at its destination.\n",
        "* TCP includes flow control mechanisms that prevent the sender from overwhelming the receiver with too much data at once.\n",
        "\n",
        "**User Datagram Protocol (UDP)** is a connectionless protocol that provides a simple, unreliable transmission model with minimal overhead.\n",
        "\n",
        "* UDP does not establish a connection before sending data, which makes it faster but less reliable than TCP.\n",
        "* When packets are lost during UDP transmission, there is no automatic retransmission, meaning some data may never reach its destination.\n",
        "* UDP has much lower overhead than TCP because it doesn't track connections or worry about packet ordering.\n",
        "\n",
        "| Feature | TCP | UDP |\n",
        "|---------|-----|-----|\n",
        "| Connection | Connection-oriented | Connectionless |\n",
        "| Reliability | Guaranteed delivery | Best-effort delivery |\n",
        "| Ordering | Packets arrive in order | No packet ordering |\n",
        "| Speed | Slower due to overhead | Faster with less overhead |\n",
        "| Header Size | 20-60 bytes | 8 bytes |\n",
        "| Use Cases | Web browsing, email, file transfers | Video streaming, online gaming, DNS |\n",
        "\n",
        "Understanding when to use TCP versus UDP is crucial for network application design. Applications requiring accuracy and completeness (like file transfers) typically use TCP, while those prioritizing speed over reliability (like video streaming) often choose UDP."
      ],
      "metadata": {
        "id": "hlP0SMgeLklH"
      }
    },
    {
      "cell_type": "markdown",
      "source": [
        "## Web Communication Protocols: HTTP and HTTPS\n",
        "\n",
        "Web communication protocols enable browsers and web servers to exchange information across the internet. These protocols form the foundation of the World Wide Web, with HTTP and HTTPS being the most common methods for accessing and displaying web content.\n",
        "\n",
        "**Hypertext Transfer Protocol (HTTP)** is the foundation of data communication on the World Wide Web, operating on port 80. It defines how messages are formatted and transmitted between web browsers and servers.\n",
        "\n",
        "* HTTP follows a request-response model where clients (usually web browsers) send requests for resources to servers, which then respond with the requested content or appropriate error messages.\n",
        "* HTTP is stateless, meaning each request-response pair is independent and the server maintains no information about previous client requests.\n",
        "* While HTTP is efficient and widely supported, it transmits data in plaintext, making it vulnerable to eavesdropping and man-in-the-middle attacks.\n",
        "\n",
        "**Hypertext Transfer Protocol Secure (HTTPS)** is the secure version of HTTP, using port 443 and adding encryption through SSL/TLS protocols to protect the exchanged data.\n",
        "\n",
        "* HTTPS encrypts all communication between the client and server, preventing unauthorized parties from reading or modifying the transmitted information.\n",
        "* Websites using HTTPS display a padlock icon in the browser's address bar, indicating a secure connection.\n",
        "* HTTPS is essential for protecting sensitive information like login credentials, personal details, and payment information when browsing the web.\n",
        "\n",
        "Modern web development strongly emphasizes HTTPS over HTTP due to its security benefits and because many browsers now mark non-HTTPS sites as \"not secure,\" potentially reducing user trust in websites still using plain HTTP."
      ],
      "metadata": {
        "id": "4EbEBlirLwDg"
      }
    },
    {
      "cell_type": "code",
      "source": [
        "# @title\n",
        "import base64\n",
        "from IPython.display import Image, display\n",
        "import matplotlib.pyplot as plt\n",
        "\n",
        "def mm(graph, width=1000, height=700):  # Add default dimensions\n",
        "    graphbytes = graph.encode(\"utf8\")\n",
        "    base64_bytes = base64.urlsafe_b64encode(graphbytes)\n",
        "    base64_string = base64_bytes.decode(\"ascii\")\n",
        "    # Add width and height parameters to the URL\n",
        "    url = f\"https://mermaid.ink/img/{base64_string}?width={width}&height={height}\"\n",
        "    display(Image(url=url))\n",
        "\n",
        "# @title\n",
        "mm(\"\"\"\n",
        "sequenceDiagram\n",
        "    participant Client\n",
        "    participant Server\n",
        "\n",
        "    Client->>Server: HTTP Request (Port 80)\n",
        "    Server->>Client: HTTP Response (Plaintext)\n",
        "\n",
        "    Note over Client,Server: vs. Secure Connection\n",
        "\n",
        "    Client->>Server: HTTPS Request (Port 443)\n",
        "    Note right of Server: TLS Handshake & Encryption\n",
        "    Server->>Client: HTTPS Response (Encrypted)\"\"\")\n"
      ],
      "metadata": {
        "colab": {
          "base_uri": "https://localhost:8080/",
          "height": 722
        },
        "id": "LdEnMxc2t9Sj",
        "outputId": "e51222b5-8cfa-4224-cf65-4f5213c91608",
        "cellView": "form"
      },
      "execution_count": 1,
      "outputs": [
        {
          "output_type": "display_data",
          "data": {
            "text/html": [
              "<img src=\"https://mermaid.ink/img/CnNlcXVlbmNlRGlhZ3JhbQogICAgcGFydGljaXBhbnQgQ2xpZW50CiAgICBwYXJ0aWNpcGFudCBTZXJ2ZXIKICAgIAogICAgQ2xpZW50LT4-U2VydmVyOiBIVFRQIFJlcXVlc3QgKFBvcnQgODApCiAgICBTZXJ2ZXItPj5DbGllbnQ6IEhUVFAgUmVzcG9uc2UgKFBsYWludGV4dCkKICAgIAogICAgTm90ZSBvdmVyIENsaWVudCxTZXJ2ZXI6IHZzLiBTZWN1cmUgQ29ubmVjdGlvbgogICAgCiAgICBDbGllbnQtPj5TZXJ2ZXI6IEhUVFBTIFJlcXVlc3QgKFBvcnQgNDQzKQogICAgTm90ZSByaWdodCBvZiBTZXJ2ZXI6IFRMUyBIYW5kc2hha2UgJiBFbmNyeXB0aW9uCiAgICBTZXJ2ZXItPj5DbGllbnQ6IEhUVFBTIFJlc3BvbnNlIChFbmNyeXB0ZWQp?width=1000&height=700\"/>"
            ],
            "text/plain": [
              "<IPython.core.display.Image object>"
            ]
          },
          "metadata": {}
        }
      ]
    },
    {
      "cell_type": "markdown",
      "source": [
        "## Securing Network Communications: SSH, SSL, and IPSec\n",
        "\n",
        "As cybersecurity threats continue to evolve, securing network communications has become essential. Several protocols have been developed specifically to protect data as it travels across networks, with SSH, SSL/TLS, and IPSec being among the most important security protocols in use today.\n",
        "\n",
        "**Secure Shell (SSH)** is a cryptographic network protocol that operates on port 22 and provides a secure channel over an unsecured network for running commands, transferring files, and tunneling other network connections securely.\n",
        "\n",
        "* SSH replaced the older, insecure Telnet protocol (port 23) which transmitted data, including passwords, in plaintext.\n",
        "* SSH uses public-key cryptography to authenticate the remote computer and allow the remote computer to authenticate the user.\n",
        "* System administrators commonly use SSH to remotely manage servers and network devices securely.\n",
        "\n",
        "**Secure Sockets Layer (SSL) and Transport Layer Security (TLS)** are cryptographic protocols designed to provide secure communication over a computer network, with TLS being the successor to SSL.\n",
        "\n",
        "* These protocols are the foundation of HTTPS (port 443) and LDAPS (port 636), providing encryption for web browsing and directory services.\n",
        "* SSL/TLS uses a combination of symmetric and asymmetric encryption along with digital certificates to secure communications.\n",
        "* The protocols protect against eavesdropping, tampering, and message forgery through encrypted connections.\n",
        "\n",
        "**Internet Protocol Security (IPSec)** is a suite of protocols that work at the network layer to secure IP communications by authenticating and encrypting each IP packet.\n",
        "\n",
        "* IPSec provides two security services: **Authentication Header (AH)** for integrity and authenticity, and **Encapsulating Security Payload (ESP)** for confidentiality.\n",
        "* **Internet Key Exchange (IKE)*** is used to set up secure connections by handling the negotiation of protocols and algorithms.\n",
        "* IPSec is commonly used to implement Virtual Private Networks (VPNs) and to secure router-to-router communications.\n",
        "\n",
        "| Protocol | Port | Primary Use | Key Security Features |\n",
        "|----------|------|-------------|----------------------|\n",
        "| SSH | 22 | Remote administration | Public key authentication, encrypted commands |\n",
        "| SSL/TLS | Various | Secure web browsing | Certificate-based authentication, encrypted data |\n",
        "| IPSec | IP Protocol | VPN connections | Packet-level encryption, network-layer security |\n",
        "\n",
        "These security protocols form the backbone of modern secure network communications, protecting sensitive data from interception and tampering as it traverses networks."
      ],
      "metadata": {
        "id": "Iq1_O2JtL_Nn"
      }
    },
    {
      "cell_type": "markdown",
      "source": [
        "## You Try It: Secure Shell\n",
        "\n",
        "Click here to launch a mini-lab on the use of secure shell:\n",
        "\n",
        "https://brendanpshea.github.io/cli_practice/?set=ssh.json\n"
      ],
      "metadata": {
        "id": "kCv_jNTEssd6"
      }
    },
    {
      "cell_type": "markdown",
      "source": [
        "## File Transfer Protocols: FTP, SFTP, and TFTP\n",
        "\n",
        "File transfer protocols enable the movement of files between computers on a network. While they all serve the same basic purpose of transferring files, they differ significantly in their security features, efficiency, and complexity.\n",
        "\n",
        "**File Transfer Protocol (FTP)** is one of the oldest network protocols, operating on ports 20 (for data transfer) and 21 (for command control). It provides a basic mechanism for copying files between network hosts.\n",
        "\n",
        "* FTP uses a client-server model where the client initiates a connection to the server to download or upload files.\n",
        "* The protocol supports both anonymous access (no authentication) and username/password authentication.\n",
        "* FTP transmits data and credentials in plaintext, making it insecure for sensitive information or use on public networks.\n",
        "\n",
        "**Secure File Transfer Protocol (SFTP)** operates on port 22 (the same as SSH) and provides file transfer functionality with strong security and authentication mechanisms.\n",
        "\n",
        "* SFTP is not actually a separate protocol but rather an extension of SSH that adds file transfer capabilities.\n",
        "* Unlike FTP, SFTP encrypts both commands and data, protecting file contents and user credentials during transmission.\n",
        "* SFTP includes additional features like file system operations (renaming, removing files) and better error recovery than standard FTP.\n",
        "\n",
        "**Trivial File Transfer Protocol (TFTP)** is a simplified file transfer protocol that operates on port 69 and uses UDP rather than TCP as its transport mechanism.\n",
        "\n",
        "* TFTP has no authentication mechanisms and lacks many of the features found in FTP, making it \"trivial\" by comparison.\n",
        "* The protocol is commonly used for booting diskless workstations, transferring router and switch configurations, and firmware updates for network devices.\n",
        "* Due to its simplicity and use of UDP, TFTP works well in environments where memory is limited or reliable connections are already established.\n",
        "\n",
        "When implementing file transfers in a network environment, the choice between these protocols should consider security requirements, device capabilities, and the specific use case. Modern systems generally prefer SFTP for its security features, though FTP and TFTP still have roles in specific scenarios."
      ],
      "metadata": {
        "id": "roFeoU6eMODo"
      }
    },
    {
      "cell_type": "code",
      "source": [
        "# @title\n",
        "mm(\"\"\"\n",
        "graph LR\n",
        "    A[Client] --> B{Choose Protocol}\n",
        "    B -->|\"Insecure but full-featured\"|C[FTP - Ports 20/21]\n",
        "    B -->|\"Secure and modern\"|D[SFTP - Port 22]\n",
        "    B -->|\"Simple, lightweight\"|E[TFTP - Port 69]\"\"\")"
      ],
      "metadata": {
        "cellView": "form",
        "colab": {
          "base_uri": "https://localhost:8080/",
          "height": 722
        },
        "id": "4DIV48BwMTmW",
        "outputId": "85efebd6-251c-4758-a61c-366b31953ff6"
      },
      "execution_count": 2,
      "outputs": [
        {
          "output_type": "display_data",
          "data": {
            "text/html": [
              "<img src=\"https://mermaid.ink/img/CmdyYXBoIExSCiAgICBBW0NsaWVudF0gLS0-IEJ7Q2hvb3NlIFByb3RvY29sfQogICAgQiAtLT58Ikluc2VjdXJlIGJ1dCBmdWxsLWZlYXR1cmVkInxDW0ZUUCAtIFBvcnRzIDIwLzIxXQogICAgQiAtLT58IlNlY3VyZSBhbmQgbW9kZXJuInxEW1NGVFAgLSBQb3J0IDIyXQogICAgQiAtLT58IlNpbXBsZSwgbGlnaHR3ZWlnaHQifEVbVEZUUCAtIFBvcnQgNjld?width=1000&height=700\"/>"
            ],
            "text/plain": [
              "<IPython.core.display.Image object>"
            ]
          },
          "metadata": {}
        }
      ]
    },
    {
      "cell_type": "markdown",
      "source": [
        "## Network Management Protocols: SNMP and DHCP\n",
        "\n",
        "Network management protocols help administrators efficiently configure, monitor, and maintain network devices. These protocols automate critical tasks that would otherwise require manual configuration and constant supervision of network components.\n",
        "\n",
        "**Simple Network Management Protocol (SNMP)** is a widely used protocol for network management and monitoring that operates on ports 161 (for queries) and 162 (for traps/notifications).\n",
        "\n",
        "* SNMP allows administrators to monitor network-attached devices for conditions that warrant attention, such as high CPU usage, temperature warnings, or connection failures.\n",
        "* The protocol works through a system of managers (monitoring stations) and agents (software on monitored devices) that communicate using standardized Management Information Base (MIB) structures.\n",
        "* SNMP comes in three main versions: **SNMPv1** (original version with basic security), **SNMPv2c** (enhanced performance but similar security), and **SNMPv3** (added strong authentication and encryption).\n",
        "\n",
        "**Dynamic Host Configuration Protocol (DHCP)** operates on ports 67 (server) and 68 (client) to automate the process of assigning IP addresses and other network configuration parameters to devices.\n",
        "\n",
        "* DHCP eliminates the need to manually configure IP addresses, subnet masks, default gateways, and DNS servers on every network device.\n",
        "* When a device connects to a network, it broadcasts a DHCP discovery message to locate available DHCP servers, which then offer an IP address from their pool of available addresses.\n",
        "* DHCP leases have a defined duration and must be periodically renewed, allowing for efficient reuse of IP addresses in environments where devices frequently connect and disconnect.\n",
        "\n",
        "| Protocol | Ports | Primary Function | Key Components |\n",
        "|----------|-------|------------------|---------------|\n",
        "| SNMP | 161/162 | Network monitoring and management | Managers, Agents, MIBs, OIDs |\n",
        "| DHCP | 67/68 | Automatic IP address configuration | DHCP Server, IP Address Pool, Lease Time |\n",
        "\n",
        "Both protocols significantly reduce the administrative burden of network management by automating routine tasks. SNMP focuses on monitoring and alerting, while DHCP handles the essential task of network addressing. Together, they form critical components of modern network infrastructure management."
      ],
      "metadata": {
        "id": "En2KZ3NGMZWd"
      }
    },
    {
      "cell_type": "markdown",
      "source": [
        "## Email Communication Protocols: SMTP and SMTPS\n",
        "\n",
        "Email remains one of the most widely used forms of electronic communication, relying on specialized protocols to ensure messages are properly sent, received, and delivered to the correct recipients. The Simple Mail Transfer Protocol (SMTP) and its secure variant SMTPS are fundamental to this process.\n",
        "\n",
        "**Simple Mail Transfer Protocol (SMTP)** operates on port 25 and is the standard protocol for sending email messages between servers across the Internet.\n",
        "\n",
        "* SMTP is a \"push\" protocol that moves email from the sender's mail client to the recipient's mail server through a series of store-and-forward processes.\n",
        "* The protocol uses simple text commands like HELO, MAIL FROM, RCPT TO, and DATA to establish connections and transfer message content between mail servers.\n",
        "* Standard SMTP transmits messages in plaintext, offering no inherent encryption or protection for the content of emails as they travel across networks.\n",
        "\n",
        "**Simple Mail Transfer Protocol Secure (SMTPS)** typically operates on port 587 and adds a layer of security to email transmission by using TLS/SSL encryption.\n",
        "\n",
        "* SMTPS provides protection against eavesdropping and man-in-the-middle attacks by encrypting the connection between mail clients and servers.\n",
        "* Port 587 is designated for secure SMTP submission with TLS encryption and is the currently recommended port for sending email securely.\n",
        "* Modern email systems typically require SMTPS connections for message submission to prevent abuse by spammers and protect user credentials.\n",
        "\n",
        "Email transmission involves other protocols as well, with SMTP/SMTPS handling outgoing mail while protocols like POP3 (Post Office Protocol, port 110) and IMAP (Internet Message Access Protocol, port 143) manage email retrieval. These protocols often have their own secure variants operating on different ports.\n",
        "\n",
        "Understanding these email protocols helps network administrators properly configure mail servers, troubleshoot delivery issues, and implement appropriate security measures to protect sensitive communications."
      ],
      "metadata": {
        "id": "uLYjgpXQMmnE"
      }
    },
    {
      "cell_type": "code",
      "source": [
        "# @title\n",
        "mm(\"\"\"\n",
        "sequenceDiagram\n",
        "    participant User as Email Client\n",
        "    participant SMTP as SMTP Server\n",
        "    participant Recipient as Recipient's Mail Server\n",
        "\n",
        "    User->>SMTP: Send email (port 25 or 587)\n",
        "    Note over User,SMTP: Authentication & Encryption (SMTPS)\n",
        "    SMTP->>Recipient: Forward to recipient server\n",
        "    Note over Recipient: Store in recipient's mailbox\"\"\")"
      ],
      "metadata": {
        "cellView": "form",
        "colab": {
          "base_uri": "https://localhost:8080/",
          "height": 722
        },
        "id": "LjiTHy4qMy8l",
        "outputId": "458fb2b1-a064-4aed-d187-7dfd08abfd12"
      },
      "execution_count": 3,
      "outputs": [
        {
          "output_type": "display_data",
          "data": {
            "text/html": [
              "<img src=\"https://mermaid.ink/img/CnNlcXVlbmNlRGlhZ3JhbQogICAgcGFydGljaXBhbnQgVXNlciBhcyBFbWFpbCBDbGllbnQKICAgIHBhcnRpY2lwYW50IFNNVFAgYXMgU01UUCBTZXJ2ZXIKICAgIHBhcnRpY2lwYW50IFJlY2lwaWVudCBhcyBSZWNpcGllbnQncyBNYWlsIFNlcnZlcgogICAgCiAgICBVc2VyLT4-U01UUDogU2VuZCBlbWFpbCAocG9ydCAyNSBvciA1ODcpCiAgICBOb3RlIG92ZXIgVXNlcixTTVRQOiBBdXRoZW50aWNhdGlvbiAmIEVuY3J5cHRpb24gKFNNVFBTKQogICAgU01UUC0-PlJlY2lwaWVudDogRm9yd2FyZCB0byByZWNpcGllbnQgc2VydmVyCiAgICBOb3RlIG92ZXIgUmVjaXBpZW50OiBTdG9yZSBpbiByZWNpcGllbnQncyBtYWlsYm94?width=1000&height=700\"/>"
            ],
            "text/plain": [
              "<IPython.core.display.Image object>"
            ]
          },
          "metadata": {}
        }
      ]
    },
    {
      "cell_type": "markdown",
      "source": [
        "## Email Retrieval Protocols: POP3 and IMAP\n",
        "\n",
        "While SMTP handles the sending of emails, different protocols are needed for retrieving messages from mail servers. Post Office Protocol (POP3) and Internet Message Access Protocol (IMAP) are the two main protocols designed for this purpose, each with distinct approaches to email management.\n",
        "\n",
        "**Post Office Protocol version 3 (POP3)** operates on port 110 (or port 995 for POP3S with SSL/TLS) and uses a simple download-and-delete model for email retrieval.\n",
        "\n",
        "* POP3 downloads messages from the server to the client device, typically removing them from the server afterward (though this behavior can be modified in some clients).\n",
        "* The protocol is straightforward and uses minimal server resources since it only maintains a temporary connection while actively downloading messages.\n",
        "* POP3 works well for users who primarily access email from a single device and have limited server storage, but creates challenges for those who need to access email from multiple devices.\n",
        "\n",
        "**Internet Message Access Protocol (IMAP)** operates on port 143 (or port 993 for IMAPS with SSL/TLS) and provides a more sophisticated remote mailbox management approach.\n",
        "\n",
        "* IMAP maintains messages on the server, allowing users to access the same mailbox from multiple devices with full synchronization of message status (read, replied, flagged, etc.).\n",
        "* The protocol supports folder structures, server-side searching, and partial message downloading (retrieving headers before full message content).\n",
        "* IMAP requires a persistent connection to the server and uses more server resources than POP3, but offers significantly more flexibility for modern multi-device email access.\n",
        "\n",
        "| Feature | POP3 | IMAP |\n",
        "|---------|------|------|\n",
        "| Ports | 110 (plain), 995 (secure) | 143 (plain), 993 (secure) |\n",
        "| Message Storage | Primarily on client | Primarily on server |\n",
        "| Multi-device Support | Limited | Excellent |\n",
        "| Server Resource Usage | Low | Higher |\n",
        "| Offline Access | Good (messages stored locally) | Limited (unless cached) |\n",
        "| Folder Synchronization | No | Yes |\n",
        "\n",
        "\n",
        "Most modern email systems default to IMAP due to its flexibility and better support for today's multi-device usage patterns. However, understanding both protocols helps IT professionals configure email systems appropriately for different user needs and troubleshoot email access issues when they arise."
      ],
      "metadata": {
        "id": "gSQSUHvGOnHJ"
      }
    },
    {
      "cell_type": "code",
      "source": [
        "# @title\n",
        "mm(\"\"\"\n",
        "graph TD\n",
        "    A[Email Communication] --> B[Sending Mail]\n",
        "    A --> C[Retrieving Mail]\n",
        "    B --> D[SMTP - Port 25/587]\n",
        "    C --> E{Choose Protocol}\n",
        "    E -->|\"Simple, Single Device\"|F[POP3 - Port 110/995]\n",
        "    E -->|\"Advanced, Multi-Device\"|G[IMAP - Port 143/993]\"\"\")"
      ],
      "metadata": {
        "cellView": "form",
        "colab": {
          "base_uri": "https://localhost:8080/",
          "height": 722
        },
        "id": "MrwciR04OpG5",
        "outputId": "15cac6c9-4b61-4947-d02b-a31b123bebd8"
      },
      "execution_count": 10,
      "outputs": [
        {
          "output_type": "display_data",
          "data": {
            "text/html": [
              "<img src=\"https://mermaid.ink/img/CmdyYXBoIFRECiAgICBBW0VtYWlsIENvbW11bmljYXRpb25dIC0tPiBCW1NlbmRpbmcgTWFpbF0KICAgIEEgLS0-IENbUmV0cmlldmluZyBNYWlsXQogICAgQiAtLT4gRFtTTVRQIC0gUG9ydCAyNS81ODddCiAgICBDIC0tPiBFe0Nob29zZSBQcm90b2NvbH0KICAgIEUgLS0-fCJTaW1wbGUsIFNpbmdsZSBEZXZpY2UifEZbUE9QMyAtIFBvcnQgMTEwLzk5NV0KICAgIEUgLS0-fCJBZHZhbmNlZCwgTXVsdGktRGV2aWNlInxHW0lNQVAgLSBQb3J0IDE0My85OTNd?width=1000&height=700\"/>"
            ],
            "text/plain": [
              "<IPython.core.display.Image object>"
            ]
          },
          "metadata": {}
        }
      ]
    },
    {
      "cell_type": "markdown",
      "source": [
        "## Name Resolution and Time Synchronization: DNS and NTP\n",
        "\n",
        "Modern networks rely on specialized protocols to handle critical infrastructure services like converting domain names to IP addresses and synchronizing time across devices. Two essential protocols in this category are DNS and NTP, which provide services that most users take for granted but are fundamental to network operation.\n",
        "\n",
        "**Domain Name System (DNS)** operates on port 53 and serves as the \"phone book\" of the Internet by translating human-friendly domain names into IP addresses that computers use for communication.\n",
        "\n",
        "* When you type a web address like \"www.example.com\" into your browser, a DNS resolver must first convert this to an IP address (like 93.184.216.34) before your computer can connect to the website.\n",
        "* DNS uses a hierarchical, distributed database structure with root servers at the top, followed by top-level domain servers (.com, .org, etc.), authoritative name servers, and local DNS resolvers.\n",
        "* The protocol supports various record types beyond simple name-to-IP mapping, including MX records (for mail servers), CNAME records (for aliases), and TXT records (for verification and other text information).\n",
        "\n",
        "**Network Time Protocol (NTP)** operates on port 123 and synchronizes the system clocks of networked computers to within milliseconds of Coordinated Universal Time (UTC).\n",
        "\n",
        "* Accurate time synchronization is critical for many network functions, including security protocols, logging, scheduled tasks, and distributed applications.\n",
        "* NTP works in a hierarchical manner with stratums (levels) of time servers, where stratum 0 devices are highly accurate time sources like atomic clocks, and each subsequent stratum gets its time from the level above.\n",
        "* The protocol uses UDP for communication and incorporates sophisticated algorithms to account for variable network latency when synchronizing time.\n",
        "\n",
        "| Protocol | Port | Primary Function | Key Components |\n",
        "|----------|------|------------------|---------------|\n",
        "| DNS | 53 | Domain name resolution | Root servers, TLD servers, Name servers, Resolvers |\n",
        "| NTP | 123 | Time synchronization | Stratum levels, Time sources, NTP clients |\n",
        "\n",
        "These infrastructure protocols operate largely behind the scenes but are fundamental to network functionality. DNS enables the user-friendly web addresses we use daily, while NTP ensures that network operations requiring precise timing work correctly across distributed systems."
      ],
      "metadata": {
        "id": "1Ce5IDhrM-LE"
      }
    },
    {
      "cell_type": "markdown",
      "source": [
        "## Graphic: DNS"
      ],
      "metadata": {
        "id": "opwAgujrtP0s"
      }
    },
    {
      "cell_type": "code",
      "source": [
        "# @title\n",
        "mm(\"\"\"\n",
        "graph TD\n",
        "    A[Client] -->|\"1 - Query: www\\.example\\.com?\"| B[Local DNS Resolver]\n",
        "    B -->|\"2 - Query\"| C[Root DNS Server]\n",
        "    C -->|\"3 - Refer to .com servers\"| B\n",
        "    B -->|\"4 - Query\"| D[.com TLD Server]\n",
        "    D -->|\"5 - Refer to example.com servers\"| B\n",
        "    B -->|\"6 - Query\"| E[example.com Authoritative Server]\n",
        "    E -->|\"7 - Answer: 93.184.216.34\"| B\n",
        "    B -->|\"8 - Response: 93.184.216.34\"| A\n",
        "\n",
        "    \"\"\")"
      ],
      "metadata": {
        "colab": {
          "base_uri": "https://localhost:8080/",
          "height": 722
        },
        "cellView": "form",
        "id": "ym2kg5hZtRu3",
        "outputId": "62234854-c1fe-41b2-ae0f-28295a2dede4"
      },
      "execution_count": 6,
      "outputs": [
        {
          "output_type": "display_data",
          "data": {
            "text/html": [
              "<img src=\"https://mermaid.ink/img/CmdyYXBoIFRECiAgICBBW0NsaWVudF0gLS0-fCIxIC0gUXVlcnk6IHd3d1wuZXhhbXBsZVwuY29tPyJ8IEJbTG9jYWwgRE5TIFJlc29sdmVyXQogICAgQiAtLT58IjIgLSBRdWVyeSJ8IENbUm9vdCBETlMgU2VydmVyXQogICAgQyAtLT58IjMgLSBSZWZlciB0byAuY29tIHNlcnZlcnMifCBCCiAgICBCIC0tPnwiNCAtIFF1ZXJ5InwgRFsuY29tIFRMRCBTZXJ2ZXJdCiAgICBEIC0tPnwiNSAtIFJlZmVyIHRvIGV4YW1wbGUuY29tIHNlcnZlcnMifCBCCiAgICBCIC0tPnwiNiAtIFF1ZXJ5InwgRVtleGFtcGxlLmNvbSBBdXRob3JpdGF0aXZlIFNlcnZlcl0KICAgIEUgLS0-fCI3IC0gQW5zd2VyOiA5My4xODQuMjE2LjM0InwgQgogICAgQiAtLT58IjggLSBSZXNwb25zZTogOTMuMTg0LjIxNi4zNCJ8IEEKCiAgICA=?width=1000&height=700\"/>"
            ],
            "text/plain": [
              "<IPython.core.display.Image object>"
            ]
          },
          "metadata": {}
        }
      ]
    },
    {
      "cell_type": "markdown",
      "source": [
        "## Remote Access Protocols: Telnet and RDP\n",
        "\n",
        "Remote access protocols allow users to connect to and control computers from a distance. These protocols have evolved significantly over time, with security considerations becoming increasingly important as networks have become more exposed to potential threats.\n",
        "\n",
        "**Telnet** operates on port 23 and is one of the oldest remote access protocols, providing terminal emulation to connect to remote servers and network devices.\n",
        "\n",
        "* Telnet allows users to access command-line interfaces on remote systems as if they were directly connected to the device's console port.\n",
        "* The protocol transmits all data, including usernames and passwords, as plaintext with no encryption, making it highly vulnerable to packet sniffing and man-in-the-middle attacks.\n",
        "* Due to its critical security flaws, Telnet has largely been replaced by SSH (Secure Shell) for remote administration tasks in modern networks.\n",
        "\n",
        "**Remote Desktop Protocol (RDP)** operates on port 3389 and was developed by Microsoft to provide graphical remote access to Windows systems.\n",
        "\n",
        "* Unlike Telnet's text-based interface, RDP provides a complete graphical user interface, allowing users to interact with the remote computer as if sitting in front of it.\n",
        "* RDP supports features like file transfer, printer redirection, audio streaming, and clipboard sharing between the local and remote computers.\n",
        "* While more secure than Telnet, RDP has been the target of numerous vulnerabilities and attacks, making it essential to implement additional security measures like network-level authentication, complex passwords, and limited access through firewalls.\n",
        "\n",
        "| Feature | Telnet | RDP |\n",
        "|---------|--------|-----|\n",
        "| Port | 23 | 3389 |\n",
        "| Interface | Text-based | Graphical |\n",
        "| Encryption | None | Basic encryption |\n",
        "| Modern Usage | Legacy systems only | Common for Windows administration |\n",
        "| Recommended Security | Replace with SSH | Network restrictions, strong authentication |\n",
        "\n",
        "For modern network environments, it's generally advisable to disable Telnet entirely in favor of SSH, while RDP should be carefully secured through firewall rules, VPN requirements, or remote desktop gateways to minimize exposure to potential attacks."
      ],
      "metadata": {
        "id": "Qt6IAHm9Nczz"
      }
    },
    {
      "cell_type": "markdown",
      "source": [
        "## Directory Services: LDAP and LDAPS\n",
        "\n",
        "Directory services provide centralized storage and management of information about network resources such as users, computers, printers, and applications. These services form the backbone of authentication and authorization in enterprise networks, with LDAP and its secure variant LDAPS being the most common protocols used to access directory information.\n",
        "\n",
        "**Lightweight Directory Access Protocol (LDAP)** operates on port 389 and provides a standardized way to access, query, and modify directory services like Microsoft Active Directory, OpenLDAP, and others.\n",
        "\n",
        "* LDAP organizes information in a hierarchical tree-like structure called the Directory Information Tree (DIT), with entries uniquely identified by Distinguished Names (DNs).\n",
        "* The protocol supports simple authentication methods using usernames and passwords, as well as more advanced methods like SASL (Simple Authentication and Security Layer).\n",
        "* LDAP is used for various functions including user authentication, user/group lookup, and application configuration storage, making it central to many enterprise systems.\n",
        "\n",
        "**Lightweight Directory Access Protocol over SSL (LDAPS)** operates on port 636 and adds encryption via SSL/TLS to standard LDAP communications.\n",
        "\n",
        "* LDAPS protects sensitive directory information, including user credentials, from being intercepted during transmission.\n",
        "* Unlike standard LDAP, LDAPS encrypts the entire session from the beginning using SSL/TLS certificates, preventing credentials and queries from being visible in plaintext.\n",
        "* Modern directory service implementations increasingly require LDAPS to maintain security compliance and protect sensitive organizational data.\n",
        "\n",
        "Directory services are particularly crucial in enterprise environments where centralized user management is essential. They enable single sign-on capabilities, consistent application of security policies, and efficient resource management across organizations of all sizes.\n",
        "\n",
        "Understanding directory service protocols helps network administrators implement proper authentication mechanisms, manage organizational resources effectively, and ensure that sensitive directory information remains secure."
      ],
      "metadata": {
        "id": "cBuoq0gANgBC"
      }
    },
    {
      "cell_type": "code",
      "source": [
        "# @title\n",
        "mm(\"\"\"\n",
        "graph TB\n",
        "    A[Client Application] --> B{Directory Access}\n",
        "    B -->|\"Unencrypted (Port 389)\"|C[LDAP]\n",
        "    B -->|\"Encrypted (Port 636)\"|D[LDAPS]\n",
        "    C --> E[Directory Service]\n",
        "    D --> E\n",
        "    E --> F[User Information]\n",
        "    E --> G[Group Information]\n",
        "    E --> H[Resource Information]\"\"\")"
      ],
      "metadata": {
        "cellView": "form",
        "colab": {
          "base_uri": "https://localhost:8080/",
          "height": 722
        },
        "id": "2NEdgayLNhOL",
        "outputId": "7f182d4b-5742-498b-ef58-86bc22105c27"
      },
      "execution_count": 7,
      "outputs": [
        {
          "output_type": "display_data",
          "data": {
            "text/html": [
              "<img src=\"https://mermaid.ink/img/CmdyYXBoIFRCCiAgICBBW0NsaWVudCBBcHBsaWNhdGlvbl0gLS0-IEJ7RGlyZWN0b3J5IEFjY2Vzc30KICAgIEIgLS0-fCJVbmVuY3J5cHRlZCAoUG9ydCAzODkpInxDW0xEQVBdCiAgICBCIC0tPnwiRW5jcnlwdGVkIChQb3J0IDYzNikifERbTERBUFNdCiAgICBDIC0tPiBFW0RpcmVjdG9yeSBTZXJ2aWNlXQogICAgRCAtLT4gRQogICAgRSAtLT4gRltVc2VyIEluZm9ybWF0aW9uXQogICAgRSAtLT4gR1tHcm91cCBJbmZvcm1hdGlvbl0KICAgIEUgLS0-IEhbUmVzb3VyY2UgSW5mb3JtYXRpb25d?width=1000&height=700\"/>"
            ],
            "text/plain": [
              "<IPython.core.display.Image object>"
            ]
          },
          "metadata": {}
        }
      ]
    },
    {
      "cell_type": "markdown",
      "source": [
        "## Network Sharing and Messaging: SMB and SIP\n",
        "\n",
        "Network protocols that enable resource sharing and real-time communications are essential components of modern corporate and personal computing environments. Server Message Block (SMB) and Session Initiation Protocol (SIP) serve different but critical functions in networking: file/resource sharing and voice/video communication.\n",
        "\n",
        "**Server Message Block (SMB)** operates primarily on port 445 and enables network file sharing, printer access, and other resource sharing between computers.\n",
        "\n",
        "* SMB allows users to access, read, and write to remote files as if they were stored locally on their computer.\n",
        "* The protocol is the foundation of Windows networking and \"network neighborhoods,\" but is also supported on Linux and macOS systems through Samba implementations.\n",
        "* SMB has evolved through several versions with significant security improvements: SMBv1 (now considered insecure), SMBv2 (introduced with Windows Vista), and SMBv3 (added encryption and performance improvements).\n",
        "\n",
        "**Session Initiation Protocol (SIP)** operates on ports 5060 (unsecured) and 5061 (TLS-secured) and is used for initiating, maintaining, and terminating real-time communication sessions.\n",
        "\n",
        "* SIP is primarily used for Voice over IP (VoIP) communications, video conferencing, instant messaging, and other multimedia communications.\n",
        "* The protocol handles session establishment, modification, and termination but does not carry the actual voice or video data (which is typically handled by RTP, the Real-time Transport Protocol).\n",
        "* SIP uses a text-based format similar to HTTP and follows a client-server model where endpoints can function as both clients (User Agents) and servers.\n",
        "\n",
        "| Protocol | Ports | Primary Function | Common Applications |\n",
        "|----------|-------|------------------|---------------------|\n",
        "| SMB | 445 | File and resource sharing | Windows File Sharing, Network Drives |\n",
        "| SIP | 5060/5061 | Communication session management | VoIP, Video Conferencing, Instant Messaging |\n",
        "\n",
        "These protocols represent different aspects of network communication: SMB focuses on data and resource sharing, while SIP handles the setup and management of real-time communications. Both have become fundamental to business operations, with SMB enabling collaborative document work and SIP powering the shift from traditional telephony to IP-based communications."
      ],
      "metadata": {
        "id": "476vOqq6NoHL"
      }
    },
    {
      "cell_type": "markdown",
      "source": [
        "## Database Communication: SQL Server Connections\n",
        "\n",
        "Database systems form the backbone of many applications, storing and providing access to critical data. Understanding how network communications function for database systems, particularly SQL Server, is essential for properly configuring and securing these vital business resources.\n",
        "\n",
        "**Structured Query Language (SQL) Server** typically operates on port 1433 and provides a protocol for applications to communicate with Microsoft SQL Server databases over a network.\n",
        "\n",
        "* SQL Server communications involve clients sending SQL queries to the database server and receiving results back, all through a specialized tabular data stream (TDS) protocol.\n",
        "* The standard port 1433 is used for the default SQL Server instance, while named instances might use dynamic ports or can be configured to use specific static ports.\n",
        "* Modern SQL Server implementations support encryption through TLS/SSL to protect sensitive data and authentication credentials during transmission.\n",
        "\n",
        "**Database connectivity** involves several components working together to establish and maintain connections between applications and database servers.\n",
        "\n",
        "* Client applications typically use drivers or connection libraries (like ODBC, JDBC, or ADO.NET) that implement the necessary protocols to communicate with SQL Server.\n",
        "* Connection pooling helps optimize performance by maintaining a set of pre-established database connections that can be reused by application requests.\n",
        "* Applications typically specify connection information including server address, port, database name, and authentication credentials to establish a database connection.\n",
        "\n",
        "Database security is particularly crucial as these systems often contain sensitive information. Best practices include:\n",
        "\n",
        "* Implementing encrypted connections using TLS/SSL certificates to protect data in transit.\n",
        "* Using strong authentication methods and avoiding SQL Server Authentication in favor of Windows Authentication where possible.\n",
        "* Configuring firewalls to restrict SQL Server port access to only necessary client systems and applications.\n",
        "* Regularly updating and patching SQL Server to protect against known vulnerabilities.\n",
        "\n",
        "Understanding SQL Server's network protocols and configuration options helps database administrators and network managers ensure efficient and secure database operations while maintaining proper network security controls."
      ],
      "metadata": {
        "id": "utjvVor9NsnK"
      }
    },
    {
      "cell_type": "markdown",
      "source": [
        "## Network Traffic Types: Unicast, Multicast, Broadcast and Anycast\n",
        "\n",
        "Networks use different transmission methods to deliver data efficiently based on the intended recipients. Understanding these traffic types helps in designing efficient networks and troubleshooting communication issues.\n",
        "\n",
        "**Unicast** is the most common form of network traffic, where data is sent from a single sender to a single specified recipient.\n",
        "\n",
        "* Every unicast packet contains a specific destination address that corresponds to exactly one recipient device.\n",
        "* Examples include browsing websites, sending emails, or transferring files to a specific server - all of which establish a one-to-one communication channel.\n",
        "* While simple and direct, unicast can be inefficient when the same data needs to be sent to multiple recipients, as separate connections must be established for each destination.\n",
        "\n",
        "**Multicast** enables a single sender to transmit data to a specific group of recipients simultaneously.\n",
        "\n",
        "* Multicast uses special group addresses (Class D IP addresses in IPv4, ranging from 224.0.0.0 to 239.255.255.255) to which interested receivers can subscribe.\n",
        "* This method is particularly efficient for applications like video streaming, IPTV, and software distribution where the same content needs to reach multiple recipients.\n",
        "* Multicast requires special network configuration and support from routers to function properly across network segments.\n",
        "\n",
        "**Broadcast** sends data to every device on a network segment, regardless of whether they need that information or not.\n",
        "\n",
        "* Broadcast messages use a special broadcast address (typically the highest address in a subnet, like 192.168.1.255 for a 192.168.1.0/24 network).\n",
        "* Common broadcast applications include ARP requests, DHCP discovery, and certain types of network announcements.\n",
        "* While useful for discovery protocols, excessive broadcast traffic can create network congestion and impact performance, particularly on large networks.\n",
        "\n",
        "**Anycast** allows multiple devices to share the same IP address, with traffic routed to the \"nearest\" or \"best\" device based on routing metrics.\n",
        "\n",
        "* From the sender's perspective, anycast appears to be unicast traffic, but the network infrastructure determines which of several possible destinations will receive the packet.\n",
        "* Anycast is commonly used for global services like DNS and content delivery networks (CDNs) to direct users to geographically closer servers.\n",
        "* This traffic type helps improve reliability, load balancing, and reduce latency for distributed services.\n",
        "\n",
        "\n",
        "The choice of traffic type significantly impacts network efficiency, scalability, and application performance. Modern networks typically use a combination of these methods depending on specific communication requirements."
      ],
      "metadata": {
        "id": "IKWl5v1mNu5L"
      }
    },
    {
      "cell_type": "code",
      "source": [
        "# @title\n",
        "mm(\"\"\"\n",
        "graph LR\n",
        "    A[Sender] --> B{Traffic Type}\n",
        "    B -->|One-to-One|C[Unicast]\n",
        "    B -->|One-to-Many Specific|D[Multicast]\n",
        "    B -->|One-to-All|E[Broadcast]\n",
        "    B -->|One-to-Nearest|F[Anycast]\n",
        "\"\"\")"
      ],
      "metadata": {
        "cellView": "form",
        "colab": {
          "base_uri": "https://localhost:8080/",
          "height": 722
        },
        "id": "tvgkQaNkNwrr",
        "outputId": "62ac450b-43f1-435e-f3e6-07d0b7d8c30d"
      },
      "execution_count": 8,
      "outputs": [
        {
          "output_type": "display_data",
          "data": {
            "text/html": [
              "<img src=\"https://mermaid.ink/img/CmdyYXBoIExSCiAgICBBW1NlbmRlcl0gLS0-IEJ7VHJhZmZpYyBUeXBlfQogICAgQiAtLT58T25lLXRvLU9uZXxDW1VuaWNhc3RdCiAgICBCIC0tPnxPbmUtdG8tTWFueSBTcGVjaWZpY3xEW011bHRpY2FzdF0KICAgIEIgLS0-fE9uZS10by1BbGx8RVtCcm9hZGNhc3RdCiAgICBCIC0tPnxPbmUtdG8tTmVhcmVzdHxGW0FueWNhc3RdCg==?width=1000&height=700\"/>"
            ],
            "text/plain": [
              "<IPython.core.display.Image object>"
            ]
          },
          "metadata": {}
        }
      ]
    },
    {
      "cell_type": "markdown",
      "source": [
        "## Conclusion: Putting It All Together - The Network Ecosystem\n",
        "\n",
        "Throughout this chapter we've explored a diverse range of networking protocols, ports, and services that together form the complex ecosystem of modern computer networks. These components don't operate in isolation but rather work together in layers to enable the networked applications we rely on every day.\n",
        "\n",
        "**Protocol Interdependence** reflects how higher-level protocols depend on lower-level protocols to function properly in the network stack.\n",
        "\n",
        "* Web browsing involves multiple protocols working together: DNS to resolve domain names, TCP to establish reliable connections, HTTP/HTTPS for web page transfer, and TLS for security.\n",
        "* Email delivery similarly relies on DNS for mail server location, SMTP/SMTPS for message delivery, and often IMAP or POP3 for message retrieval.\n",
        "* Even a simple file download might involve DNS resolution, TCP connection establishment, FTP or HTTP data transfer, and potentially SSH or TLS for security.\n",
        "\n",
        "**Security Considerations** have driven the evolution of many protocols, with newer versions emphasizing encryption and authentication.\n",
        "\n",
        "* The transition from unencrypted protocols (HTTP, FTP, Telnet) to their secured counterparts (HTTPS, SFTP, SSH) shows the increasing importance of network security.\n",
        "* Proper implementation of security measures like firewalls, access control lists, and protocol-specific security features is essential in today's threat landscape.\n",
        "* Understanding port numbers helps configure network security devices to permit legitimate traffic while blocking potential threats.\n",
        "\n",
        "As networks continue to evolve, new protocols emerge while older ones are enhanced or deprecated. A strong foundation in networking fundamentals allows IT professionals to adapt to these changes and maintain effective, secure network infrastructures. The protocols, ports, and services we've studied represent core knowledge that will remain relevant even as specific technologies change over time.\n",
        "\n",
        "Remember that effective network administration requires both technical knowledge of these protocols and practical experience in implementing, troubleshooting, and securing them. Continue to build on this foundation through hands-on practice, staying current with emerging technologies, and developing a deeper understanding of how these components interact in real-world network environments."
      ],
      "metadata": {
        "id": "pBJudUieOETj"
      }
    },
    {
      "cell_type": "code",
      "source": [
        "# @title\n",
        "mm(\"\"\"\n",
        "graph TD\n",
        "    A[Physical Network Infrastructure] --> B[Network Layer Protocols]\n",
        "    B --> C[Transport Layer Protocols]\n",
        "    C --> D[Application Layer Protocols]\n",
        "    D --> E[Network Services]\n",
        "\n",
        "    B -.-> F[IP, ICMP, IPSec]\n",
        "    C -.-> G[TCP, UDP]\n",
        "    D -.-> H[HTTP, SMTP, DNS, etc.]\n",
        "    E -.-> I[Web, Email, File Transfer, etc.]\"\"\")"
      ],
      "metadata": {
        "cellView": "form",
        "colab": {
          "base_uri": "https://localhost:8080/",
          "height": 722
        },
        "id": "_hNo4NOMOHi3",
        "outputId": "29fae6d3-02b7-406c-a845-56cd858f3975"
      },
      "execution_count": 9,
      "outputs": [
        {
          "output_type": "display_data",
          "data": {
            "text/html": [
              "<img src=\"https://mermaid.ink/img/CmdyYXBoIFRECiAgICBBW1BoeXNpY2FsIE5ldHdvcmsgSW5mcmFzdHJ1Y3R1cmVdIC0tPiBCW05ldHdvcmsgTGF5ZXIgUHJvdG9jb2xzXQogICAgQiAtLT4gQ1tUcmFuc3BvcnQgTGF5ZXIgUHJvdG9jb2xzXQogICAgQyAtLT4gRFtBcHBsaWNhdGlvbiBMYXllciBQcm90b2NvbHNdCiAgICBEIC0tPiBFW05ldHdvcmsgU2VydmljZXNdCiAgICAKICAgIEIgLS4tPiBGW0lQLCBJQ01QLCBJUFNlY10KICAgIEMgLS4tPiBHW1RDUCwgVURQXQogICAgRCAtLi0-IEhbSFRUUCwgU01UUCwgRE5TLCBldGMuXQogICAgRSAtLi0-IElbV2ViLCBFbWFpbCwgRmlsZSBUcmFuc2ZlciwgZXRjLl0=?width=1000&height=700\"/>"
            ],
            "text/plain": [
              "<IPython.core.display.Image object>"
            ]
          },
          "metadata": {}
        }
      ]
    },
    {
      "cell_type": "markdown",
      "source": [
        "## Common Network Ports and Protocols Summary\n",
        "\n",
        "| Category | Protocol | Port(s) | Transport | Description |\n",
        "|----------|----------|---------|-----------|-------------|\n",
        "| **Web Services** |\n",
        "| | HTTP | 80 | TCP | Basic web traffic |\n",
        "| | HTTPS | 443 | TCP | Secure web traffic |\n",
        "| **File Transfer** |\n",
        "| | FTP | 20/21 | TCP | File transfer (data/control) |\n",
        "| | SFTP | 22 | TCP | Secure file transfer |\n",
        "| | TFTP | 69 | UDP | Trivial file transfer |\n",
        "| | SMB | 445 | TCP | File/printer sharing |\n",
        "| **Remote Access** |\n",
        "| | SSH | 22 | TCP | Secure shell access |\n",
        "| | Telnet | 23 | TCP | Remote access (unsecure) |\n",
        "| | RDP | 3389 | TCP | Remote desktop |\n",
        "| **Email Services** |\n",
        "| | SMTP | 25 | TCP | Mail sending |\n",
        "| | SMTPS | 587 | TCP | Secure mail sending |\n",
        "| | POP3 | 110/995 | TCP | Mail retrieval |\n",
        "| | IMAP | 143/993 | TCP | Mail synchronization |\n",
        "| **Infrastructure Services** |\n",
        "| | DNS | 53 | UDP/TCP | Name resolution |\n",
        "| | DHCP | 67/68 | UDP | IP assignment |\n",
        "| | NTP | 123 | UDP | Time synchronization |\n",
        "| **Directory Services** |\n",
        "| | LDAP | 389 | TCP | Directory access |\n",
        "| | LDAPS | 636 | TCP | Secure directory access |\n",
        "| | RADIUS | 1812/1813 | UDP | Network authentication |\n",
        "| **Management** |\n",
        "| | SNMP | 161/162 | UDP | Network monitoring |\n",
        "| | Syslog | 514 | UDP | System logging |\n",
        "| **Communications** |\n",
        "| | SIP | 5060/5061 | TCP/UDP | VoIP signaling |\n",
        "| **Database** |\n",
        "| | SQL Server | 1433 | TCP | Database access |\n",
        "| | SQL Browser | 1434 | UDP | Instance discovery |\n",
        "\n",
        "Note: This table includes the most common ports for each protocol. Some protocols might use additional ports for specific features or in non-standard configurations."
      ],
      "metadata": {
        "id": "UnEgsfRQr6Rx"
      }
    },
    {
      "cell_type": "markdown",
      "source": [
        "## Quiz: Network Ports and Protocols"
      ],
      "metadata": {
        "id": "4mI_Ck70sV81"
      }
    },
    {
      "cell_type": "code",
      "source": [
        "# @title\n",
        "%%html\n",
        "<!DOCTYPE html>\n",
        "<html>\n",
        "<head>\n",
        "    <meta charset=\"UTF-8\">\n",
        "    <meta name=\"viewport\" content=\"width=device-width, initial-scale=1.0\">\n",
        "    <title>Protocol Quiz</title>\n",
        "    <style>\n",
        "        /* Basic reset */\n",
        "        * { box-sizing: border-box; margin: 0; padding: 0; }\n",
        "        body {\n",
        "            background: #f4f4f9;\n",
        "            font-family: 'Segoe UI', Tahoma, Geneva, Verdana, sans-serif;\n",
        "            display: flex;\n",
        "            align-items: center;\n",
        "            justify-content: center;\n",
        "            min-height: 100vh;\n",
        "            padding: 1em;\n",
        "        }\n",
        "        .container {\n",
        "            background: #fff;\n",
        "            padding: 2em;\n",
        "            border-radius: 8px;\n",
        "            box-shadow: 0 4px 10px rgba(0, 0, 0, 0.1);\n",
        "            max-width: 400px;\n",
        "            width: 100%;\n",
        "        }\n",
        "        h2 {\n",
        "            text-align: center;\n",
        "            margin-bottom: 1em;\n",
        "            color: #333;\n",
        "        }\n",
        "        p, label {\n",
        "            color: #555;\n",
        "            font-size: 1rem;\n",
        "            margin-bottom: 0.5em;\n",
        "        }\n",
        "        input[type=\"text\"],\n",
        "        input[type=\"number\"] {\n",
        "            width: 100%;\n",
        "            padding: 0.75em;\n",
        "            margin-bottom: 1em;\n",
        "            border: 1px solid #ccc;\n",
        "            border-radius: 4px;\n",
        "            font-size: 1rem;\n",
        "            transition: border-color 0.3s;\n",
        "        }\n",
        "        input[type=\"text\"]:focus,\n",
        "        input[type=\"number\"]:focus {\n",
        "            border-color: #5a67d8;\n",
        "            outline: none;\n",
        "        }\n",
        "        button {\n",
        "            width: 100%;\n",
        "            padding: 0.75em;\n",
        "            border: none;\n",
        "            background: #5a67d8;\n",
        "            color: #fff;\n",
        "            border-radius: 4px;\n",
        "            font-size: 1rem;\n",
        "            cursor: pointer;\n",
        "            transition: background 0.3s;\n",
        "        }\n",
        "        button:hover {\n",
        "            background: #434190;\n",
        "        }\n",
        "        #feedback {\n",
        "            margin-top: 1em;\n",
        "            text-align: center;\n",
        "            font-weight: bold;\n",
        "            color: #d53f8c;\n",
        "        }\n",
        "    </style>\n",
        "</head>\n",
        "<body>\n",
        "    <div class=\"container\">\n",
        "        <h2>Protocol Quiz</h2>\n",
        "        <p>Abbreviation: <strong id=\"abbr\"></strong></p>\n",
        "        <label for=\"name\">Full Name:</label>\n",
        "        <input type=\"text\" id=\"name\" placeholder=\"Enter full name\">\n",
        "        <label for=\"port\">Port Number:</label>\n",
        "        <input type=\"number\" id=\"port\" placeholder=\"Enter port number\">\n",
        "        <label for=\"protocol\">Protocol (TCP, UDP, or both):</label>\n",
        "        <input type=\"text\" id=\"protocol\" placeholder=\"Enter protocol\">\n",
        "        <button id=\"submitBtn\">Submit</button>\n",
        "        <p id=\"feedback\"></p>\n",
        "    </div>\n",
        "\n",
        "    <script>\n",
        "        (function() {\n",
        "            const protocols = [\n",
        "                {abbr: \"FTP\", name: \"File Transfer Protocol\", port: [20, 21], protocol: \"TCP\"},\n",
        "                {abbr: \"SFTP\", name: \"Secure File Transfer Protocol\", port: [22], protocol: \"TCP\"},\n",
        "                {abbr: \"TFTP\", name: \"Trivial File Transfer Protocol\", port: [69], protocol: \"UDP\"},\n",
        "                {abbr: \"SSH\", name: \"Secure Shell\", port: [22], protocol: \"TCP\"},\n",
        "                {abbr: \"Telnet\", name: \"Teletype Network\", port: [23], protocol: \"TCP\"},\n",
        "                {abbr: \"SMTP\", name: \"Simple Mail Transfer Protocol\", port: [25], protocol: \"TCP\"},\n",
        "                {abbr: \"SMTPS\", name: \"Secure SMTP\", port: [465, 587], protocol: \"TCP\"},\n",
        "                {abbr: \"POP3\", name: \"Post Office Protocol v3\", port: [110], protocol: \"TCP\"},\n",
        "                {abbr: \"POP3S\", name: \"Secure POP3\", port: [995], protocol: \"TCP\"},\n",
        "                {abbr: \"IMAP\", name: \"Internet Message Access Protocol\", port: [143], protocol: \"TCP\"},\n",
        "                {abbr: \"IMAPS\", name: \"Secure IMAP\", port: [993], protocol: \"TCP\"},\n",
        "                {abbr: \"DNS\", name: \"Domain Name System\", port: [53], protocol: \"UDP/TCP\"},\n",
        "                {abbr: \"DHCP\", name: \"Dynamic Host Configuration Protocol\", port: [67, 68], protocol: \"UDP\"},\n",
        "                {abbr: \"HTTP\", name: \"Hypertext Transfer Protocol\", port: [80], protocol: \"TCP\"},\n",
        "                {abbr: \"HTTPS\", name: \"Hypertext Transfer Protocol Secure\", port: [443], protocol: \"TCP\"},\n",
        "                {abbr: \"NTP\", name: \"Network Time Protocol\", port: [123], protocol: \"UDP\"},\n",
        "                {abbr: \"SNMP\", name: \"Simple Network Management Protocol\", port: [161, 162], protocol: \"UDP\"},\n",
        "                {abbr: \"LDAP\", name: \"Lightweight Directory Access Protocol\", port: [389], protocol: \"TCP/UDP\"},\n",
        "                {abbr: \"LDAPS\", name: \"Secure LDAP\", port: [636], protocol: \"TCP\"},\n",
        "                {abbr: \"SMB\", name: \"Server Message Block\", port: [445], protocol: \"TCP\"},\n",
        "                {abbr: \"Syslog\", name: \"System Logging Protocol\", port: [514], protocol: \"UDP\"},\n",
        "                {abbr: \"Syslog-TLS\", name: \"Secure Syslog\", port: [6514], protocol: \"TCP\"},\n",
        "                {abbr: \"SQL Server\", name: \"Microsoft SQL Server Database Protocol\", port: [1433], protocol: \"TCP\"},\n",
        "                {abbr: \"RDP\", name: \"Remote Desktop Protocol\", port: [3389], protocol: \"TCP/UDP\"},\n",
        "                {abbr: \"SIP\", name: \"Session Initiation Protocol\", port: [5060, 5061], protocol: \"TCP/UDP\"}\n",
        "            ];\n",
        "\n",
        "            /** **shuffle**: A function that rearranges an array into a random order.\n",
        "             * This implementation uses the **Fisher-Yates algorithm** for an unbiased shuffle.\n",
        "             */\n",
        "            function shuffle(array) {\n",
        "                for (let i = array.length - 1; i > 0; i--) {\n",
        "                    const j = Math.floor(Math.random() * (i + 1));\n",
        "                    [array[i], array[j]] = [array[j], array[i]];\n",
        "                }\n",
        "            }\n",
        "\n",
        "            shuffle(protocols);\n",
        "            let currentIndex = 0;\n",
        "\n",
        "            function loadQuestion() {\n",
        "                const q = protocols[currentIndex];\n",
        "                document.getElementById(\"abbr\").textContent = q.abbr;\n",
        "                document.getElementById(\"feedback\").textContent = \"\";\n",
        "                document.getElementById(\"name\").value = \"\";\n",
        "                document.getElementById(\"port\").value = \"\";\n",
        "                document.getElementById(\"protocol\").value = \"\";\n",
        "            }\n",
        "\n",
        "            function checkAnswer() {\n",
        "                const q = protocols[currentIndex];\n",
        "                const nameInput = document.getElementById(\"name\").value.trim().toLowerCase();\n",
        "                const portInput = parseInt(document.getElementById(\"port\").value, 10);\n",
        "                const protocolInput = document.getElementById(\"protocol\").value.trim().toUpperCase();\n",
        "\n",
        "                const correctName = q.name.toLowerCase();\n",
        "                const correctPorts = q.port;\n",
        "                const correctProtocol = q.protocol.toUpperCase();\n",
        "\n",
        "                let feedback = \"\";\n",
        "\n",
        "                if (nameInput !== correctName) {\n",
        "                    const nameParts = q.name.split(\" \");\n",
        "                    const randomWord = nameParts[Math.floor(Math.random() * nameParts.length)];\n",
        "                    feedback += `Incorrect full name. Hint: it includes **${randomWord}**. `;\n",
        "                }\n",
        "\n",
        "                if (!correctPorts.includes(portInput)) {\n",
        "                    const minPort = Math.min(...correctPorts);\n",
        "                    const maxPort = Math.max(...correctPorts);\n",
        "                    if (portInput < minPort) {\n",
        "                        feedback += `Port number is too low. `;\n",
        "                    } else if (portInput > maxPort) {\n",
        "                        feedback += `Port number is too high. `;\n",
        "                    } else {\n",
        "                        feedback += `Incorrect port. Valid ports: ${correctPorts.join(\" or \")}. `;\n",
        "                    }\n",
        "                }\n",
        "\n",
        "                if (correctProtocol !== protocolInput) {\n",
        "                    feedback += `Incorrect protocol type. Expected ${correctProtocol}. `;\n",
        "                }\n",
        "\n",
        "                if (feedback === \"\") {\n",
        "                    feedback = \"Correct! Moving to next question.\";\n",
        "                    currentIndex++;\n",
        "                    if (currentIndex < protocols.length) {\n",
        "                        setTimeout(loadQuestion, 1000);\n",
        "                    } else {\n",
        "                        feedback = \"Quiz complete! Well done.\";\n",
        "                    }\n",
        "                }\n",
        "\n",
        "                document.getElementById(\"feedback\").textContent = feedback;\n",
        "            }\n",
        "\n",
        "            document.getElementById(\"submitBtn\").addEventListener(\"click\", checkAnswer);\n",
        "            loadQuestion();\n",
        "        })();\n",
        "    </script>\n",
        "</body>\n",
        "</html>\n"
      ],
      "metadata": {
        "cellView": "form",
        "colab": {
          "base_uri": "https://localhost:8080/",
          "height": 458
        },
        "id": "cRoGE5Dusaa1",
        "outputId": "1cff73e6-5b27-43fb-c617-5a26460c26e7"
      },
      "execution_count": null,
      "outputs": [
        {
          "output_type": "display_data",
          "data": {
            "text/plain": [
              "<IPython.core.display.HTML object>"
            ],
            "text/html": [
              "<!DOCTYPE html>\n",
              "<html>\n",
              "<head>\n",
              "    <meta charset=\"UTF-8\">\n",
              "    <meta name=\"viewport\" content=\"width=device-width, initial-scale=1.0\">\n",
              "    <title>Protocol Quiz</title>\n",
              "    <style>\n",
              "        /* Basic reset */\n",
              "        * { box-sizing: border-box; margin: 0; padding: 0; }\n",
              "        body {\n",
              "            background: #f4f4f9;\n",
              "            font-family: 'Segoe UI', Tahoma, Geneva, Verdana, sans-serif;\n",
              "            display: flex;\n",
              "            align-items: center;\n",
              "            justify-content: center;\n",
              "            min-height: 100vh;\n",
              "            padding: 1em;\n",
              "        }\n",
              "        .container {\n",
              "            background: #fff;\n",
              "            padding: 2em;\n",
              "            border-radius: 8px;\n",
              "            box-shadow: 0 4px 10px rgba(0, 0, 0, 0.1);\n",
              "            max-width: 400px;\n",
              "            width: 100%;\n",
              "        }\n",
              "        h2 {\n",
              "            text-align: center;\n",
              "            margin-bottom: 1em;\n",
              "            color: #333;\n",
              "        }\n",
              "        p, label {\n",
              "            color: #555;\n",
              "            font-size: 1rem;\n",
              "            margin-bottom: 0.5em;\n",
              "        }\n",
              "        input[type=\"text\"],\n",
              "        input[type=\"number\"] {\n",
              "            width: 100%;\n",
              "            padding: 0.75em;\n",
              "            margin-bottom: 1em;\n",
              "            border: 1px solid #ccc;\n",
              "            border-radius: 4px;\n",
              "            font-size: 1rem;\n",
              "            transition: border-color 0.3s;\n",
              "        }\n",
              "        input[type=\"text\"]:focus,\n",
              "        input[type=\"number\"]:focus {\n",
              "            border-color: #5a67d8;\n",
              "            outline: none;\n",
              "        }\n",
              "        button {\n",
              "            width: 100%;\n",
              "            padding: 0.75em;\n",
              "            border: none;\n",
              "            background: #5a67d8;\n",
              "            color: #fff;\n",
              "            border-radius: 4px;\n",
              "            font-size: 1rem;\n",
              "            cursor: pointer;\n",
              "            transition: background 0.3s;\n",
              "        }\n",
              "        button:hover {\n",
              "            background: #434190;\n",
              "        }\n",
              "        #feedback {\n",
              "            margin-top: 1em;\n",
              "            text-align: center;\n",
              "            font-weight: bold;\n",
              "            color: #d53f8c;\n",
              "        }\n",
              "    </style>\n",
              "</head>\n",
              "<body>\n",
              "    <div class=\"container\">\n",
              "        <h2>Protocol Quiz</h2>\n",
              "        <p>Abbreviation: <strong id=\"abbr\"></strong></p>\n",
              "        <label for=\"name\">Full Name:</label>\n",
              "        <input type=\"text\" id=\"name\" placeholder=\"Enter full name\">\n",
              "        <label for=\"port\">Port Number:</label>\n",
              "        <input type=\"number\" id=\"port\" placeholder=\"Enter port number\">\n",
              "        <label for=\"protocol\">Protocol (TCP, UDP, or both):</label>\n",
              "        <input type=\"text\" id=\"protocol\" placeholder=\"Enter protocol\">\n",
              "        <button id=\"submitBtn\">Submit</button>\n",
              "        <p id=\"feedback\"></p>\n",
              "    </div>\n",
              "\n",
              "    <script>\n",
              "        (function() {\n",
              "            const protocols = [\n",
              "                {abbr: \"FTP\", name: \"File Transfer Protocol\", port: [20, 21], protocol: \"TCP\"},\n",
              "                {abbr: \"SFTP\", name: \"Secure File Transfer Protocol\", port: [22], protocol: \"TCP\"},\n",
              "                {abbr: \"TFTP\", name: \"Trivial File Transfer Protocol\", port: [69], protocol: \"UDP\"},\n",
              "                {abbr: \"SSH\", name: \"Secure Shell\", port: [22], protocol: \"TCP\"},\n",
              "                {abbr: \"Telnet\", name: \"Teletype Network\", port: [23], protocol: \"TCP\"},\n",
              "                {abbr: \"SMTP\", name: \"Simple Mail Transfer Protocol\", port: [25], protocol: \"TCP\"},\n",
              "                {abbr: \"SMTPS\", name: \"Secure SMTP\", port: [465, 587], protocol: \"TCP\"},\n",
              "                {abbr: \"POP3\", name: \"Post Office Protocol v3\", port: [110], protocol: \"TCP\"},\n",
              "                {abbr: \"POP3S\", name: \"Secure POP3\", port: [995], protocol: \"TCP\"},\n",
              "                {abbr: \"IMAP\", name: \"Internet Message Access Protocol\", port: [143], protocol: \"TCP\"},\n",
              "                {abbr: \"IMAPS\", name: \"Secure IMAP\", port: [993], protocol: \"TCP\"},\n",
              "                {abbr: \"DNS\", name: \"Domain Name System\", port: [53], protocol: \"UDP/TCP\"},\n",
              "                {abbr: \"DHCP\", name: \"Dynamic Host Configuration Protocol\", port: [67, 68], protocol: \"UDP\"},\n",
              "                {abbr: \"HTTP\", name: \"Hypertext Transfer Protocol\", port: [80], protocol: \"TCP\"},\n",
              "                {abbr: \"HTTPS\", name: \"Hypertext Transfer Protocol Secure\", port: [443], protocol: \"TCP\"},\n",
              "                {abbr: \"NTP\", name: \"Network Time Protocol\", port: [123], protocol: \"UDP\"},\n",
              "                {abbr: \"SNMP\", name: \"Simple Network Management Protocol\", port: [161, 162], protocol: \"UDP\"},\n",
              "                {abbr: \"LDAP\", name: \"Lightweight Directory Access Protocol\", port: [389], protocol: \"TCP/UDP\"},\n",
              "                {abbr: \"LDAPS\", name: \"Secure LDAP\", port: [636], protocol: \"TCP\"},\n",
              "                {abbr: \"SMB\", name: \"Server Message Block\", port: [445], protocol: \"TCP\"},\n",
              "                {abbr: \"Syslog\", name: \"System Logging Protocol\", port: [514], protocol: \"UDP\"},\n",
              "                {abbr: \"Syslog-TLS\", name: \"Secure Syslog\", port: [6514], protocol: \"TCP\"},\n",
              "                {abbr: \"SQL Server\", name: \"Microsoft SQL Server Database Protocol\", port: [1433], protocol: \"TCP\"},\n",
              "                {abbr: \"RDP\", name: \"Remote Desktop Protocol\", port: [3389], protocol: \"TCP/UDP\"},\n",
              "                {abbr: \"SIP\", name: \"Session Initiation Protocol\", port: [5060, 5061], protocol: \"TCP/UDP\"}\n",
              "            ];\n",
              "\n",
              "            /** **shuffle**: A function that rearranges an array into a random order.\n",
              "             * This implementation uses the **Fisher-Yates algorithm** for an unbiased shuffle.\n",
              "             */\n",
              "            function shuffle(array) {\n",
              "                for (let i = array.length - 1; i > 0; i--) {\n",
              "                    const j = Math.floor(Math.random() * (i + 1));\n",
              "                    [array[i], array[j]] = [array[j], array[i]];\n",
              "                }\n",
              "            }\n",
              "\n",
              "            shuffle(protocols);\n",
              "            let currentIndex = 0;\n",
              "\n",
              "            function loadQuestion() {\n",
              "                const q = protocols[currentIndex];\n",
              "                document.getElementById(\"abbr\").textContent = q.abbr;\n",
              "                document.getElementById(\"feedback\").textContent = \"\";\n",
              "                document.getElementById(\"name\").value = \"\";\n",
              "                document.getElementById(\"port\").value = \"\";\n",
              "                document.getElementById(\"protocol\").value = \"\";\n",
              "            }\n",
              "\n",
              "            function checkAnswer() {\n",
              "                const q = protocols[currentIndex];\n",
              "                const nameInput = document.getElementById(\"name\").value.trim().toLowerCase();\n",
              "                const portInput = parseInt(document.getElementById(\"port\").value, 10);\n",
              "                const protocolInput = document.getElementById(\"protocol\").value.trim().toUpperCase();\n",
              "\n",
              "                const correctName = q.name.toLowerCase();\n",
              "                const correctPorts = q.port;\n",
              "                const correctProtocol = q.protocol.toUpperCase();\n",
              "\n",
              "                let feedback = \"\";\n",
              "\n",
              "                if (nameInput !== correctName) {\n",
              "                    const nameParts = q.name.split(\" \");\n",
              "                    const randomWord = nameParts[Math.floor(Math.random() * nameParts.length)];\n",
              "                    feedback += `Incorrect full name. Hint: it includes **${randomWord}**. `;\n",
              "                }\n",
              "\n",
              "                if (!correctPorts.includes(portInput)) {\n",
              "                    const minPort = Math.min(...correctPorts);\n",
              "                    const maxPort = Math.max(...correctPorts);\n",
              "                    if (portInput < minPort) {\n",
              "                        feedback += `Port number is too low. `;\n",
              "                    } else if (portInput > maxPort) {\n",
              "                        feedback += `Port number is too high. `;\n",
              "                    } else {\n",
              "                        feedback += `Incorrect port. Valid ports: ${correctPorts.join(\" or \")}. `;\n",
              "                    }\n",
              "                }\n",
              "\n",
              "                if (correctProtocol !== protocolInput) {\n",
              "                    feedback += `Incorrect protocol type. Expected ${correctProtocol}. `;\n",
              "                }\n",
              "\n",
              "                if (feedback === \"\") {\n",
              "                    feedback = \"Correct! Moving to next question.\";\n",
              "                    currentIndex++;\n",
              "                    if (currentIndex < protocols.length) {\n",
              "                        setTimeout(loadQuestion, 1000);\n",
              "                    } else {\n",
              "                        feedback = \"Quiz complete! Well done.\";\n",
              "                    }\n",
              "                }\n",
              "\n",
              "                document.getElementById(\"feedback\").textContent = feedback;\n",
              "            }\n",
              "\n",
              "            document.getElementById(\"submitBtn\").addEventListener(\"click\", checkAnswer);\n",
              "            loadQuestion();\n",
              "        })();\n",
              "    </script>\n",
              "</body>\n",
              "</html>\n"
            ]
          },
          "metadata": {}
        }
      ]
    },
    {
      "cell_type": "markdown",
      "source": [
        "## Loop of the Recursive Dragon: Ports and Protocols\n",
        "You can click here to launch a review game.\n",
        "\n",
        "https://brendanpshea.github.io/LotRD/?set=nw_03_protocols.json"
      ],
      "metadata": {
        "id": "zfPfdhS7xbqT"
      }
    },
    {
      "cell_type": "markdown",
      "source": [
        "## Review With Quizlet"
      ],
      "metadata": {
        "id": "h0t66g7axCWD"
      }
    },
    {
      "cell_type": "code",
      "source": [
        "%%html\n",
        "<iframe src=\"https://quizlet.com/988785878/learn/embed?i=psvlh&x=1jj1\" height=\"600\" width=\"100%\" style=\"border:0\"></iframe>"
      ],
      "metadata": {
        "id": "JMVlzGItxCBY"
      },
      "execution_count": null,
      "outputs": []
    },
    {
      "cell_type": "markdown",
      "source": [
        "## Glossary\n",
        "\n",
        "| **Term** | **Definition** |\n",
        "|----------|--------------|\n",
        "| **Port** | A numerical identifier distinguishing specific processes or services on a device, commonly associated with network protocols (e.g., 80 for HTTP, 443 for HTTPS). |\n",
        "| **Protocol** | A set of rules and conventions for communication between devices in a network, defining data formats, transmission methods, and error handling (e.g., HyperText Transfer Protocol, File Transfer Protocol, Domain Name System). |\n",
        "| **Transmission Control Protocol (TCP)** | A connection-oriented method ensuring reliable data transmission across networks, utilizing acknowledgments, error checking, and retransmissions. |\n",
        "| **TCP Handshake** | A three-step process (SYN, SYN-ACK, ACK) used to establish a connection between a client and server, ensuring reliable data exchange. |\n",
        "| **User Datagram Protocol (UDP)** | A connectionless method that enables fast but less reliable data transmission, often used for streaming and gaming due to its lack of error correction and acknowledgment. |\n",
        "| **Secure Shell (SSH)** | A protocol enabling secure remote access and file transfers, using encryption to protect communications. Operates on TCP port 22. |\n",
        "| **Transport Layer Security (TLS)** | A cryptographic protocol providing secure communication over a network, commonly used for web traffic encryption. Often layered with other protocols like HyperText Transfer Protocol Secure. |\n",
        "| **Telecommunication Network (Telnet)** | A protocol used for remote command-line access to devices, typically unencrypted, making it less secure. Operates on TCP port 23. |\n",
        "| **Domain Name System (DNS)** | A system translating human-readable domain names into IP addresses, essential for locating devices on a network. Typically operates on UDP port 53. |\n",
        "| **Dynamic Host Configuration Protocol (DHCP)** | A protocol for dynamically assigning IP addresses to devices on a network, ensuring efficient address allocation. Operates on UDP ports 67 (server) and 68 (client). |\n",
        "| **Lightweight Directory Access Protocol (LDAP)** | A protocol for accessing and managing directory information, often used in authentication systems. Operates on TCP/UDP port 389. |\n",
        "| **Lightweight Directory Access Protocol Secure (LDAPS)** | A secure version of Lightweight Directory Access Protocol using Transport Layer Security or Secure Sockets Layer for encrypted communication. Operates on TCP port 636. |\n",
        "| **File Transfer Protocol (FTP)** | A protocol for transferring files between a client and a server, typically operating on TCP ports 20 and 21. |\n",
        "| **Secure File Transfer Protocol (SFTP)** | A secure method for file transfer using Secure Shell encryption, operating on TCP port 22. |\n",
        "| **Trivial File Transfer Protocol (TFTP)** | A simplified, connectionless method for file transfer, often used for network booting and firmware updates. Operates on UDP port 69. |\n",
        "| **HyperText Transfer Protocol (HTTP)** | A protocol for transmitting hypertext and other resources over the web, typically operating on TCP port 80. |\n",
        "| **HyperText Transfer Protocol Secure (HTTPS)** | A secure version of HyperText Transfer Protocol using Transport Layer Security or Secure Sockets Layer to encrypt communication, typically operating on TCP port 443. |\n",
        "| **Simple Mail Transfer Protocol (SMTP)** | A protocol for sending email messages, typically operating on TCP port 25 or 587. |\n",
        "| **Secure Simple Mail Transfer Protocol (SMTPS)** | A secure version of Simple Mail Transfer Protocol using Transport Layer Security or Secure Sockets Layer for encrypted email transmission, operating on TCP port 465. |\n",
        "| **Post Office Protocol version 3 (POP3)** | A protocol for retrieving email from a server, typically downloading messages to a client. Operates on TCP port 110 (unencrypted) and 995 (encrypted). |\n",
        "| **Internet Message Access Protocol (IMAP)** | A protocol for accessing email messages stored on a server, allowing synchronization across multiple devices. Operates on TCP port 143 (unencrypted) and 993 (encrypted). |\n",
        "| **Simple Network Management Protocol (SNMP)** | A protocol used for monitoring and managing devices on a network, such as routers and switches. Operates on UDP ports 161 (agent) and 162 (trap messages). |\n",
        "| **System Logging Protocol (Syslog)** | A protocol for transmitting log messages from devices to a central logging server. Commonly operates over UDP port 514. |\n",
        "| **Server Message Block (SMB)** | A protocol for sharing files, printers, and other resources between devices on a network. Operates on TCP port 445. |\n",
        "| **Session Initiation Protocol (SIP)** | A protocol used for initiating, maintaining, and terminating multimedia communication sessions such as VoIP calls. Typically operates on TCP/UDP ports 5060 and 5061. |\n",
        "| **Remote Desktop Protocol (RDP)** | A protocol enabling remote access to a graphical user interface on a Windows machine. Operates on TCP port 3389. |\n",
        "| **SQL Server Protocol** | A protocol for communicating with Microsoft SQL Server databases, typically using TCP port 1433. |\n",
        "| **Root Server (DNS)** | A foundational DNS server that provides information about top-level domain (TLD) servers, enabling domain name resolution to begin. |\n",
        "| **Top-Level Domain (TLD) Server (DNS)** | A DNS server responsible for handling requests related to specific top-level domains, such as .com or .org. |\n",
        "| **Authoritative Server (DNS)** | A DNS server that holds the definitive records for a domain, providing accurate answers for queries about that domain. |\n",
        "| **Domain Name System Security Extensions (DNSSEC)** | A suite of security measures that add authentication to DNS, ensuring integrity and preventing spoofing. |\n",
        "| **Generic Routing Encapsulation (GRE)** | A tunneling protocol that encapsulates packets for transmission over another protocol, often used for creating VPNs. |\n",
        "| **Internet Protocol Security (IPSec)** | A suite of protocols for securing IP communications, providing encryption, integrity, and authentication. Operates on protocols 50 (ESP) and 51 (AH). |\n",
        "| **Authentication Header (AH)** | A component of Internet Protocol Security providing data integrity, authentication, and anti-replay protection without encryption. |\n",
        "| **Encapsulating Security Payload (ESP)** | A component of Internet Protocol Security providing encryption, data integrity, authentication, and anti-replay protection. |\n",
        "| **Internet Control Message Protocol (ICMP)** | A protocol used for sending diagnostic and error messages in networks, such as ping and traceroute. Operates directly over IP, without a port number. |\n",
        "| **Unicast** | A communication method where data is sent from a single source to a single destination. |\n",
        "| **Broadcast** | A communication method where data is sent from a single source to all devices on a network. |\n",
        "| **Multicast** | A communication method where data is sent from a single source to multiple specified destinations within a group. |\n",
        "| **Anycast** | A communication method where data is sent from a single source to the nearest or best recipient in a group of potential destinations. |"
      ],
      "metadata": {
        "id": "PKGa2yC2xmPs"
      }
    },
    {
      "cell_type": "code",
      "source": [],
      "metadata": {
        "id": "Ys62UKYdx56t"
      },
      "execution_count": null,
      "outputs": []
    }
  ]
}