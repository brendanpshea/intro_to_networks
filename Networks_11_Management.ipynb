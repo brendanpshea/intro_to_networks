{
  "nbformat": 4,
  "nbformat_minor": 0,
  "metadata": {
    "colab": {
      "provenance": [],
      "authorship_tag": "ABX9TyNvZGP1p/r9bzNKldhDb05O",
      "include_colab_link": true
    },
    "kernelspec": {
      "name": "python3",
      "display_name": "Python 3"
    },
    "language_info": {
      "name": "python"
    }
  },
  "cells": [
    {
      "cell_type": "markdown",
      "metadata": {
        "id": "view-in-github",
        "colab_type": "text"
      },
      "source": [
        "<a href=\"https://colab.research.google.com/github/brendanpshea/intro_to_networks/blob/main/Networks_11_Management.ipynb\" target=\"_parent\"><img src=\"https://colab.research.google.com/assets/colab-badge.svg\" alt=\"Open In Colab\"/></a>"
      ]
    },
    {
      "cell_type": "markdown",
      "source": [
        "## Introduction to Network Documentation & Management\n",
        "\n",
        "Network documentation and management form the backbone of any successful IT infrastructure. These practices ensure that networks operate efficiently, securely, and reliably while minimizing downtime and troubleshooting time. **Network documentation** refers to the collection of detailed records about network components, configurations, and connections that provide a comprehensive view of the network's structure and operation. **Network management** encompasses the processes and procedures used to maintain, monitor, and optimize network performance throughout its lifecycle.\n",
        "\n",
        "Key benefits of proper network documentation and management include:\n",
        "* Reduced troubleshooting time when issues arise since technicians can quickly understand the network layout and configuration\n",
        "* Improved security through complete visibility of all network components and their relationships\n",
        "* Enhanced business continuity with documented recovery procedures and backup configurations\n",
        "* More efficient onboarding for new IT staff who can rely on documentation to understand the existing infrastructure\n",
        "* Better resource allocation and planning for future network growth or changes\n",
        "\n",
        "In this chapter, we will explore the various types of network documentation, management processes, and best practices that form the foundation of a well-maintained network infrastructure. From physical diagrams to configuration management, these tools and concepts are essential skills for network professionals at all levels."
      ],
      "metadata": {
        "id": "bJcl9IRAFvEK"
      }
    },
    {
      "cell_type": "markdown",
      "source": [
        "## Understanding Organizational Processes & Procedures\n",
        "\n",
        "IT departments rely on standardized organizational processes and procedures to ensure consistency, efficiency, and reliability across network operations. These structured frameworks guide technicians through various aspects of network management, from installation to troubleshooting, ultimately reducing human error and creating accountability throughout the organization.\n",
        "\n",
        "The implementation of **standard operating procedures (SOPs)** provides step-by-step instructions for performing specific network tasks like switch configuration or troubleshooting connectivity issues. Organizations often supplement these SOPs with **workflow diagrams** that visually represent complex processes, showing the sequence of activities and decision points for team members. When network changes become necessary, proper **change control procedures** establish formal processes for requesting, evaluating, and implementing modifications to prevent unexpected outages.\n",
        "\n",
        "Key benefits of well-defined organizational processes include:\n",
        "* Network administrators can resolve issues faster through consistent approaches to common problems\n",
        "* IT teams experience decreased network downtime by avoiding configuration errors through standardized procedures\n",
        "* New technicians can quickly become productive by following established documentation standards\n",
        "* Critical incidents receive appropriate attention through clearly defined escalation paths that direct issues to the right support tier\n",
        "* Communication between technical and non-technical staff improves with standardized terminology and reporting formats\n",
        "\n",
        "For example, when implementing a new firewall, an organization's change control procedure might require:\n",
        "1. A detailed change request form documenting the current configuration and proposed changes\n",
        "2. Risk assessment and backup plan creation before implementation\n",
        "3. Approval from both IT management and affected business units\n",
        "4. Implementation during a designated maintenance window\n",
        "5. Post-change testing and documentation updates"
      ],
      "metadata": {
        "id": "aXfweVsZFvs5"
      }
    },
    {
      "cell_type": "markdown",
      "source": [
        "## Network Documentation Fundamentals\n",
        "\n",
        "Comprehensive **network documentation** serves as the foundation for effective IT operations by providing detailed records of all network components, configurations, and relationships. Well-maintained documentation enables faster troubleshooting, smoother onboarding, and more effective planning for future network changes or expansions.\n",
        "\n",
        "Creating effective network documentation involves several essential components:\n",
        "\n",
        "* Accurate **baseline documentation** captures the normal operating conditions of your network, making it easier to identify when something isn't functioning properly.\n",
        "* Regular **documentation reviews** should occur at least quarterly to ensure all information remains current as networks evolve.\n",
        "* Establishing clear **documentation standards** ensures consistency across all network records regardless of who creates them.\n",
        "* Proper **version control** maintains a history of documentation changes, allowing teams to understand when and why modifications were made.\n",
        "\n",
        "A fundamental documentation system should include:\n",
        "1. Contact information for all network administrators and vendors\n",
        "2. Network device inventory with model numbers, serial numbers, and locations\n",
        "3. IP addressing schemes and subnet information\n",
        "4. Authentication methods and access control policies\n",
        "5. Recovery procedures for critical network services\n",
        "\n",
        "For example, when a college or corporate campus experiences connectivity issues between buildings, properly documented **network topology** (the physical and logical layout of network devices and connections) allows the IT team to quickly identify potential failure points without needing to physically trace cables or connections. This reduces downtime and minimizes disruption to classroom activities."
      ],
      "metadata": {
        "id": "ZSB8NpuVF74w"
      }
    },
    {
      "cell_type": "markdown",
      "source": [
        "## Physical vs. Logical Network Diagrams\n",
        "\n",
        "Network technicians rely on two complementary types of diagrams to fully understand and manage network infrastructure. **Physical network diagrams** show the actual hardware components and their physical connections, including precise cable paths and equipment locations. These diagrams help technicians locate devices, plan for physical maintenance, and troubleshoot hardware issues.\n",
        "\n",
        "**Logical network diagrams**, by contrast, represent how data flows through the network regardless of physical implementation. These diagrams focus on IP addressing schemes, subnets, VLANs, and routing protocols, making them invaluable when troubleshooting connectivity issues or planning network expansions.\n",
        "\n",
        "Key elements of effective network diagrams:\n",
        "\n",
        "* Consistent **diagram symbols** represent specific network components, making diagrams easier to interpret\n",
        "* Clear **labeling conventions** ensure all devices and connections have unique identifiers\n",
        "* Appropriate **level of detail** balances comprehensiveness with readability\n",
        "* Regular **diagram updates** reflect changes to network infrastructure\n",
        "* **Color coding** differentiates between network segments, security zones, or other logical groupings\n",
        "\n",
        "Comparing physical and logical diagrams:\n",
        "\n",
        "| Physical Network Diagrams | Logical Network Diagrams |\n",
        "|--------------------------|--------------------------|\n",
        "| Shows actual hardware placement | Shows data flow relationships |\n",
        "| Includes rack locations and cable paths | Displays IP subnets and VLANs |\n",
        "| Useful for hardware maintenance | Useful for network troubleshooting |\n",
        "| Typically organized by physical location | Typically organized by network function |\n",
        "| Essential for disaster recovery planning | Essential for security planning |\n",
        "\n",
        "For example, a hospital network team should maintain both diagram types—the physical diagram helps locate specific equipment during power outages, while the logical diagram helps identify traffic bottlenecks affecting critical medical applications."
      ],
      "metadata": {
        "id": "bhJCXcQcGIxI"
      }
    },
    {
      "cell_type": "markdown",
      "source": [
        "## Advanced Network Diagrams: Layer 1, 2, and 3\n",
        "\n",
        "Network professionals create specialized diagrams corresponding to the first three layers of the OSI model to understand different aspects of network functionality. These layered diagrams help isolate specific types of network issues and plan appropriate changes to the infrastructure.\n",
        "\n",
        "**Layer 1 diagrams** represent the physical connectivity of a network, showing how devices connect through cables, wireless links, and physical media. These diagrams include details such as cable types, connector specifications, and signal characteristics essential for resolving hardware issues.\n",
        "\n",
        "**Layer 2 diagrams** illustrate data link layer functionality, focusing on how devices communicate within local network segments. These diagrams show MAC addresses, switch configurations, and VLANs that control how data frames move between directly connected devices.\n",
        "\n",
        "**Layer 3 diagrams** depict network layer operations, emphasizing logical addressing and routing between different networks. These diagrams highlight IP addressing schemes, subnets, and routing protocols that determine how data packets travel across multiple network segments.\n",
        "\n",
        "Benefits of using layered network diagrams:\n",
        "\n",
        "* Technicians can isolate problems to specific OSI layers, streamlining troubleshooting processes\n",
        "* Network changes can be planned with a clear understanding of their impact at each layer\n",
        "* Security implementations become more comprehensive by addressing vulnerabilities at each layer\n",
        "* Training for new IT staff becomes more structured and easier to understand\n",
        "* Documentation remains focused and less cluttered than all-in-one diagrams\n",
        "\n",
        "Real-world example: When a manufacturing facility experiences intermittent network issues, the IT team can use these specialized diagrams to pinpoint the problem:\n",
        "1. The Layer 1 diagram might reveal that a fiber optic cable runs near high-voltage machinery\n",
        "2. The Layer 2 diagram could show improperly configured VLANs causing broadcast storms\n",
        "3. The Layer 3 diagram might identify routing loops causing packet loss between production networks\n",
        "\n",
        "| Diagram Type | Key Components | Primary Use Cases |\n",
        "|-------------|----------------|-------------------|\n",
        "| Layer 1 | Cable types, patch panels, physical ports | Cabling issues, signal problems |\n",
        "| Layer 2 | MAC addresses, switches, VLANs | Broadcast domain issues, access control |\n",
        "| Layer 3 | IP addresses, routers, subnets | Routing problems, network segmentation |"
      ],
      "metadata": {
        "id": "tsFjfaMbGqS-"
      }
    },
    {
      "cell_type": "markdown",
      "source": [
        "## Layer 1 Diagram"
      ],
      "metadata": {
        "id": "O_cZnfGWGsC1"
      }
    },
    {
      "cell_type": "code",
      "source": [
        "# @title\n",
        "import base64\n",
        "import requests\n",
        "from IPython.display import SVG, display\n",
        "\n",
        "def mm_svg(graph: str) -> None:\n",
        "    \"\"\"\n",
        "    Fetch and display a Mermaid diagram as SVG.\n",
        "\n",
        "    Parameters:\n",
        "      graph (str): Mermaid graph definition.\n",
        "    \"\"\"\n",
        "    # 1. Encode the graph to Base64\n",
        "    b64 = base64.urlsafe_b64encode(graph.encode('utf-8')).decode('ascii')\n",
        "    # 2. Construct the SVG URL\n",
        "    url = f'https://mermaid.ink/svg/{b64}'\n",
        "    # 3. Fetch SVG content\n",
        "    svg_data = requests.get(url).text\n",
        "    # 4. Render inline in Jupyter\n",
        "    display(SVG(data=svg_data))\n",
        "\n",
        "mm_svg(\"\"\"\n",
        "graph TD\n",
        "    Router[Router] --- FW[Firewall]\n",
        "    FW --- CoreSW[Core Switch]\n",
        "\n",
        "    CoreSW --- |\"Fiber\"| Server[Servers]\n",
        "    CoreSW --- |\"Fiber\"| SW1[Switch 1]\n",
        "    CoreSW --- |\"Fiber\"| SW2[Switch 2]\n",
        "\n",
        "    SW1 --- |\"Cat6a\"| AP1[AP 1]\n",
        "    SW1 --- |\"Cat6a\"| PP1[Panel 1]\n",
        "\n",
        "    SW2 --- |\"Cat6a\"| AP2[AP 2]\n",
        "    SW2 --- |\"Cat6a\"| PP2[Panel 2]\n",
        "\n",
        "    PP1 --- |\"Cat6\"| PC1[PCs 1-10]\n",
        "    PP2 --- |\"Cat6\"| PC2[PCs 11-20]\n",
        "\n",
        "    style Router fill:#f8cecc,stroke:#333,stroke-width:1px\n",
        "    style FW fill:#f8cecc,stroke:#333,stroke-width:1px\n",
        "    style CoreSW fill:#d5e8d4,stroke:#333,stroke-width:1px\n",
        "    style SW1 fill:#d5e8d4,stroke:#333,stroke-width:1px\n",
        "    style SW2 fill:#d5e8d4,stroke:#333,stroke-width:1px\n",
        "    style Server fill:#dae8fc,stroke:#333,stroke-width:1px\n",
        "    style AP1 fill:#fff2cc,stroke:#333,stroke-width:1px\n",
        "    style AP2 fill:#fff2cc,stroke:#333,stroke-width:1px\n",
        "    style PP1 fill:#e1d5e7,stroke:#333,stroke-width:1px\n",
        "    style PP2 fill:#e1d5e7,stroke:#333,stroke-width:1px\n",
        "    style PC1 fill:#eeeeee,stroke:#333,stroke-width:1px\n",
        "    style PC2 fill:#eeeeee,stroke:#333,stroke-width:1px\n",
        "\"\"\")"
      ],
      "metadata": {
        "cellView": "form",
        "id": "ZoDykPVbGt29",
        "outputId": "00e0aa6a-c5c1-468b-ff59-5efe2dbd6d60",
        "colab": {
          "base_uri": "https://localhost:8080/",
          "height": 684
        }
      },
      "execution_count": 8,
      "outputs": [
        {
          "output_type": "display_data",
          "data": {
            "text/plain": [
              "<IPython.core.display.SVG object>"
            ],
            "image/svg+xml": "<svg xmlns=\"http://www.w3.org/2000/svg\" xmlns:xlink=\"http://www.w3.org/1999/xlink\" id=\"mermaid-svg\" width=\"100%\" class=\"flowchart\" style=\"max-width: 694.99609375px;\" viewBox=\"0 0 694.99609375 662\" role=\"graphics-document document\" aria-roledescription=\"flowchart-v2\"><style xmlns=\"http://www.w3.org/1999/xhtml\">@import url(&quot;https://cdnjs.cloudflare.com/ajax/libs/font-awesome/6.7.2/css/all.min.css&quot;);</style><style>#mermaid-svg{font-family:&quot;trebuchet ms&quot;,verdana,arial,sans-serif;font-size:16px;fill:#333;}@keyframes edge-animation-frame{from{stroke-dashoffset:0;}}@keyframes dash{to{stroke-dashoffset:0;}}#mermaid-svg .edge-animation-slow{stroke-dasharray:9,5!important;stroke-dashoffset:900;animation:dash 50s linear infinite;stroke-linecap:round;}#mermaid-svg .edge-animation-fast{stroke-dasharray:9,5!important;stroke-dashoffset:900;animation:dash 20s linear infinite;stroke-linecap:round;}#mermaid-svg .error-icon{fill:#552222;}#mermaid-svg .error-text{fill:#552222;stroke:#552222;}#mermaid-svg .edge-thickness-normal{stroke-width:1px;}#mermaid-svg .edge-thickness-thick{stroke-width:3.5px;}#mermaid-svg .edge-pattern-solid{stroke-dasharray:0;}#mermaid-svg .edge-thickness-invisible{stroke-width:0;fill:none;}#mermaid-svg .edge-pattern-dashed{stroke-dasharray:3;}#mermaid-svg .edge-pattern-dotted{stroke-dasharray:2;}#mermaid-svg .marker{fill:#333333;stroke:#333333;}#mermaid-svg .marker.cross{stroke:#333333;}#mermaid-svg svg{font-family:&quot;trebuchet ms&quot;,verdana,arial,sans-serif;font-size:16px;}#mermaid-svg p{margin:0;}#mermaid-svg .label{font-family:&quot;trebuchet ms&quot;,verdana,arial,sans-serif;color:#333;}#mermaid-svg .cluster-label text{fill:#333;}#mermaid-svg .cluster-label span{color:#333;}#mermaid-svg .cluster-label span p{background-color:transparent;}#mermaid-svg .label text,#mermaid-svg span{fill:#333;color:#333;}#mermaid-svg .node rect,#mermaid-svg .node circle,#mermaid-svg .node ellipse,#mermaid-svg .node polygon,#mermaid-svg .node path{fill:#ECECFF;stroke:#9370DB;stroke-width:1px;}#mermaid-svg .rough-node .label text,#mermaid-svg .node .label text,#mermaid-svg .image-shape .label,#mermaid-svg .icon-shape .label{text-anchor:middle;}#mermaid-svg .node .katex path{fill:#000;stroke:#000;stroke-width:1px;}#mermaid-svg .rough-node .label,#mermaid-svg .node .label,#mermaid-svg .image-shape .label,#mermaid-svg .icon-shape .label{text-align:center;}#mermaid-svg .node.clickable{cursor:pointer;}#mermaid-svg .root .anchor path{fill:#333333!important;stroke-width:0;stroke:#333333;}#mermaid-svg .arrowheadPath{fill:#333333;}#mermaid-svg .edgePath .path{stroke:#333333;stroke-width:2.0px;}#mermaid-svg .flowchart-link{stroke:#333333;fill:none;}#mermaid-svg .edgeLabel{background-color:rgba(232,232,232, 0.8);text-align:center;}#mermaid-svg .edgeLabel p{background-color:rgba(232,232,232, 0.8);}#mermaid-svg .edgeLabel rect{opacity:0.5;background-color:rgba(232,232,232, 0.8);fill:rgba(232,232,232, 0.8);}#mermaid-svg .labelBkg{background-color:rgba(232, 232, 232, 0.5);}#mermaid-svg .cluster rect{fill:#ffffde;stroke:#aaaa33;stroke-width:1px;}#mermaid-svg .cluster text{fill:#333;}#mermaid-svg .cluster span{color:#333;}#mermaid-svg div.mermaidTooltip{position:absolute;text-align:center;max-width:200px;padding:2px;font-family:&quot;trebuchet ms&quot;,verdana,arial,sans-serif;font-size:12px;background:hsl(80, 100%, 96.2745098039%);border:1px solid #aaaa33;border-radius:2px;pointer-events:none;z-index:100;}#mermaid-svg .flowchartTitleText{text-anchor:middle;font-size:18px;fill:#333;}#mermaid-svg rect.text{fill:none;stroke-width:0;}#mermaid-svg .icon-shape,#mermaid-svg .image-shape{background-color:rgba(232,232,232, 0.8);text-align:center;}#mermaid-svg .icon-shape p,#mermaid-svg .image-shape p{background-color:rgba(232,232,232, 0.8);padding:2px;}#mermaid-svg .icon-shape rect,#mermaid-svg .image-shape rect{opacity:0.5;background-color:rgba(232,232,232, 0.8);fill:rgba(232,232,232, 0.8);}#mermaid-svg :root{--mermaid-font-family:&quot;trebuchet ms&quot;,verdana,arial,sans-serif;}</style><g><marker id=\"mermaid-svg_flowchart-v2-pointEnd\" class=\"marker flowchart-v2\" viewBox=\"0 0 10 10\" refX=\"5\" refY=\"5\" markerUnits=\"userSpaceOnUse\" markerWidth=\"8\" markerHeight=\"8\" orient=\"auto\"><path d=\"M 0 0 L 10 5 L 0 10 z\" class=\"arrowMarkerPath\" style=\"stroke-width: 1; stroke-dasharray: 1, 0;\"/></marker><marker id=\"mermaid-svg_flowchart-v2-pointStart\" class=\"marker flowchart-v2\" viewBox=\"0 0 10 10\" refX=\"4.5\" refY=\"5\" markerUnits=\"userSpaceOnUse\" markerWidth=\"8\" markerHeight=\"8\" orient=\"auto\"><path d=\"M 0 5 L 10 10 L 10 0 z\" class=\"arrowMarkerPath\" style=\"stroke-width: 1; stroke-dasharray: 1, 0;\"/></marker><marker id=\"mermaid-svg_flowchart-v2-circleEnd\" class=\"marker flowchart-v2\" viewBox=\"0 0 10 10\" refX=\"11\" refY=\"5\" markerUnits=\"userSpaceOnUse\" markerWidth=\"11\" markerHeight=\"11\" orient=\"auto\"><circle cx=\"5\" cy=\"5\" r=\"5\" class=\"arrowMarkerPath\" style=\"stroke-width: 1; stroke-dasharray: 1, 0;\"/></marker><marker id=\"mermaid-svg_flowchart-v2-circleStart\" class=\"marker flowchart-v2\" viewBox=\"0 0 10 10\" refX=\"-1\" refY=\"5\" markerUnits=\"userSpaceOnUse\" markerWidth=\"11\" markerHeight=\"11\" orient=\"auto\"><circle cx=\"5\" cy=\"5\" r=\"5\" class=\"arrowMarkerPath\" style=\"stroke-width: 1; stroke-dasharray: 1, 0;\"/></marker><marker id=\"mermaid-svg_flowchart-v2-crossEnd\" class=\"marker cross flowchart-v2\" viewBox=\"0 0 11 11\" refX=\"12\" refY=\"5.2\" markerUnits=\"userSpaceOnUse\" markerWidth=\"11\" markerHeight=\"11\" orient=\"auto\"><path d=\"M 1,1 l 9,9 M 10,1 l -9,9\" class=\"arrowMarkerPath\" style=\"stroke-width: 2; stroke-dasharray: 1, 0;\"/></marker><marker id=\"mermaid-svg_flowchart-v2-crossStart\" class=\"marker cross flowchart-v2\" viewBox=\"0 0 11 11\" refX=\"-1\" refY=\"5.2\" markerUnits=\"userSpaceOnUse\" markerWidth=\"11\" markerHeight=\"11\" orient=\"auto\"><path d=\"M 1,1 l 9,9 M 10,1 l -9,9\" class=\"arrowMarkerPath\" style=\"stroke-width: 2; stroke-dasharray: 1, 0;\"/></marker><g class=\"root\"><g class=\"clusters\"/><g class=\"edgePaths\"><path d=\"M233.359,62L233.359,66.167C233.359,70.333,233.359,78.667,233.359,87C233.359,95.333,233.359,103.667,233.359,107.833L233.359,112\" id=\"L_Router_FW_0\" class=\" edge-thickness-normal edge-pattern-solid edge-thickness-normal edge-pattern-solid flowchart-link\" style=\"\"/><path d=\"M233.359,166L233.359,170.167C233.359,174.333,233.359,182.667,233.359,191C233.359,199.333,233.359,207.667,233.359,211.833L233.359,216\" id=\"L_FW_CoreSW_0\" class=\" edge-thickness-normal edge-pattern-solid edge-thickness-normal edge-pattern-solid flowchart-link\" style=\"\"/><path d=\"M162.57,270L146.402,276.167C130.234,282.333,97.898,294.667,81.73,307C65.563,319.333,65.563,331.667,65.563,337.833L65.563,344\" id=\"L_CoreSW_Server_0\" class=\" edge-thickness-normal edge-pattern-solid edge-thickness-normal edge-pattern-solid flowchart-link\" style=\"\"/><path d=\"M233.359,270L233.359,276.167C233.359,282.333,233.359,294.667,233.359,307C233.359,319.333,233.359,331.667,233.359,337.833L233.359,344\" id=\"L_CoreSW_SW1_0\" class=\" edge-thickness-normal edge-pattern-solid edge-thickness-normal edge-pattern-solid flowchart-link\" style=\"\"/><path d=\"M306.484,258.162L345.742,266.301C385,274.441,463.516,290.721,502.773,305.027C542.031,319.333,542.031,331.667,542.031,337.833L542.031,344\" id=\"L_CoreSW_SW2_0\" class=\" edge-thickness-normal edge-pattern-solid edge-thickness-normal edge-pattern-solid flowchart-link\" style=\"\"/><path d=\"M200.804,398L193.369,404.167C185.933,410.333,171.062,422.667,163.627,435C156.191,447.333,156.191,459.667,156.191,465.833L156.191,472\" id=\"L_SW1_AP1_0\" class=\" edge-thickness-normal edge-pattern-solid edge-thickness-normal edge-pattern-solid flowchart-link\" style=\"\"/><path d=\"M265.915,398L273.35,404.167C280.786,410.333,295.656,422.667,303.092,435C310.527,447.333,310.527,459.667,310.527,465.833L310.527,472\" id=\"L_SW1_PP1_0\" class=\" edge-thickness-normal edge-pattern-solid edge-thickness-normal edge-pattern-solid flowchart-link\" style=\"\"/><path d=\"M509.476,398L502.041,404.167C494.605,410.333,479.734,422.667,472.299,435C464.863,447.333,464.863,459.667,464.863,465.833L464.863,472\" id=\"L_SW2_AP2_0\" class=\" edge-thickness-normal edge-pattern-solid edge-thickness-normal edge-pattern-solid flowchart-link\" style=\"\"/><path d=\"M574.586,398L582.022,404.167C589.457,410.333,604.328,422.667,611.764,435C619.199,447.333,619.199,459.667,619.199,465.833L619.199,472\" id=\"L_SW2_PP2_0\" class=\" edge-thickness-normal edge-pattern-solid edge-thickness-normal edge-pattern-solid flowchart-link\" style=\"\"/><path d=\"M310.527,526L310.527,532.167C310.527,538.333,310.527,550.667,310.527,563C310.527,575.333,310.527,587.667,310.527,593.833L310.527,600\" id=\"L_PP1_PC1_0\" class=\" edge-thickness-normal edge-pattern-solid edge-thickness-normal edge-pattern-solid flowchart-link\" style=\"\"/><path d=\"M619.199,526L619.199,532.167C619.199,538.333,619.199,550.667,619.199,563C619.199,575.333,619.199,587.667,619.199,593.833L619.199,600\" id=\"L_PP2_PC2_0\" class=\" edge-thickness-normal edge-pattern-solid edge-thickness-normal edge-pattern-solid flowchart-link\" style=\"\"/></g><g class=\"edgeLabels\"><g class=\"edgeLabel\"><g class=\"label\" transform=\"translate(0, 0)\"><foreignObject width=\"0\" height=\"0\"><div xmlns=\"http://www.w3.org/1999/xhtml\" class=\"labelBkg\" style=\"display: table-cell; white-space: nowrap; line-height: 1.5; max-width: 200px; text-align: center;\"><span class=\"edgeLabel \"/></div></foreignObject></g></g><g class=\"edgeLabel\"><g class=\"label\" transform=\"translate(0, 0)\"><foreignObject width=\"0\" height=\"0\"><div xmlns=\"http://www.w3.org/1999/xhtml\" class=\"labelBkg\" style=\"display: table-cell; white-space: nowrap; line-height: 1.5; max-width: 200px; text-align: center;\"><span class=\"edgeLabel \"/></div></foreignObject></g></g><g class=\"edgeLabel\" transform=\"translate(65.5625, 307)\"><g class=\"label\" transform=\"translate(-18.2265625, -12)\"><foreignObject width=\"36.453125\" height=\"24\"><div xmlns=\"http://www.w3.org/1999/xhtml\" class=\"labelBkg\" style=\"display: table-cell; white-space: nowrap; line-height: 1.5; max-width: 200px; text-align: center;\"><span class=\"edgeLabel \"><p>Fiber</p></span></div></foreignObject></g></g><g class=\"edgeLabel\" transform=\"translate(233.359375, 307)\"><g class=\"label\" transform=\"translate(-18.2265625, -12)\"><foreignObject width=\"36.453125\" height=\"24\"><div xmlns=\"http://www.w3.org/1999/xhtml\" class=\"labelBkg\" style=\"display: table-cell; white-space: nowrap; line-height: 1.5; max-width: 200px; text-align: center;\"><span class=\"edgeLabel \"><p>Fiber</p></span></div></foreignObject></g></g><g class=\"edgeLabel\" transform=\"translate(542.03125, 307)\"><g class=\"label\" transform=\"translate(-18.2265625, -12)\"><foreignObject width=\"36.453125\" height=\"24\"><div xmlns=\"http://www.w3.org/1999/xhtml\" class=\"labelBkg\" style=\"display: table-cell; white-space: nowrap; line-height: 1.5; max-width: 200px; text-align: center;\"><span class=\"edgeLabel \"><p>Fiber</p></span></div></foreignObject></g></g><g class=\"edgeLabel\" transform=\"translate(156.19140625, 435)\"><g class=\"label\" transform=\"translate(-21.3515625, -12)\"><foreignObject width=\"42.703125\" height=\"24\"><div xmlns=\"http://www.w3.org/1999/xhtml\" class=\"labelBkg\" style=\"display: table-cell; white-space: nowrap; line-height: 1.5; max-width: 200px; text-align: center;\"><span class=\"edgeLabel \"><p>Cat6a</p></span></div></foreignObject></g></g><g class=\"edgeLabel\" transform=\"translate(310.52734375, 435)\"><g class=\"label\" transform=\"translate(-21.3515625, -12)\"><foreignObject width=\"42.703125\" height=\"24\"><div xmlns=\"http://www.w3.org/1999/xhtml\" class=\"labelBkg\" style=\"display: table-cell; white-space: nowrap; line-height: 1.5; max-width: 200px; text-align: center;\"><span class=\"edgeLabel \"><p>Cat6a</p></span></div></foreignObject></g></g><g class=\"edgeLabel\" transform=\"translate(464.86328125, 435)\"><g class=\"label\" transform=\"translate(-21.3515625, -12)\"><foreignObject width=\"42.703125\" height=\"24\"><div xmlns=\"http://www.w3.org/1999/xhtml\" class=\"labelBkg\" style=\"display: table-cell; white-space: nowrap; line-height: 1.5; max-width: 200px; text-align: center;\"><span class=\"edgeLabel \"><p>Cat6a</p></span></div></foreignObject></g></g><g class=\"edgeLabel\" transform=\"translate(619.19921875, 435)\"><g class=\"label\" transform=\"translate(-21.3515625, -12)\"><foreignObject width=\"42.703125\" height=\"24\"><div xmlns=\"http://www.w3.org/1999/xhtml\" class=\"labelBkg\" style=\"display: table-cell; white-space: nowrap; line-height: 1.5; max-width: 200px; text-align: center;\"><span class=\"edgeLabel \"><p>Cat6a</p></span></div></foreignObject></g></g><g class=\"edgeLabel\" transform=\"translate(310.52734375, 563)\"><g class=\"label\" transform=\"translate(-16.8984375, -12)\"><foreignObject width=\"33.796875\" height=\"24\"><div xmlns=\"http://www.w3.org/1999/xhtml\" class=\"labelBkg\" style=\"display: table-cell; white-space: nowrap; line-height: 1.5; max-width: 200px; text-align: center;\"><span class=\"edgeLabel \"><p>Cat6</p></span></div></foreignObject></g></g><g class=\"edgeLabel\" transform=\"translate(619.19921875, 563)\"><g class=\"label\" transform=\"translate(-16.8984375, -12)\"><foreignObject width=\"33.796875\" height=\"24\"><div xmlns=\"http://www.w3.org/1999/xhtml\" class=\"labelBkg\" style=\"display: table-cell; white-space: nowrap; line-height: 1.5; max-width: 200px; text-align: center;\"><span class=\"edgeLabel \"><p>Cat6</p></span></div></foreignObject></g></g></g><g class=\"nodes\"><g class=\"node default  \" id=\"flowchart-Router-0\" transform=\"translate(233.359375, 35)\"><rect class=\"basic label-container\" style=\"fill:#f8cecc !important;stroke:#333 !important;stroke-width:1px !important\" x=\"-54.015625\" y=\"-27\" width=\"108.03125\" height=\"54\"/><g class=\"label\" style=\"\" transform=\"translate(-24.015625, -12)\"><rect/><foreignObject width=\"48.03125\" height=\"24\"><div xmlns=\"http://www.w3.org/1999/xhtml\" style=\"display: table-cell; white-space: nowrap; line-height: 1.5; max-width: 200px; text-align: center;\"><span class=\"nodeLabel \"><p>Router</p></span></div></foreignObject></g></g><g class=\"node default  \" id=\"flowchart-FW-1\" transform=\"translate(233.359375, 139)\"><rect class=\"basic label-container\" style=\"fill:#f8cecc !important;stroke:#333 !important;stroke-width:1px !important\" x=\"-57.5625\" y=\"-27\" width=\"115.125\" height=\"54\"/><g class=\"label\" style=\"\" transform=\"translate(-27.5625, -12)\"><rect/><foreignObject width=\"55.125\" height=\"24\"><div xmlns=\"http://www.w3.org/1999/xhtml\" style=\"display: table-cell; white-space: nowrap; line-height: 1.5; max-width: 200px; text-align: center;\"><span class=\"nodeLabel \"><p>Firewall</p></span></div></foreignObject></g></g><g class=\"node default  \" id=\"flowchart-CoreSW-3\" transform=\"translate(233.359375, 243)\"><rect class=\"basic label-container\" style=\"fill:#d5e8d4 !important;stroke:#333 !important;stroke-width:1px !important\" x=\"-73.125\" y=\"-27\" width=\"146.25\" height=\"54\"/><g class=\"label\" style=\"\" transform=\"translate(-43.125, -12)\"><rect/><foreignObject width=\"86.25\" height=\"24\"><div xmlns=\"http://www.w3.org/1999/xhtml\" style=\"display: table-cell; white-space: nowrap; line-height: 1.5; max-width: 200px; text-align: center;\"><span class=\"nodeLabel \"><p>Core Switch</p></span></div></foreignObject></g></g><g class=\"node default  \" id=\"flowchart-Server-5\" transform=\"translate(65.5625, 371)\"><rect class=\"basic label-container\" style=\"fill:#dae8fc !important;stroke:#333 !important;stroke-width:1px !important\" x=\"-57.5625\" y=\"-27\" width=\"115.125\" height=\"54\"/><g class=\"label\" style=\"\" transform=\"translate(-27.5625, -12)\"><rect/><foreignObject width=\"55.125\" height=\"24\"><div xmlns=\"http://www.w3.org/1999/xhtml\" style=\"display: table-cell; white-space: nowrap; line-height: 1.5; max-width: 200px; text-align: center;\"><span class=\"nodeLabel \"><p>Servers</p></span></div></foreignObject></g></g><g class=\"node default  \" id=\"flowchart-SW1-7\" transform=\"translate(233.359375, 371)\"><rect class=\"basic label-container\" style=\"fill:#d5e8d4 !important;stroke:#333 !important;stroke-width:1px !important\" x=\"-60.234375\" y=\"-27\" width=\"120.46875\" height=\"54\"/><g class=\"label\" style=\"\" transform=\"translate(-30.234375, -12)\"><rect/><foreignObject width=\"60.46875\" height=\"24\"><div xmlns=\"http://www.w3.org/1999/xhtml\" style=\"display: table-cell; white-space: nowrap; line-height: 1.5; max-width: 200px; text-align: center;\"><span class=\"nodeLabel \"><p>Switch 1</p></span></div></foreignObject></g></g><g class=\"node default  \" id=\"flowchart-SW2-9\" transform=\"translate(542.03125, 371)\"><rect class=\"basic label-container\" style=\"fill:#d5e8d4 !important;stroke:#333 !important;stroke-width:1px !important\" x=\"-60.234375\" y=\"-27\" width=\"120.46875\" height=\"54\"/><g class=\"label\" style=\"\" transform=\"translate(-30.234375, -12)\"><rect/><foreignObject width=\"60.46875\" height=\"24\"><div xmlns=\"http://www.w3.org/1999/xhtml\" style=\"display: table-cell; white-space: nowrap; line-height: 1.5; max-width: 200px; text-align: center;\"><span class=\"nodeLabel \"><p>Switch 2</p></span></div></foreignObject></g></g><g class=\"node default  \" id=\"flowchart-AP1-11\" transform=\"translate(156.19140625, 499)\"><rect class=\"basic label-container\" style=\"fill:#fff2cc !important;stroke:#333 !important;stroke-width:1px !important\" x=\"-47.203125\" y=\"-27\" width=\"94.40625\" height=\"54\"/><g class=\"label\" style=\"\" transform=\"translate(-17.203125, -12)\"><rect/><foreignObject width=\"34.40625\" height=\"24\"><div xmlns=\"http://www.w3.org/1999/xhtml\" style=\"display: table-cell; white-space: nowrap; line-height: 1.5; max-width: 200px; text-align: center;\"><span class=\"nodeLabel \"><p>AP 1</p></span></div></foreignObject></g></g><g class=\"node default  \" id=\"flowchart-PP1-13\" transform=\"translate(310.52734375, 499)\"><rect class=\"basic label-container\" style=\"fill:#e1d5e7 !important;stroke:#333 !important;stroke-width:1px !important\" x=\"-57.1328125\" y=\"-27\" width=\"114.265625\" height=\"54\"/><g class=\"label\" style=\"\" transform=\"translate(-27.1328125, -12)\"><rect/><foreignObject width=\"54.265625\" height=\"24\"><div xmlns=\"http://www.w3.org/1999/xhtml\" style=\"display: table-cell; white-space: nowrap; line-height: 1.5; max-width: 200px; text-align: center;\"><span class=\"nodeLabel \"><p>Panel 1</p></span></div></foreignObject></g></g><g class=\"node default  \" id=\"flowchart-AP2-15\" transform=\"translate(464.86328125, 499)\"><rect class=\"basic label-container\" style=\"fill:#fff2cc !important;stroke:#333 !important;stroke-width:1px !important\" x=\"-47.203125\" y=\"-27\" width=\"94.40625\" height=\"54\"/><g class=\"label\" style=\"\" transform=\"translate(-17.203125, -12)\"><rect/><foreignObject width=\"34.40625\" height=\"24\"><div xmlns=\"http://www.w3.org/1999/xhtml\" style=\"display: table-cell; white-space: nowrap; line-height: 1.5; max-width: 200px; text-align: center;\"><span class=\"nodeLabel \"><p>AP 2</p></span></div></foreignObject></g></g><g class=\"node default  \" id=\"flowchart-PP2-17\" transform=\"translate(619.19921875, 499)\"><rect class=\"basic label-container\" style=\"fill:#e1d5e7 !important;stroke:#333 !important;stroke-width:1px !important\" x=\"-57.1328125\" y=\"-27\" width=\"114.265625\" height=\"54\"/><g class=\"label\" style=\"\" transform=\"translate(-27.1328125, -12)\"><rect/><foreignObject width=\"54.265625\" height=\"24\"><div xmlns=\"http://www.w3.org/1999/xhtml\" style=\"display: table-cell; white-space: nowrap; line-height: 1.5; max-width: 200px; text-align: center;\"><span class=\"nodeLabel \"><p>Panel 2</p></span></div></foreignObject></g></g><g class=\"node default  \" id=\"flowchart-PC1-19\" transform=\"translate(310.52734375, 627)\"><rect class=\"basic label-container\" style=\"fill:#eeeeee !important;stroke:#333 !important;stroke-width:1px !important\" x=\"-63.3515625\" y=\"-27\" width=\"126.703125\" height=\"54\"/><g class=\"label\" style=\"\" transform=\"translate(-33.3515625, -12)\"><rect/><foreignObject width=\"66.703125\" height=\"24\"><div xmlns=\"http://www.w3.org/1999/xhtml\" style=\"display: table-cell; white-space: nowrap; line-height: 1.5; max-width: 200px; text-align: center;\"><span class=\"nodeLabel \"><p>PCs 1-10</p></span></div></foreignObject></g></g><g class=\"node default  \" id=\"flowchart-PC2-21\" transform=\"translate(619.19921875, 627)\"><rect class=\"basic label-container\" style=\"fill:#eeeeee !important;stroke:#333 !important;stroke-width:1px !important\" x=\"-67.796875\" y=\"-27\" width=\"135.59375\" height=\"54\"/><g class=\"label\" style=\"\" transform=\"translate(-37.796875, -12)\"><rect/><foreignObject width=\"75.59375\" height=\"24\"><div xmlns=\"http://www.w3.org/1999/xhtml\" style=\"display: table-cell; white-space: nowrap; line-height: 1.5; max-width: 200px; text-align: center;\"><span class=\"nodeLabel \"><p>PCs 11-20</p></span></div></foreignObject></g></g></g></g></g></svg>"
          },
          "metadata": {}
        }
      ]
    },
    {
      "cell_type": "markdown",
      "source": [
        "## Layer 2 Diagram"
      ],
      "metadata": {
        "id": "YvugeqZsG358"
      }
    },
    {
      "cell_type": "code",
      "source": [
        "# @title\n",
        "mm_svg(\"\"\"\n",
        "graph TD\n",
        "    subgraph \"Layer 2 - Data Link Layer\"\n",
        "        L2[Layer 2 Diagram] --> Switch1[Core Switch]\n",
        "        L2 --> Switch2[Access Switch 1]\n",
        "        L2 --> Switch3[Access Switch 2]\n",
        "\n",
        "        Switch1 --- |Trunk| Switch2\n",
        "        Switch1 --- |Trunk| Switch3\n",
        "\n",
        "        Switch2 --- VLAN1[VLAN 10 - Operations]\n",
        "        Switch2 --- VLAN2[VLAN 20 - Engineering]\n",
        "        Switch3 --- VLAN3[VLAN 30 - Marketing]\n",
        "        Switch3 --- VLAN4[VLAN 40 - Guest]\n",
        "    end\n",
        "\n",
        "    style L2 fill:#d4f1f9,stroke:#333,stroke-width:1px\n",
        "    style Switch1 fill:#eeeeee,stroke:#333,stroke-width:1px\n",
        "    style Switch2 fill:#eeeeee,stroke:#333,stroke-width:1px\n",
        "    style Switch3 fill:#eeeeee,stroke:#333,stroke-width:1px\n",
        "    style VLAN1 fill:#d5e8d4,stroke:#333,stroke-width:1px\n",
        "    style VLAN2 fill:#d5e8d4,stroke:#333,stroke-width:1px\n",
        "    style VLAN3 fill:#d5e8d4,stroke:#333,stroke-width:1px\n",
        "    style VLAN4 fill:#d5e8d4,stroke:#333,stroke-width:1px\"\"\")"
      ],
      "metadata": {
        "cellView": "form",
        "id": "59sUUsLUG6LN",
        "outputId": "a5728b1d-ffbf-4366-d996-7ab9f9d94f0d",
        "colab": {
          "base_uri": "https://localhost:8080/",
          "height": 578
        }
      },
      "execution_count": 9,
      "outputs": [
        {
          "output_type": "display_data",
          "data": {
            "text/plain": [
              "<IPython.core.display.SVG object>"
            ],
            "image/svg+xml": "<svg xmlns=\"http://www.w3.org/2000/svg\" xmlns:xlink=\"http://www.w3.org/1999/xlink\" id=\"mermaid-svg\" width=\"100%\" class=\"flowchart\" style=\"max-width: 1065.65625px;\" viewBox=\"0 0 1065.65625 556\" role=\"graphics-document document\" aria-roledescription=\"flowchart-v2\"><style xmlns=\"http://www.w3.org/1999/xhtml\">@import url(&quot;https://cdnjs.cloudflare.com/ajax/libs/font-awesome/6.7.2/css/all.min.css&quot;);</style><style>#mermaid-svg{font-family:&quot;trebuchet ms&quot;,verdana,arial,sans-serif;font-size:16px;fill:#333;}@keyframes edge-animation-frame{from{stroke-dashoffset:0;}}@keyframes dash{to{stroke-dashoffset:0;}}#mermaid-svg .edge-animation-slow{stroke-dasharray:9,5!important;stroke-dashoffset:900;animation:dash 50s linear infinite;stroke-linecap:round;}#mermaid-svg .edge-animation-fast{stroke-dasharray:9,5!important;stroke-dashoffset:900;animation:dash 20s linear infinite;stroke-linecap:round;}#mermaid-svg .error-icon{fill:#552222;}#mermaid-svg .error-text{fill:#552222;stroke:#552222;}#mermaid-svg .edge-thickness-normal{stroke-width:1px;}#mermaid-svg .edge-thickness-thick{stroke-width:3.5px;}#mermaid-svg .edge-pattern-solid{stroke-dasharray:0;}#mermaid-svg .edge-thickness-invisible{stroke-width:0;fill:none;}#mermaid-svg .edge-pattern-dashed{stroke-dasharray:3;}#mermaid-svg .edge-pattern-dotted{stroke-dasharray:2;}#mermaid-svg .marker{fill:#333333;stroke:#333333;}#mermaid-svg .marker.cross{stroke:#333333;}#mermaid-svg svg{font-family:&quot;trebuchet ms&quot;,verdana,arial,sans-serif;font-size:16px;}#mermaid-svg p{margin:0;}#mermaid-svg .label{font-family:&quot;trebuchet ms&quot;,verdana,arial,sans-serif;color:#333;}#mermaid-svg .cluster-label text{fill:#333;}#mermaid-svg .cluster-label span{color:#333;}#mermaid-svg .cluster-label span p{background-color:transparent;}#mermaid-svg .label text,#mermaid-svg span{fill:#333;color:#333;}#mermaid-svg .node rect,#mermaid-svg .node circle,#mermaid-svg .node ellipse,#mermaid-svg .node polygon,#mermaid-svg .node path{fill:#ECECFF;stroke:#9370DB;stroke-width:1px;}#mermaid-svg .rough-node .label text,#mermaid-svg .node .label text,#mermaid-svg .image-shape .label,#mermaid-svg .icon-shape .label{text-anchor:middle;}#mermaid-svg .node .katex path{fill:#000;stroke:#000;stroke-width:1px;}#mermaid-svg .rough-node .label,#mermaid-svg .node .label,#mermaid-svg .image-shape .label,#mermaid-svg .icon-shape .label{text-align:center;}#mermaid-svg .node.clickable{cursor:pointer;}#mermaid-svg .root .anchor path{fill:#333333!important;stroke-width:0;stroke:#333333;}#mermaid-svg .arrowheadPath{fill:#333333;}#mermaid-svg .edgePath .path{stroke:#333333;stroke-width:2.0px;}#mermaid-svg .flowchart-link{stroke:#333333;fill:none;}#mermaid-svg .edgeLabel{background-color:rgba(232,232,232, 0.8);text-align:center;}#mermaid-svg .edgeLabel p{background-color:rgba(232,232,232, 0.8);}#mermaid-svg .edgeLabel rect{opacity:0.5;background-color:rgba(232,232,232, 0.8);fill:rgba(232,232,232, 0.8);}#mermaid-svg .labelBkg{background-color:rgba(232, 232, 232, 0.5);}#mermaid-svg .cluster rect{fill:#ffffde;stroke:#aaaa33;stroke-width:1px;}#mermaid-svg .cluster text{fill:#333;}#mermaid-svg .cluster span{color:#333;}#mermaid-svg div.mermaidTooltip{position:absolute;text-align:center;max-width:200px;padding:2px;font-family:&quot;trebuchet ms&quot;,verdana,arial,sans-serif;font-size:12px;background:hsl(80, 100%, 96.2745098039%);border:1px solid #aaaa33;border-radius:2px;pointer-events:none;z-index:100;}#mermaid-svg .flowchartTitleText{text-anchor:middle;font-size:18px;fill:#333;}#mermaid-svg rect.text{fill:none;stroke-width:0;}#mermaid-svg .icon-shape,#mermaid-svg .image-shape{background-color:rgba(232,232,232, 0.8);text-align:center;}#mermaid-svg .icon-shape p,#mermaid-svg .image-shape p{background-color:rgba(232,232,232, 0.8);padding:2px;}#mermaid-svg .icon-shape rect,#mermaid-svg .image-shape rect{opacity:0.5;background-color:rgba(232,232,232, 0.8);fill:rgba(232,232,232, 0.8);}#mermaid-svg :root{--mermaid-font-family:&quot;trebuchet ms&quot;,verdana,arial,sans-serif;}</style><g><marker id=\"mermaid-svg_flowchart-v2-pointEnd\" class=\"marker flowchart-v2\" viewBox=\"0 0 10 10\" refX=\"5\" refY=\"5\" markerUnits=\"userSpaceOnUse\" markerWidth=\"8\" markerHeight=\"8\" orient=\"auto\"><path d=\"M 0 0 L 10 5 L 0 10 z\" class=\"arrowMarkerPath\" style=\"stroke-width: 1; stroke-dasharray: 1, 0;\"/></marker><marker id=\"mermaid-svg_flowchart-v2-pointStart\" class=\"marker flowchart-v2\" viewBox=\"0 0 10 10\" refX=\"4.5\" refY=\"5\" markerUnits=\"userSpaceOnUse\" markerWidth=\"8\" markerHeight=\"8\" orient=\"auto\"><path d=\"M 0 5 L 10 10 L 10 0 z\" class=\"arrowMarkerPath\" style=\"stroke-width: 1; stroke-dasharray: 1, 0;\"/></marker><marker id=\"mermaid-svg_flowchart-v2-circleEnd\" class=\"marker flowchart-v2\" viewBox=\"0 0 10 10\" refX=\"11\" refY=\"5\" markerUnits=\"userSpaceOnUse\" markerWidth=\"11\" markerHeight=\"11\" orient=\"auto\"><circle cx=\"5\" cy=\"5\" r=\"5\" class=\"arrowMarkerPath\" style=\"stroke-width: 1; stroke-dasharray: 1, 0;\"/></marker><marker id=\"mermaid-svg_flowchart-v2-circleStart\" class=\"marker flowchart-v2\" viewBox=\"0 0 10 10\" refX=\"-1\" refY=\"5\" markerUnits=\"userSpaceOnUse\" markerWidth=\"11\" markerHeight=\"11\" orient=\"auto\"><circle cx=\"5\" cy=\"5\" r=\"5\" class=\"arrowMarkerPath\" style=\"stroke-width: 1; stroke-dasharray: 1, 0;\"/></marker><marker id=\"mermaid-svg_flowchart-v2-crossEnd\" class=\"marker cross flowchart-v2\" viewBox=\"0 0 11 11\" refX=\"12\" refY=\"5.2\" markerUnits=\"userSpaceOnUse\" markerWidth=\"11\" markerHeight=\"11\" orient=\"auto\"><path d=\"M 1,1 l 9,9 M 10,1 l -9,9\" class=\"arrowMarkerPath\" style=\"stroke-width: 2; stroke-dasharray: 1, 0;\"/></marker><marker id=\"mermaid-svg_flowchart-v2-crossStart\" class=\"marker cross flowchart-v2\" viewBox=\"0 0 11 11\" refX=\"-1\" refY=\"5.2\" markerUnits=\"userSpaceOnUse\" markerWidth=\"11\" markerHeight=\"11\" orient=\"auto\"><path d=\"M 1,1 l 9,9 M 10,1 l -9,9\" class=\"arrowMarkerPath\" style=\"stroke-width: 2; stroke-dasharray: 1, 0;\"/></marker><g class=\"root\"><g class=\"clusters\"/><g class=\"edgePaths\"/><g class=\"edgeLabels\"/><g class=\"nodes\"><g class=\"root\" transform=\"translate(0, 0)\"><g class=\"clusters\"><g class=\"cluster \" id=\"subGraph0\" data-look=\"classic\"><rect style=\"\" x=\"8\" y=\"8\" width=\"1049.65625\" height=\"540\"/><g class=\"cluster-label \" transform=\"translate(443, 8)\"><foreignObject width=\"179.65625\" height=\"24\"><div xmlns=\"http://www.w3.org/1999/xhtml\" style=\"display: table-cell; white-space: nowrap; line-height: 1.5; max-width: 200px; text-align: center;\"><span class=\"nodeLabel \"><p>Layer 2 - Data Link Layer</p></span></div></foreignObject></g></g></g><g class=\"edgePaths\"><path d=\"M485.853,99.5L488.267,105.75C490.682,112,495.511,124.5,497.925,136.333C500.34,148.167,500.34,159.333,500.34,164.917L500.34,170.5\" id=\"L_L2_Switch1_0\" class=\" edge-thickness-normal edge-pattern-solid edge-thickness-normal edge-pattern-solid flowchart-link\" style=\"\" marker-end=\"url(#mermaid-svg_flowchart-v2-pointEnd)\"/><path d=\"M386.281,87.403L336.84,95.67C287.398,103.936,188.516,120.468,139.074,139.484C89.633,158.5,89.633,180,89.633,203.5C89.633,227,89.633,252.5,110.222,273.258C130.811,294.017,171.99,310.033,192.579,318.042L213.168,326.05\" id=\"L_L2_Switch2_0\" class=\" edge-thickness-normal edge-pattern-solid edge-thickness-normal edge-pattern-solid flowchart-link\" style=\"\" marker-end=\"url(#mermaid-svg_flowchart-v2-pointEnd)\"/><path d=\"M531.114,99.5L544.006,105.75C556.898,112,582.681,124.5,595.573,141.5C608.465,158.5,608.465,180,608.465,203.5C608.465,227,608.465,252.5,629.556,273.263C650.646,294.026,692.828,310.053,713.919,318.066L735.009,326.079\" id=\"L_L2_Switch3_0\" class=\" edge-thickness-normal edge-pattern-solid edge-thickness-normal edge-pattern-solid flowchart-link\" style=\"\" marker-end=\"url(#mermaid-svg_flowchart-v2-pointEnd)\"/><path d=\"M500.34,228.5L500.34,236.75C500.34,245,500.34,261.5,477.258,278C454.177,294.5,408.014,311,384.933,319.25L361.852,327.5\" id=\"L_Switch1_Switch2_0\" class=\" edge-thickness-normal edge-pattern-solid edge-thickness-normal edge-pattern-solid flowchart-link\" style=\"\"/><path d=\"M573.465,213.289L640.361,224.074C707.257,234.86,841.048,256.43,890.147,275.465C939.246,294.5,903.652,311,885.855,319.25L868.057,327.5\" id=\"L_Switch1_Switch3_0\" class=\" edge-thickness-normal edge-pattern-solid edge-thickness-normal edge-pattern-solid flowchart-link\" style=\"\"/><path d=\"M229.781,381.5L216.695,387.75C203.609,394,177.438,406.5,164.352,419C151.266,431.5,151.266,444,151.266,450.25L151.266,456.5\" id=\"L_Switch2_VLAN1_0\" class=\" edge-thickness-normal edge-pattern-solid edge-thickness-normal edge-pattern-solid flowchart-link\" style=\"\"/><path d=\"M342.844,381.5L355.93,387.75C369.016,394,395.188,406.5,408.273,419C421.359,431.5,421.359,444,421.359,450.25L421.359,456.5\" id=\"L_Switch2_VLAN2_0\" class=\" edge-thickness-normal edge-pattern-solid edge-thickness-normal edge-pattern-solid flowchart-link\" style=\"\"/><path d=\"M758.589,381.5L746.732,387.75C734.874,394,711.16,406.5,699.303,419C687.445,431.5,687.445,444,687.445,450.25L687.445,456.5\" id=\"L_Switch3_VLAN3_0\" class=\" edge-thickness-normal edge-pattern-solid edge-thickness-normal edge-pattern-solid flowchart-link\" style=\"\"/><path d=\"M861.036,381.5L872.893,387.75C884.751,394,908.465,406.5,920.322,419C932.18,431.5,932.18,444,932.18,450.25L932.18,456.5\" id=\"L_Switch3_VLAN4_0\" class=\" edge-thickness-normal edge-pattern-solid edge-thickness-normal edge-pattern-solid flowchart-link\" style=\"\"/></g><g class=\"edgeLabels\"><g class=\"edgeLabel\"><g class=\"label\" transform=\"translate(0, 0)\"><foreignObject width=\"0\" height=\"0\"><div xmlns=\"http://www.w3.org/1999/xhtml\" class=\"labelBkg\" style=\"display: table-cell; white-space: nowrap; line-height: 1.5; max-width: 200px; text-align: center;\"><span class=\"edgeLabel \"/></div></foreignObject></g></g><g class=\"edgeLabel\"><g class=\"label\" transform=\"translate(0, 0)\"><foreignObject width=\"0\" height=\"0\"><div xmlns=\"http://www.w3.org/1999/xhtml\" class=\"labelBkg\" style=\"display: table-cell; white-space: nowrap; line-height: 1.5; max-width: 200px; text-align: center;\"><span class=\"edgeLabel \"/></div></foreignObject></g></g><g class=\"edgeLabel\"><g class=\"label\" transform=\"translate(0, 0)\"><foreignObject width=\"0\" height=\"0\"><div xmlns=\"http://www.w3.org/1999/xhtml\" class=\"labelBkg\" style=\"display: table-cell; white-space: nowrap; line-height: 1.5; max-width: 200px; text-align: center;\"><span class=\"edgeLabel \"/></div></foreignObject></g></g><g class=\"edgeLabel\" transform=\"translate(500.33984375, 278)\"><g class=\"label\" transform=\"translate(-20.15625, -12)\"><foreignObject width=\"40.3125\" height=\"24\"><div xmlns=\"http://www.w3.org/1999/xhtml\" class=\"labelBkg\" style=\"display: table-cell; white-space: nowrap; line-height: 1.5; max-width: 200px; text-align: center;\"><span class=\"edgeLabel \"><p>Trunk</p></span></div></foreignObject></g></g><g class=\"edgeLabel\" transform=\"translate(974.83984375, 278)\"><g class=\"label\" transform=\"translate(-20.15625, -12)\"><foreignObject width=\"40.3125\" height=\"24\"><div xmlns=\"http://www.w3.org/1999/xhtml\" class=\"labelBkg\" style=\"display: table-cell; white-space: nowrap; line-height: 1.5; max-width: 200px; text-align: center;\"><span class=\"edgeLabel \"><p>Trunk</p></span></div></foreignObject></g></g><g class=\"edgeLabel\"><g class=\"label\" transform=\"translate(0, 0)\"><foreignObject width=\"0\" height=\"0\"><div xmlns=\"http://www.w3.org/1999/xhtml\" class=\"labelBkg\" style=\"display: table-cell; white-space: nowrap; line-height: 1.5; max-width: 200px; text-align: center;\"><span class=\"edgeLabel \"/></div></foreignObject></g></g><g class=\"edgeLabel\"><g class=\"label\" transform=\"translate(0, 0)\"><foreignObject width=\"0\" height=\"0\"><div xmlns=\"http://www.w3.org/1999/xhtml\" class=\"labelBkg\" style=\"display: table-cell; white-space: nowrap; line-height: 1.5; max-width: 200px; text-align: center;\"><span class=\"edgeLabel \"/></div></foreignObject></g></g><g class=\"edgeLabel\"><g class=\"label\" transform=\"translate(0, 0)\"><foreignObject width=\"0\" height=\"0\"><div xmlns=\"http://www.w3.org/1999/xhtml\" class=\"labelBkg\" style=\"display: table-cell; white-space: nowrap; line-height: 1.5; max-width: 200px; text-align: center;\"><span class=\"edgeLabel \"/></div></foreignObject></g></g><g class=\"edgeLabel\"><g class=\"label\" transform=\"translate(0, 0)\"><foreignObject width=\"0\" height=\"0\"><div xmlns=\"http://www.w3.org/1999/xhtml\" class=\"labelBkg\" style=\"display: table-cell; white-space: nowrap; line-height: 1.5; max-width: 200px; text-align: center;\"><span class=\"edgeLabel \"/></div></foreignObject></g></g></g><g class=\"nodes\"><g class=\"node default  \" id=\"flowchart-L2-0\" transform=\"translate(475.421875, 72.5)\"><rect class=\"basic label-container\" style=\"fill:#d4f1f9 !important;stroke:#333 !important;stroke-width:1px !important\" x=\"-89.140625\" y=\"-27\" width=\"178.28125\" height=\"54\"/><g class=\"label\" style=\"\" transform=\"translate(-59.140625, -12)\"><rect/><foreignObject width=\"118.28125\" height=\"24\"><div xmlns=\"http://www.w3.org/1999/xhtml\" style=\"display: table-cell; white-space: nowrap; line-height: 1.5; max-width: 200px; text-align: center;\"><span class=\"nodeLabel \"><p>Layer 2 Diagram</p></span></div></foreignObject></g></g><g class=\"node default  \" id=\"flowchart-Switch1-1\" transform=\"translate(500.33984375, 201.5)\"><rect class=\"basic label-container\" style=\"fill:#eeeeee !important;stroke:#333 !important;stroke-width:1px !important\" x=\"-73.125\" y=\"-27\" width=\"146.25\" height=\"54\"/><g class=\"label\" style=\"\" transform=\"translate(-43.125, -12)\"><rect/><foreignObject width=\"86.25\" height=\"24\"><div xmlns=\"http://www.w3.org/1999/xhtml\" style=\"display: table-cell; white-space: nowrap; line-height: 1.5; max-width: 200px; text-align: center;\"><span class=\"nodeLabel \"><p>Core Switch</p></span></div></foreignObject></g></g><g class=\"node default  \" id=\"flowchart-Switch2-3\" transform=\"translate(286.3125, 354.5)\"><rect class=\"basic label-container\" style=\"fill:#eeeeee !important;stroke:#333 !important;stroke-width:1px !important\" x=\"-88.2421875\" y=\"-27\" width=\"176.484375\" height=\"54\"/><g class=\"label\" style=\"\" transform=\"translate(-58.2421875, -12)\"><rect/><foreignObject width=\"116.484375\" height=\"24\"><div xmlns=\"http://www.w3.org/1999/xhtml\" style=\"display: table-cell; white-space: nowrap; line-height: 1.5; max-width: 200px; text-align: center;\"><span class=\"nodeLabel \"><p>Access Switch 1</p></span></div></foreignObject></g></g><g class=\"node default  \" id=\"flowchart-Switch3-5\" transform=\"translate(809.8125, 354.5)\"><rect class=\"basic label-container\" style=\"fill:#eeeeee !important;stroke:#333 !important;stroke-width:1px !important\" x=\"-88.2421875\" y=\"-27\" width=\"176.484375\" height=\"54\"/><g class=\"label\" style=\"\" transform=\"translate(-58.2421875, -12)\"><rect/><foreignObject width=\"116.484375\" height=\"24\"><div xmlns=\"http://www.w3.org/1999/xhtml\" style=\"display: table-cell; white-space: nowrap; line-height: 1.5; max-width: 200px; text-align: center;\"><span class=\"nodeLabel \"><p>Access Switch 2</p></span></div></foreignObject></g></g><g class=\"node default  \" id=\"flowchart-VLAN1-11\" transform=\"translate(151.265625, 483.5)\"><rect class=\"basic label-container\" style=\"fill:#d5e8d4 !important;stroke:#333 !important;stroke-width:1px !important\" x=\"-108.265625\" y=\"-27\" width=\"216.53125\" height=\"54\"/><g class=\"label\" style=\"\" transform=\"translate(-78.265625, -12)\"><rect/><foreignObject width=\"156.53125\" height=\"24\"><div xmlns=\"http://www.w3.org/1999/xhtml\" style=\"display: table-cell; white-space: nowrap; line-height: 1.5; max-width: 200px; text-align: center;\"><span class=\"nodeLabel \"><p>VLAN 10 - Operations</p></span></div></foreignObject></g></g><g class=\"node default  \" id=\"flowchart-VLAN2-13\" transform=\"translate(421.359375, 483.5)\"><rect class=\"basic label-container\" style=\"fill:#d5e8d4 !important;stroke:#333 !important;stroke-width:1px !important\" x=\"-111.828125\" y=\"-27\" width=\"223.65625\" height=\"54\"/><g class=\"label\" style=\"\" transform=\"translate(-81.828125, -12)\"><rect/><foreignObject width=\"163.65625\" height=\"24\"><div xmlns=\"http://www.w3.org/1999/xhtml\" style=\"display: table-cell; white-space: nowrap; line-height: 1.5; max-width: 200px; text-align: center;\"><span class=\"nodeLabel \"><p>VLAN 20 - Engineering</p></span></div></foreignObject></g></g><g class=\"node default  \" id=\"flowchart-VLAN3-15\" transform=\"translate(687.4453125, 483.5)\"><rect class=\"basic label-container\" style=\"fill:#d5e8d4 !important;stroke:#333 !important;stroke-width:1px !important\" x=\"-104.2578125\" y=\"-27\" width=\"208.515625\" height=\"54\"/><g class=\"label\" style=\"\" transform=\"translate(-74.2578125, -12)\"><rect/><foreignObject width=\"148.515625\" height=\"24\"><div xmlns=\"http://www.w3.org/1999/xhtml\" style=\"display: table-cell; white-space: nowrap; line-height: 1.5; max-width: 200px; text-align: center;\"><span class=\"nodeLabel \"><p>VLAN 30 - Marketing</p></span></div></foreignObject></g></g><g class=\"node default  \" id=\"flowchart-VLAN4-17\" transform=\"translate(932.1796875, 483.5)\"><rect class=\"basic label-container\" style=\"fill:#d5e8d4 !important;stroke:#333 !important;stroke-width:1px !important\" x=\"-90.4765625\" y=\"-27\" width=\"180.953125\" height=\"54\"/><g class=\"label\" style=\"\" transform=\"translate(-60.4765625, -12)\"><rect/><foreignObject width=\"120.953125\" height=\"24\"><div xmlns=\"http://www.w3.org/1999/xhtml\" style=\"display: table-cell; white-space: nowrap; line-height: 1.5; max-width: 200px; text-align: center;\"><span class=\"nodeLabel \"><p>VLAN 40 - Guest</p></span></div></foreignObject></g></g></g></g></g></g></g></svg>"
          },
          "metadata": {}
        }
      ]
    },
    {
      "cell_type": "markdown",
      "source": [
        "## Layer 3 Diagram"
      ],
      "metadata": {
        "id": "xbTKqV5yG_Uf"
      }
    },
    {
      "cell_type": "code",
      "source": [
        "# @title\n",
        "mm_svg(\"\"\"\n",
        "graph TD\n",
        "    subgraph \"Layer 3 - Network Layer\"\n",
        "        L3[Layer 3 Diagram] --> Router1[Main Router]\n",
        "        L3 --> Router2[Backup Router]\n",
        "\n",
        "        Router1 --- Firewall[Firewall]\n",
        "        Router2 --- Firewall\n",
        "\n",
        "        Firewall --- Internet[Internet]\n",
        "\n",
        "        Router1 --- Subnet1[Subnet 192.168.10.0/24]\n",
        "        Router1 --- Subnet2[Subnet 192.168.20.0/24]\n",
        "        Router2 --- Subnet3[Subnet 10.10.10.0/24]\n",
        "        Router2 --- Subnet4[Subnet 10.20.20.0/24]\n",
        "    end\n",
        "\n",
        "    style L3 fill:#ffe6cc,stroke:#333,stroke-width:1px\n",
        "    style Router1 fill:#eeeeee,stroke:#333,stroke-width:1px\n",
        "    style Router2 fill:#eeeeee,stroke:#333,stroke-width:1px\n",
        "    style Firewall fill:#eeeeee,stroke:#333,stroke-width:1px\n",
        "    style Internet fill:#f8cecc,stroke:#333,stroke-width:1px\n",
        "    style Subnet1 fill:#d5e8d4,stroke:#333,stroke-width:1px\n",
        "    style Subnet2 fill:#d5e8d4,stroke:#333,stroke-width:1px\n",
        "    style Subnet3 fill:#d5e8d4,stroke:#333,stroke-width:1px\n",
        "    style Subnet4 fill:#d5e8d4,stroke:#333,stroke-width:1px\n",
        "\"\"\")"
      ],
      "metadata": {
        "cellView": "form",
        "id": "IrfZG1XLHBIV",
        "outputId": "9ffd6f48-6bb8-4897-f2b0-413874c890d6",
        "colab": {
          "base_uri": "https://localhost:8080/",
          "height": 554
        }
      },
      "execution_count": 10,
      "outputs": [
        {
          "output_type": "display_data",
          "data": {
            "text/plain": [
              "<IPython.core.display.SVG object>"
            ],
            "image/svg+xml": "<svg xmlns=\"http://www.w3.org/2000/svg\" xmlns:xlink=\"http://www.w3.org/1999/xlink\" id=\"mermaid-svg\" width=\"100%\" class=\"flowchart\" style=\"max-width: 1288.84375px;\" viewBox=\"0 0 1288.84375 532\" role=\"graphics-document document\" aria-roledescription=\"flowchart-v2\"><style xmlns=\"http://www.w3.org/1999/xhtml\">@import url(&quot;https://cdnjs.cloudflare.com/ajax/libs/font-awesome/6.7.2/css/all.min.css&quot;);</style><style>#mermaid-svg{font-family:&quot;trebuchet ms&quot;,verdana,arial,sans-serif;font-size:16px;fill:#333;}@keyframes edge-animation-frame{from{stroke-dashoffset:0;}}@keyframes dash{to{stroke-dashoffset:0;}}#mermaid-svg .edge-animation-slow{stroke-dasharray:9,5!important;stroke-dashoffset:900;animation:dash 50s linear infinite;stroke-linecap:round;}#mermaid-svg .edge-animation-fast{stroke-dasharray:9,5!important;stroke-dashoffset:900;animation:dash 20s linear infinite;stroke-linecap:round;}#mermaid-svg .error-icon{fill:#552222;}#mermaid-svg .error-text{fill:#552222;stroke:#552222;}#mermaid-svg .edge-thickness-normal{stroke-width:1px;}#mermaid-svg .edge-thickness-thick{stroke-width:3.5px;}#mermaid-svg .edge-pattern-solid{stroke-dasharray:0;}#mermaid-svg .edge-thickness-invisible{stroke-width:0;fill:none;}#mermaid-svg .edge-pattern-dashed{stroke-dasharray:3;}#mermaid-svg .edge-pattern-dotted{stroke-dasharray:2;}#mermaid-svg .marker{fill:#333333;stroke:#333333;}#mermaid-svg .marker.cross{stroke:#333333;}#mermaid-svg svg{font-family:&quot;trebuchet ms&quot;,verdana,arial,sans-serif;font-size:16px;}#mermaid-svg p{margin:0;}#mermaid-svg .label{font-family:&quot;trebuchet ms&quot;,verdana,arial,sans-serif;color:#333;}#mermaid-svg .cluster-label text{fill:#333;}#mermaid-svg .cluster-label span{color:#333;}#mermaid-svg .cluster-label span p{background-color:transparent;}#mermaid-svg .label text,#mermaid-svg span{fill:#333;color:#333;}#mermaid-svg .node rect,#mermaid-svg .node circle,#mermaid-svg .node ellipse,#mermaid-svg .node polygon,#mermaid-svg .node path{fill:#ECECFF;stroke:#9370DB;stroke-width:1px;}#mermaid-svg .rough-node .label text,#mermaid-svg .node .label text,#mermaid-svg .image-shape .label,#mermaid-svg .icon-shape .label{text-anchor:middle;}#mermaid-svg .node .katex path{fill:#000;stroke:#000;stroke-width:1px;}#mermaid-svg .rough-node .label,#mermaid-svg .node .label,#mermaid-svg .image-shape .label,#mermaid-svg .icon-shape .label{text-align:center;}#mermaid-svg .node.clickable{cursor:pointer;}#mermaid-svg .root .anchor path{fill:#333333!important;stroke-width:0;stroke:#333333;}#mermaid-svg .arrowheadPath{fill:#333333;}#mermaid-svg .edgePath .path{stroke:#333333;stroke-width:2.0px;}#mermaid-svg .flowchart-link{stroke:#333333;fill:none;}#mermaid-svg .edgeLabel{background-color:rgba(232,232,232, 0.8);text-align:center;}#mermaid-svg .edgeLabel p{background-color:rgba(232,232,232, 0.8);}#mermaid-svg .edgeLabel rect{opacity:0.5;background-color:rgba(232,232,232, 0.8);fill:rgba(232,232,232, 0.8);}#mermaid-svg .labelBkg{background-color:rgba(232, 232, 232, 0.5);}#mermaid-svg .cluster rect{fill:#ffffde;stroke:#aaaa33;stroke-width:1px;}#mermaid-svg .cluster text{fill:#333;}#mermaid-svg .cluster span{color:#333;}#mermaid-svg div.mermaidTooltip{position:absolute;text-align:center;max-width:200px;padding:2px;font-family:&quot;trebuchet ms&quot;,verdana,arial,sans-serif;font-size:12px;background:hsl(80, 100%, 96.2745098039%);border:1px solid #aaaa33;border-radius:2px;pointer-events:none;z-index:100;}#mermaid-svg .flowchartTitleText{text-anchor:middle;font-size:18px;fill:#333;}#mermaid-svg rect.text{fill:none;stroke-width:0;}#mermaid-svg .icon-shape,#mermaid-svg .image-shape{background-color:rgba(232,232,232, 0.8);text-align:center;}#mermaid-svg .icon-shape p,#mermaid-svg .image-shape p{background-color:rgba(232,232,232, 0.8);padding:2px;}#mermaid-svg .icon-shape rect,#mermaid-svg .image-shape rect{opacity:0.5;background-color:rgba(232,232,232, 0.8);fill:rgba(232,232,232, 0.8);}#mermaid-svg :root{--mermaid-font-family:&quot;trebuchet ms&quot;,verdana,arial,sans-serif;}</style><g><marker id=\"mermaid-svg_flowchart-v2-pointEnd\" class=\"marker flowchart-v2\" viewBox=\"0 0 10 10\" refX=\"5\" refY=\"5\" markerUnits=\"userSpaceOnUse\" markerWidth=\"8\" markerHeight=\"8\" orient=\"auto\"><path d=\"M 0 0 L 10 5 L 0 10 z\" class=\"arrowMarkerPath\" style=\"stroke-width: 1; stroke-dasharray: 1, 0;\"/></marker><marker id=\"mermaid-svg_flowchart-v2-pointStart\" class=\"marker flowchart-v2\" viewBox=\"0 0 10 10\" refX=\"4.5\" refY=\"5\" markerUnits=\"userSpaceOnUse\" markerWidth=\"8\" markerHeight=\"8\" orient=\"auto\"><path d=\"M 0 5 L 10 10 L 10 0 z\" class=\"arrowMarkerPath\" style=\"stroke-width: 1; stroke-dasharray: 1, 0;\"/></marker><marker id=\"mermaid-svg_flowchart-v2-circleEnd\" class=\"marker flowchart-v2\" viewBox=\"0 0 10 10\" refX=\"11\" refY=\"5\" markerUnits=\"userSpaceOnUse\" markerWidth=\"11\" markerHeight=\"11\" orient=\"auto\"><circle cx=\"5\" cy=\"5\" r=\"5\" class=\"arrowMarkerPath\" style=\"stroke-width: 1; stroke-dasharray: 1, 0;\"/></marker><marker id=\"mermaid-svg_flowchart-v2-circleStart\" class=\"marker flowchart-v2\" viewBox=\"0 0 10 10\" refX=\"-1\" refY=\"5\" markerUnits=\"userSpaceOnUse\" markerWidth=\"11\" markerHeight=\"11\" orient=\"auto\"><circle cx=\"5\" cy=\"5\" r=\"5\" class=\"arrowMarkerPath\" style=\"stroke-width: 1; stroke-dasharray: 1, 0;\"/></marker><marker id=\"mermaid-svg_flowchart-v2-crossEnd\" class=\"marker cross flowchart-v2\" viewBox=\"0 0 11 11\" refX=\"12\" refY=\"5.2\" markerUnits=\"userSpaceOnUse\" markerWidth=\"11\" markerHeight=\"11\" orient=\"auto\"><path d=\"M 1,1 l 9,9 M 10,1 l -9,9\" class=\"arrowMarkerPath\" style=\"stroke-width: 2; stroke-dasharray: 1, 0;\"/></marker><marker id=\"mermaid-svg_flowchart-v2-crossStart\" class=\"marker cross flowchart-v2\" viewBox=\"0 0 11 11\" refX=\"-1\" refY=\"5.2\" markerUnits=\"userSpaceOnUse\" markerWidth=\"11\" markerHeight=\"11\" orient=\"auto\"><path d=\"M 1,1 l 9,9 M 10,1 l -9,9\" class=\"arrowMarkerPath\" style=\"stroke-width: 2; stroke-dasharray: 1, 0;\"/></marker><g class=\"root\"><g class=\"clusters\"/><g class=\"edgePaths\"/><g class=\"edgeLabels\"/><g class=\"nodes\"><g class=\"root\" transform=\"translate(0, 0)\"><g class=\"clusters\"><g class=\"cluster \" id=\"subGraph0\" data-look=\"classic\"><rect style=\"\" x=\"8\" y=\"8\" width=\"1272.84375\" height=\"516\"/><g class=\"cluster-label \" transform=\"translate(559.0546875, 8)\"><foreignObject width=\"170.734375\" height=\"24\"><div xmlns=\"http://www.w3.org/1999/xhtml\" style=\"display: table-cell; white-space: nowrap; line-height: 1.5; max-width: 200px; text-align: center;\"><span class=\"nodeLabel \"><p>Layer 3 - Network Layer</p></span></div></foreignObject></g></g></g><g class=\"edgePaths\"><path d=\"M510.777,93.303L479.571,100.586C448.365,107.869,385.952,122.434,354.745,135.301C323.539,148.167,323.539,159.333,323.539,164.917L323.539,170.5\" id=\"L_L3_Router1_0\" class=\" edge-thickness-normal edge-pattern-solid edge-thickness-normal edge-pattern-solid flowchart-link\" style=\"\" marker-end=\"url(#mermaid-svg_flowchart-v2-pointEnd)\"/><path d=\"M689.059,93.303L720.265,100.586C751.471,107.869,813.884,122.434,845.09,135.301C876.297,148.167,876.297,159.333,876.297,164.917L876.297,170.5\" id=\"L_L3_Router2_0\" class=\" edge-thickness-normal edge-pattern-solid edge-thickness-normal edge-pattern-solid flowchart-link\" style=\"\" marker-end=\"url(#mermaid-svg_flowchart-v2-pointEnd)\"/><path d=\"M249.961,219.805L219.014,227.504C188.068,235.204,126.174,250.602,98.743,264.551C71.313,278.5,78.344,291,81.859,297.25L85.375,303.5\" id=\"L_Router1_Firewall_0\" class=\" edge-thickness-normal edge-pattern-solid edge-thickness-normal edge-pattern-solid flowchart-link\" style=\"\"/><path d=\"M793.375,209.433L694.821,218.86C596.267,228.288,399.159,247.144,290.771,262.822C182.383,278.5,162.714,291,152.88,297.25L143.046,303.5\" id=\"L_Router2_Firewall_0\" class=\" edge-thickness-normal edge-pattern-solid edge-thickness-normal edge-pattern-solid flowchart-link\" style=\"\"/><path d=\"M100.563,357.5L100.563,363.75C100.563,370,100.563,382.5,100.563,395C100.563,407.5,100.563,420,100.563,426.25L100.563,432.5\" id=\"L_Firewall_Internet_0\" class=\" edge-thickness-normal edge-pattern-solid edge-thickness-normal edge-pattern-solid flowchart-link\" style=\"\"/><path d=\"M323.539,228.5L323.539,234.75C323.539,241,323.539,253.5,323.539,266C323.539,278.5,323.539,291,323.539,297.25L323.539,303.5\" id=\"L_Router1_Subnet1_0\" class=\" edge-thickness-normal edge-pattern-solid edge-thickness-normal edge-pattern-solid flowchart-link\" style=\"\"/><path d=\"M397.117,218.399L431.659,226.333C466.201,234.266,535.284,250.133,569.826,264.317C604.367,278.5,604.367,291,604.367,297.25L604.367,303.5\" id=\"L_Router1_Subnet2_0\" class=\" edge-thickness-normal edge-pattern-solid edge-thickness-normal edge-pattern-solid flowchart-link\" style=\"\"/><path d=\"M876.297,228.5L876.297,234.75C876.297,241,876.297,253.5,876.297,266C876.297,278.5,876.297,291,876.297,297.25L876.297,303.5\" id=\"L_Router2_Subnet3_0\" class=\" edge-thickness-normal edge-pattern-solid edge-thickness-normal edge-pattern-solid flowchart-link\" style=\"\"/><path d=\"M959.219,221.834L989.237,229.195C1019.255,236.556,1079.292,251.278,1109.31,264.889C1139.328,278.5,1139.328,291,1139.328,297.25L1139.328,303.5\" id=\"L_Router2_Subnet4_0\" class=\" edge-thickness-normal edge-pattern-solid edge-thickness-normal edge-pattern-solid flowchart-link\" style=\"\"/></g><g class=\"edgeLabels\"><g class=\"edgeLabel\"><g class=\"label\" transform=\"translate(0, 0)\"><foreignObject width=\"0\" height=\"0\"><div xmlns=\"http://www.w3.org/1999/xhtml\" class=\"labelBkg\" style=\"display: table-cell; white-space: nowrap; line-height: 1.5; max-width: 200px; text-align: center;\"><span class=\"edgeLabel \"/></div></foreignObject></g></g><g class=\"edgeLabel\"><g class=\"label\" transform=\"translate(0, 0)\"><foreignObject width=\"0\" height=\"0\"><div xmlns=\"http://www.w3.org/1999/xhtml\" class=\"labelBkg\" style=\"display: table-cell; white-space: nowrap; line-height: 1.5; max-width: 200px; text-align: center;\"><span class=\"edgeLabel \"/></div></foreignObject></g></g><g class=\"edgeLabel\"><g class=\"label\" transform=\"translate(0, 0)\"><foreignObject width=\"0\" height=\"0\"><div xmlns=\"http://www.w3.org/1999/xhtml\" class=\"labelBkg\" style=\"display: table-cell; white-space: nowrap; line-height: 1.5; max-width: 200px; text-align: center;\"><span class=\"edgeLabel \"/></div></foreignObject></g></g><g class=\"edgeLabel\"><g class=\"label\" transform=\"translate(0, 0)\"><foreignObject width=\"0\" height=\"0\"><div xmlns=\"http://www.w3.org/1999/xhtml\" class=\"labelBkg\" style=\"display: table-cell; white-space: nowrap; line-height: 1.5; max-width: 200px; text-align: center;\"><span class=\"edgeLabel \"/></div></foreignObject></g></g><g class=\"edgeLabel\"><g class=\"label\" transform=\"translate(0, 0)\"><foreignObject width=\"0\" height=\"0\"><div xmlns=\"http://www.w3.org/1999/xhtml\" class=\"labelBkg\" style=\"display: table-cell; white-space: nowrap; line-height: 1.5; max-width: 200px; text-align: center;\"><span class=\"edgeLabel \"/></div></foreignObject></g></g><g class=\"edgeLabel\"><g class=\"label\" transform=\"translate(0, 0)\"><foreignObject width=\"0\" height=\"0\"><div xmlns=\"http://www.w3.org/1999/xhtml\" class=\"labelBkg\" style=\"display: table-cell; white-space: nowrap; line-height: 1.5; max-width: 200px; text-align: center;\"><span class=\"edgeLabel \"/></div></foreignObject></g></g><g class=\"edgeLabel\"><g class=\"label\" transform=\"translate(0, 0)\"><foreignObject width=\"0\" height=\"0\"><div xmlns=\"http://www.w3.org/1999/xhtml\" class=\"labelBkg\" style=\"display: table-cell; white-space: nowrap; line-height: 1.5; max-width: 200px; text-align: center;\"><span class=\"edgeLabel \"/></div></foreignObject></g></g><g class=\"edgeLabel\"><g class=\"label\" transform=\"translate(0, 0)\"><foreignObject width=\"0\" height=\"0\"><div xmlns=\"http://www.w3.org/1999/xhtml\" class=\"labelBkg\" style=\"display: table-cell; white-space: nowrap; line-height: 1.5; max-width: 200px; text-align: center;\"><span class=\"edgeLabel \"/></div></foreignObject></g></g><g class=\"edgeLabel\"><g class=\"label\" transform=\"translate(0, 0)\"><foreignObject width=\"0\" height=\"0\"><div xmlns=\"http://www.w3.org/1999/xhtml\" class=\"labelBkg\" style=\"display: table-cell; white-space: nowrap; line-height: 1.5; max-width: 200px; text-align: center;\"><span class=\"edgeLabel \"/></div></foreignObject></g></g></g><g class=\"nodes\"><g class=\"node default  \" id=\"flowchart-L3-0\" transform=\"translate(599.91796875, 72.5)\"><rect class=\"basic label-container\" style=\"fill:#ffe6cc !important;stroke:#333 !important;stroke-width:1px !important\" x=\"-89.140625\" y=\"-27\" width=\"178.28125\" height=\"54\"/><g class=\"label\" style=\"\" transform=\"translate(-59.140625, -12)\"><rect/><foreignObject width=\"118.28125\" height=\"24\"><div xmlns=\"http://www.w3.org/1999/xhtml\" style=\"display: table-cell; white-space: nowrap; line-height: 1.5; max-width: 200px; text-align: center;\"><span class=\"nodeLabel \"><p>Layer 3 Diagram</p></span></div></foreignObject></g></g><g class=\"node default  \" id=\"flowchart-Router1-1\" transform=\"translate(323.5390625, 201.5)\"><rect class=\"basic label-container\" style=\"fill:#eeeeee !important;stroke:#333 !important;stroke-width:1px !important\" x=\"-73.578125\" y=\"-27\" width=\"147.15625\" height=\"54\"/><g class=\"label\" style=\"\" transform=\"translate(-43.578125, -12)\"><rect/><foreignObject width=\"87.15625\" height=\"24\"><div xmlns=\"http://www.w3.org/1999/xhtml\" style=\"display: table-cell; white-space: nowrap; line-height: 1.5; max-width: 200px; text-align: center;\"><span class=\"nodeLabel \"><p>Main Router</p></span></div></foreignObject></g></g><g class=\"node default  \" id=\"flowchart-Router2-3\" transform=\"translate(876.296875, 201.5)\"><rect class=\"basic label-container\" style=\"fill:#eeeeee !important;stroke:#333 !important;stroke-width:1px !important\" x=\"-82.921875\" y=\"-27\" width=\"165.84375\" height=\"54\"/><g class=\"label\" style=\"\" transform=\"translate(-52.921875, -12)\"><rect/><foreignObject width=\"105.84375\" height=\"24\"><div xmlns=\"http://www.w3.org/1999/xhtml\" style=\"display: table-cell; white-space: nowrap; line-height: 1.5; max-width: 200px; text-align: center;\"><span class=\"nodeLabel \"><p>Backup Router</p></span></div></foreignObject></g></g><g class=\"node default  \" id=\"flowchart-Firewall-5\" transform=\"translate(100.5625, 330.5)\"><rect class=\"basic label-container\" style=\"fill:#eeeeee !important;stroke:#333 !important;stroke-width:1px !important\" x=\"-57.5625\" y=\"-27\" width=\"115.125\" height=\"54\"/><g class=\"label\" style=\"\" transform=\"translate(-27.5625, -12)\"><rect/><foreignObject width=\"55.125\" height=\"24\"><div xmlns=\"http://www.w3.org/1999/xhtml\" style=\"display: table-cell; white-space: nowrap; line-height: 1.5; max-width: 200px; text-align: center;\"><span class=\"nodeLabel \"><p>Firewall</p></span></div></foreignObject></g></g><g class=\"node default  \" id=\"flowchart-Internet-9\" transform=\"translate(100.5625, 459.5)\"><rect class=\"basic label-container\" style=\"fill:#f8cecc !important;stroke:#333 !important;stroke-width:1px !important\" x=\"-57.1328125\" y=\"-27\" width=\"114.265625\" height=\"54\"/><g class=\"label\" style=\"\" transform=\"translate(-27.1328125, -12)\"><rect/><foreignObject width=\"54.265625\" height=\"24\"><div xmlns=\"http://www.w3.org/1999/xhtml\" style=\"display: table-cell; white-space: nowrap; line-height: 1.5; max-width: 200px; text-align: center;\"><span class=\"nodeLabel \"><p>Internet</p></span></div></foreignObject></g></g><g class=\"node default  \" id=\"flowchart-Subnet1-11\" transform=\"translate(323.5390625, 330.5)\"><rect class=\"basic label-container\" style=\"fill:#d5e8d4 !important;stroke:#333 !important;stroke-width:1px !important\" x=\"-115.4140625\" y=\"-27\" width=\"230.828125\" height=\"54\"/><g class=\"label\" style=\"\" transform=\"translate(-85.4140625, -12)\"><rect/><foreignObject width=\"170.828125\" height=\"24\"><div xmlns=\"http://www.w3.org/1999/xhtml\" style=\"display: table-cell; white-space: nowrap; line-height: 1.5; max-width: 200px; text-align: center;\"><span class=\"nodeLabel \"><p>Subnet 192.168.10.0/24</p></span></div></foreignObject></g></g><g class=\"node default  \" id=\"flowchart-Subnet2-13\" transform=\"translate(604.3671875, 330.5)\"><rect class=\"basic label-container\" style=\"fill:#d5e8d4 !important;stroke:#333 !important;stroke-width:1px !important\" x=\"-115.4140625\" y=\"-27\" width=\"230.828125\" height=\"54\"/><g class=\"label\" style=\"\" transform=\"translate(-85.4140625, -12)\"><rect/><foreignObject width=\"170.828125\" height=\"24\"><div xmlns=\"http://www.w3.org/1999/xhtml\" style=\"display: table-cell; white-space: nowrap; line-height: 1.5; max-width: 200px; text-align: center;\"><span class=\"nodeLabel \"><p>Subnet 192.168.20.0/24</p></span></div></foreignObject></g></g><g class=\"node default  \" id=\"flowchart-Subnet3-15\" transform=\"translate(876.296875, 330.5)\"><rect class=\"basic label-container\" style=\"fill:#d5e8d4 !important;stroke:#333 !important;stroke-width:1px !important\" x=\"-106.515625\" y=\"-27\" width=\"213.03125\" height=\"54\"/><g class=\"label\" style=\"\" transform=\"translate(-76.515625, -12)\"><rect/><foreignObject width=\"153.03125\" height=\"24\"><div xmlns=\"http://www.w3.org/1999/xhtml\" style=\"display: table-cell; white-space: nowrap; line-height: 1.5; max-width: 200px; text-align: center;\"><span class=\"nodeLabel \"><p>Subnet 10.10.10.0/24</p></span></div></foreignObject></g></g><g class=\"node default  \" id=\"flowchart-Subnet4-17\" transform=\"translate(1139.328125, 330.5)\"><rect class=\"basic label-container\" style=\"fill:#d5e8d4 !important;stroke:#333 !important;stroke-width:1px !important\" x=\"-106.515625\" y=\"-27\" width=\"213.03125\" height=\"54\"/><g class=\"label\" style=\"\" transform=\"translate(-76.515625, -12)\"><rect/><foreignObject width=\"153.03125\" height=\"24\"><div xmlns=\"http://www.w3.org/1999/xhtml\" style=\"display: table-cell; white-space: nowrap; line-height: 1.5; max-width: 200px; text-align: center;\"><span class=\"nodeLabel \"><p>Subnet 10.20.20.0/24</p></span></div></foreignObject></g></g></g></g></g></g></g></svg>"
          },
          "metadata": {}
        }
      ]
    },
    {
      "cell_type": "markdown",
      "source": [
        "## Asset Management & Inventory Systems\n",
        "\n",
        "Effective **asset management** provides organizations with systematic methods to track, maintain, and optimize the value of all network-related resources throughout their lifecycle. This approach encompasses both hardware and software components that make up the network infrastructure.\n",
        "\n",
        "Organizations maintain detailed **asset inventories** that track crucial information about each network component:\n",
        "\n",
        "* Hardware inventories include model numbers, serial numbers, purchase dates, warranty information, and physical locations of devices like routers, switches, access points, and servers\n",
        "* Software inventories track installed applications, versions, patch status, license information, and compatibility details\n",
        "* License management records contain purchase dates, renewal requirements, seat counts, and compliance status\n",
        "* Warranty tracking monitors coverage periods, support levels, and renewal deadlines for critical equipment\n",
        "\n",
        "Benefits of comprehensive asset management systems:\n",
        "\n",
        "1. Financial management improves through accurate tracking of capital expenses and depreciation\n",
        "2. Security posture strengthens when all hardware and software components are properly documented\n",
        "3. Compliance requirements become easier to meet with complete records of licensed software\n",
        "4. Troubleshooting accelerates when technicians can quickly access device specifications and history\n",
        "5. Lifecycle planning becomes more strategic with visibility into aging equipment\n",
        "\n",
        "| Asset Type | Key Tracking Elements | Management Considerations |\n",
        "|------------|----------------------|--------------------------|\n",
        "| Hardware | Serial numbers, location, warranty status | Physical security, environmental conditions |\n",
        "| Software | License keys, version, installation date | Compatibility, update requirements |\n",
        "| Licenses | Expiration dates, seat counts, cost | Compliance, budget planning |\n",
        "| Warranties | Coverage periods, support contacts | Service level expectations, renewal timing |\n",
        "\n",
        "Real-world example: A retail company uses **IT asset management software** to track their point-of-sale terminals across multiple store locations. When a security vulnerability affects a specific hardware model, administrators can quickly identify all affected devices, prioritize updates based on store hours, and document compliance with payment card industry requirements—all within hours rather than days or weeks."
      ],
      "metadata": {
        "id": "BoqoAcGwGWMm"
      }
    },
    {
      "cell_type": "markdown",
      "source": [
        "## IP Address Management (IPAM)\n",
        "\n",
        "Organizations use **IP Address Management (IPAM)** solutions to systematically plan, track, and manage the IP address space within their networks. This critical process prevents IP conflicts, optimizes address utilization, and simplifies network administration by maintaining centralized control over both IPv4 and IPv6 addressing schemes.\n",
        "\n",
        "Key components of effective IPAM include:\n",
        "\n",
        "* Hierarchical subnet planning divides network address space into logical segments based on department, function, or physical location\n",
        "* IP address allocation tracks which addresses are assigned to specific devices, users, or services\n",
        "* Address reservation preserves IP addresses for critical infrastructure components like servers, printers, and network equipment\n",
        "* DNS and DHCP integration ensures consistency between IP assignments and domain name records\n",
        "* Utilization monitoring identifies underused subnets that could be reallocated or consolidated\n",
        "\n",
        "| IPAM Function | Business Benefit | Example |\n",
        "|---------------|-----------------|---------|\n",
        "| Subnet planning | Logical organization of network | Separating guest WiFi (10.1.0.0/16) from corporate network (192.168.0.0/16) |\n",
        "| Conflict prevention | Reduced troubleshooting time | Automatically preventing duplicate IP assignments that cause connectivity issues |\n",
        "| Audit capabilities | Enhanced security and compliance | Tracking when and by whom IP allocations were made |\n",
        "\n",
        "Real-world example: A university implements IPAM to manage addresses across academic departments, administrative offices, student housing, and guest networks. When the engineering department needs additional IP addresses for a new research lab, the network administrator can quickly identify available address space in the engineering subnet block and allocate it without affecting other campus networks or requiring extensive reconfiguration."
      ],
      "metadata": {
        "id": "SP4pVi-pHn8M"
      }
    },
    {
      "cell_type": "code",
      "source": [
        "# @title\n",
        "mm_svg(\"\"\"\n",
        "graph LR\n",
        "    A[Corporate<br>10.0.0.0/8] --> B[Admin<br>10.1.0.0/16]\n",
        "    A --> C[Ops<br>10.2.0.0/16]\n",
        "    A --> D[Sales<br>10.3.0.0/16]\n",
        "    A --> E[Eng<br>10.4.0.0/16]\n",
        "\n",
        "    B --> B1[Finance<br>10.1.1.0/24]\n",
        "    B --> B2[HR<br>10.1.2.0/24]\n",
        "\n",
        "    C --> C1[DC<br>10.2.1.0/24]\n",
        "    C --> C2[IT<br>10.2.2.0/24]\n",
        "\n",
        "    D --> D1[Sales<br>10.3.1.0/24]\n",
        "    D --> D2[Mktg<br>10.3.2.0/24]\n",
        "\n",
        "    E --> E1[Dev<br>10.4.1.0/24]\n",
        "    E --> E2[QA<br>10.4.2.0/24]\n",
        "\"\"\")"
      ],
      "metadata": {
        "cellView": "form",
        "id": "_E4l42yUH-75",
        "outputId": "e7db1dfb-56da-47b4-ed80-213482b0b1ad",
        "colab": {
          "base_uri": "https://localhost:8080/",
          "height": 1000
        }
      },
      "execution_count": 11,
      "outputs": [
        {
          "output_type": "display_data",
          "data": {
            "text/plain": [
              "<IPython.core.display.SVG object>"
            ],
            "image/svg+xml": "<svg xmlns=\"http://www.w3.org/2000/svg\" xmlns:xlink=\"http://www.w3.org/1999/xlink\" id=\"mermaid-svg\" width=\"100%\" class=\"flowchart\" style=\"max-width: 527.328125px;\" viewBox=\"0 0 527.328125 990\" role=\"graphics-document document\" aria-roledescription=\"flowchart-v2\"><style xmlns=\"http://www.w3.org/1999/xhtml\">@import url(&quot;https://cdnjs.cloudflare.com/ajax/libs/font-awesome/6.7.2/css/all.min.css&quot;);</style><style>#mermaid-svg{font-family:&quot;trebuchet ms&quot;,verdana,arial,sans-serif;font-size:16px;fill:#333;}@keyframes edge-animation-frame{from{stroke-dashoffset:0;}}@keyframes dash{to{stroke-dashoffset:0;}}#mermaid-svg .edge-animation-slow{stroke-dasharray:9,5!important;stroke-dashoffset:900;animation:dash 50s linear infinite;stroke-linecap:round;}#mermaid-svg .edge-animation-fast{stroke-dasharray:9,5!important;stroke-dashoffset:900;animation:dash 20s linear infinite;stroke-linecap:round;}#mermaid-svg .error-icon{fill:#552222;}#mermaid-svg .error-text{fill:#552222;stroke:#552222;}#mermaid-svg .edge-thickness-normal{stroke-width:1px;}#mermaid-svg .edge-thickness-thick{stroke-width:3.5px;}#mermaid-svg .edge-pattern-solid{stroke-dasharray:0;}#mermaid-svg .edge-thickness-invisible{stroke-width:0;fill:none;}#mermaid-svg .edge-pattern-dashed{stroke-dasharray:3;}#mermaid-svg .edge-pattern-dotted{stroke-dasharray:2;}#mermaid-svg .marker{fill:#333333;stroke:#333333;}#mermaid-svg .marker.cross{stroke:#333333;}#mermaid-svg svg{font-family:&quot;trebuchet ms&quot;,verdana,arial,sans-serif;font-size:16px;}#mermaid-svg p{margin:0;}#mermaid-svg .label{font-family:&quot;trebuchet ms&quot;,verdana,arial,sans-serif;color:#333;}#mermaid-svg .cluster-label text{fill:#333;}#mermaid-svg .cluster-label span{color:#333;}#mermaid-svg .cluster-label span p{background-color:transparent;}#mermaid-svg .label text,#mermaid-svg span{fill:#333;color:#333;}#mermaid-svg .node rect,#mermaid-svg .node circle,#mermaid-svg .node ellipse,#mermaid-svg .node polygon,#mermaid-svg .node path{fill:#ECECFF;stroke:#9370DB;stroke-width:1px;}#mermaid-svg .rough-node .label text,#mermaid-svg .node .label text,#mermaid-svg .image-shape .label,#mermaid-svg .icon-shape .label{text-anchor:middle;}#mermaid-svg .node .katex path{fill:#000;stroke:#000;stroke-width:1px;}#mermaid-svg .rough-node .label,#mermaid-svg .node .label,#mermaid-svg .image-shape .label,#mermaid-svg .icon-shape .label{text-align:center;}#mermaid-svg .node.clickable{cursor:pointer;}#mermaid-svg .root .anchor path{fill:#333333!important;stroke-width:0;stroke:#333333;}#mermaid-svg .arrowheadPath{fill:#333333;}#mermaid-svg .edgePath .path{stroke:#333333;stroke-width:2.0px;}#mermaid-svg .flowchart-link{stroke:#333333;fill:none;}#mermaid-svg .edgeLabel{background-color:rgba(232,232,232, 0.8);text-align:center;}#mermaid-svg .edgeLabel p{background-color:rgba(232,232,232, 0.8);}#mermaid-svg .edgeLabel rect{opacity:0.5;background-color:rgba(232,232,232, 0.8);fill:rgba(232,232,232, 0.8);}#mermaid-svg .labelBkg{background-color:rgba(232, 232, 232, 0.5);}#mermaid-svg .cluster rect{fill:#ffffde;stroke:#aaaa33;stroke-width:1px;}#mermaid-svg .cluster text{fill:#333;}#mermaid-svg .cluster span{color:#333;}#mermaid-svg div.mermaidTooltip{position:absolute;text-align:center;max-width:200px;padding:2px;font-family:&quot;trebuchet ms&quot;,verdana,arial,sans-serif;font-size:12px;background:hsl(80, 100%, 96.2745098039%);border:1px solid #aaaa33;border-radius:2px;pointer-events:none;z-index:100;}#mermaid-svg .flowchartTitleText{text-anchor:middle;font-size:18px;fill:#333;}#mermaid-svg rect.text{fill:none;stroke-width:0;}#mermaid-svg .icon-shape,#mermaid-svg .image-shape{background-color:rgba(232,232,232, 0.8);text-align:center;}#mermaid-svg .icon-shape p,#mermaid-svg .image-shape p{background-color:rgba(232,232,232, 0.8);padding:2px;}#mermaid-svg .icon-shape rect,#mermaid-svg .image-shape rect{opacity:0.5;background-color:rgba(232,232,232, 0.8);fill:rgba(232,232,232, 0.8);}#mermaid-svg :root{--mermaid-font-family:&quot;trebuchet ms&quot;,verdana,arial,sans-serif;}</style><g><marker id=\"mermaid-svg_flowchart-v2-pointEnd\" class=\"marker flowchart-v2\" viewBox=\"0 0 10 10\" refX=\"5\" refY=\"5\" markerUnits=\"userSpaceOnUse\" markerWidth=\"8\" markerHeight=\"8\" orient=\"auto\"><path d=\"M 0 0 L 10 5 L 0 10 z\" class=\"arrowMarkerPath\" style=\"stroke-width: 1; stroke-dasharray: 1, 0;\"/></marker><marker id=\"mermaid-svg_flowchart-v2-pointStart\" class=\"marker flowchart-v2\" viewBox=\"0 0 10 10\" refX=\"4.5\" refY=\"5\" markerUnits=\"userSpaceOnUse\" markerWidth=\"8\" markerHeight=\"8\" orient=\"auto\"><path d=\"M 0 5 L 10 10 L 10 0 z\" class=\"arrowMarkerPath\" style=\"stroke-width: 1; stroke-dasharray: 1, 0;\"/></marker><marker id=\"mermaid-svg_flowchart-v2-circleEnd\" class=\"marker flowchart-v2\" viewBox=\"0 0 10 10\" refX=\"11\" refY=\"5\" markerUnits=\"userSpaceOnUse\" markerWidth=\"11\" markerHeight=\"11\" orient=\"auto\"><circle cx=\"5\" cy=\"5\" r=\"5\" class=\"arrowMarkerPath\" style=\"stroke-width: 1; stroke-dasharray: 1, 0;\"/></marker><marker id=\"mermaid-svg_flowchart-v2-circleStart\" class=\"marker flowchart-v2\" viewBox=\"0 0 10 10\" refX=\"-1\" refY=\"5\" markerUnits=\"userSpaceOnUse\" markerWidth=\"11\" markerHeight=\"11\" orient=\"auto\"><circle cx=\"5\" cy=\"5\" r=\"5\" class=\"arrowMarkerPath\" style=\"stroke-width: 1; stroke-dasharray: 1, 0;\"/></marker><marker id=\"mermaid-svg_flowchart-v2-crossEnd\" class=\"marker cross flowchart-v2\" viewBox=\"0 0 11 11\" refX=\"12\" refY=\"5.2\" markerUnits=\"userSpaceOnUse\" markerWidth=\"11\" markerHeight=\"11\" orient=\"auto\"><path d=\"M 1,1 l 9,9 M 10,1 l -9,9\" class=\"arrowMarkerPath\" style=\"stroke-width: 2; stroke-dasharray: 1, 0;\"/></marker><marker id=\"mermaid-svg_flowchart-v2-crossStart\" class=\"marker cross flowchart-v2\" viewBox=\"0 0 11 11\" refX=\"-1\" refY=\"5.2\" markerUnits=\"userSpaceOnUse\" markerWidth=\"11\" markerHeight=\"11\" orient=\"auto\"><path d=\"M 1,1 l 9,9 M 10,1 l -9,9\" class=\"arrowMarkerPath\" style=\"stroke-width: 2; stroke-dasharray: 1, 0;\"/></marker><g class=\"root\"><g class=\"clusters\"/><g class=\"edgePaths\"><path d=\"M82.786,456L96.35,398.5C109.915,341,137.043,226,154.108,168.5C171.172,111,178.172,111,181.672,111L185.172,111\" id=\"L_A_B_0\" class=\" edge-thickness-normal edge-pattern-solid edge-thickness-normal edge-pattern-solid flowchart-link\" style=\"\" marker-end=\"url(#mermaid-svg_flowchart-v2-pointEnd)\"/><path d=\"M101.186,456L111.684,441.167C122.182,426.333,143.177,396.667,157.174,381.833C171.172,367,178.172,367,181.672,367L185.172,367\" id=\"L_A_C_0\" class=\" edge-thickness-normal edge-pattern-solid edge-thickness-normal edge-pattern-solid flowchart-link\" style=\"\" marker-end=\"url(#mermaid-svg_flowchart-v2-pointEnd)\"/><path d=\"M101.186,534L111.684,548.833C122.182,563.667,143.177,593.333,157.174,608.167C171.172,623,178.172,623,181.672,623L185.172,623\" id=\"L_A_D_0\" class=\" edge-thickness-normal edge-pattern-solid edge-thickness-normal edge-pattern-solid flowchart-link\" style=\"\" marker-end=\"url(#mermaid-svg_flowchart-v2-pointEnd)\"/><path d=\"M82.786,534L96.35,591.5C109.915,649,137.043,764,154.108,821.5C171.172,879,178.172,879,181.672,879L185.172,879\" id=\"L_A_E_0\" class=\" edge-thickness-normal edge-pattern-solid edge-thickness-normal edge-pattern-solid flowchart-link\" style=\"\" marker-end=\"url(#mermaid-svg_flowchart-v2-pointEnd)\"/><path d=\"M317.125,72L323.313,67.833C329.5,63.667,341.875,55.333,351.563,51.167C361.25,47,368.25,47,371.75,47L375.25,47\" id=\"L_B_B1_0\" class=\" edge-thickness-normal edge-pattern-solid edge-thickness-normal edge-pattern-solid flowchart-link\" style=\"\" marker-end=\"url(#mermaid-svg_flowchart-v2-pointEnd)\"/><path d=\"M317.125,150L323.313,154.167C329.5,158.333,341.875,166.667,351.563,170.833C361.25,175,368.25,175,371.75,175L375.25,175\" id=\"L_B_B2_0\" class=\" edge-thickness-normal edge-pattern-solid edge-thickness-normal edge-pattern-solid flowchart-link\" style=\"\" marker-end=\"url(#mermaid-svg_flowchart-v2-pointEnd)\"/><path d=\"M317.125,328L323.313,323.833C329.5,319.667,341.875,311.333,351.563,307.167C361.25,303,368.25,303,371.75,303L375.25,303\" id=\"L_C_C1_0\" class=\" edge-thickness-normal edge-pattern-solid edge-thickness-normal edge-pattern-solid flowchart-link\" style=\"\" marker-end=\"url(#mermaid-svg_flowchart-v2-pointEnd)\"/><path d=\"M317.125,406L323.313,410.167C329.5,414.333,341.875,422.667,351.563,426.833C361.25,431,368.25,431,371.75,431L375.25,431\" id=\"L_C_C2_0\" class=\" edge-thickness-normal edge-pattern-solid edge-thickness-normal edge-pattern-solid flowchart-link\" style=\"\" marker-end=\"url(#mermaid-svg_flowchart-v2-pointEnd)\"/><path d=\"M317.125,584L323.313,579.833C329.5,575.667,341.875,567.333,351.563,563.167C361.25,559,368.25,559,371.75,559L375.25,559\" id=\"L_D_D1_0\" class=\" edge-thickness-normal edge-pattern-solid edge-thickness-normal edge-pattern-solid flowchart-link\" style=\"\" marker-end=\"url(#mermaid-svg_flowchart-v2-pointEnd)\"/><path d=\"M317.125,662L323.313,666.167C329.5,670.333,341.875,678.667,351.563,682.833C361.25,687,368.25,687,371.75,687L375.25,687\" id=\"L_D_D2_0\" class=\" edge-thickness-normal edge-pattern-solid edge-thickness-normal edge-pattern-solid flowchart-link\" style=\"\" marker-end=\"url(#mermaid-svg_flowchart-v2-pointEnd)\"/><path d=\"M317.125,840L323.313,835.833C329.5,831.667,341.875,823.333,351.563,819.167C361.25,815,368.25,815,371.75,815L375.25,815\" id=\"L_E_E1_0\" class=\" edge-thickness-normal edge-pattern-solid edge-thickness-normal edge-pattern-solid flowchart-link\" style=\"\" marker-end=\"url(#mermaid-svg_flowchart-v2-pointEnd)\"/><path d=\"M317.125,918L323.313,922.167C329.5,926.333,341.875,934.667,351.563,938.833C361.25,943,368.25,943,371.75,943L375.25,943\" id=\"L_E_E2_0\" class=\" edge-thickness-normal edge-pattern-solid edge-thickness-normal edge-pattern-solid flowchart-link\" style=\"\" marker-end=\"url(#mermaid-svg_flowchart-v2-pointEnd)\"/></g><g class=\"edgeLabels\"><g class=\"edgeLabel\"><g class=\"label\" transform=\"translate(0, 0)\"><foreignObject width=\"0\" height=\"0\"><div xmlns=\"http://www.w3.org/1999/xhtml\" class=\"labelBkg\" style=\"display: table-cell; white-space: nowrap; line-height: 1.5; max-width: 200px; text-align: center;\"><span class=\"edgeLabel \"/></div></foreignObject></g></g><g class=\"edgeLabel\"><g class=\"label\" transform=\"translate(0, 0)\"><foreignObject width=\"0\" height=\"0\"><div xmlns=\"http://www.w3.org/1999/xhtml\" class=\"labelBkg\" style=\"display: table-cell; white-space: nowrap; line-height: 1.5; max-width: 200px; text-align: center;\"><span class=\"edgeLabel \"/></div></foreignObject></g></g><g class=\"edgeLabel\"><g class=\"label\" transform=\"translate(0, 0)\"><foreignObject width=\"0\" height=\"0\"><div xmlns=\"http://www.w3.org/1999/xhtml\" class=\"labelBkg\" style=\"display: table-cell; white-space: nowrap; line-height: 1.5; max-width: 200px; text-align: center;\"><span class=\"edgeLabel \"/></div></foreignObject></g></g><g class=\"edgeLabel\"><g class=\"label\" transform=\"translate(0, 0)\"><foreignObject width=\"0\" height=\"0\"><div xmlns=\"http://www.w3.org/1999/xhtml\" class=\"labelBkg\" style=\"display: table-cell; white-space: nowrap; line-height: 1.5; max-width: 200px; text-align: center;\"><span class=\"edgeLabel \"/></div></foreignObject></g></g><g class=\"edgeLabel\"><g class=\"label\" transform=\"translate(0, 0)\"><foreignObject width=\"0\" height=\"0\"><div xmlns=\"http://www.w3.org/1999/xhtml\" class=\"labelBkg\" style=\"display: table-cell; white-space: nowrap; line-height: 1.5; max-width: 200px; text-align: center;\"><span class=\"edgeLabel \"/></div></foreignObject></g></g><g class=\"edgeLabel\"><g class=\"label\" transform=\"translate(0, 0)\"><foreignObject width=\"0\" height=\"0\"><div xmlns=\"http://www.w3.org/1999/xhtml\" class=\"labelBkg\" style=\"display: table-cell; white-space: nowrap; line-height: 1.5; max-width: 200px; text-align: center;\"><span class=\"edgeLabel \"/></div></foreignObject></g></g><g class=\"edgeLabel\"><g class=\"label\" transform=\"translate(0, 0)\"><foreignObject width=\"0\" height=\"0\"><div xmlns=\"http://www.w3.org/1999/xhtml\" class=\"labelBkg\" style=\"display: table-cell; white-space: nowrap; line-height: 1.5; max-width: 200px; text-align: center;\"><span class=\"edgeLabel \"/></div></foreignObject></g></g><g class=\"edgeLabel\"><g class=\"label\" transform=\"translate(0, 0)\"><foreignObject width=\"0\" height=\"0\"><div xmlns=\"http://www.w3.org/1999/xhtml\" class=\"labelBkg\" style=\"display: table-cell; white-space: nowrap; line-height: 1.5; max-width: 200px; text-align: center;\"><span class=\"edgeLabel \"/></div></foreignObject></g></g><g class=\"edgeLabel\"><g class=\"label\" transform=\"translate(0, 0)\"><foreignObject width=\"0\" height=\"0\"><div xmlns=\"http://www.w3.org/1999/xhtml\" class=\"labelBkg\" style=\"display: table-cell; white-space: nowrap; line-height: 1.5; max-width: 200px; text-align: center;\"><span class=\"edgeLabel \"/></div></foreignObject></g></g><g class=\"edgeLabel\"><g class=\"label\" transform=\"translate(0, 0)\"><foreignObject width=\"0\" height=\"0\"><div xmlns=\"http://www.w3.org/1999/xhtml\" class=\"labelBkg\" style=\"display: table-cell; white-space: nowrap; line-height: 1.5; max-width: 200px; text-align: center;\"><span class=\"edgeLabel \"/></div></foreignObject></g></g><g class=\"edgeLabel\"><g class=\"label\" transform=\"translate(0, 0)\"><foreignObject width=\"0\" height=\"0\"><div xmlns=\"http://www.w3.org/1999/xhtml\" class=\"labelBkg\" style=\"display: table-cell; white-space: nowrap; line-height: 1.5; max-width: 200px; text-align: center;\"><span class=\"edgeLabel \"/></div></foreignObject></g></g><g class=\"edgeLabel\"><g class=\"label\" transform=\"translate(0, 0)\"><foreignObject width=\"0\" height=\"0\"><div xmlns=\"http://www.w3.org/1999/xhtml\" class=\"labelBkg\" style=\"display: table-cell; white-space: nowrap; line-height: 1.5; max-width: 200px; text-align: center;\"><span class=\"edgeLabel \"/></div></foreignObject></g></g></g><g class=\"nodes\"><g class=\"node default  \" id=\"flowchart-A-0\" transform=\"translate(73.5859375, 495)\"><rect class=\"basic label-container\" style=\"\" x=\"-65.5859375\" y=\"-39\" width=\"131.171875\" height=\"78\"/><g class=\"label\" style=\"\" transform=\"translate(-35.5859375, -24)\"><rect/><foreignObject width=\"71.171875\" height=\"48\"><div xmlns=\"http://www.w3.org/1999/xhtml\" style=\"display: table-cell; white-space: nowrap; line-height: 1.5; max-width: 200px; text-align: center;\"><span class=\"nodeLabel \"><p>Corporate<br/>10.0.0.0/8</p></span></div></foreignObject></g></g><g class=\"node default  \" id=\"flowchart-B-1\" transform=\"translate(259.2109375, 111)\"><rect class=\"basic label-container\" style=\"\" x=\"-70.0390625\" y=\"-39\" width=\"140.078125\" height=\"78\"/><g class=\"label\" style=\"\" transform=\"translate(-40.0390625, -24)\"><rect/><foreignObject width=\"80.078125\" height=\"48\"><div xmlns=\"http://www.w3.org/1999/xhtml\" style=\"display: table-cell; white-space: nowrap; line-height: 1.5; max-width: 200px; text-align: center;\"><span class=\"nodeLabel \"><p>Admin<br/>10.1.0.0/16</p></span></div></foreignObject></g></g><g class=\"node default  \" id=\"flowchart-C-3\" transform=\"translate(259.2109375, 367)\"><rect class=\"basic label-container\" style=\"\" x=\"-70.0390625\" y=\"-39\" width=\"140.078125\" height=\"78\"/><g class=\"label\" style=\"\" transform=\"translate(-40.0390625, -24)\"><rect/><foreignObject width=\"80.078125\" height=\"48\"><div xmlns=\"http://www.w3.org/1999/xhtml\" style=\"display: table-cell; white-space: nowrap; line-height: 1.5; max-width: 200px; text-align: center;\"><span class=\"nodeLabel \"><p>Ops<br/>10.2.0.0/16</p></span></div></foreignObject></g></g><g class=\"node default  \" id=\"flowchart-D-5\" transform=\"translate(259.2109375, 623)\"><rect class=\"basic label-container\" style=\"\" x=\"-70.0390625\" y=\"-39\" width=\"140.078125\" height=\"78\"/><g class=\"label\" style=\"\" transform=\"translate(-40.0390625, -24)\"><rect/><foreignObject width=\"80.078125\" height=\"48\"><div xmlns=\"http://www.w3.org/1999/xhtml\" style=\"display: table-cell; white-space: nowrap; line-height: 1.5; max-width: 200px; text-align: center;\"><span class=\"nodeLabel \"><p>Sales<br/>10.3.0.0/16</p></span></div></foreignObject></g></g><g class=\"node default  \" id=\"flowchart-E-7\" transform=\"translate(259.2109375, 879)\"><rect class=\"basic label-container\" style=\"\" x=\"-70.0390625\" y=\"-39\" width=\"140.078125\" height=\"78\"/><g class=\"label\" style=\"\" transform=\"translate(-40.0390625, -24)\"><rect/><foreignObject width=\"80.078125\" height=\"48\"><div xmlns=\"http://www.w3.org/1999/xhtml\" style=\"display: table-cell; white-space: nowrap; line-height: 1.5; max-width: 200px; text-align: center;\"><span class=\"nodeLabel \"><p>Eng<br/>10.4.0.0/16</p></span></div></foreignObject></g></g><g class=\"node default  \" id=\"flowchart-B1-9\" transform=\"translate(449.2890625, 47)\"><rect class=\"basic label-container\" style=\"\" x=\"-70.0390625\" y=\"-39\" width=\"140.078125\" height=\"78\"/><g class=\"label\" style=\"\" transform=\"translate(-40.0390625, -24)\"><rect/><foreignObject width=\"80.078125\" height=\"48\"><div xmlns=\"http://www.w3.org/1999/xhtml\" style=\"display: table-cell; white-space: nowrap; line-height: 1.5; max-width: 200px; text-align: center;\"><span class=\"nodeLabel \"><p>Finance<br/>10.1.1.0/24</p></span></div></foreignObject></g></g><g class=\"node default  \" id=\"flowchart-B2-11\" transform=\"translate(449.2890625, 175)\"><rect class=\"basic label-container\" style=\"\" x=\"-70.0390625\" y=\"-39\" width=\"140.078125\" height=\"78\"/><g class=\"label\" style=\"\" transform=\"translate(-40.0390625, -24)\"><rect/><foreignObject width=\"80.078125\" height=\"48\"><div xmlns=\"http://www.w3.org/1999/xhtml\" style=\"display: table-cell; white-space: nowrap; line-height: 1.5; max-width: 200px; text-align: center;\"><span class=\"nodeLabel \"><p>HR<br/>10.1.2.0/24</p></span></div></foreignObject></g></g><g class=\"node default  \" id=\"flowchart-C1-13\" transform=\"translate(449.2890625, 303)\"><rect class=\"basic label-container\" style=\"\" x=\"-70.0390625\" y=\"-39\" width=\"140.078125\" height=\"78\"/><g class=\"label\" style=\"\" transform=\"translate(-40.0390625, -24)\"><rect/><foreignObject width=\"80.078125\" height=\"48\"><div xmlns=\"http://www.w3.org/1999/xhtml\" style=\"display: table-cell; white-space: nowrap; line-height: 1.5; max-width: 200px; text-align: center;\"><span class=\"nodeLabel \"><p>DC<br/>10.2.1.0/24</p></span></div></foreignObject></g></g><g class=\"node default  \" id=\"flowchart-C2-15\" transform=\"translate(449.2890625, 431)\"><rect class=\"basic label-container\" style=\"\" x=\"-70.0390625\" y=\"-39\" width=\"140.078125\" height=\"78\"/><g class=\"label\" style=\"\" transform=\"translate(-40.0390625, -24)\"><rect/><foreignObject width=\"80.078125\" height=\"48\"><div xmlns=\"http://www.w3.org/1999/xhtml\" style=\"display: table-cell; white-space: nowrap; line-height: 1.5; max-width: 200px; text-align: center;\"><span class=\"nodeLabel \"><p>IT<br/>10.2.2.0/24</p></span></div></foreignObject></g></g><g class=\"node default  \" id=\"flowchart-D1-17\" transform=\"translate(449.2890625, 559)\"><rect class=\"basic label-container\" style=\"\" x=\"-70.0390625\" y=\"-39\" width=\"140.078125\" height=\"78\"/><g class=\"label\" style=\"\" transform=\"translate(-40.0390625, -24)\"><rect/><foreignObject width=\"80.078125\" height=\"48\"><div xmlns=\"http://www.w3.org/1999/xhtml\" style=\"display: table-cell; white-space: nowrap; line-height: 1.5; max-width: 200px; text-align: center;\"><span class=\"nodeLabel \"><p>Sales<br/>10.3.1.0/24</p></span></div></foreignObject></g></g><g class=\"node default  \" id=\"flowchart-D2-19\" transform=\"translate(449.2890625, 687)\"><rect class=\"basic label-container\" style=\"\" x=\"-70.0390625\" y=\"-39\" width=\"140.078125\" height=\"78\"/><g class=\"label\" style=\"\" transform=\"translate(-40.0390625, -24)\"><rect/><foreignObject width=\"80.078125\" height=\"48\"><div xmlns=\"http://www.w3.org/1999/xhtml\" style=\"display: table-cell; white-space: nowrap; line-height: 1.5; max-width: 200px; text-align: center;\"><span class=\"nodeLabel \"><p>Mktg<br/>10.3.2.0/24</p></span></div></foreignObject></g></g><g class=\"node default  \" id=\"flowchart-E1-21\" transform=\"translate(449.2890625, 815)\"><rect class=\"basic label-container\" style=\"\" x=\"-70.0390625\" y=\"-39\" width=\"140.078125\" height=\"78\"/><g class=\"label\" style=\"\" transform=\"translate(-40.0390625, -24)\"><rect/><foreignObject width=\"80.078125\" height=\"48\"><div xmlns=\"http://www.w3.org/1999/xhtml\" style=\"display: table-cell; white-space: nowrap; line-height: 1.5; max-width: 200px; text-align: center;\"><span class=\"nodeLabel \"><p>Dev<br/>10.4.1.0/24</p></span></div></foreignObject></g></g><g class=\"node default  \" id=\"flowchart-E2-23\" transform=\"translate(449.2890625, 943)\"><rect class=\"basic label-container\" style=\"\" x=\"-70.0390625\" y=\"-39\" width=\"140.078125\" height=\"78\"/><g class=\"label\" style=\"\" transform=\"translate(-40.0390625, -24)\"><rect/><foreignObject width=\"80.078125\" height=\"48\"><div xmlns=\"http://www.w3.org/1999/xhtml\" style=\"display: table-cell; white-space: nowrap; line-height: 1.5; max-width: 200px; text-align: center;\"><span class=\"nodeLabel \"><p>QA<br/>10.4.2.0/24</p></span></div></foreignObject></g></g></g></g></g></svg>"
          },
          "metadata": {}
        }
      ]
    },
    {
      "cell_type": "markdown",
      "source": [
        "## Service Level Agreements (SLAs)\n",
        "\n",
        "Organizations rely on **Service Level Agreements (SLAs)** to establish formal commitments between IT departments and their users or between organizations and external service providers. These structured documents clearly define the expected quality, availability, and responsibilities for network services and create accountability for meeting those requirements.\n",
        "\n",
        "Essential elements of comprehensive SLAs include:\n",
        "\n",
        "* Clearly defined performance metrics establish measurable targets for service quality, such as 99.9% network uptime or maximum acceptable response times\n",
        "* Prioritized severity levels categorize issues based on their impact on business operations, from critical outages affecting all users to minor issues affecting few individuals\n",
        "* Resolution timeframes specify how quickly the service provider must respond to and resolve issues at each severity level\n",
        "* Escalation procedures outline the steps to follow when services don't meet agreed standards or problems remain unresolved\n",
        "* Reporting requirements establish how service performance will be measured and communicated to stakeholders\n",
        "\n",
        "Benefits of well-crafted SLAs:\n",
        "\n",
        "1. Improved accountability creates clear expectations for both service providers and users\n",
        "2. Enhanced communication reduces misunderstandings about service quality and performance\n",
        "3. More effective resource allocation helps IT departments prioritize critical services\n",
        "4. Better budgeting allows organizations to align IT investments with business requirements\n",
        "5. Increased user satisfaction results from more consistent and reliable network performance\n",
        "\n",
        "| SLA Component | Example | Purpose |\n",
        "|---------------|---------|---------|\n",
        "| Uptime guarantee | 99.95% network availability | Ensures critical business functions have reliable connectivity |\n",
        "| Response time | Critical issues: 15 min | Sets expectations for initial acknowledgment of problems |\n",
        "| Resolution time | Critical issues: 4 hours | Establishes maximum acceptable outage durations |\n",
        "| Maintenance window | Sundays, 2-4 AM | Defines when planned outages may occur for updates |\n",
        "\n",
        "Real-world example: A retail chain establishes an SLA with their internet service provider that guarantees 99.5% uptime for store connectivity. The agreement specifies that any outage affecting credit card processing receives the highest priority with a 30-minute response time and 2-hour resolution guarantee. If these terms aren't met, the provider must offer service credits on future bills. This arrangement ensures that both parties understand their responsibilities and have financial incentives to maintain reliable connectivity for this business-critical function."
      ],
      "metadata": {
        "id": "-7mudL96HpbL"
      }
    },
    {
      "cell_type": "markdown",
      "source": [
        "## Wireless Survey & Heat Maps\n",
        "\n",
        "Network administrators rely on **wireless surveys** to gather detailed information about radio frequency (RF) characteristics in a physical space before deploying wireless networks. These systematic assessments ensure optimal signal coverage, minimize interference, and provide reliable wireless connectivity throughout a facility.\n",
        "\n",
        "A comprehensive wireless survey process includes several key components:\n",
        "\n",
        "* **Pre-deployment surveys** establish baseline RF conditions in an environment before installing wireless equipment\n",
        "* **Passive surveys** measure existing signal strength and interference without adding new access points\n",
        "* **Active surveys** test actual wireless connections using production equipment to verify performance\n",
        "* **Post-deployment verification** confirms that the installed network meets design requirements\n",
        "\n",
        "The survey results are typically visualized using **wireless heat maps** that use color gradients to represent signal strength throughout a physical space. These visual tools help identify coverage gaps, interference sources, and optimal access point placement.\n",
        "\n",
        "Important considerations when conducting wireless surveys:\n",
        "\n",
        "1. Building materials significantly impact wireless signals—concrete and metal cause more attenuation than drywall or wood\n",
        "2. Temporal factors like occupancy levels and time of day can affect wireless performance\n",
        "3. Device density predictions help determine necessary access point capacity\n",
        "4. Channel planning minimizes co-channel interference between nearby access points\n",
        "5. Security requirements may dictate specific coverage boundaries to prevent signal leakage outside the facility\n",
        "\n",
        "| Survey Type | Primary Purpose | Tools Required |\n",
        "|-------------|----------------|----------------|\n",
        "| Pre-deployment | Identify RF obstacles and interference | Spectrum analyzer, floor plans |\n",
        "| Active | Verify actual connection performance | Wireless devices, survey software |\n",
        "| Post-deployment | Confirm design requirements are met | Survey software, performance testing tools |\n",
        "\n",
        "For example: A high school conducting a wireless survey discovers that their science wing has poor signal coverage due to concrete walls and metal lab equipment. The **predictive heat map** shows that adding two additional access points with directional antennas would provide adequate coverage for student devices. After installation, a post-deployment verification survey confirms that all classrooms now have sufficient signal strength to support simultaneous connections from 30+ devices."
      ],
      "metadata": {
        "id": "-PnTvmiTIISx"
      }
    },
    {
      "cell_type": "code",
      "source": [
        "# @title\n",
        "%%html\n",
        "<?xml version=\"1.0\" encoding=\"UTF-8\"?>\n",
        "<svg viewBox=\"0 0 800 500\" xmlns=\"http://www.w3.org/2000/svg\">\n",
        "  <!-- Background - Office Floor Plan -->\n",
        "  <rect width=\"800\" height=\"500\" fill=\"#f5f5f5\" />\n",
        "\n",
        "  <!-- Title -->\n",
        "  <text x=\"400\" y=\"30\" font-family=\"Arial\" font-size=\"24\" text-anchor=\"middle\" font-weight=\"bold\">Wireless Heat Map Example: Office Floor</text>\n",
        "\n",
        "  <!-- Office Walls -->\n",
        "  <rect x=\"50\" y=\"70\" width=\"700\" height=\"380\" fill=\"white\" stroke=\"black\" stroke-width=\"3\" />\n",
        "\n",
        "  <!-- Conference Room -->\n",
        "  <rect x=\"50\" y=\"70\" width=\"200\" height=\"150\" fill=\"white\" stroke=\"black\" stroke-width=\"2\" />\n",
        "  <text x=\"150\" y=\"145\" font-family=\"Arial\" font-size=\"14\" text-anchor=\"middle\">Conference Room</text>\n",
        "\n",
        "  <!-- Server Room -->\n",
        "  <rect x=\"50\" y=\"220\" width=\"100\" height=\"100\" fill=\"white\" stroke=\"black\" stroke-width=\"2\" />\n",
        "  <text x=\"100\" y=\"270\" font-family=\"Arial\" font-size=\"14\" text-anchor=\"middle\">Server Room</text>\n",
        "\n",
        "  <!-- Private Offices -->\n",
        "  <rect x=\"150\" y=\"220\" width=\"100\" height=\"100\" fill=\"white\" stroke=\"black\" stroke-width=\"2\" />\n",
        "  <text x=\"200\" y=\"270\" font-family=\"Arial\" font-size=\"14\" text-anchor=\"middle\">Office 1</text>\n",
        "\n",
        "  <rect x=\"50\" y=\"320\" width=\"200\" height=\"130\" fill=\"white\" stroke=\"black\" stroke-width=\"2\" />\n",
        "  <text x=\"150\" y=\"385\" font-family=\"Arial\" font-size=\"14\" text-anchor=\"middle\">Office 2</text>\n",
        "\n",
        "  <!-- Break Room -->\n",
        "  <rect x=\"550\" y=\"70\" width=\"200\" height=\"150\" fill=\"white\" stroke=\"black\" stroke-width=\"2\" />\n",
        "  <text x=\"650\" y=\"145\" font-family=\"Arial\" font-size=\"14\" text-anchor=\"middle\">Break Room</text>\n",
        "\n",
        "  <!-- Reception -->\n",
        "  <rect x=\"550\" y=\"320\" width=\"200\" height=\"130\" fill=\"white\" stroke=\"black\" stroke-width=\"2\" />\n",
        "  <text x=\"650\" y=\"385\" font-family=\"Arial\" font-size=\"14\" text-anchor=\"middle\">Reception</text>\n",
        "\n",
        "  <!-- Open Office Area -->\n",
        "  <rect x=\"250\" y=\"70\" width=\"300\" height=\"380\" fill=\"white\" stroke=\"black\" stroke-width=\"1\" stroke-dasharray=\"5,5\" />\n",
        "  <text x=\"400\" y=\"210\" font-family=\"Arial\" font-size=\"18\" text-anchor=\"middle\">Open Office Area</text>\n",
        "\n",
        "  <!-- Signal Strength Gradients - layered with transparency -->\n",
        "  <!-- Signal Strength Heat Map - using gradients and better overlap -->\n",
        "  <defs>\n",
        "    <radialGradient id=\"signalGradient1\" cx=\"50%\" cy=\"50%\" r=\"50%\" fx=\"50%\" fy=\"50%\">\n",
        "      <stop offset=\"0%\" style=\"stop-color:red;stop-opacity:0.6\" />\n",
        "      <stop offset=\"50%\" style=\"stop-color:orange;stop-opacity:0.4\" />\n",
        "      <stop offset=\"100%\" style=\"stop-color:yellow;stop-opacity:0.1\" />\n",
        "    </radialGradient>\n",
        "    <radialGradient id=\"signalGradient2\" cx=\"50%\" cy=\"50%\" r=\"50%\" fx=\"50%\" fy=\"50%\">\n",
        "      <stop offset=\"0%\" style=\"stop-color:red;stop-opacity:0.6\" />\n",
        "      <stop offset=\"50%\" style=\"stop-color:orange;stop-opacity:0.4\" />\n",
        "      <stop offset=\"100%\" style=\"stop-color:yellow;stop-opacity:0.1\" />\n",
        "    </radialGradient>\n",
        "  </defs>\n",
        "\n",
        "  <!-- Heat Map Overlays -->\n",
        "  <circle cx=\"150\" cy=\"100\" r=\"120\" fill=\"url(#signalGradient1)\" />\n",
        "  <circle cx=\"400\" cy=\"150\" r=\"150\" fill=\"url(#signalGradient2)\" />\n",
        "  <circle cx=\"650\" cy=\"100\" r=\"120\" fill=\"url(#signalGradient1)\" />\n",
        "  <circle cx=\"400\" cy=\"350\" r=\"150\" fill=\"url(#signalGradient2)\" />\n",
        "\n",
        "  <!-- Access Points (on top of heat map) -->\n",
        "  <circle cx=\"150\" cy=\"100\" r=\"10\" fill=\"blue\" />\n",
        "  <text x=\"150\" cy=\"80\" font-family=\"Arial\" font-size=\"12\" text-anchor=\"middle\">AP 1</text>\n",
        "\n",
        "  <circle cx=\"400\" cy=\"150\" r=\"10\" fill=\"blue\" />\n",
        "  <text x=\"400\" cy=\"130\" font-family=\"Arial\" font-size=\"12\" text-anchor=\"middle\">AP 2</text>\n",
        "\n",
        "  <circle cx=\"650\" cy=\"100\" r=\"10\" fill=\"blue\" />\n",
        "  <text x=\"650\" cy=\"80\" font-family=\"Arial\" font-size=\"12\" text-anchor=\"middle\">AP 3</text>\n",
        "\n",
        "  <circle cx=\"400\" cy=\"350\" r=\"10\" fill=\"blue\" />\n",
        "  <text x=\"400\" cy=\"330\" font-family=\"Arial\" font-size=\"12\" text-anchor=\"middle\">AP 4</text>\n",
        "\n",
        "  <!-- Signal Quality Legend -->\n",
        "  <rect x=\"600\" y=\"220\" width=\"150\" height=\"80\" fill=\"white\" stroke=\"black\" stroke-width=\"1\" />\n",
        "  <text x=\"675\" y=\"240\" font-family=\"Arial\" font-size=\"14\" text-anchor=\"middle\" font-weight=\"bold\">Signal Strength</text>\n",
        "\n",
        "  <rect x=\"610\" y=\"250\" width=\"20\" height=\"15\" fill=\"red\" fill-opacity=\"0.6\" />\n",
        "  <text x=\"670\" y=\"262\" font-family=\"Arial\" font-size=\"12\" text-anchor=\"start\">Excellent</text>\n",
        "\n",
        "  <rect x=\"610\" y=\"270\" width=\"20\" height=\"15\" fill=\"orange\" fill-opacity=\"0.4\" />\n",
        "  <text x=\"670\" y=\"282\" font-family=\"Arial\" font-size=\"12\" text-anchor=\"start\">Good</text>\n",
        "\n",
        "  <rect x=\"610\" y=\"290\" width=\"20\" height=\"15\" fill=\"yellow\" fill-opacity=\"0.2\" />\n",
        "  <text x=\"670\" y=\"302\" font-family=\"Arial\" font-size=\"12\" text-anchor=\"start\">Fair</text>\n",
        "</svg>"
      ],
      "metadata": {
        "cellView": "form",
        "id": "nwci1hYvIMCQ",
        "outputId": "3f11740a-11e2-4b25-82d7-7a54897d269f",
        "colab": {
          "base_uri": "https://localhost:8080/",
          "height": 1000
        }
      },
      "execution_count": 12,
      "outputs": [
        {
          "output_type": "display_data",
          "data": {
            "text/plain": [
              "<IPython.core.display.HTML object>"
            ],
            "text/html": [
              "<?xml version=\"1.0\" encoding=\"UTF-8\"?>\n",
              "<svg viewBox=\"0 0 800 500\" xmlns=\"http://www.w3.org/2000/svg\">\n",
              "  <!-- Background - Office Floor Plan -->\n",
              "  <rect width=\"800\" height=\"500\" fill=\"#f5f5f5\" />\n",
              "  \n",
              "  <!-- Title -->\n",
              "  <text x=\"400\" y=\"30\" font-family=\"Arial\" font-size=\"24\" text-anchor=\"middle\" font-weight=\"bold\">Wireless Heat Map Example: Office Floor</text>\n",
              "  \n",
              "  <!-- Office Walls -->\n",
              "  <rect x=\"50\" y=\"70\" width=\"700\" height=\"380\" fill=\"white\" stroke=\"black\" stroke-width=\"3\" />\n",
              "  \n",
              "  <!-- Conference Room -->\n",
              "  <rect x=\"50\" y=\"70\" width=\"200\" height=\"150\" fill=\"white\" stroke=\"black\" stroke-width=\"2\" />\n",
              "  <text x=\"150\" y=\"145\" font-family=\"Arial\" font-size=\"14\" text-anchor=\"middle\">Conference Room</text>\n",
              "  \n",
              "  <!-- Server Room -->\n",
              "  <rect x=\"50\" y=\"220\" width=\"100\" height=\"100\" fill=\"white\" stroke=\"black\" stroke-width=\"2\" />\n",
              "  <text x=\"100\" y=\"270\" font-family=\"Arial\" font-size=\"14\" text-anchor=\"middle\">Server Room</text>\n",
              "  \n",
              "  <!-- Private Offices -->\n",
              "  <rect x=\"150\" y=\"220\" width=\"100\" height=\"100\" fill=\"white\" stroke=\"black\" stroke-width=\"2\" />\n",
              "  <text x=\"200\" y=\"270\" font-family=\"Arial\" font-size=\"14\" text-anchor=\"middle\">Office 1</text>\n",
              "  \n",
              "  <rect x=\"50\" y=\"320\" width=\"200\" height=\"130\" fill=\"white\" stroke=\"black\" stroke-width=\"2\" />\n",
              "  <text x=\"150\" y=\"385\" font-family=\"Arial\" font-size=\"14\" text-anchor=\"middle\">Office 2</text>\n",
              "  \n",
              "  <!-- Break Room -->\n",
              "  <rect x=\"550\" y=\"70\" width=\"200\" height=\"150\" fill=\"white\" stroke=\"black\" stroke-width=\"2\" />\n",
              "  <text x=\"650\" y=\"145\" font-family=\"Arial\" font-size=\"14\" text-anchor=\"middle\">Break Room</text>\n",
              "  \n",
              "  <!-- Reception -->\n",
              "  <rect x=\"550\" y=\"320\" width=\"200\" height=\"130\" fill=\"white\" stroke=\"black\" stroke-width=\"2\" />\n",
              "  <text x=\"650\" y=\"385\" font-family=\"Arial\" font-size=\"14\" text-anchor=\"middle\">Reception</text>\n",
              "  \n",
              "  <!-- Open Office Area -->\n",
              "  <rect x=\"250\" y=\"70\" width=\"300\" height=\"380\" fill=\"white\" stroke=\"black\" stroke-width=\"1\" stroke-dasharray=\"5,5\" />\n",
              "  <text x=\"400\" y=\"210\" font-family=\"Arial\" font-size=\"18\" text-anchor=\"middle\">Open Office Area</text>\n",
              "  \n",
              "  <!-- Signal Strength Gradients - layered with transparency -->\n",
              "  <!-- Signal Strength Heat Map - using gradients and better overlap -->\n",
              "  <defs>\n",
              "    <radialGradient id=\"signalGradient1\" cx=\"50%\" cy=\"50%\" r=\"50%\" fx=\"50%\" fy=\"50%\">\n",
              "      <stop offset=\"0%\" style=\"stop-color:red;stop-opacity:0.6\" />\n",
              "      <stop offset=\"50%\" style=\"stop-color:orange;stop-opacity:0.4\" />\n",
              "      <stop offset=\"100%\" style=\"stop-color:yellow;stop-opacity:0.1\" />\n",
              "    </radialGradient>\n",
              "    <radialGradient id=\"signalGradient2\" cx=\"50%\" cy=\"50%\" r=\"50%\" fx=\"50%\" fy=\"50%\">\n",
              "      <stop offset=\"0%\" style=\"stop-color:red;stop-opacity:0.6\" />\n",
              "      <stop offset=\"50%\" style=\"stop-color:orange;stop-opacity:0.4\" />\n",
              "      <stop offset=\"100%\" style=\"stop-color:yellow;stop-opacity:0.1\" />\n",
              "    </radialGradient>\n",
              "  </defs>\n",
              "  \n",
              "  <!-- Heat Map Overlays -->\n",
              "  <circle cx=\"150\" cy=\"100\" r=\"120\" fill=\"url(#signalGradient1)\" />\n",
              "  <circle cx=\"400\" cy=\"150\" r=\"150\" fill=\"url(#signalGradient2)\" />\n",
              "  <circle cx=\"650\" cy=\"100\" r=\"120\" fill=\"url(#signalGradient1)\" />\n",
              "  <circle cx=\"400\" cy=\"350\" r=\"150\" fill=\"url(#signalGradient2)\" />\n",
              "\n",
              "  <!-- Access Points (on top of heat map) -->\n",
              "  <circle cx=\"150\" cy=\"100\" r=\"10\" fill=\"blue\" />\n",
              "  <text x=\"150\" cy=\"80\" font-family=\"Arial\" font-size=\"12\" text-anchor=\"middle\">AP 1</text>\n",
              "  \n",
              "  <circle cx=\"400\" cy=\"150\" r=\"10\" fill=\"blue\" />\n",
              "  <text x=\"400\" cy=\"130\" font-family=\"Arial\" font-size=\"12\" text-anchor=\"middle\">AP 2</text>\n",
              "  \n",
              "  <circle cx=\"650\" cy=\"100\" r=\"10\" fill=\"blue\" />\n",
              "  <text x=\"650\" cy=\"80\" font-family=\"Arial\" font-size=\"12\" text-anchor=\"middle\">AP 3</text>\n",
              "  \n",
              "  <circle cx=\"400\" cy=\"350\" r=\"10\" fill=\"blue\" />\n",
              "  <text x=\"400\" cy=\"330\" font-family=\"Arial\" font-size=\"12\" text-anchor=\"middle\">AP 4</text>\n",
              "  \n",
              "  <!-- Signal Quality Legend -->\n",
              "  <rect x=\"600\" y=\"220\" width=\"150\" height=\"80\" fill=\"white\" stroke=\"black\" stroke-width=\"1\" />\n",
              "  <text x=\"675\" y=\"240\" font-family=\"Arial\" font-size=\"14\" text-anchor=\"middle\" font-weight=\"bold\">Signal Strength</text>\n",
              "  \n",
              "  <rect x=\"610\" y=\"250\" width=\"20\" height=\"15\" fill=\"red\" fill-opacity=\"0.6\" />\n",
              "  <text x=\"670\" y=\"262\" font-family=\"Arial\" font-size=\"12\" text-anchor=\"start\">Excellent</text>\n",
              "  \n",
              "  <rect x=\"610\" y=\"270\" width=\"20\" height=\"15\" fill=\"orange\" fill-opacity=\"0.4\" />\n",
              "  <text x=\"670\" y=\"282\" font-family=\"Arial\" font-size=\"12\" text-anchor=\"start\">Good</text>\n",
              "  \n",
              "  <rect x=\"610\" y=\"290\" width=\"20\" height=\"15\" fill=\"yellow\" fill-opacity=\"0.2\" />\n",
              "  <text x=\"670\" y=\"302\" font-family=\"Arial\" font-size=\"12\" text-anchor=\"start\">Fair</text>\n",
              "</svg>\n"
            ]
          },
          "metadata": {}
        }
      ]
    },
    {
      "cell_type": "markdown",
      "source": [
        "## Life-Cycle Management: EOL & EOS Considerations\n",
        "\n",
        "Effective **life-cycle management** involves systematically planning, deploying, maintaining, and eventually replacing network equipment and software throughout their useful lifespan. This strategic approach helps organizations balance performance requirements against budget constraints while minimizing security risks from outdated components.\n",
        "\n",
        "Two critical milestones in the life cycle of network components require particular attention from administrators:\n",
        "\n",
        "* **End-of-Life (EOL)** occurs when a vendor announces they will discontinue a product, starting the countdown to when it will no longer be sold or supported\n",
        "* **End-of-Support (EOS)** marks the final date when a vendor will provide technical support, security patches, or bug fixes for a product\n",
        "\n",
        "Organizations must develop proactive strategies for managing these transitions:\n",
        "\n",
        "1. Maintain comprehensive inventories of all hardware and software with their respective EOL/EOS dates\n",
        "2. Establish clear replacement criteria based on performance needs, security requirements, and budget constraints\n",
        "3. Create migration plans well before EOS dates to ensure smooth transitions to newer technologies\n",
        "4. Budget appropriately for regular technology refreshes to avoid emergency capital expenditures\n",
        "5. Consider extended support contracts for critical systems when immediate replacement isn't feasible\n",
        "\n",
        "Effective **software management** practices further extend the useful life of network components:\n",
        "\n",
        "* Regularly installing **patches and bug fixes** preserves functionality and security of network devices\n",
        "* Keeping **operating system (OS)** versions current ensures compatibility with security updates\n",
        "* Updating device **firmware** protects against vulnerabilities and adds new capabilities\n",
        "* Following a structured **decommissioning** process when retiring equipment prevents data leaks\n",
        "\n",
        "| Life-Cycle Phase | Key Considerations | Best Practices |\n",
        "|------------------|-------------------|----------------|\n",
        "| Planning | Feature requirements, compatibility | Research vendor roadmaps, industry trends |\n",
        "| Deployment | Documentation, baseline configuration | Establish standard procedures, configuration templates |\n",
        "| Maintenance | Patch management, performance monitoring | Scheduled updates, automated monitoring |\n",
        "| Replacement | EOL/EOS dates, migration planning | Phased approach, thorough testing |\n",
        "| Decommissioning | Data sanitization, disposal regulations | Documented procedures, certified disposal |\n",
        "\n",
        "Real-world example: A financial services company implements a life-cycle management program for their network infrastructure. They categorize equipment into three tiers based on criticality: core routers and firewalls (5-year replacement cycle), distribution switches (7-year cycle), and access switches (10-year cycle). When a vendor announces EOL for their core firewall platform, the network team immediately begins evaluation of replacement options, allocates budget for the next fiscal year, and develops a phased migration plan to implement before the EOS date—all while maintaining compliance with financial industry security regulations."
      ],
      "metadata": {
        "id": "KRtr2W-lI482"
      }
    },
    {
      "cell_type": "code",
      "source": [
        "# @title\n",
        "mm_svg(\"\"\"\n",
        "graph LR\n",
        "    A[Planning] --> B[Deployment]\n",
        "    B --> C[Maintenance]\n",
        "    C --> D[EOL/EOS Transition]\n",
        "    D --> E[Decommissioning]\n",
        "    E --> A\n",
        "\n",
        "    subgraph \"Active Phase\"\n",
        "    B\n",
        "    C\n",
        "    end\n",
        "\n",
        "    subgraph \"End-of-Life Phase\"\n",
        "    D\n",
        "    E\n",
        "    end\n",
        "\n",
        "    style A fill:#bbf,stroke:#333,stroke-width:1px\n",
        "    style B fill:#dfd,stroke:#333,stroke-width:1px\n",
        "    style C fill:#dfd,stroke:#333,stroke-width:1px\n",
        "    style D fill:#fdd,stroke:#333,stroke-width:1px\n",
        "    style E fill:#fdd,stroke:#333,stroke-width:1px\"\"\"\n",
        ")"
      ],
      "metadata": {
        "cellView": "form",
        "id": "Gt5XozohJsyz",
        "outputId": "872aa2da-f319-4430-e9b7-3e26a1a4acb1",
        "colab": {
          "base_uri": "https://localhost:8080/",
          "height": 223
        }
      },
      "execution_count": 13,
      "outputs": [
        {
          "output_type": "display_data",
          "data": {
            "text/plain": [
              "<IPython.core.display.SVG object>"
            ],
            "image/svg+xml": "<svg xmlns=\"http://www.w3.org/2000/svg\" xmlns:xlink=\"http://www.w3.org/1999/xlink\" id=\"mermaid-svg\" width=\"100%\" class=\"flowchart\" style=\"max-width: 1125.609375px;\" viewBox=\"0 0 1125.609375 201\" role=\"graphics-document document\" aria-roledescription=\"flowchart-v2\"><style xmlns=\"http://www.w3.org/1999/xhtml\">@import url(&quot;https://cdnjs.cloudflare.com/ajax/libs/font-awesome/6.7.2/css/all.min.css&quot;);</style><style>#mermaid-svg{font-family:&quot;trebuchet ms&quot;,verdana,arial,sans-serif;font-size:16px;fill:#333;}@keyframes edge-animation-frame{from{stroke-dashoffset:0;}}@keyframes dash{to{stroke-dashoffset:0;}}#mermaid-svg .edge-animation-slow{stroke-dasharray:9,5!important;stroke-dashoffset:900;animation:dash 50s linear infinite;stroke-linecap:round;}#mermaid-svg .edge-animation-fast{stroke-dasharray:9,5!important;stroke-dashoffset:900;animation:dash 20s linear infinite;stroke-linecap:round;}#mermaid-svg .error-icon{fill:#552222;}#mermaid-svg .error-text{fill:#552222;stroke:#552222;}#mermaid-svg .edge-thickness-normal{stroke-width:1px;}#mermaid-svg .edge-thickness-thick{stroke-width:3.5px;}#mermaid-svg .edge-pattern-solid{stroke-dasharray:0;}#mermaid-svg .edge-thickness-invisible{stroke-width:0;fill:none;}#mermaid-svg .edge-pattern-dashed{stroke-dasharray:3;}#mermaid-svg .edge-pattern-dotted{stroke-dasharray:2;}#mermaid-svg .marker{fill:#333333;stroke:#333333;}#mermaid-svg .marker.cross{stroke:#333333;}#mermaid-svg svg{font-family:&quot;trebuchet ms&quot;,verdana,arial,sans-serif;font-size:16px;}#mermaid-svg p{margin:0;}#mermaid-svg .label{font-family:&quot;trebuchet ms&quot;,verdana,arial,sans-serif;color:#333;}#mermaid-svg .cluster-label text{fill:#333;}#mermaid-svg .cluster-label span{color:#333;}#mermaid-svg .cluster-label span p{background-color:transparent;}#mermaid-svg .label text,#mermaid-svg span{fill:#333;color:#333;}#mermaid-svg .node rect,#mermaid-svg .node circle,#mermaid-svg .node ellipse,#mermaid-svg .node polygon,#mermaid-svg .node path{fill:#ECECFF;stroke:#9370DB;stroke-width:1px;}#mermaid-svg .rough-node .label text,#mermaid-svg .node .label text,#mermaid-svg .image-shape .label,#mermaid-svg .icon-shape .label{text-anchor:middle;}#mermaid-svg .node .katex path{fill:#000;stroke:#000;stroke-width:1px;}#mermaid-svg .rough-node .label,#mermaid-svg .node .label,#mermaid-svg .image-shape .label,#mermaid-svg .icon-shape .label{text-align:center;}#mermaid-svg .node.clickable{cursor:pointer;}#mermaid-svg .root .anchor path{fill:#333333!important;stroke-width:0;stroke:#333333;}#mermaid-svg .arrowheadPath{fill:#333333;}#mermaid-svg .edgePath .path{stroke:#333333;stroke-width:2.0px;}#mermaid-svg .flowchart-link{stroke:#333333;fill:none;}#mermaid-svg .edgeLabel{background-color:rgba(232,232,232, 0.8);text-align:center;}#mermaid-svg .edgeLabel p{background-color:rgba(232,232,232, 0.8);}#mermaid-svg .edgeLabel rect{opacity:0.5;background-color:rgba(232,232,232, 0.8);fill:rgba(232,232,232, 0.8);}#mermaid-svg .labelBkg{background-color:rgba(232, 232, 232, 0.5);}#mermaid-svg .cluster rect{fill:#ffffde;stroke:#aaaa33;stroke-width:1px;}#mermaid-svg .cluster text{fill:#333;}#mermaid-svg .cluster span{color:#333;}#mermaid-svg div.mermaidTooltip{position:absolute;text-align:center;max-width:200px;padding:2px;font-family:&quot;trebuchet ms&quot;,verdana,arial,sans-serif;font-size:12px;background:hsl(80, 100%, 96.2745098039%);border:1px solid #aaaa33;border-radius:2px;pointer-events:none;z-index:100;}#mermaid-svg .flowchartTitleText{text-anchor:middle;font-size:18px;fill:#333;}#mermaid-svg rect.text{fill:none;stroke-width:0;}#mermaid-svg .icon-shape,#mermaid-svg .image-shape{background-color:rgba(232,232,232, 0.8);text-align:center;}#mermaid-svg .icon-shape p,#mermaid-svg .image-shape p{background-color:rgba(232,232,232, 0.8);padding:2px;}#mermaid-svg .icon-shape rect,#mermaid-svg .image-shape rect{opacity:0.5;background-color:rgba(232,232,232, 0.8);fill:rgba(232,232,232, 0.8);}#mermaid-svg :root{--mermaid-font-family:&quot;trebuchet ms&quot;,verdana,arial,sans-serif;}</style><g><marker id=\"mermaid-svg_flowchart-v2-pointEnd\" class=\"marker flowchart-v2\" viewBox=\"0 0 10 10\" refX=\"5\" refY=\"5\" markerUnits=\"userSpaceOnUse\" markerWidth=\"8\" markerHeight=\"8\" orient=\"auto\"><path d=\"M 0 0 L 10 5 L 0 10 z\" class=\"arrowMarkerPath\" style=\"stroke-width: 1; stroke-dasharray: 1, 0;\"/></marker><marker id=\"mermaid-svg_flowchart-v2-pointStart\" class=\"marker flowchart-v2\" viewBox=\"0 0 10 10\" refX=\"4.5\" refY=\"5\" markerUnits=\"userSpaceOnUse\" markerWidth=\"8\" markerHeight=\"8\" orient=\"auto\"><path d=\"M 0 5 L 10 10 L 10 0 z\" class=\"arrowMarkerPath\" style=\"stroke-width: 1; stroke-dasharray: 1, 0;\"/></marker><marker id=\"mermaid-svg_flowchart-v2-circleEnd\" class=\"marker flowchart-v2\" viewBox=\"0 0 10 10\" refX=\"11\" refY=\"5\" markerUnits=\"userSpaceOnUse\" markerWidth=\"11\" markerHeight=\"11\" orient=\"auto\"><circle cx=\"5\" cy=\"5\" r=\"5\" class=\"arrowMarkerPath\" style=\"stroke-width: 1; stroke-dasharray: 1, 0;\"/></marker><marker id=\"mermaid-svg_flowchart-v2-circleStart\" class=\"marker flowchart-v2\" viewBox=\"0 0 10 10\" refX=\"-1\" refY=\"5\" markerUnits=\"userSpaceOnUse\" markerWidth=\"11\" markerHeight=\"11\" orient=\"auto\"><circle cx=\"5\" cy=\"5\" r=\"5\" class=\"arrowMarkerPath\" style=\"stroke-width: 1; stroke-dasharray: 1, 0;\"/></marker><marker id=\"mermaid-svg_flowchart-v2-crossEnd\" class=\"marker cross flowchart-v2\" viewBox=\"0 0 11 11\" refX=\"12\" refY=\"5.2\" markerUnits=\"userSpaceOnUse\" markerWidth=\"11\" markerHeight=\"11\" orient=\"auto\"><path d=\"M 1,1 l 9,9 M 10,1 l -9,9\" class=\"arrowMarkerPath\" style=\"stroke-width: 2; stroke-dasharray: 1, 0;\"/></marker><marker id=\"mermaid-svg_flowchart-v2-crossStart\" class=\"marker cross flowchart-v2\" viewBox=\"0 0 11 11\" refX=\"-1\" refY=\"5.2\" markerUnits=\"userSpaceOnUse\" markerWidth=\"11\" markerHeight=\"11\" orient=\"auto\"><path d=\"M 1,1 l 9,9 M 10,1 l -9,9\" class=\"arrowMarkerPath\" style=\"stroke-width: 2; stroke-dasharray: 1, 0;\"/></marker><g class=\"root\"><g class=\"clusters\"><g class=\"cluster \" id=\"subGraph1\" data-look=\"classic\"><rect style=\"\" x=\"627.28125\" y=\"8\" width=\"490.328125\" height=\"185\"/><g class=\"cluster-label \" transform=\"translate(808.40625, 8)\"><foreignObject width=\"128.078125\" height=\"24\"><div xmlns=\"http://www.w3.org/1999/xhtml\" style=\"display: table-cell; white-space: nowrap; line-height: 1.5; max-width: 200px; text-align: center;\"><span class=\"nodeLabel \"><p>End-of-Life Phase</p></span></div></foreignObject></g></g><g class=\"cluster \" id=\"subGraph0\" data-look=\"classic\"><rect style=\"\" x=\"180.28125\" y=\"8\" width=\"397\" height=\"124\"/><g class=\"cluster-label \" transform=\"translate(332.0859375, 8)\"><foreignObject width=\"93.390625\" height=\"24\"><div xmlns=\"http://www.w3.org/1999/xhtml\" style=\"display: table-cell; white-space: nowrap; line-height: 1.5; max-width: 200px; text-align: center;\"><span class=\"nodeLabel \"><p>Active Phase</p></span></div></foreignObject></g></g></g><g class=\"edgePaths\"><path d=\"M125.867,84L130.77,81.667C135.672,79.333,145.477,74.667,154.546,72.333C163.615,70,171.948,70,179.615,70C187.281,70,194.281,70,197.781,70L201.281,70\" id=\"L_A_B_0\" class=\" edge-thickness-normal edge-pattern-solid edge-thickness-normal edge-pattern-solid flowchart-link\" style=\"\" marker-end=\"url(#mermaid-svg_flowchart-v2-pointEnd)\"/><path d=\"M350.656,70L354.823,70C358.99,70,367.323,70,374.99,70C382.656,70,389.656,70,393.156,70L396.656,70\" id=\"L_B_C_0\" class=\" edge-thickness-normal edge-pattern-solid edge-thickness-normal edge-pattern-solid flowchart-link\" style=\"\" marker-end=\"url(#mermaid-svg_flowchart-v2-pointEnd)\"/><path d=\"M552.281,70L556.448,70C560.615,70,568.948,70,577.281,70C585.615,70,593.948,70,602.281,70C610.615,70,618.948,70,626.615,70C634.281,70,641.281,70,644.781,70L648.281,70\" id=\"L_C_D_0\" class=\" edge-thickness-normal edge-pattern-solid edge-thickness-normal edge-pattern-solid flowchart-link\" style=\"\" marker-end=\"url(#mermaid-svg_flowchart-v2-pointEnd)\"/><path d=\"M856.344,70L860.51,70C864.677,70,873.01,70,883.27,72.115C893.53,74.229,905.717,78.459,911.81,80.574L917.903,82.688\" id=\"L_D_E_0\" class=\" edge-thickness-normal edge-pattern-solid edge-thickness-normal edge-pattern-solid flowchart-link\" style=\"\" marker-end=\"url(#mermaid-svg_flowchart-v2-pointEnd)\"/><path d=\"M921.682,138L914.959,140.333C908.236,142.667,894.79,147.333,866.895,149.667C839,152,796.656,152,754.313,152C711.969,152,669.625,152,644.286,152C618.948,152,610.615,152,602.281,152C593.948,152,585.615,152,564.646,152C543.677,152,510.073,152,476.469,152C442.865,152,409.26,152,376.177,152C343.094,152,310.531,152,277.969,152C245.406,152,212.844,152,192.396,152C171.948,152,163.615,152,155.148,149.953C146.681,147.906,138.08,143.813,133.779,141.766L129.479,139.719\" id=\"L_E_A_0\" class=\" edge-thickness-normal edge-pattern-solid edge-thickness-normal edge-pattern-solid flowchart-link\" style=\"\" marker-end=\"url(#mermaid-svg_flowchart-v2-pointEnd)\"/></g><g class=\"edgeLabels\"><g class=\"edgeLabel\"><g class=\"label\" transform=\"translate(0, 0)\"><foreignObject width=\"0\" height=\"0\"><div xmlns=\"http://www.w3.org/1999/xhtml\" class=\"labelBkg\" style=\"display: table-cell; white-space: nowrap; line-height: 1.5; max-width: 200px; text-align: center;\"><span class=\"edgeLabel \"/></div></foreignObject></g></g><g class=\"edgeLabel\"><g class=\"label\" transform=\"translate(0, 0)\"><foreignObject width=\"0\" height=\"0\"><div xmlns=\"http://www.w3.org/1999/xhtml\" class=\"labelBkg\" style=\"display: table-cell; white-space: nowrap; line-height: 1.5; max-width: 200px; text-align: center;\"><span class=\"edgeLabel \"/></div></foreignObject></g></g><g class=\"edgeLabel\"><g class=\"label\" transform=\"translate(0, 0)\"><foreignObject width=\"0\" height=\"0\"><div xmlns=\"http://www.w3.org/1999/xhtml\" class=\"labelBkg\" style=\"display: table-cell; white-space: nowrap; line-height: 1.5; max-width: 200px; text-align: center;\"><span class=\"edgeLabel \"/></div></foreignObject></g></g><g class=\"edgeLabel\"><g class=\"label\" transform=\"translate(0, 0)\"><foreignObject width=\"0\" height=\"0\"><div xmlns=\"http://www.w3.org/1999/xhtml\" class=\"labelBkg\" style=\"display: table-cell; white-space: nowrap; line-height: 1.5; max-width: 200px; text-align: center;\"><span class=\"edgeLabel \"/></div></foreignObject></g></g><g class=\"edgeLabel\"><g class=\"label\" transform=\"translate(0, 0)\"><foreignObject width=\"0\" height=\"0\"><div xmlns=\"http://www.w3.org/1999/xhtml\" class=\"labelBkg\" style=\"display: table-cell; white-space: nowrap; line-height: 1.5; max-width: 200px; text-align: center;\"><span class=\"edgeLabel \"/></div></foreignObject></g></g></g><g class=\"nodes\"><g class=\"node default  \" id=\"flowchart-A-0\" transform=\"translate(69.140625, 111)\"><rect class=\"basic label-container\" style=\"fill:#bbf !important;stroke:#333 !important;stroke-width:1px !important\" x=\"-61.140625\" y=\"-27\" width=\"122.28125\" height=\"54\"/><g class=\"label\" style=\"\" transform=\"translate(-31.140625, -12)\"><rect/><foreignObject width=\"62.28125\" height=\"24\"><div xmlns=\"http://www.w3.org/1999/xhtml\" style=\"display: table-cell; white-space: nowrap; line-height: 1.5; max-width: 200px; text-align: center;\"><span class=\"nodeLabel \"><p>Planning</p></span></div></foreignObject></g></g><g class=\"node default  \" id=\"flowchart-B-1\" transform=\"translate(277.96875, 70)\"><rect class=\"basic label-container\" style=\"fill:#dfd !important;stroke:#333 !important;stroke-width:1px !important\" x=\"-72.6875\" y=\"-27\" width=\"145.375\" height=\"54\"/><g class=\"label\" style=\"\" transform=\"translate(-42.6875, -12)\"><rect/><foreignObject width=\"85.375\" height=\"24\"><div xmlns=\"http://www.w3.org/1999/xhtml\" style=\"display: table-cell; white-space: nowrap; line-height: 1.5; max-width: 200px; text-align: center;\"><span class=\"nodeLabel \"><p>Deployment</p></span></div></foreignObject></g></g><g class=\"node default  \" id=\"flowchart-C-3\" transform=\"translate(476.46875, 70)\"><rect class=\"basic label-container\" style=\"fill:#dfd !important;stroke:#333 !important;stroke-width:1px !important\" x=\"-75.8125\" y=\"-27\" width=\"151.625\" height=\"54\"/><g class=\"label\" style=\"\" transform=\"translate(-45.8125, -12)\"><rect/><foreignObject width=\"91.625\" height=\"24\"><div xmlns=\"http://www.w3.org/1999/xhtml\" style=\"display: table-cell; white-space: nowrap; line-height: 1.5; max-width: 200px; text-align: center;\"><span class=\"nodeLabel \"><p>Maintenance</p></span></div></foreignObject></g></g><g class=\"node default  \" id=\"flowchart-D-5\" transform=\"translate(754.3125, 70)\"><rect class=\"basic label-container\" style=\"fill:#fdd !important;stroke:#333 !important;stroke-width:1px !important\" x=\"-102.03125\" y=\"-27\" width=\"204.0625\" height=\"54\"/><g class=\"label\" style=\"\" transform=\"translate(-72.03125, -12)\"><rect/><foreignObject width=\"144.0625\" height=\"24\"><div xmlns=\"http://www.w3.org/1999/xhtml\" style=\"display: table-cell; white-space: nowrap; line-height: 1.5; max-width: 200px; text-align: center;\"><span class=\"nodeLabel \"><p>EOL/EOS Transition</p></span></div></foreignObject></g></g><g class=\"node default  \" id=\"flowchart-E-7\" transform=\"translate(999.4765625, 111)\"><rect class=\"basic label-container\" style=\"fill:#fdd !important;stroke:#333 !important;stroke-width:1px !important\" x=\"-93.1328125\" y=\"-27\" width=\"186.265625\" height=\"54\"/><g class=\"label\" style=\"\" transform=\"translate(-63.1328125, -12)\"><rect/><foreignObject width=\"126.265625\" height=\"24\"><div xmlns=\"http://www.w3.org/1999/xhtml\" style=\"display: table-cell; white-space: nowrap; line-height: 1.5; max-width: 200px; text-align: center;\"><span class=\"nodeLabel \"><p>Decommissioning</p></span></div></foreignObject></g></g></g></g></g></svg>"
          },
          "metadata": {}
        }
      ]
    },
    {
      "cell_type": "markdown",
      "source": [
        "## Change Management & Configuration Control\n",
        "\n",
        "Organizations implement **change management** processes to control how modifications to network infrastructure are requested, evaluated, approved, implemented, and documented. This systematic approach minimizes disruption, reduces errors, and creates accountability for network changes that could impact business operations.\n",
        "\n",
        "Effective change management depends on a structured **request process tracking** system that includes:\n",
        "\n",
        "* Standardized request forms capture essential details about proposed changes, including purpose, scope, and potential impact\n",
        "* Risk assessment evaluates potential consequences of the change, identifying possible points of failure\n",
        "* Approval workflows ensure appropriate stakeholders review and authorize changes based on their potential impact\n",
        "* Implementation scheduling coordinates changes to minimize disruption to business operations\n",
        "* Post-change verification confirms that changes achieved their intended purpose without unexpected consequences\n",
        "\n",
        "**Configuration management** complements change management by maintaining control over network device settings throughout their lifecycle. This practice relies on several key concepts:\n",
        "\n",
        "1. **Production configuration** represents the currently active settings on network devices in the live environment\n",
        "2. **Backup configuration** preserves copies of device settings to enable rapid recovery from failures or configuration errors\n",
        "3. **Baseline configuration** (sometimes called **golden configuration**) establishes standard settings that should be applied to specific device types\n",
        "\n",
        "Benefits of integrated change and configuration management:\n",
        "\n",
        "* Reduced network downtime results from fewer configuration errors and faster recovery when problems occur\n",
        "* Enhanced security posture comes from consistent application of security policies across all devices\n",
        "* Improved compliance with regulatory requirements through documented changes and standardized configurations\n",
        "* Better operational efficiency through elimination of redundant or unnecessary configuration changes\n",
        "* More effective troubleshooting when issues arise due to clear documentation of recent changes\n",
        "\n",
        "| Management Practice | Key Components | Business Benefits |\n",
        "|--------------------|----------------|-------------------|\n",
        "| Change Request Process | Request forms, approval workflow | Accountability, risk reduction |\n",
        "| Configuration Backup | Automated backups, version control | Faster disaster recovery |\n",
        "| Baseline Standards | Device templates, compliance checking | Consistency, security |\n",
        "\n",
        "Real-world example: A healthcare organization implements a change management system for their network infrastructure. When an application team requests firewall modifications to support a new telemedicine service, the change request automatically routes to network security, compliance, and operations teams for approval. The implementation occurs during a designated maintenance window, and automated tools compare the new configuration against both the previous version and security baselines to verify compliance. The entire process is documented for future audits and to support troubleshooting if unexpected issues arise."
      ],
      "metadata": {
        "id": "ts_cOKeQJb_k"
      }
    },
    {
      "cell_type": "code",
      "source": [
        "# @title\n",
        "mm_svg(\"\"\"\n",
        "flowchart LR\n",
        "    A[Request] --> B{Review}\n",
        "    B -->|Approve| C[Implement]\n",
        "    B -->|Deny| D[Document]\n",
        "    C --> E{Test}\n",
        "    E -->|Success| F[Close]\n",
        "    E -->|Fail| G[Rollback]\n",
        "\n",
        "    classDef process fill:#dfd,stroke:#333,stroke-width:1px\n",
        "    classDef decision fill:#ffd,stroke:#333,stroke-width:1px\n",
        "    classDef problem fill:#fdd,stroke:#333,stroke-width:1px\n",
        "\n",
        "    class A,C,D,F,G process\n",
        "    class B,E decision\"\"\")"
      ],
      "metadata": {
        "cellView": "form",
        "id": "sJFrvKlMJhbF",
        "outputId": "8af8dcc1-cfbd-47f8-b0f1-8466d166c96d",
        "colab": {
          "base_uri": "https://localhost:8080/",
          "height": 248
        }
      },
      "execution_count": 14,
      "outputs": [
        {
          "output_type": "display_data",
          "data": {
            "text/plain": [
              "<IPython.core.display.SVG object>"
            ],
            "image/svg+xml": "<svg xmlns=\"http://www.w3.org/2000/svg\" xmlns:xlink=\"http://www.w3.org/1999/xlink\" id=\"mermaid-svg\" width=\"100%\" class=\"flowchart\" style=\"max-width: 901.53125px;\" viewBox=\"0 0 901.53125 226\" role=\"graphics-document document\" aria-roledescription=\"flowchart-v2\"><style xmlns=\"http://www.w3.org/1999/xhtml\">@import url(&quot;https://cdnjs.cloudflare.com/ajax/libs/font-awesome/6.7.2/css/all.min.css&quot;);</style><style>#mermaid-svg{font-family:&quot;trebuchet ms&quot;,verdana,arial,sans-serif;font-size:16px;fill:#333;}@keyframes edge-animation-frame{from{stroke-dashoffset:0;}}@keyframes dash{to{stroke-dashoffset:0;}}#mermaid-svg .edge-animation-slow{stroke-dasharray:9,5!important;stroke-dashoffset:900;animation:dash 50s linear infinite;stroke-linecap:round;}#mermaid-svg .edge-animation-fast{stroke-dasharray:9,5!important;stroke-dashoffset:900;animation:dash 20s linear infinite;stroke-linecap:round;}#mermaid-svg .error-icon{fill:#552222;}#mermaid-svg .error-text{fill:#552222;stroke:#552222;}#mermaid-svg .edge-thickness-normal{stroke-width:1px;}#mermaid-svg .edge-thickness-thick{stroke-width:3.5px;}#mermaid-svg .edge-pattern-solid{stroke-dasharray:0;}#mermaid-svg .edge-thickness-invisible{stroke-width:0;fill:none;}#mermaid-svg .edge-pattern-dashed{stroke-dasharray:3;}#mermaid-svg .edge-pattern-dotted{stroke-dasharray:2;}#mermaid-svg .marker{fill:#333333;stroke:#333333;}#mermaid-svg .marker.cross{stroke:#333333;}#mermaid-svg svg{font-family:&quot;trebuchet ms&quot;,verdana,arial,sans-serif;font-size:16px;}#mermaid-svg p{margin:0;}#mermaid-svg .label{font-family:&quot;trebuchet ms&quot;,verdana,arial,sans-serif;color:#333;}#mermaid-svg .cluster-label text{fill:#333;}#mermaid-svg .cluster-label span{color:#333;}#mermaid-svg .cluster-label span p{background-color:transparent;}#mermaid-svg .label text,#mermaid-svg span{fill:#333;color:#333;}#mermaid-svg .node rect,#mermaid-svg .node circle,#mermaid-svg .node ellipse,#mermaid-svg .node polygon,#mermaid-svg .node path{fill:#ECECFF;stroke:#9370DB;stroke-width:1px;}#mermaid-svg .rough-node .label text,#mermaid-svg .node .label text,#mermaid-svg .image-shape .label,#mermaid-svg .icon-shape .label{text-anchor:middle;}#mermaid-svg .node .katex path{fill:#000;stroke:#000;stroke-width:1px;}#mermaid-svg .rough-node .label,#mermaid-svg .node .label,#mermaid-svg .image-shape .label,#mermaid-svg .icon-shape .label{text-align:center;}#mermaid-svg .node.clickable{cursor:pointer;}#mermaid-svg .root .anchor path{fill:#333333!important;stroke-width:0;stroke:#333333;}#mermaid-svg .arrowheadPath{fill:#333333;}#mermaid-svg .edgePath .path{stroke:#333333;stroke-width:2.0px;}#mermaid-svg .flowchart-link{stroke:#333333;fill:none;}#mermaid-svg .edgeLabel{background-color:rgba(232,232,232, 0.8);text-align:center;}#mermaid-svg .edgeLabel p{background-color:rgba(232,232,232, 0.8);}#mermaid-svg .edgeLabel rect{opacity:0.5;background-color:rgba(232,232,232, 0.8);fill:rgba(232,232,232, 0.8);}#mermaid-svg .labelBkg{background-color:rgba(232, 232, 232, 0.5);}#mermaid-svg .cluster rect{fill:#ffffde;stroke:#aaaa33;stroke-width:1px;}#mermaid-svg .cluster text{fill:#333;}#mermaid-svg .cluster span{color:#333;}#mermaid-svg div.mermaidTooltip{position:absolute;text-align:center;max-width:200px;padding:2px;font-family:&quot;trebuchet ms&quot;,verdana,arial,sans-serif;font-size:12px;background:hsl(80, 100%, 96.2745098039%);border:1px solid #aaaa33;border-radius:2px;pointer-events:none;z-index:100;}#mermaid-svg .flowchartTitleText{text-anchor:middle;font-size:18px;fill:#333;}#mermaid-svg rect.text{fill:none;stroke-width:0;}#mermaid-svg .icon-shape,#mermaid-svg .image-shape{background-color:rgba(232,232,232, 0.8);text-align:center;}#mermaid-svg .icon-shape p,#mermaid-svg .image-shape p{background-color:rgba(232,232,232, 0.8);padding:2px;}#mermaid-svg .icon-shape rect,#mermaid-svg .image-shape rect{opacity:0.5;background-color:rgba(232,232,232, 0.8);fill:rgba(232,232,232, 0.8);}#mermaid-svg :root{--mermaid-font-family:&quot;trebuchet ms&quot;,verdana,arial,sans-serif;}#mermaid-svg .process&gt;*{fill:#dfd!important;stroke:#333!important;stroke-width:1px!important;}#mermaid-svg .process span{fill:#dfd!important;stroke:#333!important;stroke-width:1px!important;}#mermaid-svg .decision&gt;*{fill:#ffd!important;stroke:#333!important;stroke-width:1px!important;}#mermaid-svg .decision span{fill:#ffd!important;stroke:#333!important;stroke-width:1px!important;}#mermaid-svg .problem&gt;*{fill:#fdd!important;stroke:#333!important;stroke-width:1px!important;}#mermaid-svg .problem span{fill:#fdd!important;stroke:#333!important;stroke-width:1px!important;}</style><g><marker id=\"mermaid-svg_flowchart-v2-pointEnd\" class=\"marker flowchart-v2\" viewBox=\"0 0 10 10\" refX=\"5\" refY=\"5\" markerUnits=\"userSpaceOnUse\" markerWidth=\"8\" markerHeight=\"8\" orient=\"auto\"><path d=\"M 0 0 L 10 5 L 0 10 z\" class=\"arrowMarkerPath\" style=\"stroke-width: 1; stroke-dasharray: 1, 0;\"/></marker><marker id=\"mermaid-svg_flowchart-v2-pointStart\" class=\"marker flowchart-v2\" viewBox=\"0 0 10 10\" refX=\"4.5\" refY=\"5\" markerUnits=\"userSpaceOnUse\" markerWidth=\"8\" markerHeight=\"8\" orient=\"auto\"><path d=\"M 0 5 L 10 10 L 10 0 z\" class=\"arrowMarkerPath\" style=\"stroke-width: 1; stroke-dasharray: 1, 0;\"/></marker><marker id=\"mermaid-svg_flowchart-v2-circleEnd\" class=\"marker flowchart-v2\" viewBox=\"0 0 10 10\" refX=\"11\" refY=\"5\" markerUnits=\"userSpaceOnUse\" markerWidth=\"11\" markerHeight=\"11\" orient=\"auto\"><circle cx=\"5\" cy=\"5\" r=\"5\" class=\"arrowMarkerPath\" style=\"stroke-width: 1; stroke-dasharray: 1, 0;\"/></marker><marker id=\"mermaid-svg_flowchart-v2-circleStart\" class=\"marker flowchart-v2\" viewBox=\"0 0 10 10\" refX=\"-1\" refY=\"5\" markerUnits=\"userSpaceOnUse\" markerWidth=\"11\" markerHeight=\"11\" orient=\"auto\"><circle cx=\"5\" cy=\"5\" r=\"5\" class=\"arrowMarkerPath\" style=\"stroke-width: 1; stroke-dasharray: 1, 0;\"/></marker><marker id=\"mermaid-svg_flowchart-v2-crossEnd\" class=\"marker cross flowchart-v2\" viewBox=\"0 0 11 11\" refX=\"12\" refY=\"5.2\" markerUnits=\"userSpaceOnUse\" markerWidth=\"11\" markerHeight=\"11\" orient=\"auto\"><path d=\"M 1,1 l 9,9 M 10,1 l -9,9\" class=\"arrowMarkerPath\" style=\"stroke-width: 2; stroke-dasharray: 1, 0;\"/></marker><marker id=\"mermaid-svg_flowchart-v2-crossStart\" class=\"marker cross flowchart-v2\" viewBox=\"0 0 11 11\" refX=\"-1\" refY=\"5.2\" markerUnits=\"userSpaceOnUse\" markerWidth=\"11\" markerHeight=\"11\" orient=\"auto\"><path d=\"M 1,1 l 9,9 M 10,1 l -9,9\" class=\"arrowMarkerPath\" style=\"stroke-width: 2; stroke-dasharray: 1, 0;\"/></marker><g class=\"root\"><g class=\"clusters\"/><g class=\"edgePaths\"><path d=\"M127.594,139L131.76,139C135.927,139,144.26,139,152.011,139.07C159.761,139.141,166.928,139.281,170.511,139.351L174.095,139.422\" id=\"L_A_B_0\" class=\" edge-thickness-normal edge-pattern-solid edge-thickness-normal edge-pattern-solid flowchart-link\" style=\"\" marker-end=\"url(#mermaid-svg_flowchart-v2-pointEnd)\"/><path d=\"M267.265,122.202L279.197,116.335C291.13,110.468,314.994,98.734,335.393,92.867C355.792,87,372.724,87,381.19,87L389.656,87\" id=\"L_B_C_0\" class=\" edge-thickness-normal edge-pattern-solid edge-thickness-normal edge-pattern-solid flowchart-link\" style=\"\" marker-end=\"url(#mermaid-svg_flowchart-v2-pointEnd)\"/><path d=\"M267.265,156.798L279.197,162.498C291.13,168.199,314.994,179.599,335.542,185.3C356.089,191,373.318,191,381.932,191L390.547,191\" id=\"L_B_D_0\" class=\" edge-thickness-normal edge-pattern-solid edge-thickness-normal edge-pattern-solid flowchart-link\" style=\"\" marker-end=\"url(#mermaid-svg_flowchart-v2-pointEnd)\"/><path d=\"M528.359,87L532.526,87C536.693,87,545.026,87,552.776,87.07C560.526,87.141,567.693,87.281,571.277,87.351L574.86,87.422\" id=\"L_C_E_0\" class=\" edge-thickness-normal edge-pattern-solid edge-thickness-normal edge-pattern-solid flowchart-link\" style=\"\" marker-end=\"url(#mermaid-svg_flowchart-v2-pointEnd)\"/><path d=\"M647.651,72.948L659.199,66.623C670.746,60.298,693.842,47.649,715.633,41.325C737.424,35,757.911,35,768.155,35L778.398,35\" id=\"L_E_F_0\" class=\" edge-thickness-normal edge-pattern-solid edge-thickness-normal edge-pattern-solid flowchart-link\" style=\"\" marker-end=\"url(#mermaid-svg_flowchart-v2-pointEnd)\"/><path d=\"M647.651,102.052L659.199,108.21C670.746,114.368,693.842,126.684,713.929,132.842C734.016,139,751.094,139,759.633,139L768.172,139\" id=\"L_E_G_0\" class=\" edge-thickness-normal edge-pattern-solid edge-thickness-normal edge-pattern-solid flowchart-link\" style=\"\" marker-end=\"url(#mermaid-svg_flowchart-v2-pointEnd)\"/></g><g class=\"edgeLabels\"><g class=\"edgeLabel\"><g class=\"label\" transform=\"translate(0, 0)\"><foreignObject width=\"0\" height=\"0\"><div xmlns=\"http://www.w3.org/1999/xhtml\" class=\"labelBkg\" style=\"display: table-cell; white-space: nowrap; line-height: 1.5; max-width: 200px; text-align: center;\"><span class=\"edgeLabel \"/></div></foreignObject></g></g><g class=\"edgeLabel\" transform=\"translate(338.859375, 87)\"><g class=\"label\" transform=\"translate(-29.796875, -12)\"><foreignObject width=\"59.59375\" height=\"24\"><div xmlns=\"http://www.w3.org/1999/xhtml\" class=\"labelBkg\" style=\"display: table-cell; white-space: nowrap; line-height: 1.5; max-width: 200px; text-align: center;\"><span class=\"edgeLabel \"><p>Approve</p></span></div></foreignObject></g></g><g class=\"edgeLabel\" transform=\"translate(338.859375, 191)\"><g class=\"label\" transform=\"translate(-18.6796875, -12)\"><foreignObject width=\"37.359375\" height=\"24\"><div xmlns=\"http://www.w3.org/1999/xhtml\" class=\"labelBkg\" style=\"display: table-cell; white-space: nowrap; line-height: 1.5; max-width: 200px; text-align: center;\"><span class=\"edgeLabel \"><p>Deny</p></span></div></foreignObject></g></g><g class=\"edgeLabel\"><g class=\"label\" transform=\"translate(0, 0)\"><foreignObject width=\"0\" height=\"0\"><div xmlns=\"http://www.w3.org/1999/xhtml\" class=\"labelBkg\" style=\"display: table-cell; white-space: nowrap; line-height: 1.5; max-width: 200px; text-align: center;\"><span class=\"edgeLabel \"/></div></foreignObject></g></g><g class=\"edgeLabel\" transform=\"translate(716.9375, 35)\"><g class=\"label\" transform=\"translate(-30.234375, -12)\"><foreignObject width=\"60.46875\" height=\"24\"><div xmlns=\"http://www.w3.org/1999/xhtml\" class=\"labelBkg\" style=\"display: table-cell; white-space: nowrap; line-height: 1.5; max-width: 200px; text-align: center;\"><span class=\"edgeLabel \"><p>Success</p></span></div></foreignObject></g></g><g class=\"edgeLabel\" transform=\"translate(716.9375, 139)\"><g class=\"label\" transform=\"translate(-12.890625, -12)\"><foreignObject width=\"25.78125\" height=\"24\"><div xmlns=\"http://www.w3.org/1999/xhtml\" class=\"labelBkg\" style=\"display: table-cell; white-space: nowrap; line-height: 1.5; max-width: 200px; text-align: center;\"><span class=\"edgeLabel \"><p>Fail</p></span></div></foreignObject></g></g></g><g class=\"nodes\"><g class=\"node default process \" id=\"flowchart-A-0\" transform=\"translate(67.796875, 139)\"><rect class=\"basic label-container\" style=\"fill:#dfd !important;stroke:#333 !important;stroke-width:1px !important\" x=\"-59.796875\" y=\"-27\" width=\"119.59375\" height=\"54\"/><g class=\"label\" style=\"\" transform=\"translate(-29.796875, -12)\"><rect/><foreignObject width=\"59.59375\" height=\"24\"><div xmlns=\"http://www.w3.org/1999/xhtml\" style=\"display: table-cell; white-space: nowrap; line-height: 1.5; max-width: 200px; text-align: center;\"><span class=\"nodeLabel \"><p>Request</p></span></div></foreignObject></g></g><g class=\"node default decision \" id=\"flowchart-B-1\" transform=\"translate(230.828125, 139)\"><polygon points=\"53.234375,0 106.46875,-53.234375 53.234375,-106.46875 0,-53.234375\" class=\"label-container\" transform=\"translate(-53.234375,53.234375)\" style=\"fill:#ffd !important;stroke:#333 !important;stroke-width:1px !important\"/><g class=\"label\" style=\"\" transform=\"translate(-26.234375, -12)\"><rect/><foreignObject width=\"52.46875\" height=\"24\"><div xmlns=\"http://www.w3.org/1999/xhtml\" style=\"display: table-cell; white-space: nowrap; line-height: 1.5; max-width: 200px; text-align: center;\"><span class=\"nodeLabel \"><p>Review</p></span></div></foreignObject></g></g><g class=\"node default process \" id=\"flowchart-C-3\" transform=\"translate(461.0078125, 87)\"><rect class=\"basic label-container\" style=\"fill:#dfd !important;stroke:#333 !important;stroke-width:1px !important\" x=\"-67.3515625\" y=\"-27\" width=\"134.703125\" height=\"54\"/><g class=\"label\" style=\"\" transform=\"translate(-37.3515625, -12)\"><rect/><foreignObject width=\"74.703125\" height=\"24\"><div xmlns=\"http://www.w3.org/1999/xhtml\" style=\"display: table-cell; white-space: nowrap; line-height: 1.5; max-width: 200px; text-align: center;\"><span class=\"nodeLabel \"><p>Implement</p></span></div></foreignObject></g></g><g class=\"node default process \" id=\"flowchart-D-5\" transform=\"translate(461.0078125, 191)\"><rect class=\"basic label-container\" style=\"fill:#dfd !important;stroke:#333 !important;stroke-width:1px !important\" x=\"-66.4609375\" y=\"-27\" width=\"132.921875\" height=\"54\"/><g class=\"label\" style=\"\" transform=\"translate(-36.4609375, -12)\"><rect/><foreignObject width=\"72.921875\" height=\"24\"><div xmlns=\"http://www.w3.org/1999/xhtml\" style=\"display: table-cell; white-space: nowrap; line-height: 1.5; max-width: 200px; text-align: center;\"><span class=\"nodeLabel \"><p>Document</p></span></div></foreignObject></g></g><g class=\"node default decision \" id=\"flowchart-E-7\" transform=\"translate(620.03125, 87)\"><polygon points=\"41.671875,0 83.34375,-41.671875 41.671875,-83.34375 0,-41.671875\" class=\"label-container\" transform=\"translate(-41.671875,41.671875)\" style=\"fill:#ffd !important;stroke:#333 !important;stroke-width:1px !important\"/><g class=\"label\" style=\"\" transform=\"translate(-14.671875, -12)\"><rect/><foreignObject width=\"29.34375\" height=\"24\"><div xmlns=\"http://www.w3.org/1999/xhtml\" style=\"display: table-cell; white-space: nowrap; line-height: 1.5; max-width: 200px; text-align: center;\"><span class=\"nodeLabel \"><p>Test</p></span></div></foreignObject></g></g><g class=\"node default process \" id=\"flowchart-F-9\" transform=\"translate(832.8515625, 35)\"><rect class=\"basic label-container\" style=\"fill:#dfd !important;stroke:#333 !important;stroke-width:1px !important\" x=\"-50.453125\" y=\"-27\" width=\"100.90625\" height=\"54\"/><g class=\"label\" style=\"\" transform=\"translate(-20.453125, -12)\"><rect/><foreignObject width=\"40.90625\" height=\"24\"><div xmlns=\"http://www.w3.org/1999/xhtml\" style=\"display: table-cell; white-space: nowrap; line-height: 1.5; max-width: 200px; text-align: center;\"><span class=\"nodeLabel \"><p>Close</p></span></div></foreignObject></g></g><g class=\"node default process \" id=\"flowchart-G-11\" transform=\"translate(832.8515625, 139)\"><rect class=\"basic label-container\" style=\"fill:#dfd !important;stroke:#333 !important;stroke-width:1px !important\" x=\"-60.6796875\" y=\"-27\" width=\"121.359375\" height=\"54\"/><g class=\"label\" style=\"\" transform=\"translate(-30.6796875, -12)\"><rect/><foreignObject width=\"61.359375\" height=\"24\"><div xmlns=\"http://www.w3.org/1999/xhtml\" style=\"display: table-cell; white-space: nowrap; line-height: 1.5; max-width: 200px; text-align: center;\"><span class=\"nodeLabel \"><p>Rollback</p></span></div></foreignObject></g></g></g></g></g></svg>"
          },
          "metadata": {}
        }
      ]
    },
    {
      "cell_type": "markdown",
      "source": [
        "## Conclusion: Implementing Effective Network Documentation\n",
        "\n",
        "Throughout this chapter, we've explored how comprehensive network documentation and management processes form the foundation of reliable, secure, and efficient IT operations. Successfully implementing these practices requires an integrated approach that connects people, processes, and technology into a cohesive system.\n",
        "\n",
        "Key takeaways from this chapter include:\n",
        "\n",
        "* **Documentation is living** and requires regular updates to maintain its value—static, outdated documentation quickly becomes irrelevant and potentially dangerous\n",
        "* **Process standardization** creates consistency in how network tasks are performed, reducing errors and improving efficiency regardless of which team member performs the work\n",
        "* **Technology tools** support documentation efforts through automation, visualization, and centralized management of network information\n",
        "* **Business alignment** ensures that network documentation and management practices directly support organizational goals and priorities\n",
        "\n",
        "Best practices for implementing effective network documentation include:\n",
        "\n",
        "1. Start with critical systems and expand documentation efforts over time rather than attempting to document everything at once\n",
        "2. Establish clear ownership for maintaining different documentation types to ensure accountability\n",
        "3. Integrate documentation updates into existing workflows such as change management processes\n",
        "4. Leverage automation tools to keep documentation current with minimal manual effort\n",
        "5. Incorporate documentation reviews into regular IT operations to identify and address gaps\n",
        "\n",
        "| Implementation Challenge | Solution Strategy | Expected Outcome |\n",
        "|-------------------------|-------------------|------------------|\n",
        "| Limited resources | Prioritize by business impact | Critical systems documented first |\n",
        "| Maintaining accuracy | Automated discovery tools | Configuration details automatically updated |\n",
        "| Staff resistance | Training on documentation benefits | Increased adoption and contribution |\n",
        "| Disconnected systems | Integrated management platform | Single source of truth for network data |\n",
        "\n",
        "Real-world example: A manufacturing company improves their network reliability by implementing comprehensive documentation practices. They start by documenting their production network infrastructure, then expand to corporate systems. Automated tools discover and map the network topology, while integration with their change management system ensures documentation updates whenever configurations change. After six months, the mean time to resolve network incidents decreases by 35%, and successful changes increase from 82% to 97%—demonstrating the tangible business value of effective network documentation."
      ],
      "metadata": {
        "id": "9xtPVA6XJeQ9"
      }
    }
  ]
}