{
  "nbformat": 4,
  "nbformat_minor": 0,
  "metadata": {
    "colab": {
      "provenance": [],
      "authorship_tag": "ABX9TyPUWidyk6HGu4G25WDjkAGl",
      "include_colab_link": true
    },
    "kernelspec": {
      "name": "python3",
      "display_name": "Python 3"
    },
    "language_info": {
      "name": "python"
    }
  },
  "cells": [
    {
      "cell_type": "markdown",
      "metadata": {
        "id": "view-in-github",
        "colab_type": "text"
      },
      "source": [
        "<a href=\"https://colab.research.google.com/github/brendanpshea/intro_to_networks/blob/main/pcaps/PCAP_generator.ipynb\" target=\"_parent\"><img src=\"https://colab.research.google.com/assets/colab-badge.svg\" alt=\"Open In Colab\"/></a>"
      ]
    },
    {
      "cell_type": "code",
      "execution_count": 3,
      "metadata": {
        "colab": {
          "base_uri": "https://localhost:8080/"
        },
        "id": "5pF9nD-iyjt8",
        "outputId": "d9dbdc42-5705-44ba-b198-b17eded4e636"
      },
      "outputs": [
        {
          "output_type": "stream",
          "name": "stdout",
          "text": [
            "\n",
            "WARNING: apt does not have a stable CLI interface. Use with caution in scripts.\n",
            "\n"
          ]
        }
      ],
      "source": [
        "# Get ready for network analysis\n",
        "!pip install scapy > /dev/null\n",
        "!apt install tcpdump > /dev/null"
      ]
    },
    {
      "cell_type": "markdown",
      "source": [
        "## Detective Agency"
      ],
      "metadata": {
        "id": "f4KsX6ljymUs"
      }
    },
    {
      "cell_type": "code",
      "source": [
        "from scapy.all import *\n",
        "import random\n",
        "from datetime import datetime, timedelta\n",
        "import time\n",
        "import ipaddress\n",
        "\n",
        "def create_detective_agency_pcap():\n",
        "    # Network devices with MAC addresses (fixed to use valid hex values)\n",
        "    devices = {\n",
        "        \"router\": {\n",
        "            \"ip\": \"192.168.1.1\",\n",
        "            \"mac\": \"00:1A:2B:3C:4D:5E\",\n",
        "            \"external_ip\": \"203.0.113.2\",\n",
        "            \"external_mac\": \"00:1A:2B:3C:4D:5F\"\n",
        "        },\n",
        "        \"reception\": {\n",
        "            \"ip\": \"192.168.1.10\",\n",
        "            \"mac\": \"00:1B:2C:3D:4E:5F\"\n",
        "        },\n",
        "        \"detective1\": {\n",
        "            \"ip\": \"192.168.1.11\",\n",
        "            \"mac\": \"00:1C:2D:3E:4F:6A\"\n",
        "        },\n",
        "        \"detective2\": {\n",
        "            \"ip\": \"192.168.1.12\",\n",
        "            \"mac\": \"00:1D:2E:3F:4F:6B\"\n",
        "        },\n",
        "        \"research\": {\n",
        "            \"ip\": \"192.168.1.13\",\n",
        "            \"mac\": \"00:1E:2F:3F:4F:6C\"\n",
        "        },\n",
        "        \"scanner\": {\n",
        "            \"ip\": \"192.168.1.14\",\n",
        "            \"mac\": \"00:1F:2F:3F:4F:6D\"\n",
        "        },\n",
        "        \"security_camera\": {\n",
        "            \"ip\": \"192.168.1.15\",\n",
        "            \"mac\": \"00:2A:3B:4C:5D:6E\"\n",
        "        }\n",
        "    }\n",
        "\n",
        "    external_services = {\n",
        "        \"client_portal\": \"203.0.113.10\",\n",
        "        \"email_server\": \"203.0.113.20\",\n",
        "        \"cloud_storage\": \"203.0.113.30\",\n",
        "        \"case_database\": \"203.0.113.40\",\n",
        "        \"surveillance_feed\": \"203.0.113.50\"\n",
        "    }\n",
        "\n",
        "    packets = []\n",
        "    base_time = time.time()\n",
        "\n",
        "    # ARP cache updates\n",
        "    for device_name, device in devices.items():\n",
        "        if device_name != \"router\":\n",
        "            # ARP request\n",
        "            arp_request = (\n",
        "                Ether(src=device[\"mac\"], dst=\"ff:ff:ff:ff:ff:ff\")/\n",
        "                ARP(\n",
        "                    hwsrc=device[\"mac\"],\n",
        "                    psrc=device[\"ip\"],\n",
        "                    hwdst=\"00:00:00:00:00:00\",\n",
        "                    pdst=devices[\"router\"][\"ip\"],\n",
        "                    op=1  # who-has\n",
        "                )\n",
        "            )\n",
        "            # ARP reply\n",
        "            arp_reply = (\n",
        "                Ether(src=devices[\"router\"][\"mac\"], dst=device[\"mac\"])/\n",
        "                ARP(\n",
        "                    hwsrc=devices[\"router\"][\"mac\"],\n",
        "                    psrc=devices[\"router\"][\"ip\"],\n",
        "                    hwdst=device[\"mac\"],\n",
        "                    pdst=device[\"ip\"],\n",
        "                    op=2  # is-at\n",
        "                )\n",
        "            )\n",
        "            packets.extend([arp_request, arp_reply])\n",
        "\n",
        "    # DHCP renewal\n",
        "    for device_name, device in devices.items():\n",
        "        if device_name != \"router\":\n",
        "            # DHCP discover\n",
        "            dhcp_discover = (\n",
        "                Ether(src=device[\"mac\"], dst=\"ff:ff:ff:ff:ff:ff\")/\n",
        "                IP(src=\"0.0.0.0\", dst=\"255.255.255.255\")/\n",
        "                UDP(sport=68, dport=67)/\n",
        "                BOOTP(\n",
        "                    chaddr=device[\"mac\"].replace(\":\", \"\"),\n",
        "                    flags=0x8000\n",
        "                )/\n",
        "                DHCP(options=[(\"message-type\", \"discover\"), \"end\"])\n",
        "            )\n",
        "            packets.append(dhcp_discover)\n",
        "\n",
        "    # Regular DNS queries with full Ethernet frames\n",
        "    for service in external_services:\n",
        "        dns_query = (\n",
        "            Ether(src=devices[\"reception\"][\"mac\"], dst=devices[\"router\"][\"mac\"])/\n",
        "            IP(src=devices[\"reception\"][\"ip\"], dst=\"8.8.8.8\")/\n",
        "            UDP(sport=random.randint(49152, 65535), dport=53)/\n",
        "            DNS(\n",
        "                rd=1,\n",
        "                qd=DNSQR(qname=f\"{service}.detective-agency.com\")\n",
        "            )\n",
        "        )\n",
        "        packets.append(dns_query)\n",
        "\n",
        "    # HTTPS traffic with TCP handshake\n",
        "    for detective in [\"detective1\", \"detective2\"]:\n",
        "        src_port = random.randint(49152, 65535)\n",
        "\n",
        "        # TCP 3-way handshake\n",
        "        syn = (\n",
        "            Ether(src=devices[detective][\"mac\"], dst=devices[\"router\"][\"mac\"])/\n",
        "            IP(src=devices[detective][\"ip\"], dst=external_services[\"client_portal\"])/\n",
        "            TCP(sport=src_port, dport=443, flags=\"S\", seq=1000)\n",
        "        )\n",
        "\n",
        "        syn_ack = (\n",
        "            Ether(src=devices[\"router\"][\"mac\"], dst=devices[detective][\"mac\"])/\n",
        "            IP(dst=devices[detective][\"ip\"], src=external_services[\"client_portal\"])/\n",
        "            TCP(sport=443, dport=src_port, flags=\"SA\", seq=2000, ack=1001)\n",
        "        )\n",
        "\n",
        "        ack = (\n",
        "            Ether(src=devices[detective][\"mac\"], dst=devices[\"router\"][\"mac\"])/\n",
        "            IP(src=devices[detective][\"ip\"], dst=external_services[\"client_portal\"])/\n",
        "            TCP(sport=src_port, dport=443, flags=\"A\", seq=1001, ack=2001)\n",
        "        )\n",
        "\n",
        "        # Simulate TLS handshake with raw data\n",
        "        tls_hello = (\n",
        "            Ether(src=devices[detective][\"mac\"], dst=devices[\"router\"][\"mac\"])/\n",
        "            IP(src=devices[detective][\"ip\"], dst=external_services[\"client_portal\"])/\n",
        "            TCP(sport=src_port, dport=443, flags=\"PA\", seq=1001, ack=2001)/\n",
        "            Raw(load=b\"\\x16\\x03\\x03\" + b\"\\x00\"*50)  # Simplified TLS Client Hello\n",
        "        )\n",
        "\n",
        "        packets.extend([syn, syn_ack, ack, tls_hello])\n",
        "\n",
        "    # NTP synchronization\n",
        "    for device_name, device in devices.items():\n",
        "        if device_name != \"router\":\n",
        "            ntp_request = (\n",
        "                Ether(src=device[\"mac\"], dst=devices[\"router\"][\"mac\"])/\n",
        "                IP(src=device[\"ip\"], dst=\"pool.ntp.org\")/\n",
        "                UDP(sport=random.randint(49152, 65535), dport=123)/\n",
        "                Raw(load=b\"\\x1b\" + b\"\\0\"*47)  # NTP v3 request\n",
        "            )\n",
        "            packets.append(ntp_request)\n",
        "\n",
        "    # ICMP echo requests (ping)\n",
        "    for device_name, device in devices.items():\n",
        "        if device_name != \"router\":\n",
        "            ping = (\n",
        "                Ether(src=device[\"mac\"], dst=devices[\"router\"][\"mac\"])/\n",
        "                IP(src=device[\"ip\"], dst=\"8.8.8.8\")/\n",
        "                ICMP(type=8, code=0)  # Echo request\n",
        "            )\n",
        "            ping_reply = (\n",
        "                Ether(src=devices[\"router\"][\"mac\"], dst=device[\"mac\"])/\n",
        "                IP(dst=device[\"ip\"], src=\"8.8.8.8\")/\n",
        "                ICMP(type=0, code=0)  # Echo reply\n",
        "            )\n",
        "            packets.extend([ping, ping_reply])\n",
        "\n",
        "    # HTTP traffic\n",
        "    for detective in [\"detective1\", \"detective2\"]:\n",
        "        http_get = (\n",
        "            Ether(src=devices[detective][\"mac\"], dst=devices[\"router\"][\"mac\"])/\n",
        "            IP(src=devices[detective][\"ip\"], dst=external_services[\"client_portal\"])/\n",
        "            TCP(sport=random.randint(49152, 65535), dport=80)/\n",
        "            Raw(load=b\"GET / HTTP/1.1\\r\\nHost: detective-agency.com\\r\\n\\r\\n\")\n",
        "        )\n",
        "        packets.append(http_get)\n",
        "\n",
        "    # Add timestamps\n",
        "    for i, packet in enumerate(packets):\n",
        "        packet.time = base_time + (i * 0.1)  # Add 0.1 seconds between packets\n",
        "\n",
        "    wrpcap(\"detective_agency.pcap\", packets)\n",
        "    print(\"Enhanced PCAP file 'detective_agency.pcap' has been created successfully.\")\n",
        "\n",
        "# Create the PCAP file\n",
        "create_detective_agency_pcap()"
      ],
      "metadata": {
        "colab": {
          "base_uri": "https://localhost:8080/"
        },
        "id": "1xU1Kfwdyoll",
        "outputId": "6f6b9e56-6fab-43cf-a094-b1c87095f308"
      },
      "execution_count": 4,
      "outputs": [
        {
          "output_type": "stream",
          "name": "stdout",
          "text": [
            "Enhanced PCAP file 'detective_agency.pcap' has been created successfully.\n"
          ]
        }
      ]
    },
    {
      "cell_type": "code",
      "source": [
        "%%bash\n",
        "apt install tcpdump > /dev/null"
      ],
      "metadata": {
        "colab": {
          "base_uri": "https://localhost:8080/"
        },
        "id": "lFtTROaM0ANB",
        "outputId": "f30d852f-4ea4-455c-a863-67f5e9da7828"
      },
      "execution_count": 7,
      "outputs": [
        {
          "output_type": "stream",
          "name": "stderr",
          "text": [
            "\n",
            "WARNING: apt does not have a stable CLI interface. Use with caution in scripts.\n",
            "\n"
          ]
        }
      ]
    },
    {
      "cell_type": "code",
      "source": [
        "%%bash\n",
        "# See who's talking to who at the ethernet level\n",
        "tcpdump -r detective_agency.pcap -e -n -c 10"
      ],
      "metadata": {
        "colab": {
          "base_uri": "https://localhost:8080/"
        },
        "id": "QDGPKR9O0LtA",
        "outputId": "9f5cebed-38e3-49ab-fc16-a18efed943d4"
      },
      "execution_count": 14,
      "outputs": [
        {
          "output_type": "stream",
          "name": "stdout",
          "text": [
            "14:50:15.957247 00:1b:2c:3d:4e:5f > ff:ff:ff:ff:ff:ff, ethertype ARP (0x0806), length 42: Request who-has 192.168.1.1 tell 192.168.1.10, length 28\n",
            "14:50:16.057247 00:1a:2b:3c:4d:5e > 00:1b:2c:3d:4e:5f, ethertype ARP (0x0806), length 42: Reply 192.168.1.1 is-at 00:1a:2b:3c:4d:5e, length 28\n",
            "14:50:16.157247 00:1c:2d:3e:4f:6a > ff:ff:ff:ff:ff:ff, ethertype ARP (0x0806), length 42: Request who-has 192.168.1.1 tell 192.168.1.11, length 28\n",
            "14:50:16.257247 00:1a:2b:3c:4d:5e > 00:1c:2d:3e:4f:6a, ethertype ARP (0x0806), length 42: Reply 192.168.1.1 is-at 00:1a:2b:3c:4d:5e, length 28\n",
            "14:50:16.357247 00:1d:2e:3f:4f:6b > ff:ff:ff:ff:ff:ff, ethertype ARP (0x0806), length 42: Request who-has 192.168.1.1 tell 192.168.1.12, length 28\n",
            "14:50:16.457247 00:1a:2b:3c:4d:5e > 00:1d:2e:3f:4f:6b, ethertype ARP (0x0806), length 42: Reply 192.168.1.1 is-at 00:1a:2b:3c:4d:5e, length 28\n",
            "14:50:16.557247 00:1e:2f:3f:4f:6c > ff:ff:ff:ff:ff:ff, ethertype ARP (0x0806), length 42: Request who-has 192.168.1.1 tell 192.168.1.13, length 28\n",
            "14:50:16.657247 00:1a:2b:3c:4d:5e > 00:1e:2f:3f:4f:6c, ethertype ARP (0x0806), length 42: Reply 192.168.1.1 is-at 00:1a:2b:3c:4d:5e, length 28\n",
            "14:50:16.757247 00:1f:2f:3f:4f:6d > ff:ff:ff:ff:ff:ff, ethertype ARP (0x0806), length 42: Request who-has 192.168.1.1 tell 192.168.1.14, length 28\n",
            "14:50:16.857247 00:1a:2b:3c:4d:5e > 00:1f:2f:3f:4f:6d, ethertype ARP (0x0806), length 42: Reply 192.168.1.1 is-at 00:1a:2b:3c:4d:5e, length 28\n"
          ]
        },
        {
          "output_type": "stream",
          "name": "stderr",
          "text": [
            "reading from file detective_agency.pcap, link-type EN10MB (Ethernet), snapshot length 65535\n"
          ]
        }
      ]
    },
    {
      "cell_type": "code",
      "source": [
        "%%bash\n",
        "# Watch IP addresses communicate\n",
        "tcpdump -r detective_agency.pcap -n 'ip' -c 10"
      ],
      "metadata": {
        "colab": {
          "base_uri": "https://localhost:8080/"
        },
        "id": "84NC4vEG05CC",
        "outputId": "cc696278-107e-4e67-f8a4-233c80b1b777"
      },
      "execution_count": 15,
      "outputs": [
        {
          "output_type": "stream",
          "name": "stdout",
          "text": [
            "14:50:17.157247 IP 0.0.0.0.68 > 255.255.255.255.67: BOOTP/DHCP, Request from 30:30:31:42:32:43, length 244\n",
            "14:50:17.257247 IP 0.0.0.0.68 > 255.255.255.255.67: BOOTP/DHCP, Request from 30:30:31:43:32:44, length 244\n",
            "14:50:17.357247 IP 0.0.0.0.68 > 255.255.255.255.67: BOOTP/DHCP, Request from 30:30:31:44:32:45, length 244\n",
            "14:50:17.457247 IP 0.0.0.0.68 > 255.255.255.255.67: BOOTP/DHCP, Request from 30:30:31:45:32:46, length 244\n",
            "14:50:17.557247 IP 0.0.0.0.68 > 255.255.255.255.67: BOOTP/DHCP, Request from 30:30:31:46:32:46, length 244\n",
            "14:50:17.657247 IP 0.0.0.0.68 > 255.255.255.255.67: BOOTP/DHCP, Request from 30:30:32:41:33:42, length 244\n",
            "14:50:17.757247 IP 192.168.1.10.51924 > 8.8.8.8.53: 0+ A? client_portal.detective-agency.com. (52)\n",
            "14:50:17.857247 IP 192.168.1.10.60009 > 8.8.8.8.53: 0+ A? email_server.detective-agency.com. (51)\n",
            "14:50:17.957247 IP 192.168.1.10.61904 > 8.8.8.8.53: 0+ A? cloud_storage.detective-agency.com. (52)\n",
            "14:50:18.057247 IP 192.168.1.10.64110 > 8.8.8.8.53: 0+ A? case_database.detective-agency.com. (52)\n"
          ]
        },
        {
          "output_type": "stream",
          "name": "stderr",
          "text": [
            "reading from file detective_agency.pcap, link-type EN10MB (Ethernet), snapshot length 65535\n"
          ]
        }
      ]
    },
    {
      "cell_type": "code",
      "source": [
        "%%bash\n",
        "# See TCP connections being established\n",
        "tcpdump -r detective_agency.pcap -n 'tcp[tcpflags] & (tcp-syn) != 0' -c 10"
      ],
      "metadata": {
        "colab": {
          "base_uri": "https://localhost:8080/"
        },
        "id": "MIqVwMq_5Wze",
        "outputId": "cc0f80c6-5804-48ba-d19f-1c03b929b889"
      },
      "execution_count": 17,
      "outputs": [
        {
          "output_type": "stream",
          "name": "stdout",
          "text": [
            "14:50:18.257247 IP 192.168.1.11.57071 > 203.0.113.10.443: Flags [S], seq 1000, win 8192, length 0\n",
            "14:50:18.357247 IP 203.0.113.10.443 > 192.168.1.11.57071: Flags [S.], seq 2000, ack 1001, win 8192, length 0\n",
            "14:50:18.657247 IP 192.168.1.12.60081 > 203.0.113.10.443: Flags [S], seq 1000, win 8192, length 0\n",
            "14:50:18.757247 IP 203.0.113.10.443 > 192.168.1.12.60081: Flags [S.], seq 2000, ack 1001, win 8192, length 0\n",
            "14:50:20.857247 IP 192.168.1.11.59109 > 203.0.113.10.80: Flags [S], seq 0:46, win 8192, length 46: HTTP: GET / HTTP/1.1\n",
            "14:50:20.957247 IP 192.168.1.12.58450 > 203.0.113.10.80: Flags [S], seq 0:46, win 8192, length 46: HTTP: GET / HTTP/1.1\n"
          ]
        },
        {
          "output_type": "stream",
          "name": "stderr",
          "text": [
            "reading from file detective_agency.pcap, link-type EN10MB (Ethernet), snapshot length 65535\n"
          ]
        }
      ]
    },
    {
      "cell_type": "code",
      "source": [
        "%%bash\n",
        "# Look at DNS queries - detectives looking up websites\n",
        "tcpdump -r detective_agency.pcap -n 'port 53' -c 5"
      ],
      "metadata": {
        "colab": {
          "base_uri": "https://localhost:8080/"
        },
        "id": "6MganJca5gL0",
        "outputId": "eff88b8e-93ed-4bd2-ca68-9814f907e587"
      },
      "execution_count": 18,
      "outputs": [
        {
          "output_type": "stream",
          "name": "stdout",
          "text": [
            "14:50:17.757247 IP 192.168.1.10.51924 > 8.8.8.8.53: 0+ A? client_portal.detective-agency.com. (52)\n",
            "14:50:17.857247 IP 192.168.1.10.60009 > 8.8.8.8.53: 0+ A? email_server.detective-agency.com. (51)\n",
            "14:50:17.957247 IP 192.168.1.10.61904 > 8.8.8.8.53: 0+ A? cloud_storage.detective-agency.com. (52)\n",
            "14:50:18.057247 IP 192.168.1.10.64110 > 8.8.8.8.53: 0+ A? case_database.detective-agency.com. (52)\n",
            "14:50:18.157247 IP 192.168.1.10.63706 > 8.8.8.8.53: 0+ A? surveillance_feed.detective-agency.com. (56)\n"
          ]
        },
        {
          "output_type": "stream",
          "name": "stderr",
          "text": [
            "reading from file detective_agency.pcap, link-type EN10MB (Ethernet), snapshot length 65535\n"
          ]
        }
      ]
    },
    {
      "cell_type": "code",
      "source": [
        "%%bash\n",
        "# Show detailed Ethernet frames\n",
        "tcpdump -r detective_agency.pcap -e -nn -vv -c 1"
      ],
      "metadata": {
        "colab": {
          "base_uri": "https://localhost:8080/"
        },
        "id": "wHnwHJN-5_un",
        "outputId": "857f2934-5f75-48c6-f7b8-59f2850e9ab8"
      },
      "execution_count": 19,
      "outputs": [
        {
          "output_type": "stream",
          "name": "stdout",
          "text": [
            "14:50:15.957247 00:1b:2c:3d:4e:5f > ff:ff:ff:ff:ff:ff, ethertype ARP (0x0806), length 42: Ethernet (len 6), IPv4 (len 4), Request who-has 192.168.1.1 tell 192.168.1.10, length 28\n"
          ]
        },
        {
          "output_type": "stream",
          "name": "stderr",
          "text": [
            "reading from file detective_agency.pcap, link-type EN10MB (Ethernet), snapshot length 65535\n"
          ]
        }
      ]
    },
    {
      "cell_type": "code",
      "source": [
        "%%bash\n",
        "# Show IP header details\n",
        "tcpdump -r detective_agency.pcap -nn -vv 'ip' -c 1"
      ],
      "metadata": {
        "colab": {
          "base_uri": "https://localhost:8080/"
        },
        "id": "s-5F1mPw6GNM",
        "outputId": "7be13850-e958-41a6-90fa-f844634e6169"
      },
      "execution_count": 20,
      "outputs": [
        {
          "output_type": "stream",
          "name": "stdout",
          "text": [
            "14:50:17.157247 IP (tos 0x0, ttl 64, id 1, offset 0, flags [none], proto UDP (17), length 272)\n",
            "    0.0.0.0.68 > 255.255.255.255.67: [udp sum ok] BOOTP/DHCP, Request from 30:30:31:42:32:43, length 244, Flags [Broadcast] (0x8000)\n",
            "\t  Client-Ethernet-Address 30:30:31:42:32:43\n",
            "\t  Vendor-rfc1048 Extensions\n",
            "\t    Magic Cookie 0x63825363\n",
            "\t    DHCP-Message (53), length 1: Discover\n"
          ]
        },
        {
          "output_type": "stream",
          "name": "stderr",
          "text": [
            "reading from file detective_agency.pcap, link-type EN10MB (Ethernet), snapshot length 65535\n"
          ]
        }
      ]
    },
    {
      "cell_type": "code",
      "source": [
        "%%bash\n",
        "# Show TCP header details\n",
        "tcpdump -r detective_agency.pcap -nn -vvv 'tcp' -c 1"
      ],
      "metadata": {
        "colab": {
          "base_uri": "https://localhost:8080/"
        },
        "id": "IvT4fTok6OYa",
        "outputId": "c3a63c63-608b-4f1c-8ff8-0fe269a316f5"
      },
      "execution_count": 21,
      "outputs": [
        {
          "output_type": "stream",
          "name": "stdout",
          "text": [
            "14:50:18.257247 IP (tos 0x0, ttl 64, id 1, offset 0, flags [none], proto TCP (6), length 40)\n",
            "    192.168.1.11.57071 > 203.0.113.10.443: Flags [S], cksum 0xad91 (correct), seq 1000, win 8192, length 0\n"
          ]
        },
        {
          "output_type": "stream",
          "name": "stderr",
          "text": [
            "reading from file detective_agency.pcap, link-type EN10MB (Ethernet), snapshot length 65535\n"
          ]
        }
      ]
    },
    {
      "cell_type": "code",
      "source": [
        "%%bash\n",
        "# Show UDP header details\n",
        "tcpdump -r detective_agency.pcap -nn -vv 'udp' -c 1"
      ],
      "metadata": {
        "colab": {
          "base_uri": "https://localhost:8080/"
        },
        "id": "TZOxPJuM6V2P",
        "outputId": "e92b21b0-317f-435b-bb8f-33bb46a022c2"
      },
      "execution_count": 22,
      "outputs": [
        {
          "output_type": "stream",
          "name": "stdout",
          "text": [
            "14:50:17.157247 IP (tos 0x0, ttl 64, id 1, offset 0, flags [none], proto UDP (17), length 272)\n",
            "    0.0.0.0.68 > 255.255.255.255.67: [udp sum ok] BOOTP/DHCP, Request from 30:30:31:42:32:43, length 244, Flags [Broadcast] (0x8000)\n",
            "\t  Client-Ethernet-Address 30:30:31:42:32:43\n",
            "\t  Vendor-rfc1048 Extensions\n",
            "\t    Magic Cookie 0x63825363\n",
            "\t    DHCP-Message (53), length 1: Discover\n"
          ]
        },
        {
          "output_type": "stream",
          "name": "stderr",
          "text": [
            "reading from file detective_agency.pcap, link-type EN10MB (Ethernet), snapshot length 65535\n"
          ]
        }
      ]
    }
  ]
}