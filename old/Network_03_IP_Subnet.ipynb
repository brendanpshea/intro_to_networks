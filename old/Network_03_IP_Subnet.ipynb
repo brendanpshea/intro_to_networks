{
  "nbformat": 4,
  "nbformat_minor": 0,
  "metadata": {
    "colab": {
      "provenance": [],
      "authorship_tag": "ABX9TyNMiBPZJoHEURacySWOpvkr",
      "include_colab_link": true
    },
    "kernelspec": {
      "name": "python3",
      "display_name": "Python 3"
    },
    "language_info": {
      "name": "python"
    }
  },
  "cells": [
    {
      "cell_type": "markdown",
      "metadata": {
        "id": "view-in-github",
        "colab_type": "text"
      },
      "source": [
        "<a href=\"https://colab.research.google.com/github/brendanpshea/intro_to_networks/blob/main/Network_03_IP_Subnet.ipynb\" target=\"_parent\"><img src=\"https://colab.research.google.com/assets/colab-badge.svg\" alt=\"Open In Colab\"/></a>"
      ]
    },
    {
      "cell_type": "markdown",
      "source": [
        "# Introduction to IPs, Subnets, and Ports\n",
        "As we've been already learned, nearly every digital device we use is connected to some form of network. Whether it’s the internet connecting us to websites and apps, or a local school network allowing students to access shared files, networks are everywhere. To understand networking, we need to start by reviewing some basic concepts: **Local Area Networks (LANs)**, **MAC addresses**, and **IP addresses**. These form the foundation of how devices communicate with each other.\n",
        "\n",
        "### **What is a Local Area Network (LAN)?**\n",
        "\n",
        "A **Local Area Network (LAN)** is a network that connects devices within a limited area—like a home, school, or office building. A LAN allows devices to share resources, such as files, printers, or even an internet connection, all within this local area. Imagine you’re at a school computer lab. Every computer in the lab is connected to the same LAN. This allows students to access shared resources (like printers or shared files) and also ensures that everyone on the network can communicate efficiently.\n",
        "\n",
        "LANs are typically confined to a single building or a close cluster of buildings, which means they can operate at high speeds and are relatively secure. They’re distinct from larger networks like **Wide Area Networks (WANs)**, which connect multiple LANs over vast distances, such as across cities or countries. For now, our focus will be on understanding how a LAN operates within a small area.\n",
        "\n",
        "### **MAC Address: The Unique Identifier for Network Devices**\n",
        "\n",
        "Every device connected to a network—whether it’s a computer, smartphone, or printer—needs a unique identifier to ensure it can be found on the network. This unique identifier is called a **Media Access Control (MAC) address**. Think of the MAC address as a device’s “fingerprint” on the network. It’s a unique combination of letters and numbers assigned to the device’s network interface card (NIC), which is the hardware component that connects the device to the network.\n",
        "\n",
        "A MAC address looks something like this: `00:1A:2B:3C:4D:5E`. It’s made up of six pairs of letters and numbers separated by colons. The first three pairs represent the manufacturer of the NIC, and the last three pairs are a unique identifier for the device. Unlike IP addresses, which we’ll discuss shortly, MAC addresses don’t change. They’re “burned” into the hardware of each NIC when the device is manufactured.\n",
        "\n",
        "One limitation of the MAC address is that it only identifies the device on a single, local network. It doesn’t help devices connect over larger networks or the internet. That’s where IP addresses come in.\n",
        "\n",
        "### **IP Address: Connecting Devices Across Networks**\n",
        "\n",
        "An **IP address** is like a mailing address for a device on a network. It’s the address that allows devices to locate and communicate with each other, even over vast distances like the internet. When a device joins a network, it is assigned an IP address, which helps to identify it. There are two major types of IP addresses we use today: **IPv4** and **IPv6**.\n",
        "\n",
        "1. **IPv4**: This is the older version of IP addressing, which uses a 32-bit system to create addresses in the format `192.168.1.1`. IPv4 can generate around 4.3 billion unique addresses. While that might sound like a lot, with the explosion of internet-connected devices, we quickly ran out of IPv4 addresses.\n",
        "\n",
        "2. **IPv6**: To solve this problem, **IPv6** was introduced. It uses a 128-bit system, allowing for a nearly unlimited number of unique addresses. An IPv6 address looks quite different from an IPv4 address, taking a format like `2001:0db8:85a3:0000:0000:8a2e:0370:7334`. While IPv6 is increasingly popular, IPv4 is still widely in use.\n",
        "\n",
        "Each device on a network has a unique IP address, which is usually assigned by a **router**. In small networks, this address might be assigned automatically by a system called **DHCP (Dynamic Host Configuration Protocol)**, which hands out IP addresses to devices as they connect. For example, when you join a school Wi-Fi network, DHCP assigns your device an IP address so it can communicate with other devices and access the internet.\n",
        "\n",
        "#### **Comparing MAC Addresses and IP Addresses**\n",
        "\n",
        "| **Characteristic**         | **MAC Address**                              | **IP Address**                       |\n",
        "|----------------------------|----------------------------------------------|--------------------------------------|\n",
        "| **Purpose**                | Identifies a device on a local network       | Identifies a device across networks  |\n",
        "| **Format**                 | Six pairs of hexadecimal digits (e.g., `00:1A:2B:3C:4D:5E`) | IPv4: `192.168.0.1`; IPv6: `2001:0db8:85a3::8a2e:0370:7334` |\n",
        "| **Assigning Authority**    | Set by device manufacturer                   | Set by network (often via DHCP)      |\n",
        "| **Permanence**             | Doesn’t change (hard-coded into hardware)    | Can change when device joins a new network |\n",
        "\n",
        "MAC and IP addresses work together to help devices communicate on a network. The MAC address identifies the device itself, while the IP address identifies its location within a network or on the internet.\n",
        "\n",
        "#### **Example: Configuring a LAN in the Common Room**\n",
        "\n",
        "Let’s look at an example. Suppose Hermione is setting up a small LAN in the Gryffindor common room, connecting her laptop, Ron’s tablet, and a printer. Hermione starts by setting up a router that will handle all device connections. Here’s what happens step by step:\n",
        "\n",
        "1. **Connecting Devices to the Router**: Hermione connects her laptop, Ron’s tablet, and the printer to the router, either using Wi-Fi or an Ethernet cable. Each device’s NIC (network interface card) connects to the router, ready to join the LAN.\n",
        "\n",
        "2. **Assigning IP Addresses**: The router assigns each device an IP address using DHCP. For instance, Hermione’s laptop receives `192.168.0.2`, Ron’s tablet `192.168.0.3`, and the printer `192.168.0.4`. All these IP addresses belong to the **192.168.0.x** range, which is a private IP address range reserved for local networks.\n",
        "\n",
        "3. **MAC Addresses and IP Mapping**: Each device has its own MAC address, such as Hermione’s laptop’s `00:1A:3B:4C:5D:6E`, and the router records this to map MAC addresses to IP addresses. The router uses this information to manage communication between devices on the network, ensuring messages are delivered correctly.\n",
        "\n",
        "4. **Communicating Within the LAN**: When Hermione wants to print a document, her laptop uses the IP address of the printer to send the document. The router directs this request based on the IP address and MAC address pairing, allowing the devices to communicate efficiently.\n",
        "\n",
        "5. **Verifying IP and MAC Address**: Hermione can check her device’s IP address and MAC address using a basic Linux command. For example:\n",
        "\n",
        "   ```bash\n",
        "   $ ip addr show\n",
        "   ```\n",
        "\n",
        "   This command outputs information about her laptop’s network connections, showing the assigned IP address (`192.168.0.2`) and MAC address (a unique string like `00:1A:3B:4C:5D:6E`). The result might look like this:\n",
        "\n",
        "   ```\n",
        "   2: eth0: <BROADCAST,MULTICAST,UP,LOWER_UP> mtu 1500 qdisc pfifo_fast state UP group default qlen 1000\n",
        "       link/ether 00:1A:3B:4C:5D:6E brd ff:ff:ff:ff:ff:ff\n",
        "       inet 192.168.0.2/24 brd 192.168.0.255 scope global dynamic eth0\n",
        "   ```\n",
        "\n",
        "By following these steps, Hermione successfully creates a LAN where devices in the common room can communicate, share resources, and print documents. This setup mirrors how networks operate on a larger scale, establishing the basis for understanding networks and IP addressing. In the next section, we’ll explore different types of IP addresses, looking at public versus private addresses and special address types used on networks."
      ],
      "metadata": {
        "id": "IxE12kTKfXtP"
      }
    },
    {
      "cell_type": "markdown",
      "source": [
        "###  IP Addressing: Public, Private, and Special Types\n",
        "\n",
        "Now that we’ve covered the basics of how devices connect within a Local Area Network (LAN), let’s delve into the types of IP addresses and what they mean for a network. Each IP address serves a unique role depending on the context. We’ll explore the differences between **public** and **private IP addresses**, as well as special-purpose IP addresses used in specific scenarios. This will help us understand how networks communicate with each other and the broader internet.\n",
        "\n",
        "#### Public vs. Private IP Addresses\n",
        "\n",
        "**Public IP Addresses** are globally unique addresses assigned to devices or networks that need to communicate directly over the internet. A public IP address is like a street address—it helps locate a device anywhere in the world. For example, if you search “What is my IP address?” on a search engine, you’ll likely see your public IP address, which your Internet Service Provider (ISP) assigns to your router or modem. This address allows your network to interact with other networks and services on the internet.\n",
        "\n",
        "However, not every device within a LAN needs a public IP address. Most devices (such as laptops, phones, and printers) are assigned **private IP addresses** that are only accessible within the local network. Private IP addresses are part of specific ranges set aside by the **RFC1918** standard. These ranges are:\n",
        "   - **10.0.0.0 – 10.255.255.255** (Class A)\n",
        "   - **172.16.0.0 – 172.31.255.255** (Class B)\n",
        "   - **192.168.0.0 – 192.168.255.255** (Class C)\n",
        "\n",
        "These addresses can be reused in any local network but are invisible to devices outside that network. For example, Hermione’s laptop on the Gryffindor common room network might have an IP address of `192.168.0.2`, but no device outside of Hogwarts could directly access it with that address. Private IP addresses help conserve the limited pool of public IP addresses, as they allow multiple networks to use the same range without causing conflicts.\n",
        "\n",
        "#### Network Address Translation (NAT) and Port Address Translation (PAT)\n",
        "\n",
        "If devices within a LAN use private IP addresses, how can they communicate with the internet? That’s where **Network Address Translation (NAT)** comes in. NAT is a process where a router converts private IP addresses to a single public IP address. When a device within a LAN sends a request to the internet, NAT rewrites the packet with the network’s public IP address, and the router remembers which device sent the request. When a response comes back, NAT translates the packet back to the private IP and directs it to the correct device.\n",
        "\n",
        "**Port Address Translation (PAT)** is an extension of NAT that allows multiple devices on a LAN to share a single public IP address, while using unique port numbers to differentiate between them. Imagine Hermione, Ron, and Harry each opening different websites on the Gryffindor LAN. PAT keeps track of which request came from which device by assigning a unique port number to each outgoing request. This way, when responses return to the router, PAT knows exactly which device should receive each response.\n",
        "\n",
        "#### Automatic Private IP Addressing (APIPA)\n",
        "\n",
        "Sometimes, devices cannot connect to the network or obtain an IP address from the router (often due to a failure in DHCP). In this case, devices may assign themselves an IP address automatically using **Automatic Private IP Addressing (APIPA)**. APIPA addresses fall within the range **169.254.0.0 – 169.254.255.255**. These addresses allow devices to communicate within the local network without requiring a DHCP server, though they cannot connect to the internet. APIPA addresses act as a fallback to enable local communication when network configuration issues arise.\n",
        "\n",
        "#### **Special Types of IP Addresses**\n",
        "\n",
        "Certain IP addresses are reserved for special purposes within networks. Let’s review a few of these commonly used addresses:\n",
        "\n",
        "1. **Link Local**: These addresses allow devices on the same link (or network segment) to communicate directly without a router. In IPv4, APIPA addresses are often used for this purpose. In IPv6, link-local addresses typically begin with `fe80::/10` and are automatically assigned to network interfaces.\n",
        "\n",
        "2. **Loopback**: The loopback address, most commonly `127.0.0.1` in IPv4, is used by devices to communicate with themselves. It’s often used for testing network services on the same device.\n",
        "\n",
        "3. **Default Gateway**: This is the IP address of the router that connects the local network to other networks, including the internet. Devices on a LAN send traffic destined for external networks to the default gateway, which then routes the traffic appropriately.\n",
        "\n",
        "4. **Broadcast Address**: The broadcast address is used to send messages to all devices on a network. In IPv4, this address is often the last address in an IP range, such as `192.168.1.255` for the range `192.168.1.0 – 192.168.1.255`. Broadcasts are common in local networks for tasks like discovering devices.\n",
        "\n",
        "| **Type of IP Address**  | **Purpose**                                         | **Example**           |\n",
        "|-------------------------|-----------------------------------------------------|------------------------|\n",
        "| **Public IP Address**   | Internet communication                              | `8.8.8.8`             |\n",
        "| **Private IP Address**  | Local network communication                         | `192.168.1.1`         |\n",
        "| **APIPA Address**       | Automatic assignment when DHCP fails                | `169.254.1.2`         |\n",
        "| **Link Local Address**  | Local communication on same link (IPv6)             | `fe80::1`             |\n",
        "| **Loopback Address**    | Self-communication for testing                      | `127.0.0.1`           |\n",
        "| **Default Gateway**     | Route to external networks                          | `192.168.1.1`         |\n",
        "| **Broadcast Address**   | Communication with all devices on a network segment | `192.168.1.255`       |\n",
        "\n",
        "#### **Example: Hermione Configuring IPs with NAT and PAT**\n",
        "\n",
        "To bring these concepts together, let’s revisit Hermione’s network setup in the Gryffindor common room. She has three devices connected to her router: her laptop, Ron’s tablet, and a printer. Since Hogwarts’s Wi-Fi network only allows a limited number of public IP addresses, her router uses NAT and PAT to manage IP assignments.\n",
        "\n",
        "1. **Private IP Address Assignment**: The router assigns each device a private IP address. Hermione’s laptop might get `192.168.0.2`, Ron’s tablet `192.168.0.3`, and the printer `192.168.0.4`.\n",
        "\n",
        "2. **NAT for Internet Access**: When Hermione opens her web browser and visits a website, her laptop’s IP packet is translated by the router’s NAT. The packet now uses the router’s public IP address, such as `203.0.113.5`, as it exits to the internet.\n",
        "\n",
        "3. **PAT for Managing Multiple Devices**: Since Ron is also browsing the internet, the router uses PAT to assign different port numbers to each device’s requests. Hermione’s request might be assigned port `50001`, while Ron’s is assigned port `50002`. This keeps their sessions separate, ensuring that each response from the internet is directed back to the correct device."
      ],
      "metadata": {
        "id": "FYmycAQ7fcr3"
      }
    },
    {
      "cell_type": "markdown",
      "source": [
        "### IPv4 and IPv6:  Key Differences\n",
        "\n",
        "As networks have evolved, so has the system for addressing devices on them. The first, widely adopted system, **IPv4 (Internet Protocol version 4)**, has been the backbone of the internet since the 1980s. However, as the internet expanded, the demand for more IP addresses quickly outpaced IPv4’s capacity. To meet this demand, **IPv6 (Internet Protocol version 6)** was developed, offering an essentially unlimited pool of addresses. In this section, we’ll look at the structure and key differences between IPv4 and IPv6, and why both are essential today.\n",
        "\n",
        "#### IPv4: Structure and Limitations\n",
        "\n",
        "**IPv4** is a 32-bit addressing system that assigns unique addresses to devices in a four-octet format, like `192.168.1.1`. Each part of this address (separated by dots) represents an 8-bit number, with values ranging from 0 to 255. This means that IPv4 can theoretically support around 4.3 billion unique addresses—an impressive number when IPv4 was first created, but now insufficient to accommodate the explosion of internet-connected devices, from smartphones to IoT gadgets.\n",
        "\n",
        "**IPv4 Address Classes**: IPv4 addresses are traditionally grouped into different classes, each designed for specific network sizes:\n",
        "\n",
        "- **Class A**: Ranges from `1.0.0.0` to `126.255.255.255`. Designed for very large networks, with the first octet indicating the network.\n",
        "- **Class B**: Ranges from `128.0.0.0` to `191.255.255.255`. Commonly used by medium-sized networks, with the first two octets indicating the network.\n",
        "- **Class C**: Ranges from `192.0.0.0` to `223.255.255.255`. Used for smaller networks, with the first three octets representing the network.\n",
        "- **Class D**: Used for multicast, which is a type of data transmission used in streaming services, real-time communications, and other applications that send data to multiple recipients simultaneously.\n",
        "- **Class E**: Reserved for research and experimental purposes.\n",
        "\n",
        "Although classful addressing worked well initially, its lack of flexibility led to the adoption of **Classless Inter-Domain Routing (CIDR)**, which replaced the need for strict classes with a more flexible system. With CIDR notation, network addresses include a suffix (like `/24`) to indicate the number of bits reserved for the network portion. For instance, `192.168.1.0/24` means the first 24 bits are used for the network, leaving the remaining bits for individual device addresses.\n",
        "\n",
        "#### IPv6: Overcoming IPv4’s Limitations\n",
        "\n",
        "To address IPv4’s limitations, **IPv6** was introduced with a 128-bit addressing system, enabling approximately `3.4 x 10^38` possible addresses. This massive pool means IPv6 can support the vast number of devices in today’s internet-connected world and the foreseeable future.\n",
        "\n",
        "An IPv6 address is written in hexadecimal and separated by colons, like this:\n",
        "\n",
        "```\n",
        "2001:0db8:85a3:0000:0000:8a2e:0370:7334\n",
        "```\n",
        "\n",
        "To simplify IPv6 addresses, any sequence of zeros can be abbreviated with a double colon (`::`). For example, the address above can be shortened to:\n",
        "\n",
        "```\n",
        "2001:db8:85a3::8a2e:370:7334\n",
        "```\n",
        "\n",
        "**Key IPv6 Features**:\n",
        "   - **Unicast, Multicast, and Anycast**: IPv6 supports **Unicast** (one-to-one communication), **Multicast** (one-to-many), and **Anycast** (one-to-nearest) addressing. Anycast is a new feature in IPv6 that allows data to be routed to the closest instance of an address, often used in global server networks to reduce latency.\n",
        "   - **Extended Unique Identifier (EUI-64)**: This feature allows devices to automatically generate unique addresses using their MAC address. It’s a critical element in IPv6’s ability to support self-configuring networks.\n",
        "   - **Stateless Address Autoconfiguration (SLAAC)**: IPv6 allows devices to automatically assign themselves addresses without needing a DHCP server, thanks to **SLAAC**. Using SLAAC, devices listen for a **router advertisement** (a message from the router) and then generate their unique IP address based on the prefix provided.\n",
        "\n",
        "#### **Comparing IPv4 and IPv6**\n",
        "\n",
        "| **Feature**            | **IPv4**                            | **IPv6**                                        |\n",
        "|------------------------|-------------------------------------|-------------------------------------------------|\n",
        "| **Address Length**     | 32 bits (4 octets)                 | 128 bits (8 groups of 4 hex digits)             |\n",
        "| **Notation**           | Dotted decimal (e.g., `192.168.1.1`) | Hexadecimal, colon-separated (e.g., `2001:db8::1`) |\n",
        "| **Address Pool**       | ~4.3 billion                       | Virtually unlimited (`3.4 x 10^38` addresses)    |\n",
        "| **Classes**            | Class A, B, C, D, E                | Not class-based                                 |\n",
        "| **Address Types**      | Unicast, Broadcast                 | Unicast, Multicast, Anycast                     |\n",
        "| **Autoconfiguration**  | Requires DHCP                      | SLAAC allows for automatic configuration        |\n",
        "| **Special Features**   | NAT required for private IPs       | NAT unnecessary; EUI-64, SLAAC, Router Advertisement |\n",
        "\n",
        "IPv6 addresses offer a range of new features that help simplify network design, increase efficiency, and improve security. While IPv4 relies heavily on NAT to conserve address space, IPv6’s vast address pool eliminates the need for NAT in most scenarios. However, both IPv4 and IPv6 coexist today, as many devices and networks still use IPv4. This setup is known as **dual stack**, where networks support both IPv4 and IPv6, allowing for a smoother transition."
      ],
      "metadata": {
        "id": "5Eaz0iMVfr_e"
      }
    },
    {
      "cell_type": "code",
      "source": [
        "# @title\n",
        "import matplotlib.pyplot as plt\n",
        "\n",
        "# Set up the figure and axis\n",
        "fig, (ax1, ax2) = plt.subplots(2, 1, figsize=(12, 8))\n",
        "fig.suptitle(\"Structure of IPv4 and IPv6 Addresses\")\n",
        "\n",
        "# IPv4 Address Visualization\n",
        "ipv4_address = \"192.168.323.111\"\n",
        "ipv4_segments = ipv4_address.split(\".\")\n",
        "ipv4_colors = [\"#4CAF50\", \"#FF9800\", \"#2196F3\", \"#E91E63\"]\n",
        "ipv4_bits = [8] * 4\n",
        "\n",
        "# Display each IPv4 segment with color and annotation\n",
        "for i, (seg, color, bits) in enumerate(zip(ipv4_segments, ipv4_colors, ipv4_bits)):\n",
        "    ax1.text(i * 1.5, 0, seg, ha='center', va='center', fontsize=20,\n",
        "             bbox=dict(facecolor=color, alpha=0.6, edgecolor='black', boxstyle='round,pad=0.5'))\n",
        "    ax1.annotate(f\"{bits} bits\", (i * 1.5, -0.5), ha='center', fontsize=12)\n",
        "\n",
        "# IPv4 axis settings\n",
        "ax1.set_xlim(-1, 5)\n",
        "ax1.set_ylim(-1, 1)\n",
        "ax1.axis(\"off\")\n",
        "ax1.set_title(\"IPv4 Address Structure (32 bits total, 8 bits per segment)\")\n",
        "\n",
        "# IPv6 Address Visualization\n",
        "ipv6_address = \"2001:0db8:85a3:0000:0000:8a2e:0370:7334\"\n",
        "ipv6_segments = ipv6_address.split(\":\")\n",
        "ipv6_colors = [\"#9C27B0\", \"#FFC107\", \"#3F51B5\", \"#4CAF50\", \"#F44336\", \"#00BCD4\", \"#8BC34A\", \"#FF5722\"]\n",
        "ipv6_bits = [16] * 8\n",
        "\n",
        "# Display each IPv6 segment with color and annotation\n",
        "for i, (seg, color, bits) in enumerate(zip(ipv6_segments, ipv6_colors, ipv6_bits)):\n",
        "    ax2.text(i * 1.5, 0, seg, ha='center', va='center', fontsize=15,\n",
        "             bbox=dict(facecolor=color, alpha=0.6, edgecolor='black', boxstyle='round,pad=0.5'))\n",
        "    ax2.annotate(f\"{bits} bits\", (i * 1.5, -0.5), ha='center', fontsize=10)\n",
        "\n",
        "# IPv6 axis settings\n",
        "ax2.set_xlim(-1, 12)\n",
        "ax2.set_ylim(-1, 1)\n",
        "ax2.axis(\"off\")\n",
        "ax2.set_title(\"IPv6 Address Structure (128 bits total, 16 bits per segment)\")\n",
        "\n",
        "# Display the plot\n",
        "plt.tight_layout(rect=[0, 0.03, 1, 0.95])\n",
        "plt.show()\n"
      ],
      "metadata": {
        "cellView": "form",
        "id": "dlJz6oVLbPex",
        "outputId": "298f1381-cc6a-426f-d74d-420001b550ec",
        "colab": {
          "base_uri": "https://localhost:8080/",
          "height": 686
        }
      },
      "execution_count": null,
      "outputs": [
        {
          "output_type": "display_data",
          "data": {
            "text/plain": [
              "<Figure size 1200x800 with 2 Axes>"
            ],
            "image/png": "[encoded data removed]"
          },
          "metadata": {}
        }
      ]
    },
    {
      "cell_type": "markdown",
      "source": [
        "#### Example: Hermione Configures a Dual-Stack Network\n",
        "\n",
        "Hermione decides to set up a dual-stack network in the Gryffindor common room to experiment with both IPv4 and IPv6. She configures her laptop, Ron’s tablet, and a printer to support both types of addresses.\n",
        "\n",
        "1. **IPv4 Configuration**: Hermione’s router assigns IPv4 addresses in the `192.168.1.x` range. Her laptop gets `192.168.1.2`, Ron’s tablet `192.168.1.3`, and the printer `192.168.1.4`.\n",
        "\n",
        "2. **IPv6 Configuration with SLAAC**: The router also advertises an IPv6 prefix using SLAAC, enabling each device to generate its own unique IPv6 address. Hermione’s laptop generates an address like `2001:db8:acad:1::1234`, while Ron’s tablet generates a similar address with its own unique suffix.\n",
        "\n",
        "In this setup, Hermione’s devices can communicate using either IPv4 or IPv6, depending on the network requirements. This flexibility enables Gryffindor’s network to connect seamlessly with both legacy IPv4 and modern IPv6 devices.\n",
        "\n",
        "With this foundation in place, we’re ready to dive into **subnetting** with IPv4, where we’ll learn how to divide networks into smaller, manageable segments. This will help us allocate IP addresses more efficiently and better organize our network."
      ],
      "metadata": {
        "id": "2sYyCp5ZbOk7"
      }
    },
    {
      "cell_type": "markdown",
      "source": [
        "### Understanding Subnetting with IPv4: From Classes to CIDR Notation\n",
        "\n",
        "Subnetting is the process of dividing a larger network into smaller, manageable subnetworks, or **subnets**. Imagine a school network that needs to separate student devices from staff devices, or a hospital that needs to isolate its medical equipment from administrative computers. By dividing one large network into smaller subnets, we can achieve better organization, improve security, and manage resources more efficiently.\n",
        "\n",
        "In this section, we’ll first explore how IPv4 addresses are divided by classes, then look at how **Classless Inter-Domain Routing (CIDR)** allows for more flexible subnetting. Finally, we’ll go through a step-by-step example where Hermione creates subnets for different areas of Hogwarts.\n",
        "\n",
        "#### **Classful Addressing: Classes A, B, C, and Beyond**\n",
        "\n",
        "When IPv4 was first developed, it was divided into classes, based on the size and scope of networks. Each address class reserved a certain number of bits for the **network portion** (which identifies the network) and **host portion** (which identifies specific devices on that network). These classes worked well for initial internet growth, but as networks became more complex, limitations emerged.\n",
        "\n",
        "1. **Class A**:\n",
        "   - Used for very large networks, typically assigned to large organizations or governments.\n",
        "   - Network portion: 8 bits, Host portion: 24 bits.\n",
        "   - **Range**: 1.0.0.0 to 126.0.0.0.\n",
        "   - **Default subnet mask**: `255.0.0.0` (represented as `/8` in CIDR notation).\n",
        "\n",
        "2. **Class B**:\n",
        "   - Used by medium-sized networks, such as universities or large corporations.\n",
        "   - Network portion: 16 bits, Host portion: 16 bits.\n",
        "   - **Range**: 128.0.0.0 to 191.255.0.0.\n",
        "   - **Default subnet mask**: `255.255.0.0` (or `/16` in CIDR notation).\n",
        "\n",
        "3. **Class C**:\n",
        "   - Ideal for smaller networks, commonly used by small organizations.\n",
        "   - Network portion: 24 bits, Host portion: 8 bits.\n",
        "   - **Range**: 192.0.0.0 to 223.255.255.0.\n",
        "   - **Default subnet mask**: `255.255.255.0` (or `/24` in CIDR notation).\n",
        "\n",
        "4. **Class D**:\n",
        "   - Reserved for multicast traffic (e.g., video conferencing, live streaming).\n",
        "   - **Range**: 224.0.0.0 to 239.255.255.255.\n",
        "\n",
        "5. **Class E**:\n",
        "   - Reserved for experimental purposes.\n",
        "   - **Range**: 240.0.0.0 to 255.255.255.255.\n",
        "\n",
        "Classful addressing defined these fixed ranges, but it lacked the flexibility needed for networks of varying sizes. For example, if a company needed 2000 IP addresses, a Class C network (254 hosts) wouldn’t be enough, while a Class B network (65,534 hosts) would be wasteful. To address this, **Classless Inter-Domain Routing (CIDR)** was introduced.\n",
        "\n",
        "#### Classless Addressing and CIDR Notation\n",
        "\n",
        "**Classless Inter-Domain Routing (CIDR)** allows network administrators to use a more flexible, variable-length subnet mask to create subnets of any size. Instead of being restricted to Class A, B, or C masks, CIDR lets us specify how many bits represent the network portion, written as a suffix after the IP address (e.g., `192.168.1.0/24`).\n",
        "\n",
        "- **CIDR Notation**: The suffix (like `/24`) represents the number of bits used for the network portion.\n",
        "   - For example, `192.168.1.0/24` means the first 24 bits represent the network, leaving 8 bits for hosts.\n",
        "   - Similarly, `10.0.0.0/8` means the first 8 bits are for the network, allowing for a massive host pool.\n",
        "\n",
        "By changing the CIDR suffix, we can create subnets of different sizes. For instance:\n",
        "   - A `/24` subnet allows for 254 hosts (256 addresses minus the network and broadcast addresses).\n",
        "   - A `/26` subnet allows for 62 hosts.\n",
        "   - A `/28` subnet allows for 14 hosts.\n",
        "\n",
        "Using CIDR, we can tailor subnets to the specific needs of each part of our network, preventing waste and making address management much simpler.\n",
        "\n",
        "#### Subnet Mask: Defining Network and Host Portions\n",
        "\n",
        "The **subnet mask** defines the boundary between the network and host portions of an IP address. Each IP address has an associated subnet mask, which determines which part of the address identifies the network and which part identifies individual devices on that network.\n",
        "\n",
        "For example:\n",
        "   - `255.255.255.0` (or `/24`): This mask allocates the first 24 bits for the network and the remaining 8 bits for hosts, supporting 254 hosts.\n",
        "   - `255.255.255.192` (or `/26`): This mask uses the first 26 bits for the network, leaving 6 bits for hosts, allowing for 62 hosts.\n",
        "\n",
        "By changing the subnet mask, we can create smaller or larger subnets."
      ],
      "metadata": {
        "id": "XiPkKM66gYG-"
      }
    },
    {
      "cell_type": "markdown",
      "source": [
        "### Example: Using IP Calc to calculate subnets\n",
        "We can use the linux tool `ipcalc` to carry out these operations manually."
      ],
      "metadata": {
        "id": "1UvR6F4uaOVl"
      }
    },
    {
      "cell_type": "code",
      "source": [
        "# Huge network - Class A\n",
        "!apt install ipcalc > /dev/null\n",
        "!ipcalc 10.0.0.0/8"
      ],
      "metadata": {
        "id": "rFTU65WUagdB",
        "outputId": "09b1bfc9-0e79-4030-8705-76977e44f353",
        "colab": {
          "base_uri": "https://localhost:8080/"
        }
      },
      "execution_count": null,
      "outputs": [
        {
          "output_type": "stream",
          "name": "stdout",
          "text": [
            "\u001b[mAddress:   \u001b[34m10.0.0.0             \u001b[33m00001010\u001b[m.\u001b[33m 00000000\u001b[m.\u001b[33m00000000\u001b[m.\u001b[33m00000000\u001b[m\n",
            "\u001b[mNetmask:   \u001b[34m255.0.0.0 = 8        \u001b[31m11111111\u001b[m.\u001b[31m 00000000\u001b[m.\u001b[31m00000000\u001b[m.\u001b[31m00000000\u001b[m\n",
            "\u001b[mWildcard:  \u001b[34m0.255.255.255        \u001b[33m00000000\u001b[m.\u001b[33m 11111111\u001b[m.\u001b[33m11111111\u001b[m.\u001b[33m11111111\u001b[m\n",
            "=>\n",
            "\u001b[mNetwork:   \u001b[34m10.0.0.0/8           \u001b[35m0\u001b[33m0001010\u001b[m.\u001b[33m 00000000\u001b[m.\u001b[33m00000000\u001b[m.\u001b[33m00000000\u001b[m\n",
            "\u001b[mHostMin:   \u001b[34m10.0.0.1             \u001b[33m00001010\u001b[m.\u001b[33m 00000000\u001b[m.\u001b[33m00000000\u001b[m.\u001b[33m00000001\u001b[m\n",
            "\u001b[mHostMax:   \u001b[34m10.255.255.254       \u001b[33m00001010\u001b[m.\u001b[33m 11111111\u001b[m.\u001b[33m11111111\u001b[m.\u001b[33m11111110\u001b[m\n",
            "\u001b[mBroadcast: \u001b[34m10.255.255.255       \u001b[33m00001010\u001b[m.\u001b[33m 11111111\u001b[m.\u001b[33m11111111\u001b[m.\u001b[33m11111111\u001b[m\n",
            "\u001b[mHosts/Net: \u001b[34m16777214              \u001b[35mClass A\u001b[m, Private Internet\n",
            "\n"
          ]
        }
      ]
    },
    {
      "cell_type": "code",
      "source": [
        "# Large Network - class B\n",
        "!ipcalc 172.16.0.0/16"
      ],
      "metadata": {
        "id": "ny9xFyISaxt4",
        "outputId": "e4ae821f-ce25-47c8-d3d7-25330b23b7f2",
        "colab": {
          "base_uri": "https://localhost:8080/"
        }
      },
      "execution_count": null,
      "outputs": [
        {
          "output_type": "stream",
          "name": "stdout",
          "text": [
            "\u001b[mAddress:   \u001b[34m172.16.0.0           \u001b[33m10101100\u001b[m.\u001b[33m00010000\u001b[m.\u001b[33m 00000000\u001b[m.\u001b[33m00000000\u001b[m\n",
            "\u001b[mNetmask:   \u001b[34m255.255.0.0 = 16     \u001b[31m11111111\u001b[m.\u001b[31m11111111\u001b[m.\u001b[31m 00000000\u001b[m.\u001b[31m00000000\u001b[m\n",
            "\u001b[mWildcard:  \u001b[34m0.0.255.255          \u001b[33m00000000\u001b[m.\u001b[33m00000000\u001b[m.\u001b[33m 11111111\u001b[m.\u001b[33m11111111\u001b[m\n",
            "=>\n",
            "\u001b[mNetwork:   \u001b[34m172.16.0.0/16        \u001b[35m10\u001b[33m101100\u001b[m.\u001b[33m00010000\u001b[m.\u001b[33m 00000000\u001b[m.\u001b[33m00000000\u001b[m\n",
            "\u001b[mHostMin:   \u001b[34m172.16.0.1           \u001b[33m10101100\u001b[m.\u001b[33m00010000\u001b[m.\u001b[33m 00000000\u001b[m.\u001b[33m00000001\u001b[m\n",
            "\u001b[mHostMax:   \u001b[34m172.16.255.254       \u001b[33m10101100\u001b[m.\u001b[33m00010000\u001b[m.\u001b[33m 11111111\u001b[m.\u001b[33m11111110\u001b[m\n",
            "\u001b[mBroadcast: \u001b[34m172.16.255.255       \u001b[33m10101100\u001b[m.\u001b[33m00010000\u001b[m.\u001b[33m 11111111\u001b[m.\u001b[33m11111111\u001b[m\n",
            "\u001b[mHosts/Net: \u001b[34m65534                 \u001b[35mClass B\u001b[m, Private Internet\n",
            "\n"
          ]
        }
      ]
    },
    {
      "cell_type": "code",
      "source": [
        "# Medium-sized network\n",
        "!ipcalc 192.168.0.0/16"
      ],
      "metadata": {
        "id": "janqXm1haj7f",
        "outputId": "f1862585-5213-4be7-ef85-3fbf76eb038c",
        "colab": {
          "base_uri": "https://localhost:8080/"
        }
      },
      "execution_count": null,
      "outputs": [
        {
          "output_type": "stream",
          "name": "stdout",
          "text": [
            "\u001b[mAddress:   \u001b[34m192.168.0.0          \u001b[33m11000000\u001b[m.\u001b[33m10101000\u001b[m.\u001b[33m 00000000\u001b[m.\u001b[33m00000000\u001b[m\n",
            "\u001b[mNetmask:   \u001b[34m255.255.0.0 = 16     \u001b[31m11111111\u001b[m.\u001b[31m11111111\u001b[m.\u001b[31m 00000000\u001b[m.\u001b[31m00000000\u001b[m\n",
            "\u001b[mWildcard:  \u001b[34m0.0.255.255          \u001b[33m00000000\u001b[m.\u001b[33m00000000\u001b[m.\u001b[33m 11111111\u001b[m.\u001b[33m11111111\u001b[m\n",
            "=>\n",
            "\u001b[mNetwork:   \u001b[34m192.168.0.0/16       \u001b[35m110\u001b[33m00000\u001b[m.\u001b[33m10101000\u001b[m.\u001b[33m 00000000\u001b[m.\u001b[33m00000000\u001b[m\n",
            "\u001b[mHostMin:   \u001b[34m192.168.0.1          \u001b[33m11000000\u001b[m.\u001b[33m10101000\u001b[m.\u001b[33m 00000000\u001b[m.\u001b[33m00000001\u001b[m\n",
            "\u001b[mHostMax:   \u001b[34m192.168.255.254      \u001b[33m11000000\u001b[m.\u001b[33m10101000\u001b[m.\u001b[33m 11111111\u001b[m.\u001b[33m11111110\u001b[m\n",
            "\u001b[mBroadcast: \u001b[34m192.168.255.255      \u001b[33m11000000\u001b[m.\u001b[33m10101000\u001b[m.\u001b[33m 11111111\u001b[m.\u001b[33m11111111\u001b[m\n",
            "\u001b[mHosts/Net: \u001b[34m65534                 \u001b[35mClass C\u001b[m, Private Internet\n",
            "\n"
          ]
        }
      ]
    },
    {
      "cell_type": "code",
      "source": [
        "!ipcalc 192.168.0.0/26"
      ],
      "metadata": {
        "id": "DTl3Hs7yZpL4",
        "outputId": "557adadd-ce46-417f-ff5f-2f9ea30b6858",
        "colab": {
          "base_uri": "https://localhost:8080/"
        }
      },
      "execution_count": null,
      "outputs": [
        {
          "output_type": "stream",
          "name": "stdout",
          "text": [
            "\n",
            "WARNING: apt does not have a stable CLI interface. Use with caution in scripts.\n",
            "\n",
            "\u001b[mAddress:   \u001b[34m192.168.0.0          \u001b[33m11000000\u001b[m.\u001b[33m10101000\u001b[m.\u001b[33m00000000\u001b[m.\u001b[33m00 000000\u001b[m\n",
            "\u001b[mNetmask:   \u001b[34m255.255.255.192 = 26 \u001b[31m11111111\u001b[m.\u001b[31m11111111\u001b[m.\u001b[31m11111111\u001b[m.\u001b[31m11 000000\u001b[m\n",
            "\u001b[mWildcard:  \u001b[34m0.0.0.63             \u001b[33m00000000\u001b[m.\u001b[33m00000000\u001b[m.\u001b[33m00000000\u001b[m.\u001b[33m00 111111\u001b[m\n",
            "=>\n",
            "\u001b[mNetwork:   \u001b[34m192.168.0.0/26       \u001b[35m110\u001b[33m00000\u001b[m.\u001b[33m10101000\u001b[m.\u001b[33m00000000\u001b[m.\u001b[33m00 000000\u001b[m\n",
            "\u001b[mHostMin:   \u001b[34m192.168.0.1          \u001b[33m11000000\u001b[m.\u001b[33m10101000\u001b[m.\u001b[33m00000000\u001b[m.\u001b[33m00 000001\u001b[m\n",
            "\u001b[mHostMax:   \u001b[34m192.168.0.62         \u001b[33m11000000\u001b[m.\u001b[33m10101000\u001b[m.\u001b[33m00000000\u001b[m.\u001b[33m00 111110\u001b[m\n",
            "\u001b[mBroadcast: \u001b[34m192.168.0.63         \u001b[33m11000000\u001b[m.\u001b[33m10101000\u001b[m.\u001b[33m00000000\u001b[m.\u001b[33m00 111111\u001b[m\n",
            "\u001b[mHosts/Net: \u001b[34m62                    \u001b[35mClass C\u001b[m, Private Internet\n",
            "\n"
          ]
        }
      ]
    },
    {
      "cell_type": "markdown",
      "source": [
        "#### Subnetting Example: Dividing Hogwarts into Subnets\n",
        "\n",
        "Let’s say Hermione is responsible for setting up the network at Hogwarts, where she wants to create separate subnets for different sections:\n",
        "   - **Library**\n",
        "   - **Dormitory**\n",
        "   - **Classrooms**\n",
        "   - **Administration Office**\n",
        "\n",
        "She decides to use the IP range `192.168.0.0/24` for Hogwarts and divides it into smaller subnets for each section.\n",
        "\n",
        "1. **Planning the Subnets**:\n",
        "   - **Library**: Needs around 50 devices (e.g., computers and tablets).\n",
        "   - **Dormitory**: Needs about 30 devices (e.g., students’ laptops).\n",
        "   - **Classrooms**: Needs about 20 devices (e.g., projectors and tablets).\n",
        "   - **Administration Office**: Needs about 10 devices (e.g., staff computers).\n",
        "\n",
        "2. **Calculating Subnets Using CIDR**:\n",
        "   - For the **Library**, Hermione needs at least 50 addresses. She chooses `/26`, giving her 64 addresses (62 usable hosts).\n",
        "   - For the **Dormitory**, she needs around 30 addresses, so she chooses `/27`, which provides 32 addresses (30 usable hosts).\n",
        "   - For the **Classrooms**, she needs 20 addresses, so `/27` works here as well.\n",
        "   - For the **Administration Office**, she only needs 10 addresses, so she chooses `/28`, which gives 16 addresses (14 usable hosts).\n",
        "\n",
        "3. **Assigning Subnets**:\n",
        "   - **Library**: `192.168.0.0/26` (usable range `192.168.0.1` to `192.168.0.62`)\n",
        "   - **Dormitory**: `192.168.0.64/27` (usable range `192.168.0.65` to `192.168.0.94`)\n",
        "   - **Classrooms**: `192.168.0.96/27` (usable range `192.168.0.97` to `192.168.0.126`)\n",
        "   - **Administration Office**: `192.168.0.128/28` (usable range `192.168.0.129` to `192.168.0.142`)\n",
        "\n",
        "With this setup, Hermione has effectively divided the Hogwarts network, ensuring that each area has a dedicated subnet and sufficient IP addresses.\n",
        "\n",
        "4. **Verifying Subnet Assignment**:\n",
        "   - Hermione checks each subnet’s allocation using a Linux command like `ipcalc`, which can help calculate ranges and verify the setup.\n",
        "\n",
        "   ```bash\n",
        "   $ ipcalc 192.168.0.0/26\n",
        "   ```\n",
        "\n",
        "   Output:\n",
        "   ```\n",
        "   Network:   192.168.0.0/26\n",
        "   Broadcast: 192.168.0.63\n",
        "   HostMin:   192.168.0.1\n",
        "   HostMax:   192.168.0.62\n",
        "   Hosts/Net: 62\n",
        "   ```\n",
        "\n",
        "   This output confirms that the Library subnet covers `192.168.0.1` to `192.168.0.62`—just as she planned.\n",
        "\n",
        "By using subnetting, Hermione can keep each area of Hogwarts organized, prevent IP conflicts, and manage traffic more efficiently. Subnetting is essential for modern networks because it allows us to make the most of our IP address allocations, segment networks for better security, and control data flow.\n",
        "\n",
        "In the next section, we’ll explore how IPv6 addresses work in subnetting, which follows similar principles but with a different structure and much larger address space."
      ],
      "metadata": {
        "id": "as2p6vQsaMEl"
      }
    },
    {
      "cell_type": "markdown",
      "source": [
        "### Example: Hogwarts Network Submasking"
      ],
      "metadata": {
        "id": "-ZHhwB3GeCtP"
      }
    },
    {
      "cell_type": "code",
      "source": [
        "# @title\n",
        "import base64\n",
        "from IPython.display import Image, display\n",
        "import matplotlib.pyplot as plt\n",
        "\n",
        "def mm(graph, width=1000, height=600):  # Add default dimensions\n",
        "    graphbytes = graph.encode(\"utf8\")\n",
        "    base64_bytes = base64.urlsafe_b64encode(graphbytes)\n",
        "    base64_string = base64_bytes.decode(\"ascii\")\n",
        "    # Add width and height parameters to the URL\n",
        "    url = f\"https://mermaid.ink/img/{base64_string}?width={width}&height={height}\"\n",
        "    display(Image(url=url))\n",
        "\n",
        "mm(\"\"\"\n",
        "graph TD\n",
        "\n",
        "subgraph \"Hogwarts Network - IP Address 192.168.10.0/24\"\n",
        "    direction TB\n",
        "    A[\"Original Network: 192.168.10.0/24\"]\n",
        "    note1[\"Contains 256 addresses, divided into two subnets with /25 mask.\"]\n",
        "end\n",
        "\n",
        "subgraph \"Subnetted Networks (Using /25 Subnet Mask)\"\n",
        "    direction TB\n",
        "\n",
        "    Gryffindor_Net[\"Gryffindor Network: 192.168.10.0/25\"]\n",
        "    Gryffindor_Host1[\"Host: 192.168.10.1\"]\n",
        "    Gryffindor_Host2[\"Host: 192.168.10.2\"]\n",
        "    Gryffindor_Broadcast[\"Broadcast: 192.168.10.127\"]\n",
        "\n",
        "    Slytherin_Net[\"Slytherin Network: 192.168.10.128/25\"]\n",
        "    Slytherin_Host1[\"Host: 192.168.10.129\"]\n",
        "    Slytherin_Host2[\"Host: 192.168.10.130\"]\n",
        "    Slytherin_Broadcast[\"Broadcast: 192.168.10.255\"]\n",
        "\n",
        "end\n",
        "\n",
        "A -->|Subnet 1: Gryffindor| Gryffindor_Net\n",
        "A -->|Subnet 2: Slytherin| Slytherin_Net\n",
        "\n",
        "Gryffindor_Net -->|Gryffindor student| Gryffindor_Host1\n",
        "Gryffindor_Net -->|Gryffindor staff| Gryffindor_Host2\n",
        "Gryffindor_Net -->|Broadcast address for Gryffindor| Gryffindor_Broadcast\n",
        "\n",
        "Slytherin_Net -->|Slytherin student| Slytherin_Host1\n",
        "Slytherin_Net -->|Slytherin staff| Slytherin_Host2\n",
        "Slytherin_Net -->|Broadcast address for Slytherin| Slytherin_Broadcast\n",
        "\n",
        "style Gryffindor_Net fill:#FF0000,stroke:#333,stroke-width:2px\n",
        "style Slytherin_Net fill:#008000,stroke:#333,stroke-width:2px\n",
        "\n",
        "\"\"\")"
      ],
      "metadata": {
        "cellView": "form",
        "id": "K7NwdVlodIb3",
        "outputId": "5f54b5e1-c09d-4224-d9d1-4db606d65a75",
        "colab": {
          "base_uri": "https://localhost:8080/",
          "height": 621
        }
      },
      "execution_count": null,
      "outputs": [
        {
          "output_type": "display_data",
          "data": {
            "text/html": [
              "<img src=\"https://mermaid.ink/img/CmdyYXBoIFRECgpzdWJncmFwaCAiSG9nd2FydHMgTmV0d29yayAtIElQIEFkZHJlc3MgMTkyLjE2OC4xMC4wLzI0IgogICAgZGlyZWN0aW9uIFRCCiAgICBBWyJPcmlnaW5hbCBOZXR3b3JrOiAxOTIuMTY4LjEwLjAvMjQiXQogICAgbm90ZTFbIkNvbnRhaW5zIDI1NiBhZGRyZXNzZXMsIGRpdmlkZWQgaW50byB0d28gc3VibmV0cyB3aXRoIC8yNSBtYXNrLiJdCmVuZAoKc3ViZ3JhcGggIlN1Ym5ldHRlZCBOZXR3b3JrcyAoVXNpbmcgLzI1IFN1Ym5ldCBNYXNrKSIKICAgIGRpcmVjdGlvbiBUQgogICAgCiAgICBHcnlmZmluZG9yX05ldFsiR3J5ZmZpbmRvciBOZXR3b3JrOiAxOTIuMTY4LjEwLjAvMjUiXQogICAgR3J5ZmZpbmRvcl9Ib3N0MVsiSG9zdDogMTkyLjE2OC4xMC4xIl0KICAgIEdyeWZmaW5kb3JfSG9zdDJbIkhvc3Q6IDE5Mi4xNjguMTAuMiJdCiAgICBHcnlmZmluZG9yX0Jyb2FkY2FzdFsiQnJvYWRjYXN0OiAxOTIuMTY4LjEwLjEyNyJdCgogICAgU2x5dGhlcmluX05ldFsiU2x5dGhlcmluIE5ldHdvcms6IDE5Mi4xNjguMTAuMTI4LzI1Il0KICAgIFNseXRoZXJpbl9Ib3N0MVsiSG9zdDogMTkyLjE2OC4xMC4xMjkiXQogICAgU2x5dGhlcmluX0hvc3QyWyJIb3N0OiAxOTIuMTY4LjEwLjEzMCJdCiAgICBTbHl0aGVyaW5fQnJvYWRjYXN0WyJCcm9hZGNhc3Q6IDE5Mi4xNjguMTAuMjU1Il0KICAgIAplbmQKCkEgLS0-fFN1Ym5ldCAxOiBHcnlmZmluZG9yfCBHcnlmZmluZG9yX05ldApBIC0tPnxTdWJuZXQgMjogU2x5dGhlcmlufCBTbHl0aGVyaW5fTmV0CgpHcnlmZmluZG9yX05ldCAtLT58R3J5ZmZpbmRvciBzdHVkZW50fCBHcnlmZmluZG9yX0hvc3QxCkdyeWZmaW5kb3JfTmV0IC0tPnxHcnlmZmluZG9yIHN0YWZmfCBHcnlmZmluZG9yX0hvc3QyCkdyeWZmaW5kb3JfTmV0IC0tPnxCcm9hZGNhc3QgYWRkcmVzcyBmb3IgR3J5ZmZpbmRvcnwgR3J5ZmZpbmRvcl9Ccm9hZGNhc3QKClNseXRoZXJpbl9OZXQgLS0-fFNseXRoZXJpbiBzdHVkZW50fCBTbHl0aGVyaW5fSG9zdDEKU2x5dGhlcmluX05ldCAtLT58U2x5dGhlcmluIHN0YWZmfCBTbHl0aGVyaW5fSG9zdDIKU2x5dGhlcmluX05ldCAtLT58QnJvYWRjYXN0IGFkZHJlc3MgZm9yIFNseXRoZXJpbnwgU2x5dGhlcmluX0Jyb2FkY2FzdAoKc3R5bGUgR3J5ZmZpbmRvcl9OZXQgZmlsbDojRkYwMDAwLHN0cm9rZTojMzMzLHN0cm9rZS13aWR0aDoycHgKc3R5bGUgU2x5dGhlcmluX05ldCBmaWxsOiMwMDgwMDAsc3Ryb2tlOiMzMzMsc3Ryb2tlLXdpZHRoOjJweAoK?width=1000&height=600\"/>"
            ],
            "text/plain": [
              "<IPython.core.display.Image object>"
            ]
          },
          "metadata": {}
        }
      ]
    },
    {
      "cell_type": "markdown",
      "source": [
        "### IPv6 Subnetting and Advanced IPv6 Concepts\n",
        "\n",
        "As we saw earlier, IPv6 was created to address the limitations of IPv4, particularly its limited address space. IPv6’s massive 128-bit addressing system allows us to create an almost unlimited number of unique addresses, making it ideal for the growing number of internet-connected devices. With IPv6, subnetting becomes both simpler and more flexible, thanks to its extended address structure and built-in features for network configuration. In this section, we’ll explore how IPv6 subnetting works and introduce advanced IPv6 concepts like **tunneling**, **dual stack**, and **Stateless Address Autoconfiguration (SLAAC)**.\n",
        "\n",
        "#### The Structure of an IPv6 Address\n",
        "\n",
        "An IPv6 address is typically written as eight groups of four hexadecimal digits, separated by colons, like this:\n",
        "\n",
        "```\n",
        "2001:0db8:85a3:0000:0000:8a2e:0370:7334\n",
        "```\n",
        "\n",
        "IPv6 addresses can be abbreviated using shorthand notation. For example, consecutive groups of zeros can be replaced by `::`, and leading zeros within each group can be omitted:\n",
        "\n",
        "```\n",
        "2001:db8:85a3::8a2e:370:7334\n",
        "```\n",
        "\n",
        "Each IPv6 address is divided into two main parts:\n",
        "   - **Network Prefix**: The first 64 bits, or the first four blocks, represent the network portion.\n",
        "   - **Interface ID**: The last 64 bits represent the unique identifier for a specific device within the network.\n",
        "\n",
        "By convention, most IPv6 networks use a 64-bit network prefix (`/64`), leaving 64 bits for the interface ID. This makes subnetting straightforward, as each subnet is automatically large enough to support a huge number of devices.\n",
        "\n",
        "#### Subnetting with IPv6\n",
        "\n",
        "IPv6 subnetting is simpler than IPv4 because it usually follows a fixed-length format, where subnets are defined by `/64` prefixes. In an IPv6 address like `2001:db8:acad:1::/64`, the `/64` notation indicates that the first 64 bits are reserved for the network portion, leaving the remaining 64 bits for devices within the subnet.\n",
        "\n",
        "However, administrators can create subnets smaller or larger than `/64` if needed. For example:\n",
        "   - **/48 Prefix**: Typically assigned to large organizations, allowing them to create multiple `/64` subnets.\n",
        "   - **/56 Prefix**: Used by smaller organizations or homes that need a few subnets.\n",
        "   - **/64 Prefix**: The most common prefix for individual networks, such as LANs, in IPv6.\n",
        "\n",
        "| **Prefix Length** | **Use**                          | **Example Subnet**      |\n",
        "|-------------------|----------------------------------|--------------------------|\n",
        "| **/48**           | Large organizations             | `2001:db8:acad::/48`    |\n",
        "| **/56**           | Medium-sized networks           | `2001:db8:acad:1::/56`  |\n",
        "| **/64**           | Typical LAN subnet              | `2001:db8:acad:1:1::/64`|\n",
        "\n",
        "By choosing different prefixes, we can control how many devices each subnet can support while maintaining enough address space for future growth. For instance, a `/64` subnet in IPv6 can theoretically support up to `2^64` devices—an essentially unlimited number for most purposes.\n",
        "\n",
        "#### Stateless Address Autoconfiguration (SLAAC) and Router Advertisement\n",
        "\n",
        "One of the key features of IPv6 is **Stateless Address Autoconfiguration (SLAAC)**, which allows devices to configure their own IP addresses without the need for a DHCP server. With SLAAC, devices on an IPv6 network can generate their unique IP addresses automatically, based on information from the network router.\n",
        "\n",
        "1. **Router Advertisement (RA)**: Routers periodically send out router advertisement messages that include information about the network prefix (e.g., `2001:db8:acad:1::/64`).\n",
        "2. **Generating the Interface ID**: Each device takes the advertised prefix and combines it with a unique **interface ID**, usually derived from the device’s MAC address (using **EUI-64** formatting) to create a complete IPv6 address.\n",
        "\n",
        "This process enables plug-and-play functionality in IPv6 networks, allowing devices to join and communicate with minimal configuration.\n",
        "\n",
        "#### Tunneling and Dual Stack: Transitioning Between IPv4 and IPv6\n",
        "\n",
        "Since many networks still use IPv4, IPv6 deployment requires transition mechanisms. The two most common strategies are **tunneling** and **dual stack**.\n",
        "\n",
        "1. **Dual Stack**: In a dual-stack setup, devices are configured to use both IPv4 and IPv6 addresses. They can communicate over either protocol based on the destination’s capabilities. Dual-stack networks allow IPv4 and IPv6 to coexist, making it easier to support legacy IPv4 applications and devices.\n",
        "   \n",
        "2. **Tunneling**: Tunneling allows IPv6 packets to travel over an IPv4 network by encapsulating them within IPv4 packets. Common tunneling protocols include **6to4** and **Teredo**. These methods allow IPv6 traffic to move across IPv4 infrastructure, bridging the gap until networks fully adopt IPv6.\n",
        "\n",
        "#### Example: Setting Up an IPv6 Network with SLAAC and Dual Stack\n",
        "\n",
        "Hermione decides to set up an IPv6 network in the Gryffindor common room and configures her devices to use both IPv4 and IPv6 (dual stack) to ensure compatibility with older equipment.\n",
        "\n",
        "1. **IPv6 Prefix Assignment**: The Hogwarts IT department provides the prefix `2001:db8:acad:1::/64` for the common room. Hermione’s router broadcasts this prefix using router advertisements.\n",
        "\n",
        "2. **Device Autoconfiguration with SLAAC**:\n",
        "   - Each device receives the `2001:db8:acad:1::/64` prefix.\n",
        "   - Devices automatically generate their unique addresses using the SLAAC protocol. Hermione’s laptop, for example, generates `2001:db8:acad:1:1234:5678:abcd:ef01` based on its MAC address.\n",
        "\n",
        "3. **Dual-Stack Setup**: To allow both IPv4 and IPv6 communication, Hermione configures her router to assign IPv4 addresses as well. Her laptop receives an IPv4 address like `192.168.1.2` in addition to the IPv6 address generated through SLAAC.\n",
        "\n",
        "With this dual-stack setup, Hermione’s devices can communicate with both IPv4 and IPv6 networks, providing flexibility and ensuring compatibility. This configuration also allows for automatic IP assignment through SLAAC, simplifying network management.\n"
      ],
      "metadata": {
        "id": "pH0hFgsPgbI1"
      }
    },
    {
      "cell_type": "code",
      "source": [
        "# @title\n",
        "mm(\"\"\"\n",
        "graph TD\n",
        "\n",
        "subgraph \"Hogwarts IPv6 Network - Address Range 2001:0db8:85a3::/48\"\n",
        "    direction TB\n",
        "    A[\"Original Network: 2001:0db8:85a3::/48\"]\n",
        "    note1[\"Divided into /64 subnets for Hufflepuff and Ravenclaw.\"]\n",
        "end\n",
        "\n",
        "subgraph \"Subnetted Networks (Using /64 Prefix)\"\n",
        "    direction TB\n",
        "\n",
        "    Hufflepuff_Net[\"Hufflepuff Network: 2001:0db8:85a3:0001::/64\"]\n",
        "    Hufflepuff_Host1[\"Host: 2001:0db8:85a3:0001::1\"]\n",
        "    Hufflepuff_Host2[\"Host: 2001:0db8:85a3:0001::2\"]\n",
        "    Hufflepuff_Broadcast[\"Broadcast (All Nodes): ff02::1\"]\n",
        "\n",
        "    Ravenclaw_Net[\"Ravenclaw Network: 2001:0db8:85a3:0002::/64\"]\n",
        "    Ravenclaw_Host1[\"Host: 2001:0db8:85a3:0002::1\"]\n",
        "    Ravenclaw_Host2[\"Host: 2001:0db8:85a3:0002::2\"]\n",
        "    Ravenclaw_Broadcast[\"Broadcast (All Nodes): ff02::1\"]\n",
        "\n",
        "end\n",
        "\n",
        "A -->|Subnet 1: Hufflepuff| Hufflepuff_Net\n",
        "A -->|Subnet 2: Ravenclaw| Ravenclaw_Net\n",
        "\n",
        "Hufflepuff_Net -->|Hufflepuff student| Hufflepuff_Host1\n",
        "Hufflepuff_Net -->|Hufflepuff staff| Hufflepuff_Host2\n",
        "Hufflepuff_Net -->|IPv6 multicast - all nodes in Hufflepuff| Hufflepuff_Broadcast\n",
        "\n",
        "Ravenclaw_Net -->|Ravenclaw student| Ravenclaw_Host1\n",
        "Ravenclaw_Net -->|Ravenclaw staff| Ravenclaw_Host2\n",
        "Ravenclaw_Net -->|IPv6 multicast - all nodes in Ravenclaw| Ravenclaw_Broadcast\n",
        "\n",
        "style Hufflepuff_Net fill:#FFD700,stroke:#333,stroke-width:2px\n",
        "style Ravenclaw_Net fill:#0000FF,stroke:#333,stroke-width:2px\n",
        "\"\"\")"
      ],
      "metadata": {
        "cellView": "form",
        "id": "yRlZR3XRfIp-",
        "outputId": "fd62f4c5-19e2-4f9e-967e-5e2356009ddd",
        "colab": {
          "base_uri": "https://localhost:8080/",
          "height": 621
        }
      },
      "execution_count": null,
      "outputs": [
        {
          "output_type": "display_data",
          "data": {
            "text/html": [
              "<img src=\"https://mermaid.ink/img/CmdyYXBoIFRECgpzdWJncmFwaCAiSG9nd2FydHMgSVB2NiBOZXR3b3JrIC0gQWRkcmVzcyBSYW5nZSAyMDAxOjBkYjg6ODVhMzo6LzQ4IgogICAgZGlyZWN0aW9uIFRCCiAgICBBWyJPcmlnaW5hbCBOZXR3b3JrOiAyMDAxOjBkYjg6ODVhMzo6LzQ4Il0KICAgIG5vdGUxWyJEaXZpZGVkIGludG8gLzY0IHN1Ym5ldHMgZm9yIEh1ZmZsZXB1ZmYgYW5kIFJhdmVuY2xhdy4iXQplbmQKCnN1YmdyYXBoICJTdWJuZXR0ZWQgTmV0d29ya3MgKFVzaW5nIC82NCBQcmVmaXgpIgogICAgZGlyZWN0aW9uIFRCCiAgICAKICAgIEh1ZmZsZXB1ZmZfTmV0WyJIdWZmbGVwdWZmIE5ldHdvcms6IDIwMDE6MGRiODo4NWEzOjAwMDE6Oi82NCJdCiAgICBIdWZmbGVwdWZmX0hvc3QxWyJIb3N0OiAyMDAxOjBkYjg6ODVhMzowMDAxOjoxIl0KICAgIEh1ZmZsZXB1ZmZfSG9zdDJbIkhvc3Q6IDIwMDE6MGRiODo4NWEzOjAwMDE6OjIiXQogICAgSHVmZmxlcHVmZl9Ccm9hZGNhc3RbIkJyb2FkY2FzdCAoQWxsIE5vZGVzKTogZmYwMjo6MSJdCgogICAgUmF2ZW5jbGF3X05ldFsiUmF2ZW5jbGF3IE5ldHdvcms6IDIwMDE6MGRiODo4NWEzOjAwMDI6Oi82NCJdCiAgICBSYXZlbmNsYXdfSG9zdDFbIkhvc3Q6IDIwMDE6MGRiODo4NWEzOjAwMDI6OjEiXQogICAgUmF2ZW5jbGF3X0hvc3QyWyJIb3N0OiAyMDAxOjBkYjg6ODVhMzowMDAyOjoyIl0KICAgIFJhdmVuY2xhd19Ccm9hZGNhc3RbIkJyb2FkY2FzdCAoQWxsIE5vZGVzKTogZmYwMjo6MSJdCiAgICAKZW5kCgpBIC0tPnxTdWJuZXQgMTogSHVmZmxlcHVmZnwgSHVmZmxlcHVmZl9OZXQKQSAtLT58U3VibmV0IDI6IFJhdmVuY2xhd3wgUmF2ZW5jbGF3X05ldAoKSHVmZmxlcHVmZl9OZXQgLS0-fEh1ZmZsZXB1ZmYgc3R1ZGVudHwgSHVmZmxlcHVmZl9Ib3N0MQpIdWZmbGVwdWZmX05ldCAtLT58SHVmZmxlcHVmZiBzdGFmZnwgSHVmZmxlcHVmZl9Ib3N0MgpIdWZmbGVwdWZmX05ldCAtLT58SVB2NiBtdWx0aWNhc3QgLSBhbGwgbm9kZXMgaW4gSHVmZmxlcHVmZnwgSHVmZmxlcHVmZl9Ccm9hZGNhc3QKClJhdmVuY2xhd19OZXQgLS0-fFJhdmVuY2xhdyBzdHVkZW50fCBSYXZlbmNsYXdfSG9zdDEKUmF2ZW5jbGF3X05ldCAtLT58UmF2ZW5jbGF3IHN0YWZmfCBSYXZlbmNsYXdfSG9zdDIKUmF2ZW5jbGF3X05ldCAtLT58SVB2NiBtdWx0aWNhc3QgLSBhbGwgbm9kZXMgaW4gUmF2ZW5jbGF3fCBSYXZlbmNsYXdfQnJvYWRjYXN0CgpzdHlsZSBIdWZmbGVwdWZmX05ldCBmaWxsOiNGRkQ3MDAsc3Ryb2tlOiMzMzMsc3Ryb2tlLXdpZHRoOjJweApzdHlsZSBSYXZlbmNsYXdfTmV0IGZpbGw6IzAwMDBGRixzdHJva2U6IzMzMyxzdHJva2Utd2lkdGg6MnB4Cg==?width=1000&height=600\"/>"
            ],
            "text/plain": [
              "<IPython.core.display.Image object>"
            ]
          },
          "metadata": {}
        }
      ]
    },
    {
      "cell_type": "markdown",
      "source": [
        "\n",
        "### Practical Configuration: Setting up Virtual IPs and Subinterfaces\n",
        "\n",
        "In more complex networks, we often encounter situations where we need virtualized or segmented configurations. **Virtual IPs (VIPs)** and **subinterfaces** allow administrators to achieve advanced setups for load balancing, redundancy, and efficient network segmentation.\n",
        "\n",
        "#### Virtual IPs (VIPs)\n",
        "\n",
        "A **Virtual IP (VIP)** is an IP address assigned to multiple devices or servers to provide redundancy and balance network load. VIPs are common in setups where high availability is essential, such as web services or database clusters. When a request is sent to a VIP, it is automatically routed to the least busy or most available server, balancing the load and improving response times.\n",
        "\n",
        "For instance, Hermione sets up a VIP for accessing the Hogwarts library’s database servers. If one server is busy or goes offline, the VIP directs traffic to another server, ensuring students can still access the database.\n",
        "\n",
        "#### Subinterfaces: Virtual Segments on a Single Physical Interface\n",
        "\n",
        "**Subinterfaces** are virtual interfaces created within a single physical network interface card (NIC). They allow a single NIC to handle multiple VLANs or IP segments by assigning each subinterface a unique IP address or subnet. Subinterfaces are helpful in large networks where different departments or areas need separate subnet configurations but share a single physical link.\n",
        "\n",
        "For example, Hermione’s router has only one Ethernet port connecting to the main Hogwarts network. By creating subinterfaces on this port, she can assign different IP ranges to each subinterface, creating virtual LANs for the library, dormitories, and classrooms, all on the same physical connection.\n",
        "\n",
        "#### Example: Configuring Subinterfaces and a Virtual IP for Hogwarts\n",
        "\n",
        "1. **Setting Up a VIP**:\n",
        "   - Hermione assigns `2001:db8:acad:1::10` as the VIP for the library’s database. Multiple database servers are set to respond to this VIP, ensuring access continuity.\n",
        "   - When students query the library, the VIP directs traffic to the least busy server, providing fast and reliable service.\n",
        "\n",
        "2. **Creating Subinterfaces**:\n",
        "   - Hermione configures subinterfaces on her router for each department at Hogwarts.\n",
        "   - She creates `eth0.1` for the library, `eth0.2` for the dormitory, and `eth0.3` for classrooms. Each\n",
        "\n",
        " subinterface is assigned a unique IPv6 prefix.\n",
        "   - For example, `eth0.1` is assigned `2001:db8:acad:1::/64`, `eth0.2` is assigned `2001:db8:acad:2::/64`, and so on.\n",
        "\n",
        "3. **Verifying Configuration**: Hermione can verify her subinterfaces by listing network interfaces with `ip link show`.\n",
        "\n",
        "   ```bash\n",
        "   $ ip link show\n",
        "   ```\n",
        "\n",
        "   Output:\n",
        "   ```\n",
        "   2: eth0: <BROADCAST,MULTICAST,UP,LOWER_UP> mtu 1500 qdisc pfifo_fast state UP group default qlen 1000\n",
        "   3: eth0.1: <BROADCAST,MULTICAST,UP,LOWER_UP> mtu 1500 qdisc pfifo_fast state UP group default qlen 1000\n",
        "   4: eth0.2: <BROADCAST,MULTICAST,UP,LOWER_UP> mtu 1500 qdisc pfifo_fast state UP group default qlen 1000\n",
        "   5: eth0.3: <BROADCAST,MULTICAST,UP,LOWER_UP> mtu 1500 qdisc pfifo_fast state UP group default qlen 1000\n",
        "   ```\n",
        "\n",
        "With VIPs and subinterfaces configured, Hogwarts’s network is now optimized for high availability, load balancing, and segmented traffic—all while running efficiently on a single router.\n",
        "\n",
        "These configurations illustrate how subnetting, dual-stack networking, and advanced concepts like VIPs and subinterfaces come together to create a robust and flexible network. By mastering these tools, students can design and manage complex networks, preparing them for the demands of modern networked systems."
      ],
      "metadata": {
        "id": "yLBUGKBhghk0"
      }
    },
    {
      "cell_type": "markdown",
      "source": [
        "##  Understanding Ports: The Doorways to Network Services\n",
        "\n",
        "After setting up Hogwarts' network infrastructure and subnets, Hermione realized she needed to ensure students could access various network services - from checking their magical email to accessing the library's digital grimoire collection. This introduced her to the concept of **network ports** - specific virtual doorways through which different types of network traffic flow.\n",
        "\n",
        "### Key Concepts\n",
        "\n",
        "A **port** is a logical endpoint for communication in a network. Think of ports as numbered doorways through which data can flow in and out of a computer or device. Each port is identified by a number from 0 to 65,535.\n",
        "\n",
        "**Well-known ports** (0-1023) are reserved for standard, commonly-used services. These ports are regulated by the Internet Assigned Numbers Authority (IANA) to ensure consistency across all networks worldwide.\n",
        "\n",
        "**Registered ports** (1024-49151) are used by specific services and applications but aren't as strictly regulated as well-known ports.\n",
        "\n",
        "**Dynamic/private ports** (49152-65535) can be used by any application or service temporarily as needed.\n",
        "\n",
        "### Understanding Port Communication\n",
        "\n",
        "Just as the castle has different types of entrances - the main gates for general access, secret passages for secure movement, and the owlery for message delivery - computer networks use different ports for different types of services. Each service typically uses one or more standard ports:\n",
        "\n",
        "* When Luna wants to securely access her personal files on the Ravenclaw tower's server from the library, her file transfer client automatically connects to port 22 (SSH/SFTP).\n",
        "* Meanwhile, Neville might be checking the Herbology department's secure website, which uses port 443 (HTTPS).\n",
        "* Ron receives email through port 993 (IMAP over SSL), ensuring his messages are encrypted and secure.\n",
        "\n",
        "### Port Security\n",
        "\n",
        "Many traditional services have been updated with secure alternatives. For example:\n",
        "* **Plain-text protocols** like FTP (ports 20/21) have been largely replaced by **encrypted alternatives** like SFTP (port 22)\n",
        "* **HTTP** (port 80) is increasingly giving way to **HTTPS** (port 443) for secure web browsing\n",
        "* Email protocols now use encrypted ports (995 for POP3 over SSL, 993 for IMAP over SSL) instead of their traditional unencrypted counterparts\n",
        "\n",
        "### Connection Types\n",
        "\n",
        "Ports can operate using two different types of connections:\n",
        "\n",
        "**Connection-oriented** (TCP):\n",
        "* Establishes a reliable connection before sending data\n",
        "* Ensures all data arrives correctly and in order\n",
        "* Used for services where accuracy is crucial (web browsing, email, file transfers)\n",
        "\n",
        "**Connectionless** (UDP):\n",
        "* Sends data without establishing a connection\n",
        "* Faster but less reliable than TCP\n",
        "* Used for services where speed is more important than perfect accuracy (streaming video, online gaming)\n",
        "\n",
        "In the following sections, we'll explore these various ports and protocols in detail, understanding how they work together to provide the diverse services a modern network needs."
      ],
      "metadata": {
        "id": "kyjnGR68ktWe"
      }
    },
    {
      "cell_type": "markdown",
      "source": [
        "### Access and Remote Management Ports\n",
        "\n",
        "When Hogwarts decided to modernize its network infrastructure, one of the first challenges Hermione faced was setting up secure remote access for faculty and students. Professor McGonagall needed to access her office computer from home, while Professor Flitwick required secure management of the Charms department's network equipment. This introduced Hermione to the world of remote access and management protocols, each using specific ports to facilitate secure connections.\n",
        "\n",
        "#### Secure Shell (SSH) - Port 22\n",
        "\n",
        "The cornerstone of modern remote access is the **Secure Shell (SSH) protocol**, operating on port 22. SSH replaced older, insecure protocols by providing encrypted communications for remote system access and command execution. When Professor McGonagall connects to her office computer from home, SSH ensures that all data transmitted - including her login credentials and any commands she executes - remains encrypted and secure from potential eavesdropping.\n",
        "\n",
        "SSH's security comes from its use of public key cryptography, allowing for strong authentication without sending passwords over the network. For instance, when Professor Vector needs to run complex arithmancy calculations on the school's computing cluster, she uses SSH keys stored on her laptop to authenticate automatically, eliminating the risk of password interception.\n",
        "\n",
        "#### The Legacy of Telnet - Port 23\n",
        "\n",
        "While setting up the network, Hermione discovered some ancient networking equipment still using **Telnet** (port 23). Telnet, one of the oldest remote access protocols, transmits all data - including passwords - in plain text. This would be like sending your secret messages by regular owl post instead of using encrypted magical parchment. Due to these security concerns, Telnet has been largely replaced by SSH in modern networks. Hermione made sure to disable Telnet access across all of Hogwarts' systems, implementing SSH as the standard remote access protocol.\n",
        "\n",
        "#### Remote Desktop Protocol (RDP) - Port 3389\n",
        "\n",
        "For those times when command-line access isn't sufficient, **Remote Desktop Protocol (RDP)** on port 3389 provides full graphical desktop access. The library staff uses RDP to access their desktop computers remotely, allowing them to use the specialized magical manuscript cataloging software as if they were sitting at their desks. RDP encrypts all traffic between the client and server, protecting sensitive information while providing a seamless user experience."
      ],
      "metadata": {
        "id": "ZkVgfH6Ik0Xw"
      }
    },
    {
      "cell_type": "markdown",
      "source": [
        "### Graphic: Why Telnet is Dangerous\n",
        "Unecrypted Services like telnet can be quite dangerous."
      ],
      "metadata": {
        "id": "iikdj5WRkoAK"
      }
    },
    {
      "cell_type": "code",
      "source": [
        "# @title\n",
        "mm(\"\"\"\n",
        "graph TD\n",
        "\n",
        "Client[\"Client Device\"]\n",
        "Server[\"Telnet Server\"]\n",
        "Attacker[\"Attacker with Packet Sniffer\"]\n",
        "\n",
        "Client -- \"1 - Connects to Telnet Server\" --> Server\n",
        "Client -. \"2 - Sends Username/Password in Plaintext\" .-> Attacker\n",
        "Server -- \"3 - Sends Plaintext Responses\" --> Client\n",
        "Server -. \"4 - Vulnerable Data Sent in Plaintext\" .-> Attacker\n",
        "\n",
        "subgraph Exploitation Process\n",
        "    direction TB\n",
        "\n",
        "    Sniffing[\"Attacker Intercepts Telnet Traffic\"]\n",
        "    Sniffing -- \"Steals Credentials\" --> Credential_Theft[\"Access to Username/Password\"]\n",
        "    Credential_Theft -- \"Uses or Sells Credentials\" --> Unauthorized_Access[\"Gain Access to Sensitive Systems\"]\n",
        "\n",
        "end\n",
        "\n",
        "Attacker -->|Packet Sniffing Tools| Sniffing\n",
        "\"\"\")"
      ],
      "metadata": {
        "cellView": "form",
        "id": "UkNkO5gFkvQa",
        "outputId": "6257acff-33a9-4f62-c76f-19385b1dddeb",
        "colab": {
          "base_uri": "https://localhost:8080/",
          "height": 621
        }
      },
      "execution_count": null,
      "outputs": [
        {
          "output_type": "display_data",
          "data": {
            "text/html": [
              "<img src=\"https://mermaid.ink/img/CmdyYXBoIFRECgpDbGllbnRbIkNsaWVudCBEZXZpY2UiXQpTZXJ2ZXJbIlRlbG5ldCBTZXJ2ZXIiXQpBdHRhY2tlclsiQXR0YWNrZXIgd2l0aCBQYWNrZXQgU25pZmZlciJdCgpDbGllbnQgLS0gIjEgLSBDb25uZWN0cyB0byBUZWxuZXQgU2VydmVyIiAtLT4gU2VydmVyCkNsaWVudCAtLiAiMiAtIFNlbmRzIFVzZXJuYW1lL1Bhc3N3b3JkIGluIFBsYWludGV4dCIgLi0-IEF0dGFja2VyClNlcnZlciAtLSAiMyAtIFNlbmRzIFBsYWludGV4dCBSZXNwb25zZXMiIC0tPiBDbGllbnQKU2VydmVyIC0uICI0IC0gVnVsbmVyYWJsZSBEYXRhIFNlbnQgaW4gUGxhaW50ZXh0IiAuLT4gQXR0YWNrZXIKCnN1YmdyYXBoIEV4cGxvaXRhdGlvbiBQcm9jZXNzCiAgICBkaXJlY3Rpb24gVEIKICAgIAogICAgU25pZmZpbmdbIkF0dGFja2VyIEludGVyY2VwdHMgVGVsbmV0IFRyYWZmaWMiXQogICAgU25pZmZpbmcgLS0gIlN0ZWFscyBDcmVkZW50aWFscyIgLS0-IENyZWRlbnRpYWxfVGhlZnRbIkFjY2VzcyB0byBVc2VybmFtZS9QYXNzd29yZCJdCiAgICBDcmVkZW50aWFsX1RoZWZ0IC0tICJVc2VzIG9yIFNlbGxzIENyZWRlbnRpYWxzIiAtLT4gVW5hdXRob3JpemVkX0FjY2Vzc1siR2FpbiBBY2Nlc3MgdG8gU2Vuc2l0aXZlIFN5c3RlbXMiXQogICAgCmVuZAoKQXR0YWNrZXIgLS0-fFBhY2tldCBTbmlmZmluZyBUb29sc3wgU25pZmZpbmcK?width=1000&height=600\"/>"
            ],
            "text/plain": [
              "<IPython.core.display.Image object>"
            ]
          },
          "metadata": {}
        }
      ]
    },
    {
      "cell_type": "markdown",
      "source": [
        "\n",
        "### Network Management and Directory Services\n",
        "\n",
        "#### SNMP (Ports 161/162)\n",
        "\n",
        "The **Simple Network Management Protocol (SNMP)** uses ports 161 and 162 to monitor and manage network devices. Hermione implemented SNMP to keep track of the growing number of magical network-connected devices throughout Hogwarts. Port 161 handles queries and commands, while port 162 receives traps (alerts) from network devices. For example, when a networking switch in the dungeons starts experiencing problems, it sends an SNMP trap to the management system, alerting Hermione before the Slytherins notice any network issues.\n",
        "\n",
        "#### LDAP (Port 389) and LDAPS (Port 636)\n",
        "\n",
        "The **Lightweight Directory Access Protocol (LDAP)** on port 389 and its secure variant **LDAPS** on port 636 provide directory services crucial for managing user accounts and resources. Hogwarts uses LDAPS to maintain its school-wide directory of students, staff, and magical resources. When a student logs into any school computer, LDAPS securely authenticates their credentials against the central directory.\n",
        "\n",
        "| Protocol | Port | Transport Protocol | Security | Use Case | Modern Status |\n",
        "|----------|------|-------------------|-----------|-----------|---------------|\n",
        "| SSH | 22 | TCP | Strong encryption, key-based auth | Command-line access, secure file transfer | Industry standard |\n",
        "| Telnet | 23 | TCP | None (plaintext) | Legacy remote access | Deprecated |\n",
        "| RDP | 3389 | TCP | Network-level authentication, encryption | Full desktop access | Windows standard |\n",
        "| SNMP | 161/162 | UDP | Varies by version (v3 recommended) | Network monitoring and management | Widely used |\n",
        "| LDAP(S) | 389/636 | TCP | LDAPS uses SSL/TLS | Directory services | Enterprise standard |\n",
        "\n",
        "#### Best Practices for Remote Access Security\n",
        "\n",
        "Hermione implemented several key security measures for Hogwarts' remote access services:\n",
        "\n",
        "1. Disabled all plaintext protocols (like Telnet)\n",
        "2. Required SSH key authentication for administrative access\n",
        "3. Implemented strong password policies for RDP access\n",
        "4. Used LDAPS exclusively for directory services\n",
        "5. Configured SNMP v3 with authentication and encryption\n",
        "\n",
        "These protocols and their respective ports form the foundation of secure remote access and management in modern networks. While the specific ports (22, 389, 3389, etc.) might seem arbitrary, they've become standardized through years of use and are now universal across networks worldwide. Understanding these ports and their security implications is crucial for maintaining a secure network infrastructure."
      ],
      "metadata": {
        "id": "ybNCYuvPgedu"
      }
    },
    {
      "cell_type": "markdown",
      "source": [
        "## File and Resource Sharing Ports\n",
        "\n",
        "When students and faculty at Hogwarts need to share files - from homework assignments to research papers - they rely on various file sharing protocols. Each protocol serves different needs, from simple file transfers to complex database operations. Understanding these protocols and their respective ports is crucial for managing network resources effectively.\n",
        "\n",
        "### Traditional File Transfer Protocols\n",
        "\n",
        "The **File Transfer Protocol (FTP)** operates using two ports: port 20 for data transfer and port 21 for control commands. This dual-port system, while innovative when developed, posed security challenges that led to modern alternatives. When Hermione discovered some students were using FTP to submit their assignments, she quickly realized that their usernames and passwords were being transmitted in plain text - equivalent to sending their credentials written on postcards through owl post.\n",
        "\n",
        "To address these security concerns, **Secure File Transfer Protocol (SFTP)** was developed, operating over SSH on port 22. SFTP provides all the functionality of FTP while encrypting both authentication and data transfer. Professor Vector now requires all Arithmancy students to submit their complex numerical calculations via SFTP, ensuring their work remains confidential and intact during transmission.\n",
        "\n",
        "For simpler, lightweight file transfers, some of Hogwarts' older magical devices still use **Trivial File Transfer Protocol (TFTP)** on port 69. TFTP uses UDP instead of TCP, making it faster but less reliable than FTP or SFTP. The school's network equipment uses TFTP to upload firmware updates, though Hermione strictly limits its use to the internal management network due to its lack of authentication mechanisms.\n",
        "\n",
        "### Modern File Sharing Solutions\n",
        "\n",
        "**Server Message Block (SMB)** protocol, operating on port 445, has become the standard for file sharing in modern networks. When students access their personal storage space on the Hogwarts network or collaborate on group projects, they're using SMB. The protocol handles file and printer sharing, user authentication, and even inter-process communication. For example, when Luna and Ginny collaborate on their Defense Against the Dark Arts presentation, they can both access and edit files in a shared folder simultaneously, with SMB managing the file locks and updates.\n",
        "\n",
        "### Database Services\n",
        "\n",
        "Modern networks rely heavily on database services to store and manage information. At Hogwarts, several database protocols and their respective ports are in regular use:\n",
        "\n",
        "| Database Protocol | Port | Transport Protocol | Primary Use | Security Features |\n",
        "|------------------|------|-------------------|--------------|-------------------|\n",
        "| SQL Server | 1433 | TCP | Student records | Encryption, authentication |\n",
        "| SQLnet | 1521 | TCP | Library catalog | Network encryption |\n",
        "| MySQL | 3306 | TCP | Course management | SSL/TLS support |\n",
        "\n",
        "The library's vast collection of magical texts is cataloged in a database using **SQLnet** (port 1521). When Madam Pince needs to locate a particular tome on advanced transfiguration, the catalog system queries this database, which handles thousands of requests daily while maintaining strict access controls.\n",
        "\n",
        "Student records are maintained in a **SQL Server** database accessible through port 1433. Professor McGonagall's administrative software connects to this database to track student progress, house points, and course registrations. The connection is encrypted and requires strong authentication to protect sensitive student information.\n",
        "\n",
        "The course management system runs on **MySQL** (port 3306), handling everything from assignment submissions to grade tracking. When Professor Sprout updates the grades for her Herbology class, she's using a web interface that securely communicates with the MySQL database through an encrypted connection.\n",
        "\n",
        "### Protocol Security Considerations\n",
        "\n",
        "Just as the Hogwarts castle has various levels of security - from simple locked doors to complex magical wards - different file sharing protocols offer varying levels of security:\n",
        "\n",
        "1. **Legacy Protocols (FTP, TFTP)**\n",
        "   - Minimal or no security\n",
        "   - Data transmitted in plain text\n",
        "   - Should only be used in isolated, secure networks\n",
        "   - Being phased out in favor of secure alternatives\n",
        "\n",
        "2. **Modern Secure Protocols (SFTP, SMB with encryption)**\n",
        "   - Strong authentication\n",
        "   - Data encryption in transit\n",
        "   - Support for access controls\n",
        "   - Audit logging capabilities\n",
        "\n",
        "3. **Database Protocols**\n",
        "   - Built-in encryption support\n",
        "   - Complex authentication mechanisms\n",
        "   - Granular access controls\n",
        "   - Transaction logging and monitoring"
      ],
      "metadata": {
        "id": "h1uy11_LlNeF"
      }
    },
    {
      "cell_type": "markdown",
      "source": [
        "### Web and Communication Ports\n",
        "\n",
        "The modern Hogwarts network needs to support everything from students checking their magical email to professors hosting secure web conferences with other magical institutions. These communication services rely on a variety of protocols and ports, each designed for specific types of web and communication traffic.\n",
        "\n",
        "#### Web Protocols: HTTP and HTTPS\n",
        "\n",
        "When the Hogwarts library launched its new digital catalog system, Hermione had to consider the security implications of web traffic. **Hypertext Transfer Protocol (HTTP)** on port 80 was the traditional protocol for serving web pages, but it transmitted all data - including login credentials and search queries - as plain text. This would be like posting library records on the common room bulletin board for anyone to read.\n",
        "\n",
        "The solution came in the form of **HTTPS** (HTTP Secure) on port 443, which uses either **SSL (Secure Sockets Layer)** or its modern replacement **TLS (Transport Layer Security)**. When students access the library catalog or their course materials online, HTTPS encrypts all traffic between their browsers and the web servers. This encryption ensures that sensitive information - from passwords to research topics - remains private, even when accessed through the somewhat unreliable wireless network in the astronomy tower.\n",
        "\n",
        "#### Email Communication Protocols\n",
        "\n",
        "Email at Hogwarts operates through a sophisticated system of interconnected protocols and ports:\n",
        "\n",
        "| Protocol | Port | Transport Protocol | Function | Security Features |\n",
        "|----------|------|-------------------|-----------|-------------------|\n",
        "| SMTP | 25 | TCP | Sending mail | Basic (plain text) |\n",
        "| SMTP TLS | 587 | TCP | Secure mail submission | TLS encryption |\n",
        "| POP3 | 110 | TCP | Mail retrieval | Basic (plain text) |\n",
        "| POP3 SSL | 995 | TCP | Secure mail retrieval | SSL/TLS encryption |\n",
        "| IMAP | 143 | TCP | Advanced mail access | Basic (plain text) |\n",
        "| IMAP SSL | 993 | TCP | Secure mail access | SSL/TLS encryption |\n",
        "\n",
        "The **Simple Mail Transfer Protocol (SMTP)** handles outgoing mail through port 25, but this traditional port offers no built-in security. For this reason, Hermione configured the Hogwarts mail servers to require the use of port 587 with TLS encryption for all outgoing mail. This ensures that when Professor McGonagall sends sensitive correspondence to the Ministry of Magic, the contents remain confidential.\n",
        "\n",
        "For receiving email, users have two options: **POP3** (Post Office Protocol version 3) or **IMAP** (Internet Message Access Protocol). While POP3 operates on port 110 and IMAP on port 143, both protocols have secure variants using SSL/TLS encryption: POP3S on port 995 and IMAPS on port 993. IMAP proved particularly useful for the faculty, as it allows them to access their email from multiple devices while keeping everything synchronized - Professor Flitwick can read his mail on his office computer, his magical tablet, and his enchanted pocket watch, all staying perfectly in sync.\n",
        "\n",
        "#### Real-Time Communication\n",
        "\n",
        "**Session Initiation Protocol (SIP)**, operating on ports 5060 (unencrypted) and 5061 (encrypted), manages voice and video communications. When Professor Slughorn hosts a virtual Potions Club meeting with students from Beauxbatons and Durmstrang, SIP handles the initial connection setup, while the actual video and audio data flow through dynamically assigned ports.\n",
        "\n",
        "SIP's role in managing these sessions includes:\n",
        "- Establishing connections between participants\n",
        "- Negotiating media capabilities\n",
        "- Managing session parameters\n",
        "- Handling participant joining and leaving\n",
        "- Coordinating session termination\n",
        "\n",
        "#### Best Practices for Communication Security\n",
        "\n",
        "To ensure secure communications across Hogwarts' network, Hermione implemented several critical measures:\n",
        "\n",
        "1. Required HTTPS for all web services, redirecting any HTTP requests to their secure equivalents\n",
        "2. Disabled plain text email protocols, enforcing the use of encrypted alternatives\n",
        "3. Implemented strict certificate validation for all secure services\n",
        "4. Configured email servers to require TLS encryption for message submission\n",
        "5. Set up secure SIP communications for all video conferencing services\n",
        "\n",
        "The proper configuration of these communication ports and protocols ensures that Hogwarts' network can handle everything from simple web browsing to complex real-time communications while maintaining appropriate security. In our next section, we'll examine the Network Service and Infrastructure Ports that form the foundation of these higher-level services."
      ],
      "metadata": {
        "id": "q79bvJDOlioy"
      }
    },
    {
      "cell_type": "markdown",
      "source": [
        "## Network Service and Infrastructure Ports\n",
        "\n",
        "The foundation of any modern network relies on a set of critical infrastructure protocols that handle essential services like name resolution, address assignment, time synchronization, and system logging. While these services often operate invisibly to end users, their proper operation is crucial for network functionality. At Hogwarts, these protocols work together to ensure thousands of magical devices can communicate effectively across the castle's ancient stone walls and powerful magical fields."
      ],
      "metadata": {
        "id": "Iu7AEAtUsV6h"
      }
    },
    {
      "cell_type": "markdown",
      "source": [
        "### Domain Name System (DNS) - Port 53\n",
        "\n",
        "The **Domain Name System (DNS)** operates as a massive distributed database, using both TCP and UDP on port 53 to convert human-readable names into IP addresses. When a first-year student types \"library.hogwarts.edu\" into their browser, DNS begins a sophisticated resolution process that can span multiple servers across different levels of the DNS hierarchy.\n",
        "\n",
        "#### Global DNS Hierarchy\n",
        "\n",
        "DNS operates in a tree-like structure, starting from the root level:\n",
        "\n",
        "1. **Root DNS Servers**: The foundation of DNS, represented by a single dot (.) and operated by 13 independent organizations worldwide. When Hogwarts' DNS servers need to find an external domain, they start by querying these root servers.\n",
        "\n",
        "2. **Top-Level Domains (TLDs)**: The next level includes familiar extensions like .edu, .com, and .org. For Hogwarts, the .edu TLD servers direct queries to the appropriate educational institution.\n",
        "\n",
        "3. **Authoritative Name Servers**: Each organization maintains these servers for their domains. Hogwarts' authoritative servers handle queries for hogwarts.edu and all its subdomains.\n",
        "\n",
        "4. **Internal vs. External DNS**: Hogwarts maintains separate DNS infrastructures:\n",
        "   - Internal DNS servers handle private addresses and local resources\n",
        "   - External DNS servers manage public-facing services\n",
        "   - Split-horizon DNS provides different answers based on query source\n",
        "\n",
        "#### DNS Resolution Process\n",
        "\n",
        "When Luna looks up \"restricted-section.library.hogwarts.edu\", two types of queries might occur:\n",
        "\n",
        "**Recursive Lookup**: The client asks a single DNS server to handle the entire resolution process. For example:\n",
        "1. Luna's laptop asks Hogwarts' DNS server to resolve the address\n",
        "2. The DNS server handles all necessary queries\n",
        "3. The final answer returns to Luna's laptop\n",
        "\n",
        "**Iterative Lookup**: Each DNS server directs the client to the next server to query:\n",
        "1. Root servers point to .edu servers\n",
        "2. .edu servers point to hogwarts.edu servers\n",
        "3. Hogwarts servers provide the final answer\n",
        "\n",
        "#### Zone Management\n",
        "\n",
        "DNS servers organize information into zones, with each zone containing records for a portion of the DNS namespace. Zone transfers synchronize data between primary and secondary servers:\n",
        "\n",
        "**Zone Transfer Types**:\n",
        "- **AXFR**: Complete zone transfer of all records\n",
        "- **IXFR**: Incremental transfer of only changed records\n",
        "\n",
        "The **Time To Live (TTL)** value on each record controls how long other servers can cache the information. For example:\n",
        "- Critical services: 5-minute TTL\n",
        "- Standard records: 1-hour TTL\n",
        "- Static records: 24-hour TTL\n",
        "\n",
        "#### Common DNS Record Types\n",
        "\n",
        "| Record Type | Purpose | Example |\n",
        "|-------------|---------|---------|\n",
        "| A | IPv4 address | library.hogwarts.edu → 192.168.1.10 |\n",
        "| AAAA | IPv6 address | library.hogwarts.edu → 2001:db8::1 |\n",
        "| CNAME | Alias | www.hogwarts.edu → hogwarts.edu |\n",
        "| MX | Mail servers | Priority 10 mail1.hogwarts.edu |\n",
        "| SOA | Zone authority | Primary server, admin, serial number |\n",
        "| PTR | Reverse lookup | 192.168.1.10 → library.hogwarts.edu |\n",
        "| TXT | Text info | SPF records, verification codes |\n",
        "| SRV | Service location | _ldap._tcp.hogwarts.edu |\n",
        "| NS | Name servers | ns1.hogwarts.edu, ns2.hogwarts.edu |\n",
        "\n",
        "#### DNS Caching and Resolution\n",
        "\n",
        "DNS employs a sophisticated caching system to improve performance:\n",
        "- **DNS Caching**: Servers store previous query results\n",
        "- **Reverse DNS**: Maps IP addresses back to names\n",
        "- **Forward Lookup**: Standard name-to-IP resolution\n",
        "- **Authoritative Answers**: Direct from the zone's servers\n",
        "- **Non-authoritative**: Cached responses from other servers\n",
        "\n",
        "Through this hierarchical system, DNS provides fast, reliable name resolution while maintaining scalability across the global internet. The system's distributed nature means that even if some DNS servers become unavailable, others can still provide name resolution services."
      ],
      "metadata": {
        "id": "K69UQmu4thcp"
      }
    },
    {
      "cell_type": "code",
      "source": [
        "# @title\n",
        "mm(\"\"\"\n",
        "graph TD\n",
        "\n",
        "Client[\"Client Device\"]\n",
        "Request[\"Request for www . hogwarts . edu\"]\n",
        "Client --> Request --> Resolver\n",
        "\n",
        "subgraph DNS_Resolver\n",
        "    direction TB\n",
        "    Resolver[\"DNS Resolver from ISP\"]\n",
        "end\n",
        "\n",
        "subgraph DNS_Resolution_Process\n",
        "    direction TB\n",
        "\n",
        "    Root_Server[\"Root DNS Server\"]\n",
        "    TLD_Server[\"Top Level DNS Server for .edu\"]\n",
        "    Auth_Server[\"Authoritative DNS Server for hogwarts.edu\"]\n",
        "    IP_Response[\"Response with IP Address 192.168.1.10\"]\n",
        "\n",
        "end\n",
        "\n",
        "Client -->|1 - Query hogwarts.edu| Resolver\n",
        "Resolver -->|2 - Ask Root Server| Root_Server\n",
        "Root_Server -->|3 - Refer to edu Server| TLD_Server\n",
        "TLD_Server -->|4 - Refer to hogwarts.edu Server| Auth_Server\n",
        "Auth_Server -->|5 - Send IP Address| Resolver\n",
        "Resolver -->|6 - Return IP Address| Request\n",
        "Request -->|7 - IP 192.168.1.10| Client\n",
        "\n",
        "style Resolver fill:#8BC34A,stroke:#333,stroke-width:2px\n",
        "style Root_Server fill:#FF9800,stroke:#333,stroke-width:2px\n",
        "style TLD_Server fill:#4CAF50,stroke:#333,stroke-width:2px\n",
        "style Auth_Server fill:#2196F3,stroke:#333,stroke-width:2px\n",
        "style IP_Response fill:#673AB7,stroke:#333,stroke-width:2px\n",
        "\"\"\")"
      ],
      "metadata": {
        "cellView": "form",
        "id": "JXrs4kwcjmhn",
        "outputId": "6550a6e9-15dc-49f5-c3f8-f280cdba6319",
        "colab": {
          "base_uri": "https://localhost:8080/",
          "height": 621
        }
      },
      "execution_count": null,
      "outputs": [
        {
          "output_type": "display_data",
          "data": {
            "text/html": [
              "<img src=\"https://mermaid.ink/img/CmdyYXBoIFRECgpDbGllbnRbIkNsaWVudCBEZXZpY2UiXQpSZXF1ZXN0WyJSZXF1ZXN0IGZvciB3d3cgLiBob2d3YXJ0cyAuIGVkdSJdCkNsaWVudCAtLT4gUmVxdWVzdCAtLT4gUmVzb2x2ZXIKCnN1YmdyYXBoIEROU19SZXNvbHZlcgogICAgZGlyZWN0aW9uIFRCCiAgICBSZXNvbHZlclsiRE5TIFJlc29sdmVyIGZyb20gSVNQIl0KZW5kCgpzdWJncmFwaCBETlNfUmVzb2x1dGlvbl9Qcm9jZXNzCiAgICBkaXJlY3Rpb24gVEIKICAgIAogICAgUm9vdF9TZXJ2ZXJbIlJvb3QgRE5TIFNlcnZlciJdCiAgICBUTERfU2VydmVyWyJUb3AgTGV2ZWwgRE5TIFNlcnZlciBmb3IgLmVkdSJdCiAgICBBdXRoX1NlcnZlclsiQXV0aG9yaXRhdGl2ZSBETlMgU2VydmVyIGZvciBob2d3YXJ0cy5lZHUiXQogICAgSVBfUmVzcG9uc2VbIlJlc3BvbnNlIHdpdGggSVAgQWRkcmVzcyAxOTIuMTY4LjEuMTAiXQoKZW5kCgpDbGllbnQgLS0-fDEgLSBRdWVyeSBob2d3YXJ0cy5lZHV8IFJlc29sdmVyClJlc29sdmVyIC0tPnwyIC0gQXNrIFJvb3QgU2VydmVyfCBSb290X1NlcnZlcgpSb290X1NlcnZlciAtLT58MyAtIFJlZmVyIHRvIGVkdSBTZXJ2ZXJ8IFRMRF9TZXJ2ZXIKVExEX1NlcnZlciAtLT58NCAtIFJlZmVyIHRvIGhvZ3dhcnRzLmVkdSBTZXJ2ZXJ8IEF1dGhfU2VydmVyCkF1dGhfU2VydmVyIC0tPnw1IC0gU2VuZCBJUCBBZGRyZXNzfCBSZXNvbHZlcgpSZXNvbHZlciAtLT58NiAtIFJldHVybiBJUCBBZGRyZXNzfCBSZXF1ZXN0ClJlcXVlc3QgLS0-fDcgLSBJUCAxOTIuMTY4LjEuMTB8IENsaWVudAoKc3R5bGUgUmVzb2x2ZXIgZmlsbDojOEJDMzRBLHN0cm9rZTojMzMzLHN0cm9rZS13aWR0aDoycHgKc3R5bGUgUm9vdF9TZXJ2ZXIgZmlsbDojRkY5ODAwLHN0cm9rZTojMzMzLHN0cm9rZS13aWR0aDoycHgKc3R5bGUgVExEX1NlcnZlciBmaWxsOiM0Q0FGNTAsc3Ryb2tlOiMzMzMsc3Ryb2tlLXdpZHRoOjJweApzdHlsZSBBdXRoX1NlcnZlciBmaWxsOiMyMTk2RjMsc3Ryb2tlOiMzMzMsc3Ryb2tlLXdpZHRoOjJweApzdHlsZSBJUF9SZXNwb25zZSBmaWxsOiM2NzNBQjcsc3Ryb2tlOiMzMzMsc3Ryb2tlLXdpZHRoOjJweAo=?width=1000&height=600\"/>"
            ],
            "text/plain": [
              "<IPython.core.display.Image object>"
            ]
          },
          "metadata": {}
        }
      ]
    },
    {
      "cell_type": "markdown",
      "source": [
        "## Dynamic Host Configuration Protocol (DHCP) - Ports 67/68\n",
        "\n",
        "The **Dynamic Host Configuration Protocol (DHCP)** transforms the complex task of network configuration into an automated process, operating across UDP ports 67 (server) and 68 (client). When Professor Flitwick brings a new enchanted tablet to his classroom, DHCP handles all network configuration automatically, eliminating the need for manual setup. This automation extends beyond simple IP address assignment to include crucial network parameters like subnet masks, default gateways, and DNS server locations.\n",
        "\n",
        "### DHCP Scope Configuration\n",
        "\n",
        "A DHCP scope defines how IP addresses are managed within a network. At Hogwarts, different areas of the castle require distinct scope configurations:\n",
        "\n",
        "**Scope Components**:\n",
        "- **Address Range**: The pool of available IP addresses (e.g., 192.168.10.0/24 for Gryffindor Tower)\n",
        "- **Exclusion Ranges**: Reserved addresses blocked from DHCP assignment (e.g., 192.168.10.1-10 for network infrastructure)\n",
        "- **Reservations**: Fixed IP-to-MAC mappings for specific devices (e.g., library catalog terminals)\n",
        "- **Available Leases**: Remaining addresses in the pool for dynamic assignment\n",
        "- **Lease Time**: Duration of IP address assignments\n",
        "\n",
        "**Assignment Methods**:\n",
        "- **Dynamic Assignment**: Automatic IP allocation from the available pool\n",
        "- **Static Assignment**: Fixed IP assignments for specific devices\n",
        "- **DHCP Relay**: IP helper addresses for cross-subnet DHCP traffic\n",
        "\n",
        "### DHCP Scope Options\n",
        "\n",
        "DHCP provides clients with essential network configuration parameters:\n",
        "- Default Gateway: Router address for network access\n",
        "- DNS Servers: Name resolution server addresses\n",
        "- Domain Name: Local domain suffix (e.g., hogwarts.edu)\n",
        "- NTP Servers: Time synchronization sources\n",
        "- WINS Servers: Legacy name resolution (if needed)\n",
        "\n",
        "### The DHCP Lease Process\n",
        "\n",
        "When a new student's laptop connects to the Hogwarts network, it goes through the DORA process:\n",
        "\n",
        "1. **DISCOVER**:\n",
        "   - Client broadcasts: \"I need an IP address!\"\n",
        "   - Source port 68 → Destination port 67\n",
        "   - Broadcast address: 255.255.255.255\n",
        "\n",
        "2. **OFFER**:\n",
        "   - Server responds: \"Here's an available IP\"\n",
        "   - Includes lease duration and scope options\n",
        "   - Multiple servers can respond with different offers\n",
        "\n",
        "3. **REQUEST**:\n",
        "   - Client selects one offer\n",
        "   - Broadcasts acceptance to let other servers know\n",
        "   - Includes requested IP and server identifier\n",
        "\n",
        "4. **ACKNOWLEDGE**:\n",
        "   - Selected server confirms the assignment\n",
        "   - Provides final configuration parameters\n",
        "   - Marks IP as leased in its database\n",
        "\n",
        "### DHCP Lease Management\n",
        "\n",
        "The lease lifecycle includes several key phases:\n",
        "\n",
        "1. **Initial Assignment**:\n",
        "   - Full DORA process\n",
        "   - Client receives lease duration\n",
        "   - All scope options delivered\n",
        "\n",
        "2. **Lease Renewal**:\n",
        "   - Starts at 50% of lease time (T1)\n",
        "   - Requests renewal from assigning server\n",
        "   - If unsuccessful, enters rebinding at 87.5% (T2)\n",
        "\n",
        "3. **Lease Expiration**:\n",
        "   - Client must cease using IP\n",
        "   - Returns to DISCOVER state\n",
        "   - Server returns IP to available pool\n",
        "\n",
        "| DHCP Message | Source Port | Destination Port | Purpose |\n",
        "|--------------|-------------|------------------|---------|\n",
        "| DISCOVER | 68 | 67 | Client seeking configuration |\n",
        "| OFFER | 67 | 68 | Server providing configuration |\n",
        "| REQUEST | 68 | 67 | Client selecting configuration |\n",
        "| ACKNOWLEDGE | 67 | 68 | Server confirming configuration |\n",
        "| RELEASE | 68 | 67 | Client releasing IP address |\n",
        "| DECLINE | 68 | 67 | Client rejecting offered address |\n",
        "\n",
        "### Cross-Subnet DHCP\n",
        "\n",
        "For networks separated by Hogwarts' thick stone walls, DHCP relay agents forward requests across subnets:\n",
        "\n",
        "- **IP Helper**: Router configuration pointing to DHCP server\n",
        "- **UDP Forwarding**: Converts broadcasts to unicast packets\n",
        "- **Relay Agent Information**: Adds subnet-specific details\n",
        "\n",
        "Through these mechanisms, DHCP provides reliable, automated network configuration while giving network administrators the tools to manage IP assignment according to their specific needs. Whether it's a student's laptop in Gryffindor Tower or a magical monitoring device in the dungeons, DHCP ensures every device receives appropriate network configuration."
      ],
      "metadata": {
        "id": "SLINtyJBvB0P"
      }
    },
    {
      "cell_type": "markdown",
      "source": [
        "### Graphic: DHCP"
      ],
      "metadata": {
        "id": "uWq80jTrlODZ"
      }
    },
    {
      "cell_type": "code",
      "source": [
        "# @title\n",
        "mm(\"\"\"\n",
        "sequenceDiagram\n",
        "    participant Client as Client (User Device)\n",
        "    participant DHCP_Server as DHCP Server\n",
        "\n",
        "    Client->>+DHCP_Server: DHCP Discover<br>(Broadcast)\n",
        "    Note over Client,DHCP_Server: Client requests an IP address\n",
        "    DHCP_Server-->>-Client: DHCP Offer<br>(Proposes an IP Address)\n",
        "    Note over DHCP_Server,Client: DHCP Server offers an available IP address\n",
        "    Client->>+DHCP_Server: DHCP Request<br>(Accepts the Offer)\n",
        "    Note over Client,DHCP_Server: Client accepts and requests to lease the IP address\n",
        "    DHCP_Server-->>-Client: DHCP Acknowledge<br>(Confirms IP Lease)\n",
        "    Note over DHCP_Server,Client: DHCP Server confirms the lease and provides IP details\n",
        "\"\"\")"
      ],
      "metadata": {
        "cellView": "form",
        "id": "JM0BsyxmlPlQ",
        "outputId": "2a299b34-4ba9-45b9-f0f6-2aeaebbb0ec7",
        "colab": {
          "base_uri": "https://localhost:8080/",
          "height": 621
        }
      },
      "execution_count": null,
      "outputs": [
        {
          "output_type": "display_data",
          "data": {
            "text/html": [
              "<img src=\"https://mermaid.ink/img/CnNlcXVlbmNlRGlhZ3JhbQogICAgcGFydGljaXBhbnQgQ2xpZW50IGFzIENsaWVudCAoVXNlciBEZXZpY2UpCiAgICBwYXJ0aWNpcGFudCBESENQX1NlcnZlciBhcyBESENQIFNlcnZlcgoKICAgIENsaWVudC0-PitESENQX1NlcnZlcjogREhDUCBEaXNjb3Zlcjxicj4oQnJvYWRjYXN0KQogICAgTm90ZSBvdmVyIENsaWVudCxESENQX1NlcnZlcjogQ2xpZW50IHJlcXVlc3RzIGFuIElQIGFkZHJlc3MKICAgIERIQ1BfU2VydmVyLS0-Pi1DbGllbnQ6IERIQ1AgT2ZmZXI8YnI-KFByb3Bvc2VzIGFuIElQIEFkZHJlc3MpCiAgICBOb3RlIG92ZXIgREhDUF9TZXJ2ZXIsQ2xpZW50OiBESENQIFNlcnZlciBvZmZlcnMgYW4gYXZhaWxhYmxlIElQIGFkZHJlc3MKICAgIENsaWVudC0-PitESENQX1NlcnZlcjogREhDUCBSZXF1ZXN0PGJyPihBY2NlcHRzIHRoZSBPZmZlcikKICAgIE5vdGUgb3ZlciBDbGllbnQsREhDUF9TZXJ2ZXI6IENsaWVudCBhY2NlcHRzIGFuZCByZXF1ZXN0cyB0byBsZWFzZSB0aGUgSVAgYWRkcmVzcwogICAgREhDUF9TZXJ2ZXItLT4-LUNsaWVudDogREhDUCBBY2tub3dsZWRnZTxicj4oQ29uZmlybXMgSVAgTGVhc2UpCiAgICBOb3RlIG92ZXIgREhDUF9TZXJ2ZXIsQ2xpZW50OiBESENQIFNlcnZlciBjb25maXJtcyB0aGUgbGVhc2UgYW5kIHByb3ZpZGVzIElQIGRldGFpbHMK?width=1000&height=600\"/>"
            ],
            "text/plain": [
              "<IPython.core.display.Image object>"
            ]
          },
          "metadata": {}
        }
      ]
    },
    {
      "cell_type": "markdown",
      "source": [
        "## Network Time Protocol (NTP) - Port 123\n",
        "\n",
        "**Network Time Protocol (NTP)** operates on UDP port 123, serving as the heartbeat of network synchronization. At Hogwarts, where precise timing is crucial for everything from class schedules to time-sensitive potion brewing, NTP ensures all network devices maintain accurate time within milliseconds of each other. This level of precision becomes particularly important when correlating magical security events or coordinating automated processes across multiple systems.\n",
        "\n",
        "### Stratum Hierarchy and Time Distribution\n",
        "\n",
        "NTP operates through a hierarchical system of time servers organized into **strata**. Each stratum represents a level of distance from an authoritative time source:\n",
        "\n",
        "- **Stratum 0**: Primary time references (atomic clocks, GPS systems)\n",
        "- **Stratum 1**: Servers directly connected to Stratum 0 devices\n",
        "- **Stratum 2**: Servers that sync from Stratum 1\n",
        "- And so forth, down to Stratum 15\n",
        "\n",
        "Think of this hierarchy like a magical pedigree - the closer to the original source, the more authoritative the time. When Professor Vector's advanced Arithmancy calculations require microsecond precision, her equipment synchronizes with lower-stratum servers for maximum accuracy.\n",
        "\n",
        "| Stratum Level | Typical Accuracy | Common Use | Example |\n",
        "|--------------|------------------|-------------|----------|\n",
        "| 1 | < 10 microseconds | Primary time servers | Ministry of Magic central timekeeper |\n",
        "| 2 | < 50 microseconds | Regional/organizational | Hogwarts main time servers |\n",
        "| 3 | < 100 microseconds | Department/subnet | House common room systems |\n",
        "| 4+ | < 1 millisecond | End devices | Student laptops, magical devices |\n",
        "\n",
        "### NTP Synchronization Process\n",
        "\n",
        "The synchronization process involves sophisticated algorithms that account for network delay, jitter, and potential time source errors. When a device synchronizes time, it:\n",
        "\n",
        "1. Sends timestamps to multiple time sources\n",
        "2. Measures round-trip delay and offset\n",
        "3. Applies statistical algorithms to select the best time sources\n",
        "4. Gradually adjusts its local clock to match the selected reference\n",
        "\n",
        "Professor Flitwick's enchanted classroom clocks demonstrate this process perfectly - they maintain synchronization even when magical interference affects network latency, thanks to NTP's robust error-handling algorithms.\n"
      ],
      "metadata": {
        "id": "PguiJ0OBsdNs"
      }
    },
    {
      "cell_type": "markdown",
      "source": [
        "### Graphic: NTP"
      ],
      "metadata": {
        "id": "exyG0FH7lvXA"
      }
    },
    {
      "cell_type": "code",
      "source": [
        "# @title\n",
        "mm(\"\"\"\n",
        "sequenceDiagram\n",
        "    participant Client as NTP Client (Device)\n",
        "    participant NTP_Server as NTP Server (Stratum 2)\n",
        "    participant Primary_Time as Primary Time Source (Stratum 1, e.g., Atomic Clock)\n",
        "\n",
        "    Client->>+NTP_Server: NTP Request (Time Query)\n",
        "    NTP_Server-->>-Client: NTP Response (Time and Offset)\n",
        "    Note over Client,NTP_Server: Client calculates clock offset and delay\n",
        "\n",
        "    NTP_Server->>+Primary_Time: Sync with Primary Time Source\n",
        "    Primary_Time-->>-NTP_Server: Provides Accurate Time\n",
        "    Note over NTP_Server,Primary_Time: NTP Server stays synced to Stratum 1 source\n",
        "\n",
        "\"\"\")"
      ],
      "metadata": {
        "cellView": "form",
        "id": "wiEJzFbHludP",
        "outputId": "f49afc40-f149-4b7b-cd8d-e8b0699463d3",
        "colab": {
          "base_uri": "https://localhost:8080/",
          "height": 621
        }
      },
      "execution_count": null,
      "outputs": [
        {
          "output_type": "display_data",
          "data": {
            "text/html": [
              "<img src=\"https://mermaid.ink/img/CnNlcXVlbmNlRGlhZ3JhbQogICAgcGFydGljaXBhbnQgQ2xpZW50IGFzIE5UUCBDbGllbnQgKERldmljZSkKICAgIHBhcnRpY2lwYW50IE5UUF9TZXJ2ZXIgYXMgTlRQIFNlcnZlciAoU3RyYXR1bSAyKQogICAgcGFydGljaXBhbnQgUHJpbWFyeV9UaW1lIGFzIFByaW1hcnkgVGltZSBTb3VyY2UgKFN0cmF0dW0gMSwgZS5nLiwgQXRvbWljIENsb2NrKQoKICAgIENsaWVudC0-PitOVFBfU2VydmVyOiBOVFAgUmVxdWVzdCAoVGltZSBRdWVyeSkKICAgIE5UUF9TZXJ2ZXItLT4-LUNsaWVudDogTlRQIFJlc3BvbnNlIChUaW1lIGFuZCBPZmZzZXQpCiAgICBOb3RlIG92ZXIgQ2xpZW50LE5UUF9TZXJ2ZXI6IENsaWVudCBjYWxjdWxhdGVzIGNsb2NrIG9mZnNldCBhbmQgZGVsYXkKCiAgICBOVFBfU2VydmVyLT4-K1ByaW1hcnlfVGltZTogU3luYyB3aXRoIFByaW1hcnkgVGltZSBTb3VyY2UKICAgIFByaW1hcnlfVGltZS0tPj4tTlRQX1NlcnZlcjogUHJvdmlkZXMgQWNjdXJhdGUgVGltZQogICAgTm90ZSBvdmVyIE5UUF9TZXJ2ZXIsUHJpbWFyeV9UaW1lOiBOVFAgU2VydmVyIHN0YXlzIHN5bmNlZCB0byBTdHJhdHVtIDEgc291cmNlCgo=?width=1000&height=600\"/>"
            ],
            "text/plain": [
              "<IPython.core.display.Image object>"
            ]
          },
          "metadata": {}
        }
      ]
    },
    {
      "cell_type": "markdown",
      "source": [
        "## System Logging (Syslog) - Port 514\n",
        "\n",
        "**Syslog**, operating primarily on UDP port 514 (with modern implementations also supporting TCP), serves as the central nervous system for network monitoring and troubleshooting. When the enchanted door to the Slytherin common room experiences an authentication failure, or when a student attempts to access restricted library resources, these events are logged via Syslog to central collection servers.\n",
        "\n",
        "### Facility and Severity Levels\n",
        "\n",
        "Syslog messages are categorized by both facility (the source type) and severity (the importance level), creating a structured approach to log management:\n",
        "\n",
        "| Severity Level | Value | Description | Example Use Case |\n",
        "|----------------|-------|-------------|------------------|\n",
        "| Emergency (0) | emerg | System unusable | Main castle wards failing |\n",
        "| Alert (1) | alert | Immediate action needed | Unauthorized Apparition detected |\n",
        "| Critical (2) | crit | Critical conditions | Authentication server down |\n",
        "| Error (3) | err | Error conditions | Failed login attempts |\n",
        "| Warning (4) | warning | Warning conditions | Low disk space on library catalog |\n",
        "| Notice (5) | notice | Normal but significant | New student device registered |\n",
        "| Info (6) | info | Informational messages | Routine system operations |\n",
        "| Debug (7) | debug | Debug-level messages | Detailed troubleshooting data |\n",
        "\n",
        "### Modern Syslog Implementations\n",
        "\n",
        "Contemporary syslog systems have evolved far beyond the original UDP-only protocol. Modern implementations support:\n",
        "\n",
        "- **Reliable Delivery**: TCP transport ensures log message delivery\n",
        "- **Encryption**: TLS encryption protects sensitive log data\n",
        "- **Authentication**: Message signing verifies log sources\n",
        "- **Structured Data**: JSON/XML formatting for better parsing\n",
        "- **High-Performance**: Buffer management for burst handling\n",
        "\n",
        "At Hogwarts, Hermione implemented a hierarchical logging infrastructure where each house's network equipment sends logs to house-specific collectors, which then forward filtered and aggregated data to the castle's central logging system. This design provides both detailed local logging and centralized visibility while managing network bandwidth efficiently."
      ],
      "metadata": {
        "id": "Ml2GG1roltHx"
      }
    },
    {
      "cell_type": "markdown",
      "source": [
        "## Review With Quizlet"
      ],
      "metadata": {
        "id": "KQwcsO6FV1ZA"
      }
    },
    {
      "cell_type": "code",
      "source": [
        "%%html\n",
        "<iframe src=\"https://quizlet.com/968975037/learn/embed?i=psvlh&x=1jj1\" height=\"600\" width=\"100%\" style=\"border:0\"></iframe>"
      ],
      "metadata": {
        "id": "zd4Py9rjV4zQ",
        "outputId": "f8556773-7c3a-4b47-baeb-a09e35b0f8eb",
        "colab": {
          "base_uri": "https://localhost:8080/",
          "height": 622
        }
      },
      "execution_count": 2,
      "outputs": [
        {
          "output_type": "display_data",
          "data": {
            "text/plain": [
              "<IPython.core.display.HTML object>"
            ],
            "text/html": [
              "<iframe src=\"https://quizlet.com/968975037/learn/embed?i=psvlh&x=1jj1\" height=\"600\" width=\"100%\" style=\"border:0\"></iframe>\n"
            ]
          },
          "metadata": {}
        }
      ]
    },
    {
      "cell_type": "markdown",
      "source": [
        "## Glossary\n",
        "\n",
        "**Basic IP Addressing Concepts**\n",
        "\n",
        "| Term | Definition |\n",
        "|------|------------|\n",
        "| IP Address | A unique numerical identifier assigned to each device on a network, serving as its network address for communication |\n",
        "| IPv4 | The fourth version of the Internet Protocol using 32-bit addresses in dotted decimal format (e.g., 192.168.1.1) |\n",
        "| IPv6 | The sixth version of the Internet Protocol using 128-bit addresses in hexadecimal format, supporting vastly more unique addresses |\n",
        "| Public IP Address | An address assigned by an Internet Service Provider that is globally routable and accessible from the Internet |\n",
        "| Private IP Address | An address used within local networks that cannot be routed directly over the Internet, following RFC 1918 specifications |\n",
        "| Virtual IP | A secondary IP address assigned to a network interface, often used for high availability or load balancing |\n",
        "| Subinterface | A logical division of a physical network interface that can operate with its own VLAN ID and IP address |\n",
        "| Port | A logical construct that identifies a specific process or service on a system |\n",
        "\n",
        "\n",
        "**IP Address Management & Translation**\n",
        "\n",
        "| Term | Definition |\n",
        "|------|------------|\n",
        "| Network Address Translation (NAT) | A method of remapping one address space into another by modifying network address information |\n",
        "| Port Address Translation (PAT) | A type of NAT that allows multiple devices to share a single public IP address using different ports |\n",
        "| Automatic Private IP Addressing (AIPA) | A feature that automatically assigns an address in the 169.254.0.0/16 range when DHCP fails |\n",
        "| Link Local | Addresses automatically configured for communication on a single network segment, not routable |\n",
        "| Dual Stack | A network protocol implementation that simultaneously supports both IPv4 and IPv6 |\n",
        "\n",
        "**Special Address Types**\n",
        "\n",
        "| Term | Definition |\n",
        "|------|------------|\n",
        "| Loopback | A special address (127.0.0.1 in IPv4 or ::1 in IPv6) used to test local networking functionality |\n",
        "| Default Gateway | The network node that serves as the forwarding host to other networks when no other route specification matches |\n",
        "| Broadcast Address | A special address used to send data to all devices on a network segment |\n",
        "| ip addr show | A Linux command used to display and configure network interface addresses |\n",
        "\n",
        "**IPv4 Classes**\n",
        "\n",
        "| Term | Definition |\n",
        "|------|------------|\n",
        "| Class A (IPv4) | Addresses starting with bits 0, ranging from 1.0.0.0 to 126.255.255.255, with a default mask of 255.0.0.0. For very larage networks.|\n",
        "| Class B (IPv4) | Addresses starting with bits 10, ranging from 128.0.0.0 to 191.255.255.255, with a default mask of 255.255.0.0. For medium-sized networks. |\n",
        "| Class C (IPv4) | Addresses starting with bits 110, ranging from 192.0.0.0 to 223.255.255.255, with a default mask of 255.255.255.0. For small networks. |\n",
        "| Class D (IPv4) | Addresses starting with bits 1110, ranging from 224.0.0.0 to 239.255.255.255, used for multicast |\n",
        "| Class E (IPv4) | Addresses starting with bits 1111, ranging from 240.0.0.0 to 255.255.255.255, reserved for experimental use |\n",
        "| Classless Inter-Domain Routing (CIDR) | A method of allocating IP addresses and routing that replaces the original classful network addressing |\n",
        "\n",
        "**IPv6 Special Features**\n",
        "\n",
        "| Term | Definition |\n",
        "|------|------------|\n",
        "| Unicast (IPv6) | A one-to-one transmission method where data is sent to a single destination |\n",
        "| Multicast (IPv6) | A one-to-many transmission method where data is sent to multiple destinations simultaneously |\n",
        "| Anycast (IPv6) | A one-to-nearest transmission method where data is sent to the closest of multiple possible destinations |\n",
        "| Extended Unique Identifier (EUI-64) | A method for automatically generating IPv6 interface identifiers using MAC addresses |\n",
        "| Stateless Address Autoconfiguration (SLAAC) | An automated process where devices configure their own IPv6 addresses without a server |\n",
        "| Router Advertisement | Messages sent by routers to announce their presence and provide network configuration information |\n",
        "| 6to4 | An IPv6 transition mechanism that allows IPv6 packets to be transmitted over an IPv4 network without configuring explicit tunnels |\n",
        "| Teredo | A tunneling protocol designed to grant IPv6 connectivity to nodes that are behind NAT devices |\n",
        "\n",
        "**Subnetting Concepts**\n",
        "\n",
        "| Term | Definition |\n",
        "|------|------------|\n",
        "| Subnet | A logical subdivision of an IP network that allows for more efficient network management |\n",
        "| Subnet Mask | A 32-bit number that masks an IP address to separate the network address from the host address |\n",
        "| /8 (subnet) | A network using 8 bits for the network portion, leaving 24 bits for hosts (255.0.0.0), supporting 16,777,214 hosts |\n",
        "| /16 (subnet) | A network using 16 bits for the network portion, leaving 16 bits for hosts (255.255.0.0), supporting 65,534 hosts |\n",
        "| /24 (subnet) | A network using 24 bits for the network portion, leaving 8 bits for hosts (255.255.255.0), supporting 254 hosts |\n",
        "| Ipcalc | A command-line utility for performing IP address calculations and subnet planning |\n",
        "\n",
        "**Port Categories**\n",
        "\n",
        "| Term | Definition |\n",
        "|------|------------|\n",
        "| Well-known Ports | Port numbers ranging from 0 to 1023, reserved for common system services |\n",
        "| Registered Ports | Port numbers ranging from 1024 to 49151, assigned by IANA for specific services |\n",
        "| Dynamic/Private Ports | Port numbers ranging from 49152 to 65535, used for temporary or private purposes |\n",
        "\n",
        "**Remote Access and Management Ports**\n",
        "\n",
        "| Term | Definition |\n",
        "|------|------------|\n",
        "| Secure Shell (SSH) | TCP port 22, provides encrypted remote access and file transfer capabilities |\n",
        "| Telnet | TCP port 23, offers unencrypted remote terminal access (not recommended for security reasons) |\n",
        "| Remote Desktop Protocol (RDP) | TCP port 3389, enables remote graphical desktop access on Windows systems |\n",
        "| Simple Network Management Protocol (SNMP) | UDP ports 161/162, used for network device monitoring and management |\n",
        "| Lightweight Directory Access Protocol (LDAP/LDAPS) | TCP ports 389/636, provides directory service access with optional encryption |\n",
        "\n",
        "**File Transfer Ports**\n",
        "\n",
        "| Term | Definition |\n",
        "|------|------------|\n",
        "| File Transfer Protocol (FTP) | TCP ports 20/21, handles basic file transfer and control connections |\n",
        "| Secure File Transfer Protocol (SFTP) | TCP port 22, provides encrypted file transfer using SSH protocol |\n",
        "| Trivial Transfer Protocol (TFTP) | UDP port 69, offers simple file transfer without authentication |\n",
        "| Server Message Block (SMB) | TCP port 445, enables file and printer sharing on Windows networks |\n",
        "\n",
        "**Database Ports**\n",
        "\n",
        "| Term | Definition |\n",
        "|------|------------|\n",
        "| SQLNet Port | TCP port 1521, used by Oracle database for client-server communication |\n",
        "| SQL Server Port | TCP port 1433, the default port for Microsoft SQL Server communications |\n",
        "| MySQL Port | TCP port 3306, used for MySQL database connections |\n",
        "\n",
        "**Web and Email Ports**\n",
        "\n",
        "| Term | Definition |\n",
        "|------|------------|\n",
        "| Hypertext Transfer Protocol Port (HTTP/HTTPS) | TCP ports 80/443, used for web traffic with optional encryption |\n",
        "| Simple Mail Transfer Protocol (SMTP/SMTP TLS) | TCP ports 25/587, handles outgoing email delivery |\n",
        "| Post Office Protocol v3 (POP3/POP3 SSL) | TCP ports 110/995, manages email retrieval with optional encryption |\n",
        "| Internet Message Access Protocol (IMAP/IMAP SSL) | TCP ports 143/993, provides advanced email management with optional encryption |\n",
        "| Session Initial Protocol (SIP) | TCP/UDP port 5060/5061, used for voice and video communication initiation |\n",
        "\n",
        "**Core Network Service Ports**\n",
        "\n",
        "| Term | Definition |\n",
        "|------|------------|\n",
        "| Domain Name System Port (DNS) | UDP/TCP port 53, used for resolving domain names to IP addresses |\n",
        "| Dynamic Host Configuration Protocol Port (DHCP) | UDP ports 67/68, manages automatic IP address assignment to network devices |\n",
        "| Network Time Protocol (NTP) | UDP port 123, synchronizes time between computer systems across networks |\n",
        "| Syslog | UDP port 514, handles system logging and event message collection |\n",
        "\n",
        "**DNS Server Hierarchy**\n",
        "\n",
        "| Term | Definition |\n",
        "|------|------------|\n",
        "| Root DNS Server | One of 13 server clusters that form the highest level of the DNS hierarchy, providing information about top-level domains |\n",
        "| Top-Level Domain Server (TLDs) | Name servers responsible for domains like .com, .org, .net, and country codes |\n",
        "| Authoritative Name Server | The definitive source for information about a specific domain and its resources |\n",
        "| Internal DNS Server | A local name server that handles DNS queries within an organization's network |\n",
        "\n",
        "**DNS Components and Records**\n",
        "\n",
        "| Term | Definition |\n",
        "|------|------------|\n",
        "| Time to Live (TTL) – DNS | The duration for which DNS records should be cached before requiring a new query |\n",
        "| Zone (DNS Server) | A portion of the DNS namespace managed by a specific organization or administrator |\n",
        "| DNS Caching | The temporary storage of DNS query results to improve resolution speed and reduce network traffic |\n",
        "\n",
        "**DNS Record Types**\n",
        "\n",
        "| Term | Definition |\n",
        "|------|------------|\n",
        "| A (DNS Record) | Maps a domain name to an IPv4 address |\n",
        "| AAAA (DNS Record) | Maps a domain name to an IPv6 address |\n",
        "| CNAME (DNS Record) | Creates an alias pointing one domain name to another |\n",
        "| MX (DNS Record) | Specifies mail servers responsible for accepting email for a domain |\n",
        "| PTR (DNS Record) | Maps an IP address to a domain name, used for reverse DNS lookups |\n",
        "\n",
        "**DHCP and NTP Components**\n",
        "\n",
        "| Term | Definition |\n",
        "|------|------------|\n",
        "| Exclusion Range (DHCP) | A set of IP addresses within a DHCP scope that won't be automatically assigned to clients |\n",
        "| Lease (DHCP) | The duration for which a DHCP client may use an assigned IP address |\n",
        "| Stratum (NTP) | A hierarchical level indicating the distance from the authoritative time source, with lower numbers being more accurate |"
      ],
      "metadata": {
        "id": "FbFjNJamQ1cP"
      }
    },
    {
      "cell_type": "code",
      "source": [],
      "metadata": {
        "id": "86LvgOpVUDsU"
      },
      "execution_count": null,
      "outputs": []
    }
  ]
}