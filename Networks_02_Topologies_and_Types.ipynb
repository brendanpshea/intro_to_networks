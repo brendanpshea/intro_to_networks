{
  "nbformat": 4,
  "nbformat_minor": 0,
  "metadata": {
    "colab": {
      "provenance": [],
      "authorship_tag": "ABX9TyMVVLkKMHkaI0Trkw/2LgK4",
      "include_colab_link": true
    },
    "kernelspec": {
      "name": "python3",
      "display_name": "Python 3"
    },
    "language_info": {
      "name": "python"
    }
  },
  "cells": [
    {
      "cell_type": "markdown",
      "metadata": {
        "id": "view-in-github",
        "colab_type": "text"
      },
      "source": [
        "<a href=\"https://colab.research.google.com/github/brendanpshea/intro_to_networks/blob/main/Networks_02_Topologies_and_Types.ipynb\" target=\"_parent\"><img src=\"https://colab.research.google.com/assets/colab-badge.svg\" alt=\"Open In Colab\"/></a>"
      ]
    },
    {
      "cell_type": "markdown",
      "source": [
        "# Understanding Computer Networks: Topologies and Types\n",
        "\n",
        "In today's digital age, computer networks are as essential to modern business as electricity and telephones were to businesses of the past century. Whether it's a small photography studio sharing images between computers or a major news organization coordinating hundreds of employees across multiple departments, understanding how to design and implement effective networks is crucial for success.\n",
        "\n",
        "This chapter explores two fundamental concepts in networking: **network topologies** (the physical and logical arrangement of network components) and **network types** (the classification of networks based on their scale and purpose). We'll examine how these concepts work together to create efficient, reliable communication systems that meet an organization's specific needs.\n",
        "\n",
        "## Case Study: The Daily Bugle Network Overhaul\n",
        "\n",
        "Throughout this chapter, we'll follow the IT team at the Daily Bugle, New York's leading newspaper (in the \"Spiderverse), as they modernize their aging network infrastructure. The Daily Bugle presents unique challenges that many modern organizations face:\n",
        "\n",
        "- Multiple departments with different networking needs (Editorial, Photography, Advertising, Printing)\n",
        "- Mix of time-sensitive and bandwidth-intensive operations\n",
        "- Need for 24/7 reliability for web operations\n",
        "- Security concerns due to handling sensitive information\n",
        "- Physical constraints of a multi-floor office building\n",
        "- Remote workers needing secure access\n",
        "\n",
        "As we explore each concept, we'll see how the Daily Bugle's network administrators apply these principles to create a robust, efficient network that serves the newspaper's diverse needs. From handling photographer Peter Parker's high-resolution images to ensuring Editor-in-Chief J. Jonah Jameson can access the latest stories from anywhere in the building, each decision in the network design process has real-world implications."
      ],
      "metadata": {
        "id": "TOTeN1CbWbz5"
      }
    },
    {
      "cell_type": "markdown",
      "source": [
        "## Network Topologies\n",
        "\n",
        "When the Daily Bugle's network administrators began planning their system upgrade, they faced a fundamental question that all network designers must address: how should the various components of their network be arranged and connected? This question cuts to the heart of network topology, one of the most crucial concepts in network design.\n",
        "\n",
        "A **network topology** defines how devices in a network are arranged and how they communicate with each other. However, topology isn't just about physical connections -- it encompasses both the physical layout of cables and equipment and the logical pathways that data follows as it moves through the network. Understanding this distinction is crucial for modern network design.\n",
        "\n",
        "### Physical vs. Logical Topologies: A Tale of Two Networks\n",
        "\n",
        "Consider the photography department at the Daily Bugle. The physical network cables might run from each photographer's workstation directly to a central switch in a star pattern, but the data from Peter Parker's latest Spider-Man photos might follow a completely different path through the network to reach different destinations. When he saves files to the photography department's shared storage, the data travels directly to the storage server. However, when he submits photos to the editorial system, they first pass through security scanning, then backup systems, and finally reach the editorial database -- creating a logical path that bears little resemblance to the physical cable layout.\n",
        "\n",
        "This distinction between **physical topology** (the actual cable and device layout) and **logical topology** (the path data follows) becomes increasingly important as networks grow more complex. At the Daily Bugle, understanding this difference helped the IT team design a network that could handle everything from rapid-fire news updates to massive photo archives while maintaining security and performance.\n",
        "\n",
        "### Basic Network Topologies: The Foundation of Network Design\n",
        "\n",
        "Just as architects begin with basic shapes and forms, network designers start with fundamental topology types. Each of these basic topologies has distinct characteristics that make it suitable for specific uses within a larger network. Let's explore each type in detail, using real scenarios from the Daily Bugle's network to illustrate their applications."
      ],
      "metadata": {
        "id": "vfKr743gWp6X"
      }
    },
    {
      "cell_type": "markdown",
      "source": [
        "### Star Topology: The Hub and Spoke Design\n",
        "\n",
        "In a world increasingly dependent on fast, reliable computer networks, few designs have proven as practical and adaptable as the star topology. A **star topology** connects all network devices to a single central point, creating a pattern that resembles a star with rays extending outward. This central point, known as a **network hub** or more commonly today a **network switch**, serves as the heart of the network, managing all data flow between connected devices.\n",
        "\n",
        "Understanding star topology requires familiarity with several key components. The central device, or **switch**, acts as a traffic director, receiving data from one device and sending it specifically to its intended destination. Each **end point** (such as a computer, printer, or other networked device) connects to this central switch through its own dedicated cable, known as a **point-to-point connection**. This individual cabling creates what network engineers call **network segments** - separate pathways that help prevent data collisions and improve overall network performance.\n",
        "\n",
        "| Star Topology Properties |                                          |\n",
        "|-------------------------|------------------------------------------|\n",
        "| Cost                    | Moderate to High                         |\n",
        "| Initial Setup           | Straightforward                          |\n",
        "| Reliability             | Good (except for hub failure)            |\n",
        "| Scalability             | Excellent                                |\n",
        "| Maintenance Ease        | Very Good                                |\n",
        "| Cable Requirements      | High (one per device)                    |\n",
        "| Performance             | Excellent                                |\n",
        "| Bandwidth Distribution  | Even across all devices                  |\n",
        "| Fault Isolation         | Easy to identify and fix                 |\n",
        "| Common Uses             | Office networks, school computer labs    |\n",
        "\n",
        "**Star Power: The Daily Bugle's Network Crisis**\n",
        "\n",
        "The power of star topology - and its primary vulnerability - became dramatically clear during what Daily Bugle staff now call \"The Great Server Room Showdown.\" During a tense standoff between Spider-Man and the Electro in the building's basement, a massive power surge hit the Daily Bugle's main network switch. In a traditional bus or ring topology, this might have created a cascading failure across the entire network. However, thanks to the star topology's segmented design, the IT team could quickly identify the problem and reroute critical departments to a backup switch.\n",
        "\n",
        "The incident highlighted both the strength and weakness of star topology. While the central switch's failure initially took down the network, the individual cable connections to each department meant that the IT team could prioritize recovery. They quickly restored service to the news desk and photography department through the backup switch, while less critical departments like archives temporarily remained offline. The isolated nature of each connection - a key feature of star topology - meant that as each cable was switched over, that department could resume work immediately, without waiting for the entire network to be restored.\n",
        "\n",
        "This experience led to several topology-specific improvements in the Daily Bugle's network design:\n",
        "1. Installation of redundant switches with automatic failover\n",
        "2. Separate cable runs for critical departments\n",
        "3. Department-specific backup switches for the most essential operations\n",
        "\n",
        "The star topology's hub-and-spoke design made these improvements possible - each department could be given its own backup path without disrupting the overall network architecture. Today, even when the occasional superhero battle rocks the building, the Daily Bugle's network remains resilient, ready to publish the next breaking story about New York's favorite web-slinger."
      ],
      "metadata": {
        "id": "kP3CoVujXI8T"
      }
    },
    {
      "cell_type": "code",
      "source": [
        "## Star Diagram\n",
        "import base64\n",
        "from IPython.display import Image, display\n",
        "import matplotlib.pyplot as plt\n",
        "\n",
        "def mm(graph, width=800, height=600):  # Add default dimensions\n",
        "    graphbytes = graph.encode(\"utf8\")\n",
        "    base64_bytes = base64.urlsafe_b64encode(graphbytes)\n",
        "    base64_string = base64_bytes.decode(\"ascii\")\n",
        "    # Add width and height parameters to the URL\n",
        "    url = f\"https://mermaid.ink/img/{base64_string}?width={width}&height={height}\"\n",
        "    display(Image(url=url))\n",
        "\n",
        "mm(\"\"\"\n",
        "graph TB\n",
        "    subgraph \"Daily Bugle Star Network\"\n",
        "    NS[Network Switch]\n",
        "    NS <-->|Dedicated Line| JJJ[J. Jonah's Office]\n",
        "    NS <-->|Dedicated Line| PP[Peter's Photo Station]\n",
        "    NS <-->|Dedicated Line| BR[Betty's Reception PC]\n",
        "    NS <-->|Dedicated Line| RR[Robbie's Editor PC]\n",
        "    NS <-->|Dedicated Line| BU[Ben Urich's Desktop]\n",
        "    NS <-->|Dedicated Line| PR[Printer Room]\n",
        "\n",
        "    style NS fill:#ff9999\n",
        "    style JJJ fill:#99ff99\n",
        "    style PP fill:#99ff99\n",
        "    style BR fill:#99ff99\n",
        "    style RR fill:#99ff99\n",
        "    style BU fill:#99ff99\n",
        "    style PR fill:#99ff99\n",
        "    end\"\"\")"
      ],
      "metadata": {
        "colab": {
          "base_uri": "https://localhost:8080/",
          "height": 621
        },
        "id": "46cTTvuXmPGp",
        "outputId": "6ba0ed9c-ccf3-4b59-cd54-bdb8f2e72471"
      },
      "execution_count": null,
      "outputs": [
        {
          "output_type": "display_data",
          "data": {
            "text/html": [
              "<img src=\"https://mermaid.ink/img/CmdyYXBoIFRCCiAgICBzdWJncmFwaCAiRGFpbHkgQnVnbGUgU3RhciBOZXR3b3JrIgogICAgTlNbTmV0d29yayBTd2l0Y2hdCiAgICBOUyA8LS0-fERlZGljYXRlZCBMaW5lfCBKSkpbSi4gSm9uYWgncyBPZmZpY2VdCiAgICBOUyA8LS0-fERlZGljYXRlZCBMaW5lfCBQUFtQZXRlcidzIFBob3RvIFN0YXRpb25dCiAgICBOUyA8LS0-fERlZGljYXRlZCBMaW5lfCBCUltCZXR0eSdzIFJlY2VwdGlvbiBQQ10KICAgIE5TIDwtLT58RGVkaWNhdGVkIExpbmV8IFJSW1JvYmJpZSdzIEVkaXRvciBQQ10KICAgIE5TIDwtLT58RGVkaWNhdGVkIExpbmV8IEJVW0JlbiBVcmljaCdzIERlc2t0b3BdCiAgICBOUyA8LS0-fERlZGljYXRlZCBMaW5lfCBQUltQcmludGVyIFJvb21dCiAgICAKICAgIHN0eWxlIE5TIGZpbGw6I2ZmOTk5OQogICAgc3R5bGUgSkpKIGZpbGw6Izk5ZmY5OQogICAgc3R5bGUgUFAgZmlsbDojOTlmZjk5CiAgICBzdHlsZSBCUiBmaWxsOiM5OWZmOTkKICAgIHN0eWxlIFJSIGZpbGw6Izk5ZmY5OQogICAgc3R5bGUgQlUgZmlsbDojOTlmZjk5CiAgICBzdHlsZSBQUiBmaWxsOiM5OWZmOTkKICAgIGVuZA==?width=800&height=600\"/>"
            ],
            "text/plain": [
              "<IPython.core.display.Image object>"
            ]
          },
          "metadata": {}
        }
      ]
    },
    {
      "cell_type": "markdown",
      "source": [
        "#### Bus Topology: The Network Highway\n",
        "\n",
        "A **bus topology** represents one of the earliest and most straightforward network designs, where all devices connect to a single central cable called the **backbone** or **bus**. Like houses along a main road, each device connects to this backbone through a small connector called a **tap** or **drop line**. At each end of the backbone, a special connector called a **terminator** absorbs signal waves, preventing them from bouncing back and creating interference.\n",
        "\n",
        "Understanding bus topology requires familiarity with several key terms. The **backbone** cable carries all network traffic, while **terminators** prevent signal reflection. Each device connects through a **T-connector**, which allows it to \"listen\" to all data passing along the bus. When a device wants to communicate, it uses a protocol called **CSMA/CD** (Carrier Sense Multiple Access/Collision Detection) to determine when it's safe to transmit data without interfering with other communications.\n",
        "\n",
        "| Bus Topology Properties |                                          |\n",
        "|------------------------|------------------------------------------|\n",
        "| Cost                   | Low                                      |\n",
        "| Initial Setup          | Simple                                   |\n",
        "| Reliability            | Poor (single point of failure)           |\n",
        "| Scalability            | Limited                                  |\n",
        "| Maintenance Ease       | Moderate                                 |\n",
        "| Cable Requirements     | Minimal                                  |\n",
        "| Performance            | Degrades with more devices               |\n",
        "| Bandwidth sharing      | All devices share bandwidth              |\n",
        "| Fault Isolation        | Difficult                                |\n",
        "| Common Uses            | Legacy systems, small temporary networks |\n",
        "\n",
        "**The Late Edition Crisis**\n",
        "\n",
        "The Daily Bugle's printing facility provided a perfect example of both the simplicity and vulnerability of bus topology during what became known as \"The Late Edition Crisis.\" The facility's older printing press monitoring system used a bus topology to connect various sensors and control systems along the printing line. One night, while rushing to print a breaking story about Spider-Man's latest battle with the Green Goblin, a maintenance worker accidentally kinked the main backbone cable while checking a malfunctioning paper feed.\n",
        "\n",
        "The kinked cable created a break in the bus, and suddenly every monitoring station past the break went dark. Because of the bus topology's linear nature, this single point of failure effectively split the network in two. Devices before the break could communicate with each other, but not with devices after it. The printing press couldn't receive the complete data it needed to operate, bringing the entire printing operation to a halt.\n",
        "\n",
        "This incident highlighted the key weakness of bus topology - a single break in the main cable affects all connected devices. The maintenance team had to physically inspect the entire length of the backbone cable to find the problem, a task made more challenging by the cable's route through complex printing machinery. The experience led to the printing facility's gradual transition to more modern network topologies, though they kept the bus topology for some legacy systems where its simplicity still proved advantageous.\n"
      ],
      "metadata": {
        "id": "utL17RZejLD4"
      }
    },
    {
      "cell_type": "code",
      "source": [
        "mm(\"\"\"\n",
        "graph LR\n",
        "    subgraph \"Printing Press Bus Network\"\n",
        "    T1[Terminator] --- B1[Press Control]\n",
        "    B1 --- B2[Ink Levels]\n",
        "    B2 --- B3[Paper Feed]\n",
        "    B3 --- B4[Output Monitor]\n",
        "    B4 --- T2[Terminator]\n",
        "\n",
        "    style T1 fill:#ff99ff\n",
        "    style T2 fill:#ff99ff\n",
        "    style B1 fill:#99ffff\n",
        "    style B2 fill:#99ffff\n",
        "    style B3 fill:#99ffff\n",
        "    style B4 fill:#99ffff\n",
        "    end\n",
        "    \"\"\")"
      ],
      "metadata": {
        "colab": {
          "base_uri": "https://localhost:8080/",
          "height": 621
        },
        "id": "1pp2b6DpmiF4",
        "outputId": "4d792f79-bfbd-436a-ea12-334ea9a4781d"
      },
      "execution_count": null,
      "outputs": [
        {
          "output_type": "display_data",
          "data": {
            "text/html": [
              "<img src=\"https://mermaid.ink/img/CmdyYXBoIExSCiAgICBzdWJncmFwaCAiUHJpbnRpbmcgUHJlc3MgQnVzIE5ldHdvcmsiCiAgICBUMVtUZXJtaW5hdG9yXSAtLS0gQjFbUHJlc3MgQ29udHJvbF0KICAgIEIxIC0tLSBCMltJbmsgTGV2ZWxzXQogICAgQjIgLS0tIEIzW1BhcGVyIEZlZWRdCiAgICBCMyAtLS0gQjRbT3V0cHV0IE1vbml0b3JdCiAgICBCNCAtLS0gVDJbVGVybWluYXRvcl0KICAgIAogICAgc3R5bGUgVDEgZmlsbDojZmY5OWZmCiAgICBzdHlsZSBUMiBmaWxsOiNmZjk5ZmYKICAgIHN0eWxlIEIxIGZpbGw6Izk5ZmZmZgogICAgc3R5bGUgQjIgZmlsbDojOTlmZmZmCiAgICBzdHlsZSBCMyBmaWxsOiM5OWZmZmYKICAgIHN0eWxlIEI0IGZpbGw6Izk5ZmZmZgogICAgZW5kCiAgICA=?width=800&height=600\"/>"
            ],
            "text/plain": [
              "<IPython.core.display.Image object>"
            ]
          },
          "metadata": {}
        }
      ]
    },
    {
      "cell_type": "markdown",
      "source": [
        "#### Ring Topology: The Circle of Connection\n",
        "\n",
        "A **ring topology** connects network devices in a circular chain, where each device links directly to two other devices - one \"upstream\" and one \"downstream.\" Unlike the passive bus topology, ring networks are active: each device acts as a **repeater**, receiving data from one neighbor and transmitting it to the next. This creates a one-way flow of data around the ring, using a system called **token passing** to control which device can transmit at any given time.\n",
        "\n",
        "Key components include the **token** (a special data packet that grants permission to transmit), **repeaters** (built into each device to maintain signal strength), and **data frames** (packets of information that circle the ring). Modern ring networks often implement a technique called **beaconing**, where devices can detect and bypass failures in the ring.\n",
        "\n",
        "| Ring Topology Properties |                                          |\n",
        "|-------------------------|------------------------------------------|\n",
        "| Cost                    | Moderate                                 |\n",
        "| Initial Setup           | Moderately Complex                       |\n",
        "| Reliability             | Good (with dual ring)                    |\n",
        "| Scalability             | Limited                                  |\n",
        "| Maintenance Ease        | Moderate                                 |\n",
        "| Cable Requirements      | Moderate                                 |\n",
        "| Performance             | Consistent, predictable                   |\n",
        "| Bandwidth Distribution  | Equal access for all devices             |\n",
        "| Fault Isolation        | Moderate (with proper monitoring)         |\n",
        "| Common Uses            | Specialized industrial networks, FDDI     |\n",
        "\n",
        "**The Deadline Dance**\n",
        "\n",
        "The Daily Bugle's photo processing department learned about ring topology's unique characteristics during what staff photographers now call \"The Deadline Dance.\" The department used a ring network to connect six high-end photo processing workstations, each handling different aspects of image preparation: color correction, size adjustment, quality control, and final formatting.\n",
        "\n",
        "On the night of a major story about a showdown between Spider-Man and Doctor Octopus, Peter Parker's dramatic photos needed to move through each processing stage in sequence. The ring topology proved perfect for this workflow, as each station automatically passed the processed images to the next step in the chain. The token-passing system ensured that no station could be overwhelmed with data, as each had a guaranteed opportunity to transmit when it held the token.\n",
        "\n",
        "However, the ring's circular nature became a challenge when one workstation crashed while processing a particularly large image file. Initially, the entire ring froze - a classic problem with simple ring topologies. Fortunately, the IT team had implemented a \"dual ring\" architecture, which automatically bypassed the failed station by reversing data flow on a backup ring. This redundancy saved the deadline, allowing the photos to complete their processing journey despite the failed workstation.\n",
        "\n",
        "The incident demonstrated both the strengths and weaknesses of ring topology: its excellent performance for sequential processing and fair access for all devices, but also its vulnerability to single-point failures without proper redundancy measures. Today, the photo department's ring network includes automatic bypass features and dual rings, making it more resilient while maintaining the efficient, orderly flow of data that makes ring topology ideal for their specialized needs."
      ],
      "metadata": {
        "id": "1ZEbA-_1jWY3"
      }
    },
    {
      "cell_type": "code",
      "source": [
        "mm(\"\"\"\n",
        "graph TD\n",
        "    subgraph \"Photo Processing Ring\"\n",
        "    P1[Color Correction] --> P2[Size Adjustment]\n",
        "    P2 --> P3[Quality Control]\n",
        "    P3 --> P4[Spider-Man Photo Filter]\n",
        "    P4 --> P5[Final Formatting]\n",
        "    P5 --> P6[Archive Storage]\n",
        "    P6 --> P1\n",
        "\n",
        "    style P1 fill:#9999ff\n",
        "    style P2 fill:#9999ff\n",
        "    style P3 fill:#9999ff\n",
        "    style P4 fill:#9999ff\n",
        "    style P5 fill:#9999ff\n",
        "    style P6 fill:#9999ff\n",
        "    end\n",
        "    \"\"\")"
      ],
      "metadata": {
        "colab": {
          "base_uri": "https://localhost:8080/",
          "height": 621
        },
        "id": "jmecL_YdmzpO",
        "outputId": "a22877af-3287-4670-b3d8-fa4107825b7c"
      },
      "execution_count": null,
      "outputs": [
        {
          "output_type": "display_data",
          "data": {
            "text/html": [
              "<img src=\"https://mermaid.ink/img/CmdyYXBoIFRECiAgICBzdWJncmFwaCAiUGhvdG8gUHJvY2Vzc2luZyBSaW5nIgogICAgUDFbQ29sb3IgQ29ycmVjdGlvbl0gLS0-IFAyW1NpemUgQWRqdXN0bWVudF0KICAgIFAyIC0tPiBQM1tRdWFsaXR5IENvbnRyb2xdCiAgICBQMyAtLT4gUDRbU3BpZGVyLU1hbiBQaG90byBGaWx0ZXJdCiAgICBQNCAtLT4gUDVbRmluYWwgRm9ybWF0dGluZ10KICAgIFA1IC0tPiBQNltBcmNoaXZlIFN0b3JhZ2VdCiAgICBQNiAtLT4gUDEKICAgIAogICAgc3R5bGUgUDEgZmlsbDojOTk5OWZmCiAgICBzdHlsZSBQMiBmaWxsOiM5OTk5ZmYKICAgIHN0eWxlIFAzIGZpbGw6Izk5OTlmZgogICAgc3R5bGUgUDQgZmlsbDojOTk5OWZmCiAgICBzdHlsZSBQNSBmaWxsOiM5OTk5ZmYKICAgIHN0eWxlIFA2IGZpbGw6Izk5OTlmZgogICAgZW5kCiAgICA=?width=800&height=600\"/>"
            ],
            "text/plain": [
              "<IPython.core.display.Image object>"
            ]
          },
          "metadata": {}
        }
      ]
    },
    {
      "cell_type": "markdown",
      "source": [
        "#### Mesh Topology: The Web of Resilience\n",
        "\n",
        "A **mesh topology** creates multiple paths between network devices, much like a spider's web stretches between multiple anchor points. In a **fully meshed** network, every device connects directly to every other device, creating n(n-1)/2 connections for n devices. A more practical approach, called **partial mesh**, creates multiple paths between critical devices while leaving less essential connections single-linked.\n",
        "\n",
        "Key concepts in mesh topology include **routing protocols** (software that finds the best path through the mesh), **redundant links** (multiple connections between devices), and **failover** (automatic switching to backup paths when a connection fails). The topology also employs **dynamic routing tables** that continuously update to reflect the network's current state and available paths.\n",
        "\n",
        "| Mesh Topology Properties |                                          |\n",
        "|-------------------------|------------------------------------------|\n",
        "| Cost                    | Very High                                |\n",
        "| Initial Setup           | Complex                                  |\n",
        "| Reliability             | Excellent                                |\n",
        "| Scalability             | Limited by complexity                    |\n",
        "| Maintenance Ease        | Complex                                  |\n",
        "| Cable Requirements      | Extensive                                |\n",
        "| Performance             | Excellent                                |\n",
        "| Bandwidth Distribution  | Multiple paths available                 |\n",
        "| Fault Tolerance         | Very High                                |\n",
        "| Common Uses             | Critical systems, backbone networks      |\n",
        "\n",
        "**The Simultaneous Scoop**\n",
        "\n",
        "The true value of the Daily Bugle's mesh network infrastructure revealed itself during what became known as \"The Simultaneous Scoop.\" On a chaotic Monday morning, three major stories broke simultaneously: Spider-Man battling the Sinister Six downtown, a citywide power crisis, and a controversial mayoral announcement. The Bugle's network faced its ultimate test as reporters and photographers attempted to file stories and images from multiple locations while the website experienced record-breaking traffic.\n",
        "\n",
        "In a traditional topology, this surge of activity might have created bottlenecks or even crashed the system. However, the mesh topology's multiple pathways allowed data to flow through numerous routes simultaneously. When the main connection to the web servers became congested, traffic automatically rerouted through alternate paths. When Peter Parker's massive photo files from the Sinister Six battle threatened to overwhelm one network segment, the mesh network seamlessly distributed the load across multiple paths.\n",
        "\n",
        "The incident proved the worth of the expensive and complex mesh implementation. Even when a construction crew accidentally severed a major fiber optic cable during the crisis, the mesh topology's redundant connections maintained uninterrupted service. J. Jonah Jameson never even knew there had been a problem - he just knew the Bugle beat every other news outlet in the city to all three stories.\n"
      ],
      "metadata": {
        "id": "O8h1lzUajaB1"
      }
    },
    {
      "cell_type": "code",
      "source": [
        "mm(\"\"\"\n",
        "graph TB\n",
        "    subgraph \"Web of Resilience - Mesh Network\"\n",
        "    WS1[Web Server 1] <--> WS2[Web Server 2]\n",
        "    WS1 <--> WS3[Web Server 3]\n",
        "    WS1 <--> WS4[Web Server 4]\n",
        "    WS2 <--> WS3\n",
        "    WS2 <--> WS4\n",
        "    WS3 <--> WS4\n",
        "\n",
        "    style WS1 fill:#ffff99\n",
        "    style WS2 fill:#ffff99\n",
        "    style WS3 fill:#ffff99\n",
        "    style WS4 fill:#ffff99\n",
        "    end\n",
        "    \"\"\")"
      ],
      "metadata": {
        "colab": {
          "base_uri": "https://localhost:8080/",
          "height": 621
        },
        "id": "5NPDtke7moYY",
        "outputId": "db8c19c8-26ec-4650-81b8-fcee71060ff1"
      },
      "execution_count": null,
      "outputs": [
        {
          "output_type": "display_data",
          "data": {
            "text/html": [
              "<img src=\"https://mermaid.ink/img/CmdyYXBoIFRCCiAgICBzdWJncmFwaCAiV2ViIG9mIFJlc2lsaWVuY2UgLSBNZXNoIE5ldHdvcmsiCiAgICBXUzFbV2ViIFNlcnZlciAxXSA8LS0-IFdTMltXZWIgU2VydmVyIDJdCiAgICBXUzEgPC0tPiBXUzNbV2ViIFNlcnZlciAzXQogICAgV1MxIDwtLT4gV1M0W1dlYiBTZXJ2ZXIgNF0KICAgIFdTMiA8LS0-IFdTMwogICAgV1MyIDwtLT4gV1M0CiAgICBXUzMgPC0tPiBXUzQKICAgIAogICAgc3R5bGUgV1MxIGZpbGw6I2ZmZmY5OQogICAgc3R5bGUgV1MyIGZpbGw6I2ZmZmY5OQogICAgc3R5bGUgV1MzIGZpbGw6I2ZmZmY5OQogICAgc3R5bGUgV1M0IGZpbGw6I2ZmZmY5OQogICAgZW5kCiAgICA=?width=800&height=600\"/>"
            ],
            "text/plain": [
              "<IPython.core.display.Image object>"
            ]
          },
          "metadata": {}
        }
      ]
    },
    {
      "cell_type": "markdown",
      "source": [
        "#### Hybrid Topology: The Best of All Worlds\n",
        "\n",
        "A **hybrid topology** combines two or more basic network topologies to create a design tailored to specific needs. Rather than following a single pattern, hybrid networks use different topologies where they make the most sense, connected through a process called **topology bridging**. This approach requires careful planning to implement **interface protocols** that allow different topology types to communicate effectively.\n",
        "\n",
        "Understanding hybrid networks requires knowledge of **network segmentation** (dividing the network into distinct parts), **bridge protocols** (rules for connecting different topologies), and **traffic management** (controlling data flow between topology types).\n",
        "\n",
        "| Hybrid Topology Properties |                                          |\n",
        "|---------------------------|------------------------------------------|\n",
        "| Cost                      | Varies by implementation                 |\n",
        "| Initial Setup            | Highly Complex                           |\n",
        "| Reliability              | Customizable per section                 |\n",
        "| Scalability              | Excellent                                |\n",
        "| Maintenance Ease         | Varies by section                        |\n",
        "| Cable Requirements       | Depends on design                        |\n",
        "| Performance              | Optimizable per section                  |\n",
        "| Bandwidth Distribution   | Flexible                                 |\n",
        "| Fault Isolation          | Good                                     |\n",
        "| Common Uses              | Large organizations, campus networks     |\n",
        "\n",
        "**The Perfect Storm**\n",
        "\n",
        "The Daily Bugle's hybrid network architecture proved its worth during what the IT team calls \"The Perfect Storm\" - a day when every department faced unique challenges simultaneously. The newsroom needed to handle a surge of incoming stories about a developing crisis, the photography department was processing hundreds of high-resolution images, and the advertising department was finalizing the next day's layout while the web team managed record online traffic.\n",
        "\n",
        "The hybrid topology handled each department's needs differently:\n",
        "- The newsroom's star topology provided reliable, centralized access for reporters\n",
        "- The photo department's ring topology efficiently processed images in sequence\n",
        "- The web servers' mesh topology maintained constant uptime\n",
        "- The advertising department's bus topology connected legacy design systems\n",
        "\n",
        "When a power issue forced the IT team to shut down one section of the building, the hybrid design allowed them to keep critical systems running through alternative paths while isolating affected areas. The newspaper never missed a deadline, and readers never suspected the complex choreography happening behind the scenes.\n",
        "\n",
        "This event showcased how hybrid topology's flexibility allows organizations to use the right tool for each job while maintaining overall network integrity. Today, the Daily Bugle's hybrid network continues to evolve, adding new topology elements as departments' needs change while preserving the reliable connections that keep the news flowing."
      ],
      "metadata": {
        "id": "W5dPDvJSjd6F"
      }
    },
    {
      "cell_type": "code",
      "source": [
        "mm(\"\"\"\n",
        "graph TB\n",
        "    subgraph \"Daily Bugle Hybrid Network\"\n",
        "    NS[Network Switch] -->|Star| ED[Editorial Dept]\n",
        "    NS -->|Star| AD[Admin Dept]\n",
        "\n",
        "    subgraph \"Photo Ring\"\n",
        "    P1[Station 1] --> P2[Station 2] --> P3[Station 3] --> P1\n",
        "    end\n",
        "\n",
        "    subgraph \"Web Mesh\"\n",
        "    W1[Web 1] <--> W2[Web 2]\n",
        "    W1 <--> W3[Web 3]\n",
        "    W2 <--> W3\n",
        "    end\n",
        "\n",
        "    NS -->|Connection| P1\n",
        "    NS -->|Connection| W1\n",
        "\n",
        "    style NS fill:#ff9999\n",
        "    style ED fill:#99ff99\n",
        "    style AD fill:#99ff99\n",
        "    style P1 fill:#9999ff\n",
        "    style P2 fill:#9999ff\n",
        "    style P3 fill:#9999ff\n",
        "    style W1 fill:#ffff99\n",
        "    style W2 fill:#ffff99\n",
        "    style W3 fill:#ffff99\n",
        "    end\"\"\")"
      ],
      "metadata": {
        "colab": {
          "base_uri": "https://localhost:8080/",
          "height": 621
        },
        "id": "E8jYQZiun29e",
        "outputId": "a08bfcb9-498a-4266-e313-16a3e6a4ef12"
      },
      "execution_count": null,
      "outputs": [
        {
          "output_type": "display_data",
          "data": {
            "text/html": [
              "<img src=\"https://mermaid.ink/img/CmdyYXBoIFRCCiAgICBzdWJncmFwaCAiRGFpbHkgQnVnbGUgSHlicmlkIE5ldHdvcmsiCiAgICBOU1tOZXR3b3JrIFN3aXRjaF0gLS0-fFN0YXJ8IEVEW0VkaXRvcmlhbCBEZXB0XQogICAgTlMgLS0-fFN0YXJ8IEFEW0FkbWluIERlcHRdCiAgICAKICAgIHN1YmdyYXBoICJQaG90byBSaW5nIgogICAgUDFbU3RhdGlvbiAxXSAtLT4gUDJbU3RhdGlvbiAyXSAtLT4gUDNbU3RhdGlvbiAzXSAtLT4gUDEKICAgIGVuZAogICAgCiAgICBzdWJncmFwaCAiV2ViIE1lc2giCiAgICBXMVtXZWIgMV0gPC0tPiBXMltXZWIgMl0KICAgIFcxIDwtLT4gVzNbV2ViIDNdCiAgICBXMiA8LS0-IFczCiAgICBlbmQKICAgIAogICAgTlMgLS0-fENvbm5lY3Rpb258IFAxCiAgICBOUyAtLT58Q29ubmVjdGlvbnwgVzEKICAgIAogICAgc3R5bGUgTlMgZmlsbDojZmY5OTk5CiAgICBzdHlsZSBFRCBmaWxsOiM5OWZmOTkKICAgIHN0eWxlIEFEIGZpbGw6Izk5ZmY5OQogICAgc3R5bGUgUDEgZmlsbDojOTk5OWZmCiAgICBzdHlsZSBQMiBmaWxsOiM5OTk5ZmYKICAgIHN0eWxlIFAzIGZpbGw6Izk5OTlmZgogICAgc3R5bGUgVzEgZmlsbDojZmZmZjk5CiAgICBzdHlsZSBXMiBmaWxsOiNmZmZmOTkKICAgIHN0eWxlIFczIGZpbGw6I2ZmZmY5OQogICAgZW5k?width=800&height=600\"/>"
            ],
            "text/plain": [
              "<IPython.core.display.Image object>"
            ]
          },
          "metadata": {}
        }
      ]
    },
    {
      "cell_type": "markdown",
      "source": [
        "## Types of Computer Networks: Understanding Scale, Scope, and Purpose\n",
        "\n",
        "Modern computer networks come in various sizes and serve different purposes, much like how a city's transportation system includes everything from sidewalks to highways. Each type of network is designed to solve specific communication challenges at different scales. Understanding these different network types is crucial for anyone working with computer systems, as each has its own characteristics, challenges, and optimal uses.\n",
        "\n",
        "Network types are primarily distinguished by their geographical scope, the number of users they serve, and their primary purpose. Just as the Daily Bugle relies on different types of networks to gather news, produce their paper, and distribute content, most organizations need multiple network types working together to function effectively.\n",
        "\n"
      ],
      "metadata": {
        "id": "9EzkgwnVjjIt"
      }
    },
    {
      "cell_type": "markdown",
      "source": [
        "### Personal Area Networks (PANs): The Individual's Digital Bubble\n",
        "\n",
        "A **Personal Area Network (PAN)** is the smallest network type, typically extending only a few meters and connecting devices belonging to a single user. These networks often use wireless technologies like **Bluetooth** or **Near Field Communication (NFC)**, though some PANs use USB or other physical connections. The key characteristic of a PAN is its personal nature - these networks are designed for individual use rather than shared access.\n",
        "\n",
        "| PAN Characteristics |                                          |\n",
        "|--------------------|------------------------------------------|\n",
        "| Range              | 2-10 meters                              |\n",
        "| Users              | Typically single user                    |\n",
        "| Common Technologies| Bluetooth, NFC, USB, infrared            |\n",
        "| Speed              | Variable (1-100 Mbps)                    |\n",
        "| Security Needs     | Moderate                                 |\n",
        "| Management         | Simple, often automatic                  |\n",
        "| Typical Devices    | Phones, tablets, cameras, headphones     |\n",
        "\n",
        "**Peter's Connected Kit**\n",
        "\n",
        "The value of PANs becomes clear when we look at Peter Parker's daily workflow at the Daily Bugle. As a photographer constantly on the move, Parker relies on a sophisticated PAN to manage his photography equipment. His setup includes:\n",
        "- A professional digital camera\n",
        "- A smartwatch for quick news alerts\n",
        "- Wireless headphones for calls\n",
        "- A smartphone for immediate photo uploads\n",
        "- A laptop for editing\n",
        "\n",
        "During a recent breaking news event - a battle between Spider-Man and the Vulture - Parker's PAN proved invaluable. His camera automatically transferred images to his phone, which used AI to pre-select the best shots. His smartwatch alerted him to Jameson's increasingly urgent messages, while his wireless headphones let him coordinate with the news desk without taking his hands off his camera. When the perfect shot came, he could transmit it to the Bugle instantly, all thanks to his well-configured PAN.\n"
      ],
      "metadata": {
        "id": "YB6oAkahjsrO"
      }
    },
    {
      "cell_type": "code",
      "source": [
        "mm(\"\"\"\n",
        "graph TB\n",
        "    subgraph \"Spider-Sense Network (PAN)\"\n",
        "    Phone[Smartphone] <--> Watch[Spider-Tracker Watch]\n",
        "    Phone <--> Camera[Spider-Cam]\n",
        "    Phone <--> Buds[Spider-Comms Earbuds]\n",
        "    Phone <--> Laptop[Web-Browser Laptop]\n",
        "\n",
        "    style Phone fill:#ff9999\n",
        "    style Watch fill:#99ff99\n",
        "    style Camera fill:#9999ff\n",
        "    style Buds fill:#ffff99\n",
        "    style Laptop fill:#ff99ff\n",
        "    end\"\"\")"
      ],
      "metadata": {
        "colab": {
          "base_uri": "https://localhost:8080/",
          "height": 621
        },
        "id": "CEgCrGP8nYhn",
        "outputId": "674babb1-363f-46a7-ce23-c2aa972fd867"
      },
      "execution_count": null,
      "outputs": [
        {
          "output_type": "display_data",
          "data": {
            "text/html": [
              "<img src=\"https://mermaid.ink/img/CmdyYXBoIFRCCiAgICBzdWJncmFwaCAiU3BpZGVyLVNlbnNlIE5ldHdvcmsgKFBBTikiCiAgICBQaG9uZVtTbWFydHBob25lXSA8LS0-IFdhdGNoW1NwaWRlci1UcmFja2VyIFdhdGNoXQogICAgUGhvbmUgPC0tPiBDYW1lcmFbU3BpZGVyLUNhbV0KICAgIFBob25lIDwtLT4gQnVkc1tTcGlkZXItQ29tbXMgRWFyYnVkc10KICAgIFBob25lIDwtLT4gTGFwdG9wW1dlYi1Ccm93c2VyIExhcHRvcF0KICAgIAogICAgc3R5bGUgUGhvbmUgZmlsbDojZmY5OTk5CiAgICBzdHlsZSBXYXRjaCBmaWxsOiM5OWZmOTkKICAgIHN0eWxlIENhbWVyYSBmaWxsOiM5OTk5ZmYKICAgIHN0eWxlIEJ1ZHMgZmlsbDojZmZmZjk5CiAgICBzdHlsZSBMYXB0b3AgZmlsbDojZmY5OWZmCiAgICBlbmQ=?width=800&height=600\"/>"
            ],
            "text/plain": [
              "<IPython.core.display.Image object>"
            ]
          },
          "metadata": {}
        }
      ]
    },
    {
      "cell_type": "markdown",
      "source": [
        "### Local Area Networks (LANs): The Organizational Backbone\n",
        "\n",
        "A **Local Area Network (LAN)** connects devices within a limited geographical area, typically within a single building or campus. LANs are characterized by high data transfer rates, relatively small geographic area, and private ownership. They employ technologies like **Ethernet** for wired connections and **Wi-Fi** for wireless access, creating a network that can serve dozens to hundreds of users.\n",
        "\n",
        "| LAN Characteristics |                                          |\n",
        "|--------------------|------------------------------------------|\n",
        "| Range              | Up to 1 kilometer                        |\n",
        "| Users              | Dozens to hundreds                       |\n",
        "| Common Technologies| Ethernet, Wi-Fi                          |\n",
        "| Speed              | 100 Mbps - 10 Gbps                      |\n",
        "| Security Needs     | High                                     |\n",
        "| Management         | Professional IT staff                    |\n",
        "| Typical Scale      | Building or campus                       |\n",
        "\n",
        "**The Daily Bugle's Digital Newsroom**\n",
        "\n",
        "The Daily Bugle's main office LAN demonstrates the power and complexity of modern local area networks. Spanning 27 floors of their Manhattan building, this network connects:\n",
        "- 200+ journalist workstations\n",
        "- 50 high-end photo editing computers\n",
        "- 30 network printers\n",
        "- Multiple servers for email, file storage, and web hosting\n",
        "- Voice over IP phone system\n",
        "- Building security systems\n",
        "\n",
        "The true test of the Bugle's LAN came during what staff call \"The Big Scoop Surge.\" Multiple major stories broke simultaneously: Spider-Man battling Doctor Octopus downtown, a corruption scandal at City Hall, and a surprise mayoral resignation. The LAN handled:\n",
        "- Dozens of reporters submitting stories simultaneously\n",
        "- Photo desk processing hundreds of high-resolution images\n",
        "- Web team updating the website every few minutes\n",
        "- Layout department designing multiple front page options\n",
        "- Editorial team coordinating through video calls\n",
        "- Wire service feeds bringing in related national coverage\n",
        "\n",
        "Despite the unprecedented load, the LAN's robust design and high-speed connections kept everything running smoothly. The newspaper's IT team had previously implemented Quality of Service (QoS) protocols that prioritized critical traffic, ensuring that even as reporters flooded the network with content, essential systems like the editorial workflow remained responsive.\n",
        "\n",
        "This incident highlighted key LAN characteristics:\n",
        "- High bandwidth enabling fast file transfers\n",
        "- Low latency supporting real-time communication\n",
        "- Network segmentation keeping departments running efficiently\n",
        "- Central management allowing quick problem resolution\n",
        "- Scalability handling sudden traffic spikes\n",
        "\n",
        "Today, the Daily Bugle's LAN continues to evolve, with recent upgrades including enhanced Wi-Fi coverage and increased security measures to protect sensitive stories before publication."
      ],
      "metadata": {
        "id": "gpCTkRgBjuCd"
      }
    },
    {
      "cell_type": "code",
      "source": [],
      "metadata": {
        "id": "sOQihtZmnyM3"
      },
      "execution_count": null,
      "outputs": []
    },
    {
      "cell_type": "markdown",
      "source": [
        "### Campus Area Networks (CANs): Bridging the Building Blocks\n",
        "\n",
        "A **Campus Area Network (CAN)** extends traditional LAN functionality across multiple buildings within a limited geographic area, typically spanning up to a few kilometers. CANs employ high-speed backbone connections, often using **fiber optic cables**, to create a unified network environment across physically separate locations. These networks frequently implement **Virtual LANs (VLANs)** to segment traffic between different buildings or departments while maintaining centralized management.\n",
        "\n",
        "| CAN Characteristics |                                          |\n",
        "|--------------------|------------------------------------------|\n",
        "| Range              | 1-5 kilometers                           |\n",
        "| Users              | Hundreds to thousands                    |\n",
        "| Common Technologies| Fiber optic, Gigabit Ethernet           |\n",
        "| Speed              | 1-100 Gbps                              |\n",
        "| Security Needs     | Very High                               |\n",
        "| Management         | Dedicated IT department                  |\n",
        "| Typical Scale      | Multiple buildings                       |\n",
        "\n",
        "**The Bugle's Production Pipeline**\n",
        "\n",
        "The Daily Bugle's CAN connects three critical facilities in Manhattan:\n",
        "- The main office building (editorial, advertising, and administration)\n",
        "- The printing facility (six blocks away)\n",
        "- The multimedia production center (three blocks away)\n",
        "\n",
        "During the launch of the Daily Bugle's new digital edition, the CAN faced its ultimate test. The multimedia team was producing video content in their specialized facility, while editors worked from the main office, and the printing facility prepared for the traditional paper edition. The CAN needed to handle:\n",
        "\n",
        "A particularly dramatic example occurred during the \"Simultaneous Publication Crisis.\" The Bugle had exclusive footage of a battle between Spider-Man and Mysterio, which needed to be:\n",
        "- Edited in the multimedia center\n",
        "- Approved by editors in the main building\n",
        "- Published on the website\n",
        "- Incorporated into the print layout\n",
        "- Sent to the printing facility\n",
        "\n",
        "Thanks to the CAN's robust fiber optic backbone and efficient traffic management, the Bugle maintained its reputation for breaking news across all platforms. The network's VLAN configuration proved especially valuable, as it isolated the massive video files from affecting critical press control systems.\n"
      ],
      "metadata": {
        "id": "Zr96n2p9jwF-"
      }
    },
    {
      "cell_type": "markdown",
      "source": [
        "#### Metropolitan Area Networks (MANs): The City-Wide Web\n",
        "\n",
        "A Metropolitan Area Network (MAN) connects multiple locations across a city or large metropolitan area, typically spanning tens of kilometers. Modern MANs often leverage **Software-Defined Wide Area Network (SD-WAN)** technology - an approach that uses software to control connectivity, routing, and security between network locations, allowing organizations to dynamically route traffic across multiple connection types based on current network conditions and application requirements.\n",
        "\n",
        "MANs frequently employ **Multiprotocol Label Switching (MPLS)** - a routing technique that directs data from one network node to the next based on short path labels rather than longer network addresses. This creates reliable, predictable connections perfect for time-sensitive data transmission.\n",
        "\n",
        "#### MAN Characteristics\n",
        "\n",
        "| Feature | Specification |\n",
        "|---------|---------------|\n",
        "| Range | Up to 50 kilometers |\n",
        "| Users | Thousands |\n",
        "| Common Technologies | SONET, DWDM, Metro Ethernet, MPLS, SD-WAN |\n",
        "| Speed | 10 Gbps - 100 Gbps |\n",
        "| Security Needs | Extremely High |\n",
        "| Management | Multiple IT teams, service providers |\n",
        "| Typical Scale | City-wide |\n",
        "\n",
        "#### Extra! Extra! The Five-Borough Network\n",
        "\n",
        "The Daily Bugle's MAN connects their Manhattan headquarters with:\n",
        "\n",
        "* Brooklyn neighborhood news bureau\n",
        "* Queens local advertising office\n",
        "* Bronx distribution center\n",
        "* Staten Island community news desk\n",
        "\n",
        "At each location, a **demarcation point** (or \"demarc\") clearly defines where the service provider's network responsibilities end and the Bugle's internal network begins. Each demarc includes a **Smartjack** - an intelligent network interface device that enables remote testing and monitoring of the connection. During a recent service interruption, the Smartjack allowed the provider to quickly diagnose and resolve an issue without sending a technician to the site.\n",
        "\n",
        "The Bugle's modern MAN infrastructure uses **Multipoint Generic Routing Encapsulation (mGRE)** - a tunneling protocol that enables secure communication between multiple sites simultaneously. This proved crucial during the \"Five-Borough Breaking News Event\" when the Lizard's rampage required secure, dynamic connections between all borough offices.\n",
        "\n"
      ],
      "metadata": {
        "id": "xgdT6jpvj0SG"
      }
    },
    {
      "cell_type": "markdown",
      "source": [
        "## Virtual Private Networks (VPNs): Secure Digital Tunnels\n",
        "\n",
        "Modern enterprises face significant challenges in managing their IT infrastructure. Physical servers traditionally run at low capacity, wasting resources while consuming power and space. Hardware changes require extensive downtime, and scaling to meet demand means purchasing and configuring new equipment – a process that can take weeks or months. These limitations posed particular challenges for news organizations like the Daily Bugle, where rapid response to breaking news is essential.\n",
        "\n",
        "**Virtualization** addresses these challenges by abstracting computing resources from physical hardware. Instead of running one operating system per physical server, virtualization creates multiple **virtual machines (VMs)** that share the underlying hardware resources. Each VM believes it has its own processor, memory, and network card, while in reality, these resources are carefully allocated portions of the physical hardware. This approach dramatically improves resource utilization – where a physical server might run at 20% capacity, virtualizing that server allows it to host multiple VMs and operate at 80% capacity or higher.\n",
        "\n",
        "The Daily Bugle's network infrastructure increasingly relies on this virtualization to maximize both flexibility and efficiency. When breaking news hits, the IT team can deploy new virtual servers in minutes rather than days. During quiet periods, they can consolidate workloads and power down unused physical hardware, reducing energy costs. Most importantly, virtualization provides the isolation needed to maintain security – a crucial consideration for a news organization handling sensitive sources and stories.\n",
        "\n",
        "### The Hypervisor\n",
        "At the heart of this virtual infrastructure is the **hypervisor** - specialized software that acts as the foundation for all virtualization. The hypervisor creates and manages virtual machines and their resources, functioning like an orchestra conductor for the data center. The Bugle's data center uses hypervisors to run multiple virtual servers on each physical machine, dramatically improving resource utilization. When a journalist needs to process video footage, for instance, the hypervisor can temporarily allocate additional processing power from underutilized resources, ensuring smooth operation without requiring dedicated hardware.\n",
        "\n",
        "### Virtual Network Interface Cards (vNICs)\n",
        "Each virtual machine connects to the network through a **Virtual Network Interface Card (vNIC)** - a software-defined network adapter that functions just like a physical network card. Unlike physical cards, however, vNICs can be reconfigured on the fly to adjust bandwidth allocation, traffic priority, and security settings. When Peter Parker needs to file a story from a virtual desktop, his session uses a vNIC configured with specific bandwidth allocations to ensure smooth access to the content management system. During major breaking news events, the system can automatically adjust these allocations, ensuring critical traffic maintains priority while managing less essential data flows.\n",
        "\n",
        "### Virtual Switch (vSwitch) Operations\n",
        "Traffic between virtual machines is managed by a **virtual switch (vSwitch)** - a software-based network switch that connects virtual machines within a host or across hosts. The vSwitch handles internal traffic between virtual machines without needing to touch the physical network, improving both performance and security. This capability proved crucial during the \"Parker Protocols\" incident, when the vSwitch isolated potentially compromised virtual machines while maintaining normal operations for unaffected systems. The vSwitch's sophisticated traffic monitoring capabilities also helped identify the source of the security breach, allowing for rapid incident response.\n",
        "\n",
        "### Network Function Virtualization (NFV)\n",
        "The Bugle has embraced **Network Function Virtualization (NFV)** - the practice of replacing dedicated network appliances with virtualized instances running on standard servers. This transformation eliminates the need for specialized hardware devices, reducing both costs and complexity. Instead of using expensive hardware firewalls, load balancers, and VPN concentrators, the Bugle runs these as virtual applications, making them easier to scale and manage. During major breaking news events, the NFV infrastructure automatically deploys additional resources to handle increased traffic, ensuring reliable service without manual intervention."
      ],
      "metadata": {
        "id": "xxIc6iu6nSDz"
      }
    },
    {
      "cell_type": "markdown",
      "source": [
        "## Provider Links: Connecting the News Network\n",
        "\n",
        "While the Daily Bugle's network topology provides the blueprint for information flow, the actual connections between locations rely on various provider link technologies. Each type of connection offers different advantages for specific use cases across the Bugle's operations.\n",
        "\n",
        "### Satellite: News from Anywhere\n",
        "\n",
        "**Satellite links** provide connectivity through space-based communications systems, crucial for:\n",
        "* Remote correspondent coverage\n",
        "* Disaster zone reporting\n",
        "* International bureau connections\n",
        "* Backup connectivity during terrestrial outages\n",
        "\n",
        "During the \"Latverian Crisis,\" when traditional infrastructure was unavailable, the Bugle's satellite uplink enabled reporter Ben Urich to file stories from the field despite local internet blackouts.\n",
        "\n",
        "### Digital Subscriber Line (DSL): The Backbone of Bureau Operations\n",
        "\n",
        "**DSL** technology uses existing telephone lines to provide internet connectivity, serving as reliable connections for:\n",
        "* Neighborhood news bureaus\n",
        "* Remote editorial offices\n",
        "* Freelancer home offices\n",
        "* Small satellite offices\n",
        "\n",
        "The Queens local advertising office relies on business-class DSL for daily operations, with speeds sufficient for handling classified submissions and digital proofs.\n",
        "\n",
        "### Cable: High-Speed Metropolitan Access\n",
        "\n",
        "**Cable connections** leverage existing cable TV infrastructure to deliver high-speed internet. The Bugle uses cable connections for:\n",
        "* Mid-sized offices\n",
        "* Video production facilities\n",
        "* Local news bureaus\n",
        "* Backup connectivity\n",
        "\n",
        "The Brooklyn news bureau's cable connection handles daily video uploads and live streaming events, complementing their primary fiber connection.\n",
        "\n",
        "### Leased Lines: Premium Dedicated Connections\n",
        "\n",
        "**Leased lines** provide dedicated, point-to-point connections crucial for the Bugle's most critical operations:\n",
        "* Main office to printing plant connection\n",
        "* High-volume data center links\n",
        "* Real-time editorial system access\n",
        "* Press deadline critical paths\n",
        "\n",
        "The Manhattan-to-printing-facility leased line ensures that final page layouts reach the presses without delay, operating on a guaranteed service level agreement (SLA). This provides several benefits:\n",
        "\n",
        "* Guaranteed bandwidth\n",
        "* Symmetric speeds\n",
        "* Low latency\n",
        "* 99.999% availability\n",
        "* Dedicated support\n",
        "\n",
        "### Metro-Optical: The Urban Information Highway\n",
        "\n",
        "**Metro-optical** connections use fiber optic technology optimized for city-wide networks. The Bugle's metro-optical infrastructure connects:\n",
        "* Main headquarters\n",
        "* Data centers\n",
        "* Major bureaus\n",
        "* Multimedia production facilities\n",
        "### Provider Link Strategy\n",
        "\n",
        "The Bugle employs a layered approach to connectivity:\n",
        "\n",
        "#### Primary Links\n",
        "* Metro-optical for core facilities\n",
        "* Leased lines for critical operations\n",
        "* Cable/DSL for bureau offices\n",
        "\n",
        "#### Backup Links\n",
        "* Satellite for disaster recovery\n",
        "* Alternative ISP connections\n",
        "* Cross-connected facilities\n",
        "\n",
        "#### Mobile Operations\n",
        "* 5G cellular backup\n",
        "* Portable satellite uplinks\n",
        "* Mobile command center connectivity\n",
        "\n",
        "This diversified approach to provider links ensures that whether Spider-Man is swinging through Manhattan or Doctor Doom is threatening the city, the Daily Bugle maintains its connection to readers through multiple, redundant paths. As veteran editor Joe Robertson often says, \"The news never stops, and neither can our network.\""
      ],
      "metadata": {
        "id": "QfG75JY7ln-i"
      }
    },
    {
      "cell_type": "markdown",
      "source": [
        "## Network Cabling and Physical Infrastructure\n",
        "\n",
        "When J. Jonah Jameson demanded to know why Peter Parker's Spider-Man photos were taking so long to transfer across the Daily Bugle's network, the IT team had to explain a fundamental truth: a network is only as good as its physical infrastructure. The cables, connectors, and physical components that make up the **physical layer** - Layer 1 of the OSI model - form the foundation upon which all network communication depends.\n",
        "\n",
        "Understanding physical infrastructure isn't just about knowing which cable goes where. It's about making informed decisions that affect everything from day-to-day operations to future scalability. When the Daily Bugle upgraded its aging network infrastructure, each cable type and connector choice had implications for speed, reliability, and cost.\n",
        "\n",
        "### The Evolution of Network Cabling\n",
        "\n",
        "Network cabling has evolved significantly since the early days of computer networks. Modern networks might employ several different types of cabling:\n",
        "- **Copper cabling** for standard office connections\n",
        "- **Fiber optic cabling** for high-speed, long-distance links\n",
        "- **Coaxial cabling** for specialized applications\n",
        "\n",
        "Each type serves specific needs and comes with its own advantages and limitations. The key is choosing the right cable for each situation."
      ],
      "metadata": {
        "id": "Ea9fYCoApyQb"
      }
    },
    {
      "cell_type": "markdown",
      "source": [
        "## Copper Cabling Solutions: The Backbone of Office Networks\n",
        "\n",
        "When the Daily Bugle's IT team began their infrastructure upgrade, they started with the most common type of network cabling: copper twisted pair. A **twisted pair cable** consists of eight wires arranged in four pairs, with each pair twisted together to reduce electromagnetic interference.\n",
        "\n",
        "### Categories of Twisted Pair Cabling\n",
        "\n",
        "| Category | Maximum Speed | Maximum Distance | Typical Use Case | Daily Bugle Application |\n",
        "|----------|---------------|------------------|------------------|------------------------|\n",
        "| Cat 5    | 100 Mbps     | 100 meters       | Legacy networks  | Old archive room (scheduled for upgrade) |\n",
        "| Cat 5e   | 1 Gbps       | 100 meters       | Basic office networking | General office areas |\n",
        "| Cat 6    | 1 Gbps (10 Gbps to 55m) | 100 meters | High-speed office networks | Reporter workstations |\n",
        "| Cat 6a   | 10 Gbps      | 100 meters       | Data centers, high-performance workstations | Photo editing department |\n",
        "| Cat 7    | 10 Gbps      | 100 meters       | Specialized applications | Server room connections |\n",
        "| Cat 8    | 40 Gbps      | 30 meters        | Data center, high-density applications | Core infrastructure links |\n",
        "\n",
        "### Understanding Cable Standards\n",
        "\n",
        "Network cables must be terminated according to specific standards. The two main standards are:\n",
        "\n",
        "**TIA/EIA-568A** and **TIA/EIA-568B**, which define the wire arrangements at each end of the cable. The Daily Bugle standardized on 568B for all new installations to ensure consistency.\n",
        "\n",
        "| Pin Number | 568A Color | 568B Color |\n",
        "|------------|------------|------------|\n",
        "| 1 | White/Green | White/Orange |\n",
        "| 2 | Green | Orange |\n",
        "| 3 | White/Orange | White/Green |\n",
        "| 4 | Blue | Blue |\n",
        "| 5 | White/Blue | White/Blue |\n",
        "| 6 | Orange | Green |\n",
        "| 7 | White/Brown | White/Brown |\n",
        "| 8 | Brown | Brown |\n",
        "\n",
        "### Specialized Copper Solutions\n",
        "\n",
        "Beyond twisted pair, other copper solutions serve specific needs:\n",
        "\n",
        "**Coaxial Cable (RG-6)**\n",
        "- Used for cable TV and some specialized network applications\n",
        "- Higher bandwidth over longer distances than twisted pair\n",
        "- Better shielding from interference\n",
        "\n",
        "**Twinaxial Cable**\n",
        "- Used for high-speed, short-distance connections\n",
        "- Common in data center applications\n",
        "- Supports speeds up to 100 Gbps over short distances\n",
        "\n"
      ],
      "metadata": {
        "id": "3eOxO9cpp4rJ"
      }
    },
    {
      "cell_type": "markdown",
      "source": [
        "## Fiber Optic Solutions: The Future of High-Speed Networking\n",
        "\n",
        "When the Daily Bugle needed to connect their main office to their new printing facility six blocks away, copper cabling wasn't sufficient. Enter fiber optic cabling, which uses pulses of light rather than electrical signals to transmit data.\n",
        "\n",
        "### Types of Fiber Optic Cable\n",
        "\n",
        "**Single-mode Fiber (SMF)**\n",
        "- Uses a single ray of light\n",
        "- Longer distances (up to 100 kilometers)\n",
        "- More expensive but higher performance\n",
        "- Used for building-to-building connections\n",
        "\n",
        "**Multimode Fiber (MMF)**\n",
        "- Uses multiple light rays\n",
        "- Shorter distances (up to 500 meters)\n",
        "- Less expensive than single-mode\n",
        "- Common in data centers\n",
        "\n",
        "| Fiber Type | Max Distance | Typical Speed | Cost | Daily Bugle Use Case |\n",
        "|------------|-------------|---------------|------|---------------------|\n",
        "| OM3 Multimode | 300m at 10Gbps | 10-40 Gbps | Moderate | Inter-floor connections |\n",
        "| OM4 Multimode | 400m at 10Gbps | 10-100 Gbps | Moderate-High | Data center connections |\n",
        "| OS2 Single-mode | 10km+ at 10Gbps | 10-100 Gbps | Higher | Building-to-building |\n",
        "\n",
        "The Daily Bugle's experience shows why proper cable selection matters. When they initially tried using Cat 5e for their photo editing department, editors complained about slow file transfers. Upgrading to Cat 6a solved the performance issues. Similarly, their investment in fiber optic connections between buildings has provided the bandwidth needed for real-time collaboration between the newsroom and printing facility."
      ],
      "metadata": {
        "id": "JKV2uAODp71x"
      }
    },
    {
      "cell_type": "markdown",
      "source": [
        "## Connector Types: Joining the Networks\n",
        "\n",
        "The best cable in the world is useless without the right connector. When the Daily Bugle's network team found themselves troubleshooting connectivity issues, they often discovered the problem wasn't the cable itself, but rather how it was terminated. Understanding connector types is crucial for reliable network implementation.\n",
        "\n",
        "### Common Copper Connectors\n",
        "\n",
        "**RJ45 (Registered Jack 45)**\n",
        "- Standard connector for twisted pair Ethernet\n",
        "- 8 pins, 8 conductors (8P8C)\n",
        "- Used in all Daily Bugle office connections\n",
        "\n",
        "**RJ11**\n",
        "- 6 pins, typically 2-4 conductors used\n",
        "- Common in telephone systems\n",
        "- Found in the Bugle's legacy phone system\n",
        "\n",
        "| Connector Type | Common Use | Pins | Notable Features |\n",
        "|---------------|------------|------|------------------|\n",
        "| RJ45          | Ethernet   | 8    | Latching clip, common |\n",
        "| RJ11          | Telephone  | 6    | Smaller than RJ45 |\n",
        "| F-Type        | Coaxial    | 1    | Screw-on or push-on |\n",
        "\n",
        "### Fiber Optic Connectors\n",
        "\n",
        "The Daily Bugle's fiber infrastructure uses several connector types, each chosen for specific applications:\n",
        "\n",
        "| Connector | Type | Use Case | Characteristics |\n",
        "|-----------|------|----------|-----------------|\n",
        "| LC (Local Connector) | Fiber | High-density applications | Small form factor, latching |\n",
        "| SC (Subscriber Connector) | Fiber | General purpose | Push-pull, good durability |\n",
        "| ST (Straight Tip) | Fiber | Legacy systems | Bayonet-style connection |\n",
        "| MT (Mechanical Transfer) | Fiber | High-density data center | Multiple fibers in one connector |\n",
        "\n",
        "### Transceivers and Media Converters\n",
        "\n",
        "When the Daily Bugle needed to connect their legacy copper network to their new fiber backbone, transceivers provided the solution. **Transceivers** convert signals between different media types and speeds.\n",
        "\n",
        "**Common Transceiver Types:**\n",
        "\n",
        "| Type | Speed | Use Case | Daily Bugle Application |\n",
        "|------|--------|----------|------------------------|\n",
        "| SFP  | Up to 4.25 Gbps | General networking | Connecting edge switches |\n",
        "| SFP+ | Up to 16 Gbps | High-speed networking | Core network connections |\n",
        "| QSFP | Up to 40 Gbps | Data center | Server room connections |\n",
        "| QSFP+ | Up to 100 Gbps | High-performance computing | Main data center links |\n",
        "\n"
      ],
      "metadata": {
        "id": "VoBOk6a2qBVS"
      }
    },
    {
      "cell_type": "markdown",
      "source": [
        "## Practical Implementation: Putting It All Together\n",
        "\n",
        "When the Daily Bugle renovated their network infrastructure, they followed a systematic approach to cable selection and implementation. Here's their decision framework:\n",
        "\n",
        "### Distance Requirements\n",
        "\n",
        "| Distance Needed | Recommended Solution | Alternative |\n",
        "|----------------|---------------------|-------------|\n",
        "| < 30m, max performance | Cat 8 | Cat 6a |\n",
        "| < 100m, standard office | Cat 6 | Cat 5e |\n",
        "| 100m - 500m | Multimode Fiber | - |\n",
        "| > 500m | Single-mode Fiber | - |\n",
        "\n",
        "### Speed Requirements\n",
        "\n",
        "| Required Speed | Copper Solution | Fiber Solution |\n",
        "|---------------|-----------------|----------------|\n",
        "| Up to 1 Gbps | Cat 5e or better | OM3 Multimode |\n",
        "| Up to 10 Gbps | Cat 6a or better | OM4 Multimode |\n",
        "| Above 10 Gbps | Cat 8 (limited distance) | Single-mode |\n",
        "\n",
        "### Environmental Considerations\n",
        "\n",
        "The Daily Bugle's historic building presented several challenges:\n",
        "\n",
        "**Electromagnetic Interference (EMI)**\n",
        "- Solution: Shielded cables near elevator machinery\n",
        "- Alternative: Fiber optic runs for critical paths\n",
        "\n",
        "**Space Constraints**\n",
        "- Solution: High-density patch panels\n",
        "- Alternative: Mini-connector solutions\n"
      ],
      "metadata": {
        "id": "VEeTv7pqqLgB"
      }
    },
    {
      "cell_type": "markdown",
      "source": [
        "\n",
        "### Implementation Example: The Newsroom Upgrade\n",
        "\n",
        "The Daily Bugle's newsroom upgrade provides a perfect case study in mixed-media implementation:\n",
        "\n",
        "1. **Workstation Connections**\n",
        "   - Cat 6a to each desk\n",
        "   - Color-coded cables for different networks\n",
        "   - Cable management under raised floor\n",
        "\n",
        "2. **Backbone Connections**\n",
        "   - OM4 multimode fiber between floors\n",
        "   - Redundant single-mode fiber to backup site\n",
        "   - QSFP+ transceivers for core switches\n",
        "\n",
        "3. **Special Applications**\n",
        "   - Twinaxial direct-attach cables in server room\n",
        "   - Shielded Cat 6a for photo editing stations\n",
        "   - Fiber to copper media converters for legacy systems\n",
        "\n",
        "### Cable Management Best Practices\n",
        "\n",
        "The Daily Bugle's IT team implemented several cable management solutions:\n",
        "\n",
        "| Component | Purpose | Location |\n",
        "|-----------|---------|----------|\n",
        "| Patch Panels | Terminate permanent runs | Wiring closets |\n",
        "| Cable Trays | Support horizontal runs | Above ceiling |\n",
        "| Vertical Management | Guide cables between floors | Telecom closets |\n",
        "| Labeling System | Identify all connections | Throughout facility |\n",
        "\n",
        "By following these guidelines and best practices, the Daily Bugle created a reliable, maintainable network infrastructure capable of supporting their 24/7 news operation. The key lesson: proper planning and the right components make all the difference between a troublesome network and one that just works.\n"
      ],
      "metadata": {
        "id": "MB4iB069qNLo"
      }
    },
    {
      "cell_type": "code",
      "source": [],
      "metadata": {
        "id": "die34-xEkKJq"
      },
      "execution_count": null,
      "outputs": []
    }
  ]
}